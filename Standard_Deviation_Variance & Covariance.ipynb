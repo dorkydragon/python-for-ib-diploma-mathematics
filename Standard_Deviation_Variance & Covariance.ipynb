{
 "cells": [
  {
   "cell_type": "markdown",
   "metadata": {
    "toc": true
   },
   "source": [
    "<h1>Table of Contents<span class=\"tocSkip\"></span></h1>\n",
    "<div class=\"toc\"><ul class=\"toc-item\"><li><span><a href=\"#Everything-you-need-to-know-about-Variance\" data-toc-modified-id=\"Everything-you-need-to-know-about-Variance-1\">Everything you need to know about Variance</a></span><ul class=\"toc-item\"><li><span><a href=\"#Variance-for-beginners\" data-toc-modified-id=\"Variance-for-beginners-1.1\">Variance for beginners</a></span></li></ul></li><li><span><a href=\"#Introduction\" data-toc-modified-id=\"Introduction-2\">Introduction</a></span></li><li><span><a href=\"#Sample-variance\" data-toc-modified-id=\"Sample-variance-3\">Sample variance</a></span></li><li><span><a href=\"#Standard-variance\" data-toc-modified-id=\"Standard-variance-4\">Standard variance</a></span><ul class=\"toc-item\"><li><span><a href=\"#TI-nspire\" data-toc-modified-id=\"TI-nspire-4.1\">TI-nspire</a></span></li></ul></li><li><span><a href=\"#Covariance\" data-toc-modified-id=\"Covariance-5\">Covariance</a></span></li><li><span><a href=\"#Correlation\" data-toc-modified-id=\"Correlation-6\">Correlation</a></span><ul class=\"toc-item\"><li><span><a href=\"#Investgating-Numpy-and-Pandas-ddof\" data-toc-modified-id=\"Investgating-Numpy-and-Pandas-ddof-6.1\">Investgating Numpy and Pandas ddof</a></span></li><li><span><a href=\"#Understanding-numpy-covariance-matrix\" data-toc-modified-id=\"Understanding-numpy-covariance-matrix-6.2\">Understanding numpy covariance matrix</a></span></li></ul></li></ul></div>"
   ]
  },
  {
   "cell_type": "markdown",
   "metadata": {},
   "source": [
    "# Everything you need to know about Variance\n",
    "## Variance for beginners\n",
    "\n",
    "# Introduction\n",
    "\n",
    "\n",
    "\n",
    "# Sample variance\n",
    "\n",
    "Python's `statistics.variance` returns a sample variance.\n",
    "\n",
    "\n",
    "$$\n",
    "s^2 _{n-1} = \\frac{1}{n-1} \\\n",
    "$$\n"
   ]
  },
  {
   "cell_type": "code",
   "execution_count": 1,
   "metadata": {},
   "outputs": [],
   "source": [
    "from scipy.stats import chi2_contingency\n",
    "import pandas as pd\n",
    "import numpy as np\n",
    "import matplotlib.pyplot as plt\n",
    "from scipy.stats import spearmanr\n",
    "from scipy.stats import pearsonr"
   ]
  },
  {
   "cell_type": "code",
   "execution_count": 2,
   "metadata": {},
   "outputs": [
    {
     "name": "stdout",
     "output_type": "stream",
     "text": [
      "0.40924\n",
      "0.639718688174732\n"
     ]
    }
   ],
   "source": [
    "import statistics\n",
    "import math\n",
    " \n",
    "sample = [2.74, 1.23, 2.63, 2.22, 3, 1.98] \n",
    "\n",
    "var1 = statistics.variance(sample)\n",
    "print(var1)\n",
    "std1 = math.sqrt(var1)\n",
    "print(std1)"
   ]
  },
  {
   "cell_type": "code",
   "execution_count": null,
   "metadata": {},
   "outputs": [],
   "source": []
  },
  {
   "cell_type": "code",
   "execution_count": 3,
   "metadata": {},
   "outputs": [
    {
     "name": "stdout",
     "output_type": "stream",
     "text": [
      "0.40924000000000005\n",
      "0.639718688174732\n"
     ]
    }
   ],
   "source": [
    "import numpy as np\n",
    "var2 = np.var(sample,ddof=1)\n",
    "print(var2)\n",
    "std2 = math.sqrt(var2)\n",
    "print(std2)"
   ]
  },
  {
   "cell_type": "code",
   "execution_count": null,
   "metadata": {},
   "outputs": [],
   "source": []
  },
  {
   "cell_type": "markdown",
   "metadata": {},
   "source": [
    "# Standard variance"
   ]
  },
  {
   "cell_type": "code",
   "execution_count": 4,
   "metadata": {},
   "outputs": [
    {
     "name": "stdout",
     "output_type": "stream",
     "text": [
      "0.34103333333333335\n",
      "0.5839805932848569\n"
     ]
    }
   ],
   "source": [
    "var3 = np.var(sample)\n",
    "print(var3)\n",
    "std3 = math.sqrt(var3)\n",
    "print(std3)"
   ]
  },
  {
   "cell_type": "markdown",
   "metadata": {},
   "source": [
    "## TI-nspire\n",
    "\n",
    "![tinspire1](./image/tinspire1.png)\n",
    "\n",
    "![tinspire2](./image/tinspire2.png)"
   ]
  },
  {
   "cell_type": "markdown",
   "metadata": {},
   "source": [
    "https://corporatefinanceinstitute.com/resources/knowledge/finance/covariance/\n"
   ]
  },
  {
   "cell_type": "markdown",
   "metadata": {},
   "source": [
    "# Covariance"
   ]
  },
  {
   "cell_type": "markdown",
   "metadata": {},
   "source": [
    "# Correlation"
   ]
  },
  {
   "cell_type": "markdown",
   "metadata": {},
   "source": [
    "Add contents from http://localhost:8888/notebooks/DataScience/my-medium-articles/Investigating_Pandas_and_Numpy_ddof.ipynb"
   ]
  },
  {
   "cell_type": "code",
   "execution_count": 8,
   "metadata": {},
   "outputs": [
    {
     "name": "stdout",
     "output_type": "stream",
     "text": [
      "correlation=0.710560, p-value=0.073530\n"
     ]
    }
   ],
   "source": [
    "\n",
    "\n",
    "df = pd.DataFrame(\n",
    "    [\n",
    "        [7,3],\n",
    "        [6,4],\n",
    "        [5,4],\n",
    "        [3,2],\n",
    "        [6,4],\n",
    "        [8,9],\n",
    "        [9,7]\n",
    "    ],\n",
    "    columns=['Set of A','Set of B'])\n",
    "\n",
    "correlation, pval = spearmanr(df)\n",
    "print(f'correlation={correlation:.6f}, p-value={pval:.6f}')\n"
   ]
  },
  {
   "cell_type": "code",
   "execution_count": 9,
   "metadata": {},
   "outputs": [
    {
     "name": "stdout",
     "output_type": "stream",
     "text": [
      "[5.  3.5 2.  1.  3.5 6.  7. ]\n",
      "[2. 4. 4. 1. 4. 7. 6.]\n"
     ]
    }
   ],
   "source": [
    "from scipy.stats import rankdata\n",
    "\n",
    "r_x=rankdata(df.iloc[:,0])\n",
    "print(r_x)\n",
    "r_y=rankdata(df.iloc[:,1])\n",
    "print(r_y)"
   ]
  },
  {
   "cell_type": "code",
   "execution_count": 10,
   "metadata": {},
   "outputs": [
    {
     "name": "stdout",
     "output_type": "stream",
     "text": [
      "Pandas std default: Set of A    1.976047\n",
      "Set of B    2.429972\n",
      "dtype: float64\n",
      "Pandas std ddof=0: Set of A    1.829464\n",
      "Set of B    2.249717\n",
      "dtype: float64\n",
      "Pandas std ddof=1: Set of A    1.976047\n",
      "Set of B    2.429972\n",
      "dtype: float64\n"
     ]
    }
   ],
   "source": [
    "print(f'Pandas std default: {df.std()}')\n",
    "print(f'Pandas std ddof=0: {df.std(ddof=0)}')\n",
    "print(f'Pandas std ddof=1: {df.std(ddof=1)}')"
   ]
  },
  {
   "cell_type": "markdown",
   "metadata": {},
   "source": [
    "## Investgating Numpy and Pandas ddof"
   ]
  },
  {
   "cell_type": "code",
   "execution_count": 19,
   "metadata": {},
   "outputs": [
    {
     "data": {
      "text/html": [
       "<div>\n",
       "<style scoped>\n",
       "    .dataframe tbody tr th:only-of-type {\n",
       "        vertical-align: middle;\n",
       "    }\n",
       "\n",
       "    .dataframe tbody tr th {\n",
       "        vertical-align: top;\n",
       "    }\n",
       "\n",
       "    .dataframe thead th {\n",
       "        text-align: right;\n",
       "    }\n",
       "</style>\n",
       "<table border=\"1\" class=\"dataframe\">\n",
       "  <thead>\n",
       "    <tr style=\"text-align: right;\">\n",
       "      <th></th>\n",
       "      <th>0</th>\n",
       "      <th>1</th>\n",
       "      <th>2</th>\n",
       "    </tr>\n",
       "  </thead>\n",
       "  <tbody>\n",
       "    <tr>\n",
       "      <th>gain</th>\n",
       "      <td>5</td>\n",
       "      <td>7</td>\n",
       "      <td>12</td>\n",
       "    </tr>\n",
       "    <tr>\n",
       "      <th>loss</th>\n",
       "      <td>4</td>\n",
       "      <td>12</td>\n",
       "      <td>17</td>\n",
       "    </tr>\n",
       "  </tbody>\n",
       "</table>\n",
       "</div>"
      ],
      "text/plain": [
       "      0   1   2\n",
       "gain  5   7  12\n",
       "loss  4  12  17"
      ]
     },
     "execution_count": 19,
     "metadata": {},
     "output_type": "execute_result"
    }
   ],
   "source": [
    "df = pd.DataFrame(\n",
    "    [\n",
    "        [5,7,12],\n",
    "        [4,12,17]\n",
    "    ],\n",
    "    index=['gain','loss'])\n",
    "df"
   ]
  },
  {
   "cell_type": "markdown",
   "metadata": {},
   "source": [
    "Mathematically\n",
    "\n",
    "$$\n",
    "\\frac{(5-8)(4-11)+(7-8)(12-11)+(12-8)(17-11)}{3}=14.67 \\\\\n",
    "\\frac{14.67}{15.76}=0.9305\n",
    "$$"
   ]
  },
  {
   "cell_type": "markdown",
   "metadata": {},
   "source": [
    "## Understanding numpy covariance matrix\n",
    "\n",
    "When you use `numpy.cov`, it returns a covariance matrix. It is a square matrix. The covariance matrix element $C_{ij}$ is the covariance of $x$ and $y$. The element $C_{ii}$ is the variance of $x_i$.\n",
    "\n",
    "For example if you calculate covariance of two s:\n",
    "\n",
    "\n"
   ]
  },
  {
   "cell_type": "code",
   "execution_count": 88,
   "metadata": {
    "scrolled": true
   },
   "outputs": [
    {
     "name": "stdout",
     "output_type": "stream",
     "text": [
      "[[ 8.66666667 14.66666667]\n",
      " [14.66666667 28.66666667]]\n",
      "[ 8.66666667 28.66666667]\n"
     ]
    }
   ],
   "source": [
    "cov_xy=np.cov([num[0],num[1]],ddof=0)\n",
    "print(cov_xy)\n",
    "print(np.var(x, axis=1, ddof=0))"
   ]
  },
  {
   "cell_type": "code",
   "execution_count": null,
   "metadata": {},
   "outputs": [],
   "source": []
  }
 ],
 "metadata": {
  "kernelspec": {
   "display_name": "Python 3",
   "language": "python",
   "name": "python3"
  },
  "language_info": {
   "codemirror_mode": {
    "name": "ipython",
    "version": 3
   },
   "file_extension": ".py",
   "mimetype": "text/x-python",
   "name": "python",
   "nbconvert_exporter": "python",
   "pygments_lexer": "ipython3",
   "version": "3.7.6"
  },
  "toc": {
   "base_numbering": 1,
   "nav_menu": {},
   "number_sections": false,
   "sideBar": true,
   "skip_h1_title": false,
   "title_cell": "Table of Contents",
   "title_sidebar": "Contents",
   "toc_cell": true,
   "toc_position": {},
   "toc_section_display": true,
   "toc_window_display": false
  }
 },
 "nbformat": 4,
 "nbformat_minor": 2
}
