{
 "cells": [
  {
   "cell_type": "markdown",
   "metadata": {
    "toc": true
   },
   "source": [
    "<h1>Table of Contents<span class=\"tocSkip\"></span></h1>\n",
    "<div class=\"toc\"><ul class=\"toc-item\"><li><span><a href=\"#Everything-you-need-to-know-about-Variance\" data-toc-modified-id=\"Everything-you-need-to-know-about-Variance-1\">Everything you need to know about Variance</a></span><ul class=\"toc-item\"><li><span><a href=\"#Variance-for-beginners\" data-toc-modified-id=\"Variance-for-beginners-1.1\">Variance for beginners</a></span></li></ul></li><li><span><a href=\"#Introduction\" data-toc-modified-id=\"Introduction-2\">Introduction</a></span></li><li><span><a href=\"#Sample-variance\" data-toc-modified-id=\"Sample-variance-3\">Sample variance</a></span></li><li><span><a href=\"#Standard-variance\" data-toc-modified-id=\"Standard-variance-4\">Standard variance</a></span><ul class=\"toc-item\"><li><span><a href=\"#TI-nspire\" data-toc-modified-id=\"TI-nspire-4.1\">TI-nspire</a></span></li></ul></li><li><span><a href=\"#Covariance\" data-toc-modified-id=\"Covariance-5\">Covariance</a></span></li><li><span><a href=\"#Correlation\" data-toc-modified-id=\"Correlation-6\">Correlation</a></span></li><li><span><a href=\"#Investigating-Pandas-and-Numpy-ddof\" data-toc-modified-id=\"Investigating-Pandas-and-Numpy-ddof-7\">Investigating Pandas and Numpy ddof</a></span></li></ul></div>"
   ]
  },
  {
   "cell_type": "markdown",
   "metadata": {},
   "source": [
    "# Everything you need to know about Variance\n",
    "## Variance for beginners\n",
    "\n",
    "# Introduction\n",
    "\n",
    "\n",
    "\n",
    "# Sample variance\n",
    "\n",
    "Python's `statistics.variance` returns a sample variance.\n",
    "\n",
    "\n",
    "$$\n",
    "s^2 _{n-1} = \\frac{1}{n-1} \\\n",
    "$$\n"
   ]
  },
  {
   "cell_type": "code",
   "execution_count": 7,
   "metadata": {},
   "outputs": [
    {
     "name": "stdout",
     "output_type": "stream",
     "text": [
      "0.40924\n",
      "0.639718688174732\n"
     ]
    }
   ],
   "source": [
    "import statistics\n",
    "import math\n",
    " \n",
    "sample = [2.74, 1.23, 2.63, 2.22, 3, 1.98] \n",
    "\n",
    "var1 = statistics.variance(sample)\n",
    "print(var1)\n",
    "std1 = math.sqrt(var1)\n",
    "print(std1)"
   ]
  },
  {
   "cell_type": "code",
   "execution_count": null,
   "metadata": {},
   "outputs": [],
   "source": []
  },
  {
   "cell_type": "code",
   "execution_count": 8,
   "metadata": {},
   "outputs": [
    {
     "name": "stdout",
     "output_type": "stream",
     "text": [
      "0.40924000000000005\n",
      "0.639718688174732\n"
     ]
    }
   ],
   "source": [
    "import numpy as np\n",
    "var2 = np.var(sample,ddof=1)\n",
    "print(var2)\n",
    "std2 = math.sqrt(var2)\n",
    "print(std2)"
   ]
  },
  {
   "cell_type": "code",
   "execution_count": null,
   "metadata": {},
   "outputs": [],
   "source": []
  },
  {
   "cell_type": "markdown",
   "metadata": {},
   "source": [
    "# Standard variance"
   ]
  },
  {
   "cell_type": "code",
   "execution_count": 9,
   "metadata": {},
   "outputs": [
    {
     "name": "stdout",
     "output_type": "stream",
     "text": [
      "0.34103333333333335\n",
      "0.5839805932848569\n"
     ]
    }
   ],
   "source": [
    "var3 = np.var(sample)\n",
    "print(var3)\n",
    "std3 = math.sqrt(var3)\n",
    "print(std3)"
   ]
  },
  {
   "cell_type": "markdown",
   "metadata": {},
   "source": [
    "## TI-nspire\n",
    "\n",
    "![tinspire1](./image/tinspire1.png)\n",
    "\n",
    "![tinspire2](./image/tinspire2.png)"
   ]
  },
  {
   "cell_type": "markdown",
   "metadata": {},
   "source": [
    "https://corporatefinanceinstitute.com/resources/knowledge/finance/covariance/\n"
   ]
  },
  {
   "cell_type": "markdown",
   "metadata": {},
   "source": [
    "# Covariance"
   ]
  },
  {
   "cell_type": "markdown",
   "metadata": {},
   "source": [
    "# Correlation"
   ]
  },
  {
   "cell_type": "markdown",
   "metadata": {},
   "source": [
    "Add contents from http://localhost:8888/notebooks/DataScience/my-medium-articles/Investigating_Pandas_and_Numpy_ddof.ipynb"
   ]
  },
  {
   "cell_type": "markdown",
   "metadata": {},
   "source": [
    "# Investigating Pandas and Numpy ddof\n",
    "\n",
    "\n"
   ]
  },
  {
   "cell_type": "code",
   "execution_count": null,
   "metadata": {},
   "outputs": [],
   "source": [
    "s_x=np.std(r_x)\n",
    "s_y=np.std(r_y)\n",
    "s_x0=np.std(r_x,ddof=0)\n",
    "s_y0=np.std(r_y,ddof=0)\n",
    "s_x1=np.std(r_x,ddof=1)\n",
    "s_y1=np.std(r_y,ddof=1)\n",
    "\n",
    "print(f'Numpy std default: {s_x}')\n",
    "print(f'Numpy std default: {s_y}')\n",
    "print(f'Numpy std ddof=0: {s_x0}')\n",
    "print(f'Numpy std ddof=0: {s_y0}')\n",
    "print(f'Numpy std ddof=1: {s_x1}')\n",
    "print(f'Numpy std ddof=1: {s_y1}')"
   ]
  },
  {
   "cell_type": "code",
   "execution_count": null,
   "metadata": {},
   "outputs": [],
   "source": []
  }
 ],
 "metadata": {
  "kernelspec": {
   "display_name": "Python 3",
   "language": "python",
   "name": "python3"
  },
  "language_info": {
   "codemirror_mode": {
    "name": "ipython",
    "version": 3
   },
   "file_extension": ".py",
   "mimetype": "text/x-python",
   "name": "python",
   "nbconvert_exporter": "python",
   "pygments_lexer": "ipython3",
   "version": "3.7.6"
  },
  "toc": {
   "base_numbering": 1,
   "nav_menu": {},
   "number_sections": false,
   "sideBar": true,
   "skip_h1_title": false,
   "title_cell": "Table of Contents",
   "title_sidebar": "Contents",
   "toc_cell": true,
   "toc_position": {},
   "toc_section_display": true,
   "toc_window_display": false
  }
 },
 "nbformat": 4,
 "nbformat_minor": 2
}
