{
 "cells": [
  {
   "cell_type": "markdown",
   "metadata": {},
   "source": [
    "# The Chi-square Goodness of Fit Test "
   ]
  },
  {
   "cell_type": "markdown",
   "metadata": {},
   "source": [
    "The Chi-square Goodness of fit tests whether the observed distribution of a variable fits a given distribution. When the calculated p-value is less than the significance level, reject the null hypothesis. \n",
    "\n",
    "We import `chisquare` from `scipy.stats`."
   ]
  },
  {
   "cell_type": "code",
   "execution_count": 22,
   "metadata": {},
   "outputs": [
    {
     "name": "stdout",
     "output_type": "stream",
     "text": [
      "chi-square=0.494167, p-value=0.92\n",
      "At 0.05 level of significance, we accept the null hypotheses. They are independent.\n"
     ]
    }
   ],
   "source": [
    "from scipy.stats import chisquare\n",
    "significance = 0.05\n",
    "observed=[51,24,13,12]\n",
    "expected=[48,25,15,12]\n",
    "chi, pval = chisquare(observed, expected)\n",
    "\n",
    "print('chi-square=%.6f, p-value=%.2f' % (chi, pval))\n",
    "\n",
    "if pval < significance:\n",
    "\tprint('At %.2f level of significance, we reject the null hypotheses and accept H1. They are not independent.' % (significance))\n",
    "else:\n",
    "\tprint('At %.2f level of significance, we accept the null hypotheses. They are independent.' % (significance))"
   ]
  },
  {
   "cell_type": "code",
   "execution_count": null,
   "metadata": {},
   "outputs": [],
   "source": [
    "# Null \n"
   ]
  },
  {
   "cell_type": "code",
   "execution_count": null,
   "metadata": {},
   "outputs": [],
   "source": []
  },
  {
   "cell_type": "markdown",
   "metadata": {},
   "source": [
    "# The Pooled two-sample t-test "
   ]
  },
  {
   "cell_type": "markdown",
   "metadata": {},
   "source": [
    "In IB Diploma Mathematics Applications and Interpretation, you are required to find the pooled two-sample t-test. This test is a comparison of the means of two independent set of data that are sampled selected from a normally-distributed population.\n",
    "\n",
    "We are going to use on-tailed tests.\n",
    "\n",
    "## One-tailed tests\n",
    "\n",
    "\\begin{align}\n",
    "\\text{If }\\ H_0:\\mu_1 \\geq \\mu_2, then H_1:\\mu_1<\\mu_2\\neq0 \\tag{1}\\\\\n",
    "\\text{If }\\ H_0:\\mu_1 \\leq \\mu_2, then H_1:\\mu_1>\\mu_2\\neq0 \\tag{2}\\\\\n",
    "\\end{align}\n"
   ]
  },
  {
   "cell_type": "markdown",
   "metadata": {},
   "source": [
    "We are going to use [statsmodels](https://www.statsmodels.org/dev/index.html) module to find out the pooled two-sample t-test. \n",
    "\n",
    "We need to install it from your terminal. \n",
    "\n",
    "If you are using Anaconda,\n",
    "\n",
    "`conda install -c conda-forge statsmodels`\n",
    "\n",
    "You can install it by using `pip`.\n",
    "\n",
    "`pip install statsmodels`\n",
    "\n",
    "Import necessary libraries.\n",
    "\n",
    "We set the alternative hypothesis in the option `alternative`. \n",
    "\n",
    "- ‘two-sided’ (default): H1: difference in means not equal to value $H_1:\\mu_1\\ne\\mu_2$\n",
    "- ‘larger’ : H1: difference in means larger than value $H_1:\\mu_1>\\mu_2$\n",
    "- ‘smaller’ : H1: difference in means smaller than value $H_1:\\mu_1<\\mu_2$\n",
    "\n",
    "In the following we set it to `smaller` which means \n",
    "$$H_0:\\mu_1\\geq\\mu_2$$\n",
    "$$H_1:\\mu_1<\\mu_2$$\n",
    "\n",
    "Since IB requires the pooled test, we set it as `usevar='pooled'`."
   ]
  },
  {
   "cell_type": "code",
   "execution_count": 39,
   "metadata": {},
   "outputs": [
    {
     "name": "stdout",
     "output_type": "stream",
     "text": [
      "Test statistic=-1.77, \n",
      "p-value=0.0451, \n",
      "degree of freedom=24\n",
      "\n",
      "At 0.05 level of significance, \n",
      "we reject the null hypotheses. \n",
      "The mean 1 is less than the mean 2.\n"
     ]
    }
   ],
   "source": [
    "import statsmodels.stats.weightstats as sm\n",
    "\n",
    "significance = 0.05\n",
    "list1=[3,5,4,6,6,5,3,2,3,4,5,3,4]\n",
    "list2=[4,6,6,7,6,4,4,4,3,6,5,4,5]\n",
    "tstat, pvalue, df = sm.ttest_ind(\n",
    "    list1,list2,\n",
    "    alternative='smaller',\n",
    "    usevar='pooled')\n",
    "\n",
    "print(\"\"\"Test statistic=%.2f, \n",
    "p-value=%.4f, \n",
    "degree of freedom=%.0f\\n\"\"\" % (tstat,pvalue,df))\n",
    "\n",
    "if pvalue < significance:\n",
    "\tprint(\"\"\"At %.2f level of significance, \n",
    "we reject the null hypotheses. \n",
    "The mean 1 is less than the mean 2.\"\"\" % (significance))\n",
    "else:\n",
    "\tprint(\"\"\"At %.2f level of significance, \n",
    "we accept the null hypotheses.  \n",
    "The mean 1 is greater than the mean 2.\"\"\" % (significance))"
   ]
  },
  {
   "cell_type": "code",
   "execution_count": null,
   "metadata": {},
   "outputs": [],
   "source": []
  },
  {
   "cell_type": "code",
   "execution_count": null,
   "metadata": {},
   "outputs": [],
   "source": []
  },
  {
   "cell_type": "code",
   "execution_count": null,
   "metadata": {},
   "outputs": [],
   "source": []
  },
  {
   "cell_type": "markdown",
   "metadata": {},
   "source": [
    "# Reference\n",
    "\n",
    "- https://docs.scipy.org/doc/scipy/reference/generated/scipy.stats.ttest_ind.html"
   ]
  },
  {
   "cell_type": "markdown",
   "metadata": {},
   "source": [
    "- https://www.statsmodels.org/dev/generated/statsmodels.stats.weightstats.ttest_ind.html"
   ]
  },
  {
   "cell_type": "code",
   "execution_count": null,
   "metadata": {},
   "outputs": [],
   "source": []
  }
 ],
 "metadata": {
  "kernelspec": {
   "display_name": "Python 3",
   "language": "python",
   "name": "python3"
  },
  "language_info": {
   "codemirror_mode": {
    "name": "ipython",
    "version": 3
   },
   "file_extension": ".py",
   "mimetype": "text/x-python",
   "name": "python",
   "nbconvert_exporter": "python",
   "pygments_lexer": "ipython3",
   "version": "3.7.5"
  }
 },
 "nbformat": 4,
 "nbformat_minor": 2
}
