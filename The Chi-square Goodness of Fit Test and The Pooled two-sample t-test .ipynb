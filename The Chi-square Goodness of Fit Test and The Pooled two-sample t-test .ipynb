{
 "cells": [
  {
   "cell_type": "markdown",
   "metadata": {},
   "source": [
    "# The Chi-square Goodness of Fit Test "
   ]
  },
  {
   "cell_type": "markdown",
   "metadata": {},
   "source": [
    "The Chi-square Goodness of fit tests whether the observed distribution of a variable fits a given distribution. When the calculated p-value is less than the significance level, reject the null hypothesis. This is different from [Chi-square test for independence](https://medium.com/@shinichiokada/chi-square-test-for-independence-for-ib-diploma-mathematics-e197aafbd771?source=friends_link&sk=0dc57f1115d88885affa7a04aadfded9) where we test whether two variables are independent.\n",
    "\n",
    "You can find all codes in this [link](https://github.com/shinokada/python-for-ib-diploma-mathematics/blob/master/The%20Chi-square%20Goodness%20of%20Fit%20Test%20and%20The%20Pooled%20two-sample%20t-test%20.ipynb).\n",
    "\n",
    "$H_0$ Null hypothesis: In Chi-Square goodness of fit test, the null hypothesis assumes that there is no significant difference between the observed and the expected value.\n",
    "\n",
    "$H_1$ Alternative hypothesis: In Chi-Square goodness of fit test, the alternative hypothesis assumes that there is a significant difference between the observed and the expected value.\n",
    "\n",
    "\n",
    "We import `chisquare` from `scipy.stats`."
   ]
  },
  {
   "cell_type": "code",
   "execution_count": 45,
   "metadata": {},
   "outputs": [
    {
     "name": "stdout",
     "output_type": "stream",
     "text": [
      "chi-square=0.494167, p-value=0.92\n",
      "\n",
      "At 0.05 level of significance, we accept the null hypotheses. \n",
      "There is no significant difference between the observed and the expected value.\n"
     ]
    }
   ],
   "source": [
    "# https://gist.github.com/shinokada/10a50e6850d8309f7eaed74c3dd0d27a\n",
    "\n",
    "from scipy.stats import chisquare\n",
    "significance = 0.05\n",
    "observed=[51,24,13,12]\n",
    "expected=[48,25,15,12]\n",
    "chi, pval = chisquare(observed, expected)\n",
    "\n",
    "print('chi-square=%.6f, p-value=%.2f\\n' % (chi, pval))\n",
    "\n",
    "if pval < significance:\n",
    "\tprint(\"\"\"At %.2f level of significance, we reject the null hypotheses and accept H1. \n",
    "There is a significant difference between the observed and the expected value.\"\"\" % (significance))\n",
    "else:\n",
    "\tprint(\"\"\"At %.2f level of significance, we accept the null hypotheses. \n",
    "There is no significant difference between the observed and the expected value.\"\"\" % (significance))\n"
   ]
  },
  {
   "cell_type": "markdown",
   "metadata": {},
   "source": [
    "# The Pooled two-sample t-test "
   ]
  },
  {
   "cell_type": "markdown",
   "metadata": {},
   "source": [
    "In IB Diploma Mathematics Applications and Interpretation, you are required to find the pooled two-sample t-test. This test is a comparison of the means of two independent set of data that are sampled selected from a normally-distributed population.\n",
    "\n",
    "## One-tailed tests\n",
    "\n",
    "One of the tests is called one-tailed test. It is a hypothesis test with an alternative hypothesis that only considers one side of the distribution curve; for example, H1:μ<μ0 or H1:μ>μ0.\n",
    "\n",
    "\\begin{align}\n",
    "\\text{If }\\ H_0:\\mu_1 \\geq \\mu_2, then H_1:\\mu_1<\\mu_2\\neq0 \\tag{1}\\\\\n",
    "\\text{If }\\ H_0:\\mu_1 \\leq \\mu_2, then H_1:\\mu_1>\\mu_2\\neq0 \\tag{2}\\\\\n",
    "\\end{align}\n"
   ]
  },
  {
   "cell_type": "markdown",
   "metadata": {},
   "source": [
    "We are going to use [statsmodels](https://www.statsmodels.org/dev/index.html) module to find out the pooled two-sample t-test. \n",
    "\n",
    "We need to install it from a terminal. \n",
    "\n",
    "If you are using Anaconda,\n",
    "\n",
    "`conda install -c conda-forge statsmodels`\n",
    "\n",
    "You can install it by using `pip`.\n",
    "\n",
    "`pip install statsmodels`\n",
    "\n",
    "We set the alternative hypothesis in the option `alternative`. \n",
    "\n",
    "- ‘two-sided’ (default): H1: difference in means not equal to value $H_1:\\mu_1\\ne\\mu_2$\n",
    "- ‘larger’ : H1: difference in means larger than value $H_1:\\mu_1>\\mu_2$\n",
    "- ‘smaller’ : H1: difference in means smaller than value $H_1:\\mu_1<\\mu_2$\n",
    "\n",
    "In the following we set it to `smaller` which means \n",
    "$$H_0:\\mu_1\\geq\\mu_2$$\n",
    "$$H_1:\\mu_1<\\mu_2$$\n",
    "\n",
    "Since IB requires the pooled test, we set it as `usevar='pooled'`."
   ]
  },
  {
   "cell_type": "code",
   "execution_count": 47,
   "metadata": {},
   "outputs": [
    {
     "name": "stdout",
     "output_type": "stream",
     "text": [
      "Test statistic=-1.77, \n",
      "p-value=0.0451, \n",
      "degree of freedom=24\n",
      "\n",
      "At 0.05 level of significance, \n",
      "we reject the null hypotheses. \n",
      "The mean 1 is less than the mean 2.\n"
     ]
    }
   ],
   "source": [
    "# https://gist.github.com/shinokada/88dc8e2a2c868c97e15dc0cdc2f63572\n",
    "\n",
    "import statsmodels.stats.weightstats as sm\n",
    "\n",
    "significance = 0.05\n",
    "list1=[3,5,4,6,6,5,3,2,3,4,5,3,4]\n",
    "list2=[4,6,6,7,6,4,4,4,3,6,5,4,5]\n",
    "tstat, pvalue, df = sm.ttest_ind(\n",
    "    list1,list2,\n",
    "    alternative='smaller',\n",
    "    usevar='pooled')\n",
    "\n",
    "print(\"\"\"Test statistic=%.2f, \n",
    "p-value=%.4f, \n",
    "degree of freedom=%.0f\\n\"\"\" % (tstat,pvalue,df))\n",
    "\n",
    "if pvalue < significance:\n",
    "\tprint(\"\"\"At %.2f level of significance, \n",
    "we reject the null hypotheses. \n",
    "The mean 1 is less than the mean 2.\"\"\" % (significance))\n",
    "else:\n",
    "\tprint(\"\"\"At %.2f level of significance, \n",
    "we accept the null hypotheses.  \n",
    "The mean 1 is greater than the mean 2.\"\"\" % (significance))"
   ]
  },
  {
   "cell_type": "markdown",
   "metadata": {},
   "source": [
    "If you want to test $H_1:\\mu_1>\\mu_2$, you need to set the `alternative` to `larger` which means \n",
    "\n",
    "$$H_0:\\mu_1\\leq\\mu_2$$\n",
    "$$H_1:\\mu_1>\\mu_2$$"
   ]
  },
  {
   "cell_type": "code",
   "execution_count": 54,
   "metadata": {},
   "outputs": [
    {
     "name": "stdout",
     "output_type": "stream",
     "text": [
      "Test statistic=-1.77, \n",
      "p-value=0.9549, \n",
      "degree of freedom=24\n",
      "\n",
      "At 0.05 level of significance, \n",
      "we accept the null hypotheses.  \n",
      "The mean 1 is less than the mean 2.\n"
     ]
    }
   ],
   "source": [
    "# https://gist.github.com/shinokada/29b65b084a1aa05a016d8081faaa40a2\n",
    "\n",
    "import statsmodels.stats.weightstats as sm\n",
    "\n",
    "significance = 0.05\n",
    "list1=[3,5,4,6,6,5,3,2,3,4,5,3,4]\n",
    "list2=[4,6,6,7,6,4,4,4,3,6,5,4,5]\n",
    "tstat, pvalue, df = sm.ttest_ind(\n",
    "    list1,list2,\n",
    "    alternative='larger',\n",
    "    usevar='pooled')\n",
    "\n",
    "print(\"\"\"Test statistic=%.2f, \n",
    "p-value=%.4f, \n",
    "degree of freedom=%.0f\\n\"\"\" % (tstat,pvalue,df))\n",
    "\n",
    "if pvalue < significance:\n",
    "\tprint(\"\"\"At %.2f level of significance, \n",
    "we reject the null hypotheses. \n",
    "The mean 1 is greater than the mean 2.\"\"\" % (significance))\n",
    "else:\n",
    "\tprint(\"\"\"At %.2f level of significance, \n",
    "we accept the null hypotheses.  \n",
    "The mean 1 is less than the mean 2.\"\"\" % (significance))"
   ]
  },
  {
   "cell_type": "markdown",
   "metadata": {},
   "source": [
    "## Two-tailed tests\n",
    "\n",
    "Another test is called two-tailed test. It is a hypothesis test with an alternative hypothesis that considers both sides of the distribution curve; for example, H1:μ≠μ0.\n",
    "Also testing whether the mean of the first set is significantly different from the mean of the second set on either side.\n",
    "\n",
    "This means:\n",
    "\n",
    "$$H_0:\\mu_1=\\mu_2$$\n",
    "$$H_1:\\mu_1\\ne\\mu_2$$\n"
   ]
  },
  {
   "cell_type": "code",
   "execution_count": 56,
   "metadata": {},
   "outputs": [
    {
     "name": "stdout",
     "output_type": "stream",
     "text": [
      "Test statistic=-1.77, \n",
      "p-value=0.0903, \n",
      "degree of freedom=24\n",
      "\n",
      "At 0.05 level of significance, \n",
      "we accept the null hypotheses.  \n",
      "The mean 1 is not equal to the mean 2.\n"
     ]
    }
   ],
   "source": [
    "# https://gist.github.com/shinokada/967875874850b70c1a7950bfb12202f5\n",
    "\n",
    "import statsmodels.stats.weightstats as sm\n",
    "\n",
    "significance = 0.05\n",
    "list1=[3,5,4,6,6,5,3,2,3,4,5,3,4]\n",
    "list2=[4,6,6,7,6,4,4,4,3,6,5,4,5]\n",
    "tstat, pvalue, df = sm.ttest_ind(\n",
    "    list1,list2,\n",
    "    alternative='two-sided',\n",
    "    usevar='pooled')\n",
    "\n",
    "print(\"\"\"Test statistic=%.2f, \n",
    "p-value=%.4f, \n",
    "degree of freedom=%.0f\\n\"\"\" % (tstat,pvalue,df))\n",
    "\n",
    "if pvalue < significance:\n",
    "\tprint(\"\"\"At %.2f level of significance, \n",
    "we reject the null hypotheses. \n",
    "The mean 1 is equal to the mean 2.\"\"\" % (significance))\n",
    "else:\n",
    "\tprint(\"\"\"At %.2f level of significance, \n",
    "we accept the null hypotheses.  \n",
    "The mean 1 is not equal to the mean 2.\"\"\" % (significance))"
   ]
  },
  {
   "cell_type": "markdown",
   "metadata": {},
   "source": [
    "## Using csv file"
   ]
  },
  {
   "cell_type": "markdown",
   "metadata": {},
   "source": [
    "This link is a data set \"Brain Size and Intelligence\". You can "
   ]
  },
  {
   "cell_type": "markdown",
   "metadata": {},
   "source": [
    "# Reference\n",
    "\n",
    "- https://docs.scipy.org/doc/scipy/reference/generated/scipy.stats.ttest_ind.html"
   ]
  },
  {
   "cell_type": "markdown",
   "metadata": {},
   "source": [
    "- https://www.statsmodels.org/dev/generated/statsmodels.stats.weightstats.ttest_ind.html"
   ]
  },
  {
   "cell_type": "markdown",
   "metadata": {},
   "source": [
    "- https://www.statisticssolutions.com/chi-square-goodness-of-fit-test/"
   ]
  },
  {
   "cell_type": "code",
   "execution_count": null,
   "metadata": {},
   "outputs": [],
   "source": []
  }
 ],
 "metadata": {
  "kernelspec": {
   "display_name": "Python 3",
   "language": "python",
   "name": "python3"
  },
  "language_info": {
   "codemirror_mode": {
    "name": "ipython",
    "version": 3
   },
   "file_extension": ".py",
   "mimetype": "text/x-python",
   "name": "python",
   "nbconvert_exporter": "python",
   "pygments_lexer": "ipython3",
   "version": "3.7.5"
  }
 },
 "nbformat": 4,
 "nbformat_minor": 2
}
