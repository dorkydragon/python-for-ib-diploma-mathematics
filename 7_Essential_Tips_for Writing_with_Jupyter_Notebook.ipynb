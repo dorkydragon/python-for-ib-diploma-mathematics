{
 "cells": [
  {
   "cell_type": "markdown",
   "metadata": {},
   "source": [
    "# 7 Essential Tips for Writing with Jupyter Notebook\n",
    "## Guide For Your First Data Science Article\n",
    "\n",
    "### Table of Contents\n",
    "\n",
    "* Introduction\n",
    "* Help, Shortcuts and Number lines\n",
    "* Theme and Fonts\n",
    "* Markdown\n",
    "* LaTeX\n",
    "* LaTeX Equation Numbering & Alignment\n",
    "* Writing tools\n",
    "* Printing PDF\n",
    "* Conclusion\n",
    "* References\n",
    "\n",
    "# Introduction\n",
    "\n",
    "Jupyter Notebook is great to create and share a document containing code, visualization, and text. In this article, I will show you some helpful tips before you are writing your first Data Science article with Jupyter Notebook."
   ]
  },
  {
   "cell_type": "markdown",
   "metadata": {},
   "source": [
    "# Help, Shortcuts and Number lines\n",
    "\n",
    "Shortcuts will speed up your writing. Pressing `h` toggles the keyboards shortcuts screen. You can see all commands by pressing &#8984;&#8679;f. I use the following shortcuts often and it will be useful if you can memorize them.\n",
    "\n",
    "Symbol  | Name\n",
    ":------: |:----:\n",
    "&#8984; |Command, Cmd \n",
    "&#8963; |Control, Ctl\n",
    "&#8997; |Option Opt \n",
    "&#8679; |Shift \n",
    "&#8617; |Retrun\n",
    "&#9251; |Space\n",
    "&#8677; |Tab  \n",
    "\n",
    "<br>\n",
    "\n",
    "Shortcut | Function\n",
    ":-------:|:--------:\n",
    "&#8679;&#8617; | Run cell and select below\n",
    "&#8963;&#8617; | Run selected cells\n",
    "&#8997;&#8617; | Run cell and insert below\n",
    "m | Change cell to markdown\n",
    "y | Change cell to code\n",
    "h | Toggle help\n",
    "&#8984;&#8679;f | Open the command palette\n",
    "a | Insert cell above\n",
    "b | Insert cell below\n",
    "dd | Delete a cell selected\n",
    "&#8679; L | Toggle line numbers\n",
    "\n",
    "<br>\n",
    "\n",
    "## Line numbers on\n",
    "\n",
    "It is a good idea to have line numbers on in your Jupyter Notebook. When you have an error, it is easy to find the line. Besides the above shortcut, you can also use View > Toggle Line Numbers.\n",
    "\n",
    "![Number lines](./image/numberlines.png)\n",
    "\n",
    "\n",
    "# Theme\n",
    "\n",
    "A nice Jupyter theme for your Jupyter Notebook is like a nice pillow for your sleep. You are going to spend a lot of time writing with Jupyter Notebook, let's find a nice theme for your taste and modify font sizes. \n",
    "\n",
    "Let's install [JupyterThemes](https://github.com/dunovank/jupyter-themes). Open your terminal and type the followings."
   ]
  },
  {
   "cell_type": "raw",
   "metadata": {},
   "source": [
    "pip install jupyterthemes\n",
    "pip install --upgrade jupyterthemes"
   ]
  },
  {
   "cell_type": "markdown",
   "metadata": {},
   "source": [
    "There are nine themes, chesterish, grade3, ggruvboxd, gruvboxl, monokai, oceans16, onedork, solarizedd, solarizedl. \n",
    "\n",
    "![chesterish](./image/themes/chesterish.png)|![grade3](./image/themes/grade3.png)|![gruvboxd](./image/themes/gruvboxd.png)\n",
    "-|-|-\n",
    "chesterish | grade3 |gruvboxd\n",
    "\n",
    "![gruvboxl](./image/themes/gruvboxl.png)|![monokai](./image/themes/monokai.png)|![ocean16](./image/themes/ocean16.png)\n",
    "-|-|-\n",
    "gruvboxl|monokai|ocean16\n",
    "\n",
    "![onedork](./image/themes/onedork.png)|![solarizedd](./image/themes/solarizedd.png)|![solarizedl](./image/themes/solarizedl.png)\n",
    "-|-|-\n",
    "ondork|solarizedd|solarizedl\n",
    "\n",
    "<br>\n",
    "\n",
    "If you want to use ocean16, please put the following in a Jupyter Notebook cell and hit shift+enter."
   ]
  },
  {
   "cell_type": "raw",
   "metadata": {},
   "source": [
    "!jt -t oceans16"
   ]
  },
  {
   "cell_type": "markdown",
   "metadata": {},
   "source": [
    "If you want to reset the theme, use this code."
   ]
  },
  {
   "cell_type": "raw",
   "metadata": {},
   "source": [
    "!jt -r"
   ]
  },
  {
   "cell_type": "markdown",
   "metadata": {},
   "source": [
    "## Font & Font size\n",
    "\n",
    "__Method one__\n",
    "\n",
    "The following image shows the position of fonts. \n",
    "![Jupyter theme font](./image/tf1.png)\n",
    "\n",
    "The following image shows the font size.\n",
    "![Jupyter theme fontsize](./image/tf.png)\n",
    "\n",
    "If you want to change the text cell font and font size you can type the following in a cell and hit shift+enter."
   ]
  },
  {
   "cell_type": "raw",
   "metadata": {},
   "source": [
    "!jt -t oceans16 -tf merriserif -tfs 14 -nf ptsans -nfs 14"
   ]
  },
  {
   "cell_type": "markdown",
   "metadata": {},
   "source": [
    "You can find [all the font types here](https://github.com/dunovank/jupyter-themes#monospace-fonts-code-cells).\n",
    "\n",
    "You can try a different setting."
   ]
  },
  {
   "cell_type": "raw",
   "metadata": {},
   "source": [
    "!jt -t grade3 -tf firacode -tfs 13 -mathfs 110 -fs 13 -N -T "
   ]
  },
  {
   "cell_type": "markdown",
   "metadata": {},
   "source": [
    "### Method two\n",
    "\n",
    "If you do not want to change the theme but want to change the font size and font, then you need to change the Jupyter Notebook\n",
    "CSS. Open `.jupyter\\custom\\custom.css` in an editor. If you don't have an editor, please install the [VS code](https://code.visualstudio.com/download).\n",
    "\n",
    "And paste the following to the file. You can change `font-size:130%` to any number as you like."
   ]
  },
  {
   "cell_type": "raw",
   "metadata": {},
   "source": [
    "div#notebook p, div#notebook{\n",
    "    font-size: 130%;\n",
    "    line-height: 125%;\n",
    "}\n",
    "\n",
    ".rendered_html pre, .rendered_html table{\n",
    "    font-size:130%;\n",
    "    line-height: 125%;\n",
    "}\n",
    "\n",
    ".CodeMirror, .CodeMirror pre, .CodeMirror-dialog, .CodeMirror-dialog .CodeMirror-search-field, .terminal-app .terminal {\n",
    "    font-size: 130%;\n",
    "    line-height: 125%;\n",
    "}"
   ]
  },
  {
   "cell_type": "markdown",
   "metadata": {},
   "source": [
    "Save the file and reload the page to see the change."
   ]
  },
  {
   "cell_type": "markdown",
   "metadata": {},
   "source": [
    "# Markdown\n",
    "\n",
    "Markdown is a lightweight markup language with plain-text-formatting syntax. ([Wikipedia](https://en.wikipedia.org/wiki/Markdown))\n",
    "\n",
    "## How to change the cell to markdown\n",
    "\n",
    "One way to change a cell to markdown is by selecting Markdown from a dropdown.\n",
    "\n",
    "![select markdown](./image/markdown.png)\n",
    "\n",
    "Another way is to use a shortcut, `m` after selecting a cell. You may need to press escape if you are typing `m` in the cell, `y` to change to code and `r` to change to raw.\n",
    "\n",
    "\n",
    "## Headers\n",
    "\n",
    "Use `#` for H1, `##` for H2 etc."
   ]
  },
  {
   "cell_type": "raw",
   "metadata": {},
   "source": [
    "# Main title\n",
    "## Sub title\n",
    "### H3 title\n",
    "#### H4 title"
   ]
  },
  {
   "cell_type": "markdown",
   "metadata": {},
   "source": [
    "The above will print out the following.\n",
    "\n",
    "# Main title\n",
    "## Sub title\n",
    "### H3 title\n",
    "#### H4 title"
   ]
  },
  {
   "cell_type": "markdown",
   "metadata": {},
   "source": [
    "## List\n",
    "\n",
    "You can use * or - to create a nested unordered list and use numbers for an ordered list."
   ]
  },
  {
   "cell_type": "raw",
   "metadata": {},
   "source": [
    "- main 1\n",
    "  - sub 1\n",
    "  - sub 2\n",
    "- main 2\n",
    "- main 3\n",
    "\n",
    "1. Main list 1\n",
    "2. Main list 2\n",
    "  - sub list 2-1\n",
    "  - sub list 2-2\n",
    "3. Main list 3"
   ]
  },
  {
   "cell_type": "markdown",
   "metadata": {},
   "source": [
    "The above produces the following.\n",
    "\n",
    "- main 1\n",
    "  - sub 1\n",
    "  - sub 2\n",
    "    - sub sub 1\n",
    "    - sub sub 2\n",
    "- main 2\n",
    "- main 3\n",
    "\n",
    "\n",
    "1. Main list 1\n",
    "2. Main list 2\n",
    "  - sub list 2-1\n",
    "  - sub list 2-2\n",
    "3. Main list 3"
   ]
  },
  {
   "cell_type": "markdown",
   "metadata": {},
   "source": [
    "## Link\n",
    "\n",
    "Markdown links use parentheses immediately after the link text like `[Link name](url)`."
   ]
  },
  {
   "cell_type": "raw",
   "metadata": {},
   "source": [
    "[Google](https://www.google.com)"
   ]
  },
  {
   "cell_type": "markdown",
   "metadata": {},
   "source": [
    "\n",
    "The above code produces,[Google](https://www.google.com)."
   ]
  },
  {
   "cell_type": "markdown",
   "metadata": {},
   "source": [
    "## Image\n",
    "\n",
    "Markdown image syntax is like Links syntax but you prefix it with an exclamation mark like `![alt text](link)`.\n"
   ]
  },
  {
   "cell_type": "raw",
   "metadata": {},
   "source": [
    "![alt text here](https://github.com/shinokada/python-for-ib-diploma-mathematics/blob/master/image/jupyter_logo.png \"Logo Title Jupyter Notebook logo\")"
   ]
  },
  {
   "cell_type": "markdown",
   "metadata": {},
   "source": [
    "\n",
    "The above markdown produces: ![alt text here](./image/jupyter_logo.png \"Logo Title Jupyter Notebook logo\").\n",
    "\n"
   ]
  },
  {
   "cell_type": "markdown",
   "metadata": {},
   "source": [
    "## Tables\n",
    "\n",
    "To add a table, use three or more hyphens (---) to create each column’s header, and use pipes (|) to separate each column. You can optionally add pipes on either end of the table. Use `:---:` to center a column, `:---` to align left."
   ]
  },
  {
   "cell_type": "raw",
   "metadata": {},
   "source": [
    "Id | Syntax      | Description \n",
    "--|:---------:|:-----------:\n",
    "1|Header      | Something very long long long here      \n",
    "2|Long long long paragraph   | Text    "
   ]
  },
  {
   "cell_type": "markdown",
   "metadata": {},
   "source": [
    "The rendered output looks like this:\n",
    "\n",
    "<br>\n",
    "\n",
    "Id | Syntax      | Description \n",
    "--|:---------:|:-----------:\n",
    "1|Header      | Something very long long long here      \n",
    "2|Long long long paragraph   | Text  \n",
    "   "
   ]
  },
  {
   "cell_type": "markdown",
   "metadata": {},
   "source": [
    "If you want to know more about markdown, please read [this page](https://github.com/adam-p/markdown-here/wiki/Markdown-Cheatsheet)."
   ]
  },
  {
   "cell_type": "markdown",
   "metadata": {},
   "source": [
    "# Writing Math with Latex\n",
    "\n",
    "[LaTeX](https://en.wikipedia.org/wiki/LaTeX) is widely used in academia for the communication and publication of scientific documents in many fields.\n",
    "\n",
    "- You need to enclose them in dollar($) signs. \n",
    "\n",
    "To align to the left use a single dollar($) sign.\n",
    "\n",
    "`$P(A)=\\frac{n(A)}{n(U)}$`\n",
    "\n",
    "$P(A)=\\frac{n(A)}{n(U)}$\n",
    "\n",
    "To align to the center use double dollar($$) signs.\n",
    "\n",
    "`$$P(A)=\\frac{n(A)}{n(U)}$$`\n",
    "\n",
    "$$P(A)=\\frac{n(A)}{n(U)}$$\n",
    "\n",
    "- Use `\\limits` for `\\lim`, `\\sum` and `\\int` to add limits to the top and the bottom of each sign.\n",
    "\n",
    "- Use a backslash to escape LaTeX special words such as Math symbols, Latin words, text, etc.\n",
    "\n",
    "\n",
    "Math | LaTeX | Example | <div style=\"width:290px\">Output</div>\n",
    ":--|:--:|:--:|:--:\n",
    "Fraction | \\frac{}{} | P(A)=\\frac{n(A)}{n(U)}| $P(A)=\\frac{n(A)}{n(U)}$\n",
    "Square root| \\sqrt() |\\sqrt(x+y)|$\\sqrt(x+y)$\n",
    "Superscript|u^n|u_n=u_1r^{n-1}|$u_n=u_1r^{n-1}$\n",
    "Subscript | u_n | u_n=u_1+(n-1)d|$u_n=u_1+(n-1)d$\n",
    "Greek letters | \\alpha | \\alpha \\beta \\pi \\Gamma|$\\alpha \\beta \\pi \\Gamma$\n",
    "Text| \\text{} | A=\\pi r^2\\text{ ,where r is the radius}| $A=\\pi r^2\\text{ ,where r is the radius}$\n",
    "Sigma | \\sum | n=\\sum \\limits _{i=1} ^{\\infty} f_i |$n=\\sum \\limits _{i=1} ^{\\infty} f_i$\n",
    "Limit | \\lim |\\lim\\limits_{x\\to\\infty}|$\\lim\\limits_{x\\to\\infty}$\n",
    "Integration|\\int |\\int\\limits_{a}^{b} x^2 dx |$\\int\\limits_{a}^{b} x^2 dx$\n",
    "Trig| \\sin | \\sin()|$\\sin(x+y)$\n",
    "Comparison | \\leq | \\leq \\geq \\approx \\neq |$ \\leq \\geq \\approx \\neq$\n",
    "Overline | \\overline{} | \\overline{x} | $\\overline{x}$\n",
    "\n",
    "For more information please see this [article](https://davidhamann.de/2017/06/12/latex-cheat-sheet/) or [this link](https://www.overleaf.com/learn/latex/Integrals,_sums_and_limits).\n",
    "\n",
    "Can you write the following equation for mean in LaTeX?\n",
    "\n",
    "$$\\overline{x}=\\frac{\\sum \\limits _{i=1} ^k f_i x_i}{n} \\text{, where } n=\\sum \\limits _{i=1} ^k f_i  $$\n"
   ]
  },
  {
   "cell_type": "markdown",
   "metadata": {},
   "source": [
    "# LaTeX Equation Numbering & Alignment\n",
    "\n",
    "### Equation Numbering\n",
    "\n",
    "For equation numbering, you need to add [`jupyter_contib_nbextensions`](https://jupyter-contrib-nbextensions.readthedocs.io/en/latest/install.html#install-the-python-package).\n",
    "\n",
    "### PIP \n",
    "\n",
    "If you installed your Jupyter Notebook using `pip`, you can install `jupyter_contib_nbextension` from a Jupyter Notebook cell."
   ]
  },
  {
   "cell_type": "raw",
   "metadata": {},
   "source": [
    "!pip install jupyter_contrib_nbextensions"
   ]
  },
  {
   "cell_type": "markdown",
   "metadata": {},
   "source": [
    "Then you need to install CSS."
   ]
  },
  {
   "cell_type": "raw",
   "metadata": {},
   "source": [
    "!jupyter contrib nbextension install --user"
   ]
  },
  {
   "cell_type": "markdown",
   "metadata": {},
   "source": [
    "Or from a terminal without `!`."
   ]
  },
  {
   "cell_type": "raw",
   "metadata": {},
   "source": [
    "pip install jupyter_contrib_nbextensions"
   ]
  },
  {
   "cell_type": "markdown",
   "metadata": {},
   "source": [
    "Installing CSS."
   ]
  },
  {
   "cell_type": "raw",
   "metadata": {},
   "source": [
    "jupyter contrib nbextension install --user"
   ]
  },
  {
   "cell_type": "markdown",
   "metadata": {},
   "source": [
    "### Conda\n",
    "\n",
    "If your installation is through Conda, then run the following from a Jupyter Notebook cell or a terminal."
   ]
  },
  {
   "cell_type": "raw",
   "metadata": {},
   "source": [
    "conda install -c conda-forge jupyter_contrib_nbextensions"
   ]
  },
  {
   "cell_type": "markdown",
   "metadata": {},
   "source": [
    "Refresh you browser and you should see Nbextensions tab in the main menu.\n",
    "\n",
    "![nbextensions tab](./image/nb.png)"
   ]
  },
  {
   "cell_type": "markdown",
   "metadata": {},
   "source": [
    "Click the Nbextensions tab and search Equation Auto Numbering. Click the box to enable the extension."
   ]
  },
  {
   "cell_type": "markdown",
   "metadata": {},
   "source": [
    "![Equation Auto Numbering](./image/equnum.png)"
   ]
  },
  {
   "cell_type": "markdown",
   "metadata": {},
   "source": [
    "Refresh the browser and try the following equations to see the equation numbers. Please add the following to a markdown cell. It adds equation numbers at the end from 1 to 3. You need to start with `\\begin{align}` and end with `\\end{align}`."
   ]
  },
  {
   "cell_type": "raw",
   "metadata": {},
   "source": [
    "$$\n",
    "\\begin{align}\n",
    "{x} = \\sigma(y-x) \\\\\n",
    "{y} = \\rho x - y - xz \\\\\n",
    "{x+y+z} = -\\beta z + xy \n",
    "\\end{align}\n",
    "$$"
   ]
  },
  {
   "cell_type": "markdown",
   "metadata": {},
   "source": [
    "$$\n",
    "\\begin{align}\n",
    "{x} = \\sigma(y-x) \\\\\n",
    "{y} = \\rho x - y - xz \\\\\n",
    "{x+y+z} = -\\beta z + xy \n",
    "\\end{align}\n",
    "$$"
   ]
  },
  {
   "cell_type": "markdown",
   "metadata": {},
   "source": [
    "### Newline and tag"
   ]
  },
  {
   "cell_type": "markdown",
   "metadata": {},
   "source": [
    "You can add equation numbers using `\\tag{}`. The double back-slashes `\\\\` is for a new line. You need enclose all equations with `\\begin{align}` and `\\end{align}`. "
   ]
  },
  {
   "cell_type": "raw",
   "metadata": {},
   "source": [
    "$$\n",
    "\\begin{align}\n",
    "{x} = \\sigma(y-x) \\tag{1-1}\\\\\n",
    "{y} = \\rho x - y - xz \\tag{1-2}\\\\\n",
    "{x+y+z} = -\\beta z + xy \\tag{1-3}\n",
    "\\end{align}\n",
    "$$"
   ]
  },
  {
   "cell_type": "markdown",
   "metadata": {},
   "source": [
    "$$\n",
    "\\begin{align}\n",
    "{x} = \\sigma(y-x) \\tag{1-1}\\\\\n",
    "{y} = \\rho x - y - xz \\tag{1-2}\\\\\n",
    "{x+y+z} = -\\beta z + xy \\tag{1-3}\n",
    "\\end{align}\n",
    "$$"
   ]
  },
  {
   "cell_type": "markdown",
   "metadata": {},
   "source": [
    "## Equation alignment"
   ]
  },
  {
   "cell_type": "markdown",
   "metadata": {},
   "source": [
    "### Right alignment\n",
    "\n",
    "Normally equations are aligned to the right as above examples."
   ]
  },
  {
   "cell_type": "markdown",
   "metadata": {},
   "source": [
    "### Aligning at equal signs"
   ]
  },
  {
   "cell_type": "markdown",
   "metadata": {},
   "source": [
    "By adding & symbol, equations will be aligned at that point. For example if you want to align equations at equal symbol, use `&=`."
   ]
  },
  {
   "cell_type": "raw",
   "metadata": {},
   "source": [
    "$$\n",
    "\\begin{align}\n",
    "{x} & = \\sigma(y-x) \\tag{3-1}\\\\\n",
    "{y} & = \\rho x - y - xz \\tag{3-2}\\\\\n",
    "{x+y+z} & = -\\beta z + xy \\tag{3-3}\n",
    "\\end{align}\n",
    "$$"
   ]
  },
  {
   "cell_type": "markdown",
   "metadata": {},
   "source": [
    "$$\n",
    "\\begin{align}\n",
    "{x} & = \\sigma(y-x) \\tag{3-1}\\\\\n",
    "{y} & = \\rho x - y - xz \\tag{3-2}\\\\\n",
    "{x+y+z} & = -\\beta z + xy \\tag{3-3}\n",
    "\\end{align}\n",
    "$$"
   ]
  },
  {
   "cell_type": "markdown",
   "metadata": {},
   "source": [
    "### Left alignment"
   ]
  },
  {
   "cell_type": "raw",
   "metadata": {},
   "source": [
    "$$\n",
    "\\begin{align}\n",
    "& {x} = \\sigma(y-x) \\tag{4-1}\\\\\n",
    "& {y} = \\rho x - y - xz \\tag{4-2}\\\\\n",
    "& {x+y+z} = -\\beta z + xy \\tag{4-3}\n",
    "\\end{align}\n",
    "$$"
   ]
  },
  {
   "cell_type": "markdown",
   "metadata": {},
   "source": [
    "$$\n",
    "\\begin{align}\n",
    "& {x} = \\sigma(y-x) \\tag{4-1}\\\\\n",
    "& {y} = \\rho x - y - xz \\tag{4-2}\\\\\n",
    "& {x+y+z} = -\\beta z + xy \\tag{4-3}\n",
    "\\end{align}\n",
    "$$"
   ]
  },
  {
   "cell_type": "markdown",
   "metadata": {},
   "source": [
    "# Writing tools\n",
    "\n",
    "Before publishing your article, I always need to check grammar and words.\n",
    "\n",
    "- Grammary\n",
    "\n",
    "As of the time of writing this article, Grammarly does not work on a browser. So you have to copy and paste to the [web app](https://app.grammarly.com/) or a [desktop app](https://www.grammarly.com/native/mac).\n",
    "\n",
    "- Hemmingway Editor\n",
    "\n",
    "After checking with Grammarly, [Hemmingway App](http://www.hemingwayapp.com/) is the next tool to make your article bold and clear. Even though your audience is adult, aim Grade 6 for readability in Hemmingway App. \n",
    "\n",
    "![Hemmingway Editor](./image/hemmingway.png)"
   ]
  },
  {
   "cell_type": "markdown",
   "metadata": {},
   "source": [
    "# Export to PDF\n",
    "\n",
    "Once you are done with your writing and if you want to export to PDF file, you can print out as PDF.\n",
    "\n",
    "[Stackoverflow](https://stackoverflow.com/questions/34818723/export-notebook-to-pdf-without-code)\n",
    "\n",
    "* Run Jupyter Notebook in the browser then go to File->Download as->HTML and you will get an HTML page with code and output.\n",
    "\n",
    "![download as](image/downloadas.png)\n",
    "\n",
    "* Open the exported HTML with browser and activate the browser console with key F12 or &#8984; + i.\n",
    "\n",
    "![console](image/console.png)\n",
    "\n",
    "__Removing code blocks__\n",
    "\n",
    "* Run following command in the console:"
   ]
  },
  {
   "cell_type": "raw",
   "metadata": {},
   "source": [
    "document.querySelectorAll(\"div.input\").forEach(function(a){a.remove()})"
   ]
  },
  {
   "cell_type": "markdown",
   "metadata": {},
   "source": [
    "![console](image/console2.png)\n",
    "\n",
    "The code removes all input div DOM.\n",
    "\n",
    "__Removing Out blocks__\n",
    "\n",
    "* We need to remove [Out] blocks as well.\n",
    "\n",
    "![Out image](./image/out.png)"
   ]
  },
  {
   "cell_type": "raw",
   "metadata": {},
   "source": [
    "document.querySelectorAll(\"div.output_prompt\").forEach(function(a){a.innerHTML=''})"
   ]
  },
  {
   "cell_type": "markdown",
   "metadata": {},
   "source": [
    "After removing all Out blocks](./i.\n",
    "\n",
    "\n",
    "* Then right mouse button and choose \"Save Page As\" and Save the \"Complete page\" (not single page).\n",
    "\n",
    "![console](image/save.png)\n",
    "\n",
    "* You will get a page with an associated folder in windows. Use a  trick by zip the HTML page and then extract to unbind the associated. \n",
    "     \n",
    "* Now it is a single HTML page without code. You can print it as PDF.\n",
    "     "
   ]
  },
  {
   "cell_type": "markdown",
   "metadata": {},
   "source": [
    "# Conclusion\n",
    "\n",
    "I hope these will save you time and be ready for your first Data Science article. If you have any more tips, please put them in the comments."
   ]
  },
  {
   "cell_type": "markdown",
   "metadata": {},
   "source": [
    "# References\n",
    "\n",
    "- https://markdown-guide.readthedocs.io/en/latest/basics.html#markdown-basics\n",
    "- https://github.com/adam-p/markdown-here/wiki/Markdown-Cheatsheet\n",
    "- https://www.markdownguide.org/extended-syntax/\n",
    "- https://qiita.com/koikoi_jam/items/29d9ef4e16a42038325c\n",
    "- https://github.com/dunovank/jupyter-themes#monospace-fonts-code-cells\n",
    "- https://www.overleaf.com/learn/latex/Integrals,_sums_and_limits\n",
    "\n"
   ]
  },
  {
   "cell_type": "code",
   "execution_count": null,
   "metadata": {},
   "outputs": [],
   "source": []
  }
 ],
 "metadata": {
  "kernelspec": {
   "display_name": "Python 3",
   "language": "python",
   "name": "python3"
  },
  "language_info": {
   "codemirror_mode": {
    "name": "ipython",
    "version": 3
   },
   "file_extension": ".py",
   "mimetype": "text/x-python",
   "name": "python",
   "nbconvert_exporter": "python",
   "pygments_lexer": "ipython3",
   "version": "3.8.1"
  }
 },
 "nbformat": 4,
 "nbformat_minor": 4
}
