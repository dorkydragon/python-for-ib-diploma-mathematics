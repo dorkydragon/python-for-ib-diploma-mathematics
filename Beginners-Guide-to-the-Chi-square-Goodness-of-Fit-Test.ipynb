{
 "cells": [
  {
   "cell_type": "markdown",
   "metadata": {},
   "source": [
    "# Beginners Guide to the Chi square Goodness of Fit Test\n",
    "\n",
    "## Does the observed fit the expected?"
   ]
  },
  {
   "cell_type": "markdown",
   "metadata": {},
   "source": [
    "# Table of contents\n",
    "\n",
    "- Introduction\n",
    "- Null and Alternative Hypothesis\n",
    "- Groupby How to group categorical data using Iris data\n",
    "- DFE\n",
    "- DDD\n",
    "- DDD"
   ]
  },
  {
   "cell_type": "markdown",
   "metadata": {},
   "source": [
    "# Introduction\n",
    "\n",
    "\n",
    "\n"
   ]
  },
  {
   "cell_type": "markdown",
   "metadata": {},
   "source": [
    "The Chi-square Goodness of fit tests whether the observed distribution of a variable fits a given distribution. When the calculated p-value is less than the significance level, reject the null hypothesis. This is different from [Chi-square test for independence](#) where we test whether two variables are independent."
   ]
  },
  {
   "cell_type": "markdown",
   "metadata": {},
   "source": [
    "# When should I use Chi square goodness of fit test?"
   ]
  },
  {
   "cell_type": "markdown",
   "metadata": {},
   "source": [
    "This test is used when you have data with categorical data. Data you collected that can be classified into several groups and to check the sample is representative of the general population. The categorical data can be blood types of a person vs number of each blood type, ethnicity vs number of athletes, countries vs  , colors, political parties, etc.\n"
   ]
  },
  {
   "cell_type": "markdown",
   "metadata": {},
   "source": [
    " The number of degrees of freedom when an for an extrinsic hypothesis is the number of classes minus one.\n",
    "    \n",
    "    "
   ]
  },
  {
   "cell_type": "markdown",
   "metadata": {},
   "source": [
    "This site has excellent [info](https://stats.libretexts.org/Bookshelves/Introductory_Statistics/Book%3A_OpenIntro_Statistics_(Diez_et_al)./6%3A_Inference_for_Categorical_Data/6.3%3A_Testing_for_Goodness_of_Fit_using_Chi-Square_(Special_Topic)).\n",
    "Another [info](https://courses.lumenlearning.com/odessa-introstats1-1/chapter/goodness-of-fit-test/)\n",
    "Practical example [here](http://www.biostathandbook.com/chigof.html)"
   ]
  },
  {
   "cell_type": "markdown",
   "metadata": {},
   "source": [
    "# Null and Alternative Hypothesis"
   ]
  },
  {
   "cell_type": "markdown",
   "metadata": {},
   "source": [
    "The hypothesis testing always require the null and alternative hypothesis.\n",
    "\n",
    "$H_0$ Null hypothesis: In Chi-Square goodness of fit test, the null hypothesis assumes that there is no significant difference between the observed and the expected value.\n",
    "\n",
    "$H_1$ Alternative hypothesis: In Chi-Square goodness of fit test, the alternative hypothesis assumes that there is a significant difference between the observed and the expected value.\n",
    "\n",
    "\n",
    "The `scipy.stats`'s `chisquare` can be used for this purpose."
   ]
  },
  {
   "cell_type": "code",
   "execution_count": 3,
   "metadata": {},
   "outputs": [
    {
     "name": "stdout",
     "output_type": "stream",
     "text": [
      "chi-square=0.494167, p-value=0.92\n",
      "\n",
      "At 0.05 level of significance, we accept the null hypotheses. \n",
      "There is no significant difference between the observed and the expected value.\n"
     ]
    },
    {
     "data": {
      "text/plain": [
       "numpy.ndarray"
      ]
     },
     "execution_count": 3,
     "metadata": {},
     "output_type": "execute_result"
    }
   ],
   "source": [
    "# https://gist.github.com/shinokada/10a50e6850d8309f7eaed74c3dd0d27a\n",
    "\n",
    "from scipy.stats import chisquare\n",
    "import numpy as np\n",
    "\n",
    "significance = 0.05\n",
    "observed=np.array([51,24,13,12])\n",
    "expected=np.array([48,25,15,12])\n",
    "chi, pval = chisquare(observed, expected)\n",
    "\n",
    "print('chi-square=%.6f, p-value=%.2f\\n' % (chi, pval))\n",
    "\n",
    "if pval < significance:\n",
    "    print(\"\"\"At %.2f level of significance, we reject the null hypotheses and accept H1. \n",
    "There is a significant difference between the observed and the expected value.\"\"\" % (significance))\n",
    "else:\n",
    "    print(\"\"\"At %.2f level of significance, we accept the null hypotheses. \n",
    "There is no significant difference between the observed and the expected value.\"\"\" % (significance))\n",
    "\n",
    "type(observed)"
   ]
  },
  {
   "cell_type": "markdown",
   "metadata": {},
   "source": [
    "Let's find "
   ]
  },
  {
   "cell_type": "code",
   "execution_count": null,
   "metadata": {},
   "outputs": [],
   "source": []
  },
  {
   "cell_type": "code",
   "execution_count": null,
   "metadata": {},
   "outputs": [],
   "source": []
  },
  {
   "cell_type": "code",
   "execution_count": null,
   "metadata": {},
   "outputs": [],
   "source": []
  },
  {
   "cell_type": "markdown",
   "metadata": {},
   "source": [
    "# Reference"
   ]
  },
  {
   "cell_type": "markdown",
   "metadata": {},
   "source": [
    "- https://www.statisticssolutions.com/chi-square-goodness-of-fit-test/"
   ]
  },
  {
   "cell_type": "code",
   "execution_count": null,
   "metadata": {},
   "outputs": [],
   "source": []
  }
 ],
 "metadata": {
  "kernelspec": {
   "display_name": "Python 3",
   "language": "python",
   "name": "python3"
  },
  "language_info": {
   "codemirror_mode": {
    "name": "ipython",
    "version": 3
   },
   "file_extension": ".py",
   "mimetype": "text/x-python",
   "name": "python",
   "nbconvert_exporter": "python",
   "pygments_lexer": "ipython3",
   "version": "3.7.6"
  }
 },
 "nbformat": 4,
 "nbformat_minor": 4
}
