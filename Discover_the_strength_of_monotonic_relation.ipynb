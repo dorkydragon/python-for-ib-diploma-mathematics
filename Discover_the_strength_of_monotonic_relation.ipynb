{
 "cells": [
  {
   "cell_type": "markdown",
   "metadata": {
    "slideshow": {
     "slide_type": "slide"
    }
   },
   "source": [
    "# Discover the strength of monotonic relation\n",
    "\n",
    "## Finding Spearman’s rank correlation coefficient using Jupyter Notebook\n",
    "\n",
    "\n",
    "In this article, I will show the necessary steps using Python to find Spearman's rank correlation coefficient.\n",
    "\n",
    "Spearman's rank correlation uses ordinal data. Examples of ordinal data are:\n",
    "\n",
    "- 1st, 2nd, 3rd, \n",
    "- Small, Medium, Large, XL,\n",
    "- Strongly agree, Agree, Neutral, Disagree, Strongly Disagree\n",
    "- Very often, Often, Not Often, Not at all\n",
    "\n",
    "Spearman's rank correlation coefficient, $r_s$ shows the correlation between two ordinal data how one ordinal data increases or decreases as the other ordinal increases which are described as \"monotonic\". \n",
    "\n",
    "$$r_s=1-\\frac{6\\sum d^2}{n(n^2-1)}$$\n",
    "\n",
    "This formla is an alternative to Pearson's correlation if the the data are ordinal and monotonic and if there are no ties in data.\n",
    "\n",
    "A value of 1 means the set of data is strictly increasing and the value of -1 means it is strictly decreasing. A value of 0 means that data shows no monotonic behavior. the Spearman correlation between two variables will be high when an observation has a similar rank between the two variables.\n",
    "\n",
    "You can find all the code from this [link](http://bit.ly/2YHF5G8).\n",
    "\n",
    "Let's start.\n",
    "\n",
    "We need to import necessary libraries."
   ]
  },
  {
   "cell_type": "code",
   "execution_count": 1,
   "metadata": {},
   "outputs": [],
   "source": [
    "# https://gist.github.com/shinokada/574f639d4f07ed1388abd8f24f6936a4"
   ]
  },
  {
   "cell_type": "code",
   "execution_count": 15,
   "metadata": {
    "slideshow": {
     "slide_type": "slide"
    }
   },
   "outputs": [],
   "source": [
    "from scipy.stats import chi2_contingency\n",
    "import pandas as pd\n",
    "import numpy as np\n",
    "import matplotlib.pyplot as plt\n",
    "import seaborn as sns; sns.set()\n",
    "from scipy.stats import spearmanr"
   ]
  },
  {
   "cell_type": "markdown",
   "metadata": {},
   "source": [
    "# Example of the Spearman's Rank Correlation Test using two sets of list."
   ]
  },
  {
   "cell_type": "markdown",
   "metadata": {},
   "source": [
    "Let's find how the correlation of the rank at 5km relate to the rank of 10km run."
   ]
  },
  {
   "cell_type": "code",
   "execution_count": 16,
   "metadata": {},
   "outputs": [],
   "source": [
    "# https://gist.github.com/shinokada/62fc538f01252f765bdf789a0efa80d6"
   ]
  },
  {
   "cell_type": "code",
   "execution_count": 17,
   "metadata": {},
   "outputs": [
    {
     "name": "stdout",
     "output_type": "stream",
     "text": [
      "rs=0.678571, p-value=0.093750\n",
      "At 5% level of significance, the final rankings is not significant or independent\n"
     ]
    }
   ],
   "source": [
    "fivekm = [1,2,3,4,5,6,7]\n",
    "tenkm=[3,2,1,5,7,4,6]\n",
    "rs, pval = spearmanr(fivekm, tenkm)\n",
    "print('rs=%.6f, p-value=%.6f' % (rs, pval))\n",
    "if pval < 0.05:\n",
    "    print('At 5% level of significance, the final rankings is significant or dependent')\n",
    "else:\n",
    "    print('At 5% level of significance, the final rankings is not significant or independent')"
   ]
  },
  {
   "cell_type": "markdown",
   "metadata": {},
   "source": [
    "p-value is the level of significance. It determines the probability that the correlation happened by chance.\n"
   ]
  },
  {
   "cell_type": "markdown",
   "metadata": {},
   "source": [
    "# Example using Pandas dataframe."
   ]
  },
  {
   "cell_type": "code",
   "execution_count": 18,
   "metadata": {},
   "outputs": [],
   "source": [
    "# https://gist.github.com/shinokada/83b2d7cd47e4fc1993d50400570e1b36"
   ]
  },
  {
   "cell_type": "code",
   "execution_count": 19,
   "metadata": {},
   "outputs": [
    {
     "data": {
      "text/html": [
       "<div>\n",
       "<style scoped>\n",
       "    .dataframe tbody tr th:only-of-type {\n",
       "        vertical-align: middle;\n",
       "    }\n",
       "\n",
       "    .dataframe tbody tr th {\n",
       "        vertical-align: top;\n",
       "    }\n",
       "\n",
       "    .dataframe thead th {\n",
       "        text-align: right;\n",
       "    }\n",
       "</style>\n",
       "<table border=\"1\" class=\"dataframe\">\n",
       "  <thead>\n",
       "    <tr style=\"text-align: right;\">\n",
       "      <th></th>\n",
       "      <th>After 5km</th>\n",
       "      <th>End of race</th>\n",
       "    </tr>\n",
       "  </thead>\n",
       "  <tbody>\n",
       "    <tr>\n",
       "      <th>0</th>\n",
       "      <td>1</td>\n",
       "      <td>3</td>\n",
       "    </tr>\n",
       "    <tr>\n",
       "      <th>1</th>\n",
       "      <td>2</td>\n",
       "      <td>2</td>\n",
       "    </tr>\n",
       "    <tr>\n",
       "      <th>2</th>\n",
       "      <td>3</td>\n",
       "      <td>1</td>\n",
       "    </tr>\n",
       "    <tr>\n",
       "      <th>3</th>\n",
       "      <td>4</td>\n",
       "      <td>5</td>\n",
       "    </tr>\n",
       "    <tr>\n",
       "      <th>4</th>\n",
       "      <td>5</td>\n",
       "      <td>7</td>\n",
       "    </tr>\n",
       "    <tr>\n",
       "      <th>5</th>\n",
       "      <td>6</td>\n",
       "      <td>4</td>\n",
       "    </tr>\n",
       "    <tr>\n",
       "      <th>6</th>\n",
       "      <td>7</td>\n",
       "      <td>6</td>\n",
       "    </tr>\n",
       "  </tbody>\n",
       "</table>\n",
       "</div>"
      ],
      "text/plain": [
       "   After 5km  End of race\n",
       "0          1            3\n",
       "1          2            2\n",
       "2          3            1\n",
       "3          4            5\n",
       "4          5            7\n",
       "5          6            4\n",
       "6          7            6"
      ]
     },
     "execution_count": 19,
     "metadata": {},
     "output_type": "execute_result"
    }
   ],
   "source": [
    "race = pd.DataFrame(\n",
    "    [\n",
    "        [1,3],\n",
    "        [2,2],\n",
    "        [3,1],\n",
    "        [4,5],\n",
    "        [5,7],\n",
    "        [6,4],\n",
    "        [7,6]\n",
    "    ],\n",
    "    columns=[\"After 5km\",\"End of race\"])\n",
    "race"
   ]
  },
  {
   "cell_type": "markdown",
   "metadata": {},
   "source": [
    "## Plotting data\n",
    "\n",
    "Let's plot this data using Pandas plot()."
   ]
  },
  {
   "cell_type": "code",
   "execution_count": 20,
   "metadata": {},
   "outputs": [],
   "source": [
    "# https://gist.github.com/shinokada/e491ca766909d2627f254bc55f6b1bf9"
   ]
  },
  {
   "cell_type": "code",
   "execution_count": 21,
   "metadata": {},
   "outputs": [
    {
     "data": {
      "image/png": "[encoded data removed]",
      "text/plain": [
       "<Figure size 432x288 with 1 Axes>"
      ]
     },
     "metadata": {},
     "output_type": "display_data"
    }
   ],
   "source": [
    "race.plot.scatter(x='After 5km',y='End of race',c='red')\n",
    "plt.show()"
   ]
  },
  {
   "cell_type": "markdown",
   "metadata": {},
   "source": [
    "We can plot using Seaborn to add color."
   ]
  },
  {
   "cell_type": "code",
   "execution_count": null,
   "metadata": {},
   "outputs": [],
   "source": [
    "# https://gist.github.com/shinokada/6582b922f8a11af08f1fbe6af84f076f"
   ]
  },
  {
   "cell_type": "code",
   "execution_count": 22,
   "metadata": {},
   "outputs": [
    {
     "data": {
      "image/png": "[encoded data removed]",
      "text/plain": [
       "<Figure size 432x288 with 1 Axes>"
      ]
     },
     "metadata": {},
     "output_type": "display_data"
    }
   ],
   "source": [
    "sns.scatterplot(x='After 5km',y='End of race',data=race)\n",
    "plt.show()"
   ]
  },
  {
   "cell_type": "markdown",
   "metadata": {},
   "source": [
    "We find $r_s$ and p-value from pandas dataframe."
   ]
  },
  {
   "cell_type": "code",
   "execution_count": 10,
   "metadata": {},
   "outputs": [],
   "source": [
    "# https://gist.github.com/shinokada/cc6039ce789f594a134b644ce9afebcd "
   ]
  },
  {
   "cell_type": "code",
   "execution_count": 11,
   "metadata": {},
   "outputs": [
    {
     "name": "stdout",
     "output_type": "stream",
     "text": [
      "rs=0.678571, p-value=0.093750\n"
     ]
    }
   ],
   "source": [
    "rs, pval = spearmanr(race)\n",
    "print('rs=%.6f, p-value=%.6f' % (rs, pval))"
   ]
  },
  {
   "cell_type": "markdown",
   "metadata": {},
   "source": [
    "Now we create another dataframe using Pandas. Using `spearmanr`, you don't need to change your raw data to the ordinal data. "
   ]
  },
  {
   "cell_type": "code",
   "execution_count": 12,
   "metadata": {},
   "outputs": [],
   "source": [
    "# https://gist.github.com/shinokada/2a67199e68bc08535d6eb278fde199ac"
   ]
  },
  {
   "cell_type": "code",
   "execution_count": 23,
   "metadata": {},
   "outputs": [
    {
     "name": "stdout",
     "output_type": "stream",
     "text": [
      "   Set of A  Set of B\n",
      "0         3         4\n",
      "1         5         4\n",
      "2         6         2\n",
      "3         6         4\n",
      "4         8         9\n",
      "5        11         7\n",
      "rs=0.585239, p-value=0.222365\n"
     ]
    },
    {
     "data": {
      "image/png": "[encoded data removed]",
      "text/plain": [
       "<Figure size 432x288 with 1 Axes>"
      ]
     },
     "metadata": {},
     "output_type": "display_data"
    }
   ],
   "source": [
    "rawdata = pd.DataFrame(\n",
    "    [\n",
    "        [3,4],\n",
    "        [5,4],\n",
    "        [6,2],\n",
    "        [6,4],\n",
    "        [8,9],\n",
    "        [11,7]\n",
    "    ],\n",
    "    columns=['Set of A','Set of B'])\n",
    "print(rawdata)\n",
    "rs, pval = spearmanr(rawdata)\n",
    "print('rs=%.6f, p-value=%.6f' % (rs, pval))\n",
    "sns.scatterplot(x='Set of A',y='Set of B',data=rawdata)\n",
    "plt.show()"
   ]
  },
  {
   "cell_type": "markdown",
   "metadata": {},
   "source": [
    "Manually rank the above data to the ordinal data. Finding the $r_s$ and p-value. This shows the exactly the same result as finding them from the raw data."
   ]
  },
  {
   "cell_type": "code",
   "execution_count": 25,
   "metadata": {},
   "outputs": [],
   "source": [
    "# https://gist.github.com/shinokada/768b2b6f1c2bce8790c6ccf68187e0e9"
   ]
  },
  {
   "cell_type": "code",
   "execution_count": 26,
   "metadata": {},
   "outputs": [
    {
     "name": "stdout",
     "output_type": "stream",
     "text": [
      "   Ranking of A  Ranking of B\n",
      "0           1.0             3\n",
      "1           2.0             3\n",
      "2           3.5             1\n",
      "3           3.5             3\n",
      "4           5.0             6\n",
      "5           6.0             5\n",
      "rs=0.585239, p-value=0.222365\n"
     ]
    },
    {
     "data": {
      "image/png": "[encoded data removed]",
      "text/plain": [
       "<Figure size 432x288 with 1 Axes>"
      ]
     },
     "metadata": {},
     "output_type": "display_data"
    }
   ],
   "source": [
    "ordinaldata = pd.DataFrame(\n",
    "    [\n",
    "        [1.0,3],\n",
    "        [2.0,3],\n",
    "        [3.5,1],\n",
    "        [3.5,3],\n",
    "        [5.0,6],\n",
    "        [6.0,5]\n",
    "    ],\n",
    "    columns=['Ranking of A','Ranking of B'])\n",
    "print(ordinaldata)\n",
    "rs, pval = spearmanr(ordinaldata)\n",
    "print('rs=%.6f, p-value=%.6f' % (rs, pval))\n",
    "sns.scatterplot(x='Ranking of A',y='Ranking of B',data=ordinaldata)\n",
    "plt.show()"
   ]
  },
  {
   "cell_type": "markdown",
   "metadata": {},
   "source": [
    "A value of 1 means the set of data is strictly increasing. The rank do not change. p-value is 0 in this case."
   ]
  },
  {
   "cell_type": "code",
   "execution_count": 27,
   "metadata": {},
   "outputs": [],
   "source": [
    "# https://gist.github.com/shinokada/318d5d1eb9a7981f003447ee19adaca6"
   ]
  },
  {
   "cell_type": "code",
   "execution_count": 29,
   "metadata": {},
   "outputs": [
    {
     "name": "stdout",
     "output_type": "stream",
     "text": [
      "rs=1.000000, p-value=0.000000\n"
     ]
    },
    {
     "data": {
      "image/png": "[encoded data removed]",
      "text/plain": [
       "<Figure size 432x288 with 1 Axes>"
      ]
     },
     "metadata": {},
     "output_type": "display_data"
    }
   ],
   "source": [
    "race2 = pd.DataFrame(\n",
    "    [\n",
    "        [1,1],\n",
    "        [2,2],\n",
    "        [3,3],\n",
    "        [4,4],\n",
    "        [5,5],\n",
    "        [6,6],\n",
    "        [7,7]\n",
    "    ],\n",
    "    columns=['After 5km','End of race'])\n",
    "rs, pval = spearmanr(race2)\n",
    "print('rs=%.6f, p-value=%.6f' % (rs, pval))\n",
    "sns.scatterplot(x='After 5km',y='End of race',data=race2)\n",
    "plt.show()"
   ]
  },
  {
   "cell_type": "markdown",
   "metadata": {},
   "source": [
    "The value of -1 means it is strictly decreasing. The rank is in a reversal order."
   ]
  },
  {
   "cell_type": "code",
   "execution_count": 30,
   "metadata": {},
   "outputs": [],
   "source": [
    "# https://gist.github.com/shinokada/817f920c45bd3f983ca9bd6ed2dd1838"
   ]
  },
  {
   "cell_type": "code",
   "execution_count": 31,
   "metadata": {},
   "outputs": [
    {
     "name": "stdout",
     "output_type": "stream",
     "text": [
      "rs=-1.000000, p-value=0.000000\n"
     ]
    },
    {
     "data": {
      "image/png": "[encoded data removed]",
      "text/plain": [
       "<Figure size 432x288 with 1 Axes>"
      ]
     },
     "metadata": {},
     "output_type": "display_data"
    }
   ],
   "source": [
    "race3 = pd.DataFrame(\n",
    "    [\n",
    "        [1,7],\n",
    "        [2,6],\n",
    "        [3,5],\n",
    "        [4,4],\n",
    "        [5,3],\n",
    "        [6,2],\n",
    "        [7,1]\n",
    "    ],\n",
    "    columns=['After 5km','End of race'])\n",
    "rs, pval = spearmanr(race3)\n",
    "print('rs=%.6f, p-value=%.6f' % (rs, pval))\n",
    "sns.scatterplot(x='After 5km',y='End of race',data=race3)\n",
    "plt.show()"
   ]
  },
  {
   "cell_type": "markdown",
   "metadata": {},
   "source": [
    "No monotonic behavior gives the value of 0."
   ]
  },
  {
   "cell_type": "code",
   "execution_count": 32,
   "metadata": {},
   "outputs": [],
   "source": [
    "# https://gist.github.com/shinokada/3c5f78acda90a402288d75b8c795953b"
   ]
  },
  {
   "cell_type": "code",
   "execution_count": 33,
   "metadata": {},
   "outputs": [
    {
     "name": "stdout",
     "output_type": "stream",
     "text": [
      "rs=0.000000, p-value=1.000000\n"
     ]
    },
    {
     "data": {
      "image/png": "[encoded data removed]",
      "text/plain": [
       "<Figure size 432x288 with 1 Axes>"
      ]
     },
     "metadata": {},
     "output_type": "display_data"
    }
   ],
   "source": [
    "race4 = pd.DataFrame(\n",
    "    [\n",
    "        [1,1],\n",
    "        [2,2],\n",
    "        [3,3],\n",
    "        [4,4],\n",
    "        [5,3],\n",
    "        [6,2],\n",
    "        [7,1]\n",
    "    ],\n",
    "    columns=['After 5km','End of race'])\n",
    "rs, pval = spearmanr(race4)\n",
    "print('rs=%.6f, p-value=%.6f' % (rs, pval))\n",
    "sns.scatterplot(x='After 5km',y='End of race',data=race4)\n",
    "plt.show()"
   ]
  },
  {
   "cell_type": "markdown",
   "metadata": {},
   "source": [
    "# Importing a CSV file"
   ]
  },
  {
   "cell_type": "markdown",
   "metadata": {},
   "source": [
    "We will use data from BIXI Montréal is a public bicycle sharing system serving Montréal, Quebec, Canada. It is a big file so it takes time to process data."
   ]
  },
  {
   "cell_type": "code",
   "execution_count": 34,
   "metadata": {},
   "outputs": [],
   "source": [
    "# https://gist.github.com/shinokada/38870816b84774930b56aea3ba4077b3"
   ]
  },
  {
   "cell_type": "code",
   "execution_count": 35,
   "metadata": {},
   "outputs": [
    {
     "name": "stdout",
     "output_type": "stream",
     "text": [
      "(790323, 6)\n",
      "            start_date  start_station_code             end_date  \\\n",
      "0  2019-05-01 00:00:19                6902  2019-05-01 00:16:24   \n",
      "1  2019-05-01 00:00:33                6171  2019-05-01 00:06:05   \n",
      "2  2019-05-01 00:01:12                6073  2019-05-01 00:29:27   \n",
      "3  2019-05-01 00:01:17                6080  2019-05-01 00:09:34   \n",
      "4  2019-05-01 00:01:23                6411  2019-05-01 00:04:49   \n",
      "\n",
      "   end_station_code  duration_sec  is_member  \n",
      "0              6387           965          1  \n",
      "1              6112           331          1  \n",
      "2              6331          1694          1  \n",
      "3              6080           497          1  \n",
      "4              6012           206          1  \n"
     ]
    }
   ],
   "source": [
    "rides = pd.read_csv('https://raw.githubusercontent.com/shinokada/python-for-ib-diploma-mathematics/master/Data/OD_2019-05.csv')\n",
    "print(rides.shape)\n",
    "print(rides.head())"
   ]
  },
  {
   "cell_type": "markdown",
   "metadata": {},
   "source": [
    "There are more than seventy nine thousand of lines with six columns. Columns are start_data, start_station_code, end_date, end_station_code, duration_sec and is_member.\n",
    "\n",
    "We group by end_station_code and sum the duration_sec. We assign n_rides with the number of end_station_code."
   ]
  },
  {
   "cell_type": "code",
   "execution_count": 36,
   "metadata": {},
   "outputs": [],
   "source": [
    "# https://gist.github.com/shinokada/9a87dfffe5d552894884abb24cc0a4d8"
   ]
  },
  {
   "cell_type": "code",
   "execution_count": 37,
   "metadata": {},
   "outputs": [
    {
     "name": "stdout",
     "output_type": "stream",
     "text": [
      "                  duration_sec  n_rides\n",
      "end_station_code                       \n",
      "4000                   1498612     1754\n",
      "4001                    181712      152\n",
      "4002                    884874      894\n",
      "5002                    195657      144\n",
      "5003                     95648       83\n"
     ]
    }
   ],
   "source": [
    "by_end_station = (\n",
    "    rides\n",
    "        .loc[:, ['end_station_code', 'duration_sec']]\n",
    "        .groupby('end_station_code')\n",
    "        .sum()\n",
    "        .assign(n_rides=rides['end_station_code'].value_counts())\n",
    ")\n",
    "print(by_end_station.head())"
   ]
  },
  {
   "cell_type": "markdown",
   "metadata": {},
   "source": [
    "# Plotting imported data\n",
    "\n",
    "We use seaborn's [`jointplot`](https://seaborn.pydata.org/generated/seaborn.jointplot.html) to plot our imported data. We set labels of the x-axis and y-axis and call the data. "
   ]
  },
  {
   "cell_type": "code",
   "execution_count": 39,
   "metadata": {},
   "outputs": [],
   "source": [
    "# https://gist.github.com/shinokada/674f1dd88b9570a1101f61a19b669509"
   ]
  },
  {
   "cell_type": "code",
   "execution_count": 38,
   "metadata": {},
   "outputs": [
    {
     "data": {
      "image/png": "[encoded data removed]",
      "text/plain": [
       "<Figure size 432x432 with 3 Axes>"
      ]
     },
     "metadata": {},
     "output_type": "display_data"
    }
   ],
   "source": [
    "import seaborn as sns\n",
    "import matplotlib.pyplot as plt\n",
    "plt.style.use('fivethirtyeight')\n",
    "\n",
    "sns.jointplot(x='n_rides', y='duration_sec', data=by_end_station)\n",
    "plt.show()"
   ]
  },
  {
   "cell_type": "markdown",
   "metadata": {},
   "source": [
    "# Ranking data\n",
    "\n",
    "Please note that the majority of data are on the lower end. We can use `scipy.stats.rankdata` to see the data by ranking."
   ]
  },
  {
   "cell_type": "code",
   "execution_count": 40,
   "metadata": {},
   "outputs": [],
   "source": [
    "# https://gist.github.com/shinokada/a00fb4482a6d9729e898fb496fc74989"
   ]
  },
  {
   "cell_type": "code",
   "execution_count": 41,
   "metadata": {},
   "outputs": [
    {
     "data": {
      "image/png": "[encoded data removed]",
      "text/plain": [
       "<Figure size 432x432 with 3 Axes>"
      ]
     },
     "metadata": {},
     "output_type": "display_data"
    }
   ],
   "source": [
    "from scipy.stats import rankdata\n",
    "sns.jointplot(x=rankdata(by_end_station['n_rides']), y=rankdata(by_end_station['duration_sec']))\n",
    "plt.show()"
   ]
  },
  {
   "cell_type": "markdown",
   "metadata": {},
   "source": [
    "Let's find the Spearman's $R_s$."
   ]
  },
  {
   "cell_type": "code",
   "execution_count": 42,
   "metadata": {},
   "outputs": [],
   "source": [
    "# https://gist.github.com/shinokada/af1c1ff0d722a779c95766b8983e5f98"
   ]
  },
  {
   "cell_type": "code",
   "execution_count": 43,
   "metadata": {},
   "outputs": [
    {
     "name": "stdout",
     "output_type": "stream",
     "text": [
      "rs=0.964881\n"
     ]
    }
   ],
   "source": [
    "rs, pval = spearmanr(by_end_station)\n",
    "print('rs=%.6f' % (rs))"
   ]
  },
  {
   "cell_type": "markdown",
   "metadata": {},
   "source": [
    "The number of rides at a bike stop is almost totally predictive of the number of commuter seconds spend riding it."
   ]
  },
  {
   "cell_type": "markdown",
   "metadata": {},
   "source": [
    "# Examples to use Spearman's correlation are:\n",
    "\n",
    "- [IQ of a person with the number of hours spent on games](https://www.wikiwand.com/en/Spearman%27s_rank_correlation_coefficient)"
   ]
  },
  {
   "cell_type": "markdown",
   "metadata": {},
   "source": [
    "- [Free university meals and their CGPA scores](https://www.toppr.com/guides/business-mathematics-and-statistics/correlation-and-regression/rank-correlation/)"
   ]
  },
  {
   "cell_type": "markdown",
   "metadata": {},
   "source": [
    "- [Physics and Math ranks](https://www.statisticshowto.datasciencecentral.com/spearman-rank-correlation-definition-calculate/)"
   ]
  },
  {
   "cell_type": "markdown",
   "metadata": {},
   "source": [
    "# Reference\n",
    "\n",
    "- To compare the Spearman correlation and the Pearson correlation, please read [A comparison of the Pearson and Spearman correlation here](https://support.minitab.com/en-us/minitab-express/1/help-and-how-to/modeling-statistics/regression/supporting-topics/basics/a-comparison-of-the-pearson-and-spearman-correlation-methods/) "
   ]
  },
  {
   "cell_type": "markdown",
   "metadata": {},
   "source": [
    "- https://statistics.laerd.com/statistical-guides/spearmans-rank-order-correlation-statistical-guide-2.php"
   ]
  },
  {
   "cell_type": "markdown",
   "metadata": {},
   "source": [
    "- https://www.kaggle.com/residentmario/spearman-correlation-with-montreal-bikes/data"
   ]
  },
  {
   "cell_type": "markdown",
   "metadata": {},
   "source": [
    "- https://seaborn.pydata.org/generated/seaborn.jointplot.html"
   ]
  }
 ],
 "metadata": {
  "kernelspec": {
   "display_name": "Python 3",
   "language": "python",
   "name": "python3"
  },
  "language_info": {
   "codemirror_mode": {
    "name": "ipython",
    "version": 3
   },
   "file_extension": ".py",
   "mimetype": "text/x-python",
   "name": "python",
   "nbconvert_exporter": "python",
   "pygments_lexer": "ipython3",
   "version": "3.7.6"
  },
  "toc": {
   "base_numbering": 1,
   "nav_menu": {},
   "number_sections": true,
   "sideBar": true,
   "skip_h1_title": false,
   "title_cell": "Table of Contents",
   "title_sidebar": "Contents",
   "toc_cell": false,
   "toc_position": {},
   "toc_section_display": true,
   "toc_window_display": false
  }
 },
 "nbformat": 4,
 "nbformat_minor": 2
}
