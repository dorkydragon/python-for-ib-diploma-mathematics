{
 "cells": [
  {
   "cell_type": "markdown",
   "metadata": {
    "toc": true
   },
   "source": [
    "<h1>Table of Contents<span class=\"tocSkip\"></span></h1>\n",
    "<div class=\"toc\"><ul class=\"toc-item\"><li><span><a href=\"#Discover-the-strength-of-monotonic-relation\" data-toc-modified-id=\"Discover-the-strength-of-monotonic-relation-1\">Discover the strength of monotonic relation</a></span><ul class=\"toc-item\"><li><span><a href=\"#Finding-Spearman’s-rank-correlation-coefficient-using-Jupyter-Notebook\" data-toc-modified-id=\"Finding-Spearman’s-rank-correlation-coefficient-using-Jupyter-Notebook-1.1\">Finding Spearman’s rank correlation coefficient using Jupyter Notebook</a></span></li></ul></li><li><span><a href=\"#Spearman's-Rank-Correlation-using-distinct-ranks\" data-toc-modified-id=\"Spearman's-Rank-Correlation-using-distinct-ranks-2\">Spearman's Rank Correlation using distinct ranks</a></span></li><li><span><a href=\"#Pearson-correlation-coefficent\" data-toc-modified-id=\"Pearson-correlation-coefficent-3\">Pearson correlation coefficent</a></span><ul class=\"toc-item\"><li><span><a href=\"#Plotting-data\" data-toc-modified-id=\"Plotting-data-3.1\">Plotting data</a></span></li><li><span><a href=\"#Finding-manually\" data-toc-modified-id=\"Finding-manually-3.2\">Finding manually</a></span></li></ul></li><li><span><a href=\"#Spearman's-Rank-Correlation-with--identical-values\" data-toc-modified-id=\"Spearman's-Rank-Correlation-with--identical-values-4\">Spearman's Rank Correlation with  identical values</a></span></li><li><span><a href=\"#Finding-correlation-coefficient-manually\" data-toc-modified-id=\"Finding-correlation-coefficient-manually-5\">Finding correlation coefficient manually</a></span></li><li><span><a href=\"#Strictly-increasing\" data-toc-modified-id=\"Strictly-increasing-6\">Strictly increasing</a></span></li><li><span><a href=\"#Strictly-decreasing\" data-toc-modified-id=\"Strictly-decreasing-7\">Strictly decreasing</a></span></li><li><span><a href=\"#No-monotonic-behavior\" data-toc-modified-id=\"No-monotonic-behavior-8\">No monotonic behavior</a></span></li><li><span><a href=\"#Importing-a-CSV-file\" data-toc-modified-id=\"Importing-a-CSV-file-9\">Importing a CSV file</a></span></li><li><span><a href=\"#Plotting-imported-data\" data-toc-modified-id=\"Plotting-imported-data-10\">Plotting imported data</a></span></li><li><span><a href=\"#Ranking-data\" data-toc-modified-id=\"Ranking-data-11\">Ranking data</a></span></li><li><span><a href=\"#Examples-to-use-Spearman's-correlation-are:\" data-toc-modified-id=\"Examples-to-use-Spearman's-correlation-are:-12\">Examples to use Spearman's correlation are:</a></span></li><li><span><a href=\"#Reference\" data-toc-modified-id=\"Reference-13\">Reference</a></span></li></ul></div>"
   ]
  },
  {
   "cell_type": "markdown",
   "metadata": {
    "slideshow": {
     "slide_type": "slide"
    }
   },
   "source": [
    "# Discover the strength of monotonic relation\n",
    "\n",
    "## Finding Spearman’s rank correlation coefficient using Jupyter Notebook\n",
    "\n",
    "Spearman's rank correlation coefficient, $r_s$ shows the correlation between two ordinal data how one ordinal data increases or decreases as the other ordinal increases which are described as \"monotonic\". \n",
    "\n",
    "In this article, I explore different methods to find Spearman's rank correlation coeficient using data with distinct ranks.\n",
    "\n",
    "Spearman's rank correlation uses ordinal data. Examples of ordinal data are:\n",
    "\n",
    "- 1st, 2nd, 3rd, \n",
    "- Small, Medium, Large, XL,\n",
    "- Strongly agree, Agree, Neutral, Disagree, Strongly Disagree\n",
    "- Very often, Often, Not Often, Not at all"
   ]
  },
  {
   "cell_type": "markdown",
   "metadata": {},
   "source": [
    "We import necessary libraries."
   ]
  },
  {
   "cell_type": "code",
   "execution_count": 1,
   "metadata": {},
   "outputs": [],
   "source": [
    "# https://gist.github.com/shinokada/574f639d4f07ed1388abd8f24f6936a4"
   ]
  },
  {
   "cell_type": "code",
   "execution_count": 2,
   "metadata": {
    "slideshow": {
     "slide_type": "slide"
    }
   },
   "outputs": [],
   "source": [
    "from scipy.stats import chi2_contingency\n",
    "import pandas as pd\n",
    "import numpy as np\n",
    "import matplotlib.pyplot as plt\n",
    "from scipy.stats import spearmanr"
   ]
  },
  {
   "cell_type": "markdown",
   "metadata": {
    "slideshow": {
     "slide_type": "slide"
    }
   },
   "source": [
    "# Spearman's Rank Correlation using distinct ranks\n",
    "\n",
    "When all ranks are distinct integers, the Spearman correlation coefficient can be computed by the following formula.\n",
    "\n",
    "$$r_s=1-\\frac{6\\sum d^2}{n(n^2-1)} \\tag{1-1}$$\n",
    "\n",
    "This formla is an alternative to Pearson's correlation if the the data are ordinal and monotonic and if there are no ties in data.\n",
    "\n",
    "A value of 1 means the set of data is strictly increasing and the value of -1 means it is strictly decreasing. A value of 0 means that data shows no monotonic behavior. the Spearman correlation between two variables will be high when an observation has a similar rank between the two variables.\n"
   ]
  },
  {
   "cell_type": "markdown",
   "metadata": {
    "slideshow": {
     "slide_type": "slide"
    }
   },
   "source": [
    "# Pearson correlation coefficent\n",
    "\n",
    "The Spearman correlation coefficient is defined as the Pearson correlation coefficient using the rank variables.\n",
    "Pearson correlation coefficient for two sets of population data, x and y, is:\n",
    "\n",
    "$$\n",
    "\\begin{align}\n",
    "\\rho_{r_x,r_y}= \\frac{cov(r_x,r_y)}{\\sigma _{rx} \\sigma _{ry}} \\tag{1-2}\n",
    "\\end{align}\n",
    "$$\n",
    "\n",
    "where cov is the covariance of ranked data $r_x$ and $r_y$. $\\sigma_{rx}$ and $\\sigma_{ry}$ are the population standard deviations of x and y."
   ]
  },
  {
   "cell_type": "markdown",
   "metadata": {},
   "source": [
    "Let's find out how the correlation of the rank at 5km run relate to the rank of 10km run. All ranks are distinct intergers and no same numbers. There are different way to find the coefficient.\n",
    "\n",
    "- [`scipy.stats.spearmanr`](https://docs.scipy.org/doc/scipy/reference/generated/scipy.stats.spearmanr.html) calculates a Spearman correlation coefficient with associated p-value.\n",
    "- [Pandas corr](https://pandas.pydata.org/pandas-docs/stable/reference/api/pandas.DataFrame.corr.html?highlight=corr#pandas.DataFrame.corr) \n",
    "- Using formula (1-1)\n",
    "- Using formala (1-2)"
   ]
  },
  {
   "cell_type": "code",
   "execution_count": 5,
   "metadata": {},
   "outputs": [],
   "source": [
    "# https://gist.github.com/shinokada/83b2d7cd47e4fc1993d50400570e1b36"
   ]
  },
  {
   "cell_type": "code",
   "execution_count": 18,
   "metadata": {
    "scrolled": false
   },
   "outputs": [
    {
     "data": {
      "text/html": [
       "<div>\n",
       "<style scoped>\n",
       "    .dataframe tbody tr th:only-of-type {\n",
       "        vertical-align: middle;\n",
       "    }\n",
       "\n",
       "    .dataframe tbody tr th {\n",
       "        vertical-align: top;\n",
       "    }\n",
       "\n",
       "    .dataframe thead th {\n",
       "        text-align: right;\n",
       "    }\n",
       "</style>\n",
       "<table border=\"1\" class=\"dataframe\">\n",
       "  <thead>\n",
       "    <tr style=\"text-align: right;\">\n",
       "      <th></th>\n",
       "      <th>After 5km</th>\n",
       "      <th>End of race</th>\n",
       "    </tr>\n",
       "  </thead>\n",
       "  <tbody>\n",
       "    <tr>\n",
       "      <th>0</th>\n",
       "      <td>3</td>\n",
       "      <td>3</td>\n",
       "    </tr>\n",
       "    <tr>\n",
       "      <th>1</th>\n",
       "      <td>4</td>\n",
       "      <td>2</td>\n",
       "    </tr>\n",
       "    <tr>\n",
       "      <th>2</th>\n",
       "      <td>2</td>\n",
       "      <td>1</td>\n",
       "    </tr>\n",
       "    <tr>\n",
       "      <th>3</th>\n",
       "      <td>1</td>\n",
       "      <td>5</td>\n",
       "    </tr>\n",
       "    <tr>\n",
       "      <th>4</th>\n",
       "      <td>6</td>\n",
       "      <td>7</td>\n",
       "    </tr>\n",
       "    <tr>\n",
       "      <th>5</th>\n",
       "      <td>7</td>\n",
       "      <td>4</td>\n",
       "    </tr>\n",
       "    <tr>\n",
       "      <th>6</th>\n",
       "      <td>5</td>\n",
       "      <td>6</td>\n",
       "    </tr>\n",
       "  </tbody>\n",
       "</table>\n",
       "</div>"
      ],
      "text/plain": [
       "   After 5km  End of race\n",
       "0          3            3\n",
       "1          4            2\n",
       "2          2            1\n",
       "3          1            5\n",
       "4          6            7\n",
       "5          7            4\n",
       "6          5            6"
      ]
     },
     "execution_count": 18,
     "metadata": {},
     "output_type": "execute_result"
    }
   ],
   "source": [
    "race = pd.DataFrame(\n",
    "    [\n",
    "        [3,3],\n",
    "        [4,2],\n",
    "        [2,1],\n",
    "        [1,5],\n",
    "        [6,7],\n",
    "        [7,4],\n",
    "        [5,6]\n",
    "    ],\n",
    "    columns=[\"After 5km\",\"End of race\"])\n",
    "race"
   ]
  },
  {
   "cell_type": "markdown",
   "metadata": {},
   "source": [
    "## Plotting data\n",
    "\n",
    "Let's plot this data."
   ]
  },
  {
   "cell_type": "code",
   "execution_count": 19,
   "metadata": {},
   "outputs": [],
   "source": [
    "# https://gist.github.com/shinokada/e491ca766909d2627f254bc55f6b1bf9"
   ]
  },
  {
   "cell_type": "code",
   "execution_count": 34,
   "metadata": {},
   "outputs": [
    {
     "data": {
      "image/png": "[encoded data removed]",
      "text/plain": [
       "<Figure size 432x288 with 1 Axes>"
      ]
     },
     "metadata": {
      "needs_background": "light"
     },
     "output_type": "display_data"
    }
   ],
   "source": [
    "fig, ax = plt.subplots()\n",
    "ax.scatter(race.iloc[:,0],race.iloc[:,1])\n",
    "ax.set_xlabel('After 5km')\n",
    "ax.set_ylabel('End of race')\n",
    "ax.grid(True)\n",
    "plt.show()"
   ]
  },
  {
   "cell_type": "markdown",
   "metadata": {},
   "source": [
    "## Finding manually\n",
    "\n",
    "\n",
    "Rank Set A|Rank Set B|d|$d^2$\n",
    ":-:|:-:|:-:|:-:\n",
    "3|3|0|0\n",
    "4|2|2|4\n",
    "2|1|1|1\n",
    "1|5|4|16\n",
    "6|7|1|1\n",
    "7|4|3|9\n",
    "5|6|1|1\n",
    "\n",
    "$$\n",
    "\\sum d^2=0+4+1+16+1+9+1=32 \\\\\n",
    "\\text{Since all ranks are distinct intergers we use the equation (1-2)} \\\\\n",
    "r_s=1-\\frac{6\\sum d^2}{n(n^2-1)} \\\\\n",
    "r_s=1-\\frac{6\\cdot 32}{7(7^2-1)} \\\\\n",
    "r_s=0.4285714285714286\n",
    "$$\n"
   ]
  },
  {
   "cell_type": "code",
   "execution_count": 41,
   "metadata": {},
   "outputs": [
    {
     "data": {
      "text/plain": [
       "0.4285714285714286"
      ]
     },
     "execution_count": 41,
     "metadata": {},
     "output_type": "execute_result"
    }
   ],
   "source": [
    "1-(6*(0+4+1+16+1+9+1)/(7*(7**2-1)))"
   ]
  },
  {
   "cell_type": "markdown",
   "metadata": {},
   "source": [
    "We find $r_s$ and p-value using `scipy.stats.spearmanr`."
   ]
  },
  {
   "cell_type": "code",
   "execution_count": 42,
   "metadata": {},
   "outputs": [],
   "source": [
    "# https://gist.github.com/shinokada/cc6039ce789f594a134b644ce9afebcd "
   ]
  },
  {
   "cell_type": "code",
   "execution_count": 43,
   "metadata": {},
   "outputs": [
    {
     "name": "stdout",
     "output_type": "stream",
     "text": [
      "correlation=0.428571, p-value=0.337368\n"
     ]
    }
   ],
   "source": [
    "correlation, pval = spearmanr(race)\n",
    "print(f'correlation={correlation:.6f}, p-value={pval:.6f}')"
   ]
  },
  {
   "cell_type": "markdown",
   "metadata": {},
   "source": [
    "p-value is the level of significance. It determines the probability that the correlation happened by chance.\n"
   ]
  },
  {
   "cell_type": "code",
   "execution_count": 44,
   "metadata": {},
   "outputs": [],
   "source": [
    "# https://gist.github.com/shinokada/62fc538f01252f765bdf789a0efa80d6"
   ]
  },
  {
   "cell_type": "code",
   "execution_count": 45,
   "metadata": {},
   "outputs": [
    {
     "name": "stdout",
     "output_type": "stream",
     "text": [
      "correlation=0.428571, p-value=0.337368\n",
      "At 5% level of significance, the final rankings is not significant or independent\n"
     ]
    }
   ],
   "source": [
    "fivekm = [3,4,2,1,6,7,5]\n",
    "tenkm=[3,2,1,5,7,4,6]\n",
    "correlation, pval = spearmanr(fivekm, tenkm)\n",
    "print(f'correlation={correlation:.6f}, p-value={pval:.6f}')\n",
    "if pval < 0.05:\n",
    "    print('At 5% level of significance, the final rankings is significant or dependent')\n",
    "else:\n",
    "    print('At 5% level of significance, the final rankings is not significant or independent')"
   ]
  },
  {
   "cell_type": "markdown",
   "metadata": {},
   "source": [
    "# Spearman's Rank Correlation with  identical values\n",
    "\n",
    "Now we create another dataframe which includes the same values."
   ]
  },
  {
   "cell_type": "code",
   "execution_count": 46,
   "metadata": {},
   "outputs": [],
   "source": [
    "# https://gist.github.com/shinokada/2a67199e68bc08535d6eb278fde199ac"
   ]
  },
  {
   "cell_type": "code",
   "execution_count": 49,
   "metadata": {},
   "outputs": [
    {
     "name": "stdout",
     "output_type": "stream",
     "text": [
      "correlation=0.807692, p-value=0.028001\n"
     ]
    },
    {
     "data": {
      "image/png": "[encoded data removed]",
      "text/plain": [
       "<Figure size 432x288 with 1 Axes>"
      ]
     },
     "metadata": {
      "needs_background": "light"
     },
     "output_type": "display_data"
    }
   ],
   "source": [
    "fig, ax = plt.subplots()\n",
    "\n",
    "df = pd.DataFrame(\n",
    "    [\n",
    "        [7,3],\n",
    "        [6,4],\n",
    "        [5,4],\n",
    "        [3,2],\n",
    "        [6,4],\n",
    "        [8,9],\n",
    "        [9,7]\n",
    "    ],\n",
    "    columns=['Set of A','Set of B'])\n",
    "\n",
    "correlation, pval = spearmanr(df)\n",
    "print(f'correlation={correlation:.6f}, p-value={pval:.6f}')\n",
    "ax.scatter(df.iloc[:,0],df.iloc[:,1])\n",
    "ax.set_xlabel('Set of A')\n",
    "ax.set_ylabel('Set of B')\n",
    "ax.grid(True)\n",
    "plt.show()"
   ]
  },
  {
   "cell_type": "markdown",
   "metadata": {},
   "source": [
    "Let's find the Spearman correlation coefficient using `scipy.stats.spearmanr`."
   ]
  },
  {
   "cell_type": "code",
   "execution_count": 33,
   "metadata": {},
   "outputs": [
    {
     "name": "stdout",
     "output_type": "stream",
     "text": [
      "correlation=0.893260, p-value=0.016482\n"
     ]
    }
   ],
   "source": [
    "correlation, pval = spearmanr(df)\n",
    "print(f'correlation={correlation:.6f}, p-value={pval:.6f}')"
   ]
  },
  {
   "cell_type": "markdown",
   "metadata": {},
   "source": [
    "# Finding correlation coefficient manually\n",
    "\n",
    "\n",
    "After 5km|End of race|d|$d^2$\n",
    ":-:|:-:|:-:|:-:\n",
    "3.5|3|0.5|0.25\n",
    "2|3|1|1\n",
    "1|1|1|1\n",
    "3.5|3|0.5|0.25\n",
    "5|6|1|1\n",
    "6|5|1|1\n",
    "\n",
    "\n"
   ]
  },
  {
   "cell_type": "code",
   "execution_count": 24,
   "metadata": {},
   "outputs": [
    {
     "data": {
      "text/plain": [
       "0.4285714285714286"
      ]
     },
     "execution_count": 24,
     "metadata": {},
     "output_type": "execute_result"
    }
   ],
   "source": [
    "1-(6*(0+4+1+16+1+9+1)/(7*(7**2-1)))"
   ]
  },
  {
   "cell_type": "markdown",
   "metadata": {},
   "source": [
    "Manually rank the above data to the ordinal data. Finding the $r_s$ and p-value. This shows the exactly the same result as finding them from the raw data.\n",
    "\n",
    "For Set of A:\n",
    "\n",
    "3|5|6|6|8|11\n",
    ":-:|:-:|:-:|:-:|:-:|:-:\n",
    "1|2|3.5|3.5|5|6\n",
    "\n",
    "When more than one piece of data have the same value the rank given to each is the average of the ranks. 6 and 6 in the above data are 3rd and 4th. Hence each is given a rank of:\n",
    "\n",
    "$$\\frac{3+4}{2}=3.5$$\n",
    "\n",
    "For Set of B:\n",
    "\n",
    "4|4|2|4|9|7\n",
    ":-:|:-:|:-:|:-:|:-:|:-:\n",
    "3|3|1|3|6|5\n",
    "\n",
    "9 is the greatest number. There are three fours which are 3rd, 4th and 5th. \n",
    "\n",
    "$$\\frac{2+3+4}{3}=3$$ \n",
    "\n",
    "So each 4 will be given a rank of 3."
   ]
  },
  {
   "cell_type": "markdown",
   "metadata": {},
   "source": [
    "Rank Set A|Rank Set B|d|$d^2$\n",
    ":-:|:-:|:-:|:-:\n",
    "6|4|2|4\n",
    "5|4|1|1\n",
    "3.5|6|2.5|6.25\n",
    "3.5|4|0.5|0.25\n",
    "2|1|1|1\n",
    "1|2|1|1\n",
    "\n",
    "Rank Set A|Rank Set B|d|$d^2$\n",
    ":-:|:-:|:-:|:-:\n",
    "1|3|2|4\n",
    "2|3|1|1\n",
    "3.5|1|2.5|6.25\n",
    "3.5|3|0.5|0.25\n",
    "5|6|1|1\n",
    "6|5|1|1\n",
    "\n",
    "$$\n",
    "\\sum d^2=4+1+6.25+0.25+1+1=13.5 \\\\\n",
    "\\text{From (1-1)} \\\\\n",
    "r_s=1-\\frac{6\\sum d^2}{n(n^2-1)} \\\\\n",
    "r_s=1-\\frac{6\\cdot 13.5}{6(6^2-1)} \\\\\n",
    "r_s=0.61428571\n",
    "$$"
   ]
  },
  {
   "cell_type": "code",
   "execution_count": 13,
   "metadata": {},
   "outputs": [
    {
     "data": {
      "text/plain": [
       "0.6142857142857143"
      ]
     },
     "execution_count": 13,
     "metadata": {},
     "output_type": "execute_result"
    }
   ],
   "source": [
    "1-(6*(4+1+6.25+0.25+1+1)/(6*(6**2-1)))"
   ]
  },
  {
   "cell_type": "code",
   "execution_count": 14,
   "metadata": {},
   "outputs": [],
   "source": [
    "# https://gist.github.com/shinokada/768b2b6f1c2bce8790c6ccf68187e0e9"
   ]
  },
  {
   "cell_type": "code",
   "execution_count": 15,
   "metadata": {},
   "outputs": [
    {
     "name": "stdout",
     "output_type": "stream",
     "text": [
      "   Ranking of A  Ranking of B\n",
      "0           1.0             3\n",
      "1           2.0             3\n",
      "2           3.5             1\n",
      "3           3.5             3\n",
      "4           5.0             6\n",
      "5           6.0             5\n",
      "correlation=0.585239, p-value=0.222365\n"
     ]
    },
    {
     "ename": "NameError",
     "evalue": "name 'sns' is not defined",
     "output_type": "error",
     "traceback": [
      "\u001b[0;31m---------------------------------------------------------------------------\u001b[0m",
      "\u001b[0;31mNameError\u001b[0m                                 Traceback (most recent call last)",
      "\u001b[0;32m<ipython-input-15-a14d97c64ad2>\u001b[0m in \u001b[0;36m<module>\u001b[0;34m\u001b[0m\n\u001b[1;32m     12\u001b[0m \u001b[0mcorrelation\u001b[0m\u001b[0;34m,\u001b[0m \u001b[0mpval\u001b[0m \u001b[0;34m=\u001b[0m \u001b[0mspearmanr\u001b[0m\u001b[0;34m(\u001b[0m\u001b[0mordinaldata\u001b[0m\u001b[0;34m)\u001b[0m\u001b[0;34m\u001b[0m\u001b[0;34m\u001b[0m\u001b[0m\n\u001b[1;32m     13\u001b[0m \u001b[0mprint\u001b[0m\u001b[0;34m(\u001b[0m\u001b[0;34mf'correlation={correlation:.6f}, p-value={pval:.6f}'\u001b[0m\u001b[0;34m)\u001b[0m\u001b[0;34m\u001b[0m\u001b[0;34m\u001b[0m\u001b[0m\n\u001b[0;32m---> 14\u001b[0;31m \u001b[0msns\u001b[0m\u001b[0;34m.\u001b[0m\u001b[0mscatterplot\u001b[0m\u001b[0;34m(\u001b[0m\u001b[0mx\u001b[0m\u001b[0;34m=\u001b[0m\u001b[0;34m'Ranking of A'\u001b[0m\u001b[0;34m,\u001b[0m\u001b[0my\u001b[0m\u001b[0;34m=\u001b[0m\u001b[0;34m'Ranking of B'\u001b[0m\u001b[0;34m,\u001b[0m\u001b[0mdata\u001b[0m\u001b[0;34m=\u001b[0m\u001b[0mordinaldata\u001b[0m\u001b[0;34m)\u001b[0m\u001b[0;34m\u001b[0m\u001b[0;34m\u001b[0m\u001b[0m\n\u001b[0m\u001b[1;32m     15\u001b[0m \u001b[0mplt\u001b[0m\u001b[0;34m.\u001b[0m\u001b[0mshow\u001b[0m\u001b[0;34m(\u001b[0m\u001b[0;34m)\u001b[0m\u001b[0;34m\u001b[0m\u001b[0;34m\u001b[0m\u001b[0m\n",
      "\u001b[0;31mNameError\u001b[0m: name 'sns' is not defined"
     ]
    }
   ],
   "source": [
    "ordinaldata = pd.DataFrame(\n",
    "    [\n",
    "        [1.0,3],\n",
    "        [2.0,3],\n",
    "        [3.5,1],\n",
    "        [3.5,3],\n",
    "        [5.0,6],\n",
    "        [6.0,5]\n",
    "    ],\n",
    "    columns=['Ranking of A','Ranking of B'])\n",
    "print(ordinaldata)\n",
    "correlation, pval = spearmanr(ordinaldata)\n",
    "print(f'correlation={correlation:.6f}, p-value={pval:.6f}')\n",
    "sns.scatterplot(x='Ranking of A',y='Ranking of B',data=ordinaldata)\n",
    "plt.show()"
   ]
  },
  {
   "cell_type": "code",
   "execution_count": null,
   "metadata": {},
   "outputs": [],
   "source": [
    "ordinaldata = pd.DataFrame(\n",
    "    [\n",
    "        [56,66],\n",
    "        [75,70],\n",
    "        [45,40],\n",
    "        [71,60],\n",
    "        [62,65],\n",
    "        [64,56],\n",
    "        [58,59],\n",
    "        [80,77],\n",
    "        [76,67],\n",
    "        [61,63]\n",
    "    ],\n",
    "    columns=['Ranking of A','Ranking of B'])\n",
    "\n",
    "correlation, pval = spearmanr(ordinaldata)\n",
    "print(f'correlation={correlation:.6f}, p-value={pval:.6f}')"
   ]
  },
  {
   "cell_type": "markdown",
   "metadata": {},
   "source": [
    "# Strictly increasing\n",
    "\n",
    "A value of 1 means the set of data is strictly increasing. The rank do not change. p-value is 0 in this case."
   ]
  },
  {
   "cell_type": "code",
   "execution_count": null,
   "metadata": {},
   "outputs": [],
   "source": [
    "# https://gist.github.com/shinokada/318d5d1eb9a7981f003447ee19adaca6"
   ]
  },
  {
   "cell_type": "code",
   "execution_count": null,
   "metadata": {},
   "outputs": [],
   "source": [
    "race2 = pd.DataFrame(\n",
    "    [\n",
    "        [1,1],\n",
    "        [2,2],\n",
    "        [3,3],\n",
    "        [4,4],\n",
    "        [5,5],\n",
    "        [6,6],\n",
    "        [7,7]\n",
    "    ],\n",
    "    columns=['After 5km','End of race'])\n",
    "correlation, pval = spearmanr(race2)\n",
    "print(f'correlation={correlation:.6f}, p-value={pval:.6f}')\n",
    "sns.scatterplot(x='After 5km',y='End of race',data=race2)\n",
    "plt.show()"
   ]
  },
  {
   "cell_type": "markdown",
   "metadata": {},
   "source": [
    "# Strictly decreasing\n",
    "The value of -1 means it is strictly decreasing. The rank is in a reversal order."
   ]
  },
  {
   "cell_type": "code",
   "execution_count": null,
   "metadata": {},
   "outputs": [],
   "source": [
    "# https://gist.github.com/shinokada/817f920c45bd3f983ca9bd6ed2dd1838"
   ]
  },
  {
   "cell_type": "code",
   "execution_count": null,
   "metadata": {},
   "outputs": [],
   "source": [
    "race3 = pd.DataFrame(\n",
    "    [\n",
    "        [1,7],\n",
    "        [2,6],\n",
    "        [3,5],\n",
    "        [4,4],\n",
    "        [5,3],\n",
    "        [6,2],\n",
    "        [7,1]\n",
    "    ],\n",
    "    columns=['After 5km','End of race'])\n",
    "correlation, pval = spearmanr(race3)\n",
    "print(f'correlation={correlation:.6f}, p-value={pval:.6f}')\n",
    "sns.scatterplot(x='After 5km',y='End of race',data=race3)\n",
    "plt.show()"
   ]
  },
  {
   "cell_type": "markdown",
   "metadata": {},
   "source": [
    "# No monotonic behavior\n",
    "No monotonic behavior gives the value of 0."
   ]
  },
  {
   "cell_type": "code",
   "execution_count": null,
   "metadata": {},
   "outputs": [],
   "source": [
    "# https://gist.github.com/shinokada/3c5f78acda90a402288d75b8c795953b"
   ]
  },
  {
   "cell_type": "code",
   "execution_count": null,
   "metadata": {},
   "outputs": [],
   "source": [
    "race4 = pd.DataFrame(\n",
    "    [\n",
    "        [1,1],\n",
    "        [2,2],\n",
    "        [3,3],\n",
    "        [4,4],\n",
    "        [5,3],\n",
    "        [6,2],\n",
    "        [7,1]\n",
    "    ],\n",
    "    columns=['After 5km','End of race'])\n",
    "correlation, pval = spearmanr(race4)\n",
    "print(f'correlation={correlation:.6f}, p-value={pval:.6f}')\n",
    "sns.scatterplot(x='After 5km',y='End of race',data=race4)\n",
    "plt.show()"
   ]
  },
  {
   "cell_type": "markdown",
   "metadata": {},
   "source": [
    "The"
   ]
  },
  {
   "cell_type": "markdown",
   "metadata": {},
   "source": [
    "# Importing a CSV file"
   ]
  },
  {
   "cell_type": "markdown",
   "metadata": {},
   "source": [
    "We will use data from BIXI Montréal is a public bicycle sharing system serving Montréal, Quebec, Canada. It is a big file so it takes time to process data."
   ]
  },
  {
   "cell_type": "code",
   "execution_count": null,
   "metadata": {},
   "outputs": [],
   "source": [
    "# https://gist.github.com/shinokada/38870816b84774930b56aea3ba4077b3"
   ]
  },
  {
   "cell_type": "code",
   "execution_count": null,
   "metadata": {},
   "outputs": [],
   "source": [
    "rides = pd.read_csv('https://raw.githubusercontent.com/shinokada/python-for-ib-diploma-mathematics/master/Data/OD_2019-05.csv')\n",
    "print(rides.shape)\n",
    "print(rides.head())"
   ]
  },
  {
   "cell_type": "markdown",
   "metadata": {},
   "source": [
    "There are more than seventy nine thousand of lines with six columns. Columns are start_data, start_station_code, end_date, end_station_code, duration_sec and is_member.\n",
    "\n",
    "We group by end_station_code and sum the duration_sec. We assign n_rides with the number of end_station_code."
   ]
  },
  {
   "cell_type": "code",
   "execution_count": null,
   "metadata": {},
   "outputs": [],
   "source": [
    "# https://gist.github.com/shinokada/9a87dfffe5d552894884abb24cc0a4d8"
   ]
  },
  {
   "cell_type": "code",
   "execution_count": null,
   "metadata": {},
   "outputs": [],
   "source": [
    "by_end_station = (\n",
    "    rides\n",
    "        .loc[:, ['end_station_code', 'duration_sec']]\n",
    "        .groupby('end_station_code')\n",
    "        .sum()\n",
    "        .assign(n_rides=rides['end_station_code'].value_counts())\n",
    ")\n",
    "print(by_end_station.head())"
   ]
  },
  {
   "cell_type": "markdown",
   "metadata": {},
   "source": [
    "# Plotting imported data\n",
    "\n",
    "We use seaborn's [`jointplot`](https://seaborn.pydata.org/generated/seaborn.jointplot.html) to plot our imported data. We set labels of the x-axis and y-axis and call the data. "
   ]
  },
  {
   "cell_type": "code",
   "execution_count": null,
   "metadata": {},
   "outputs": [],
   "source": [
    "# https://gist.github.com/shinokada/674f1dd88b9570a1101f61a19b669509"
   ]
  },
  {
   "cell_type": "code",
   "execution_count": null,
   "metadata": {},
   "outputs": [],
   "source": [
    "import seaborn as sns\n",
    "import matplotlib.pyplot as plt\n",
    "plt.style.use('fivethirtyeight')\n",
    "\n",
    "sns.jointplot(x='n_rides', y='duration_sec', data=by_end_station)\n",
    "plt.show()"
   ]
  },
  {
   "cell_type": "markdown",
   "metadata": {},
   "source": [
    "# Ranking data\n",
    "\n",
    "Please note that the majority of data are on the lower end. We can use `scipy.stats.rankdata` to see the data by ranking."
   ]
  },
  {
   "cell_type": "code",
   "execution_count": null,
   "metadata": {},
   "outputs": [],
   "source": [
    "# https://gist.github.com/shinokada/a00fb4482a6d9729e898fb496fc74989"
   ]
  },
  {
   "cell_type": "code",
   "execution_count": null,
   "metadata": {},
   "outputs": [],
   "source": [
    "from scipy.stats import rankdata\n",
    "sns.jointplot(x=rankdata(by_end_station['n_rides']), y=rankdata(by_end_station['duration_sec']))\n",
    "plt.show()"
   ]
  },
  {
   "cell_type": "markdown",
   "metadata": {},
   "source": [
    "Let's find the Spearman's $R_s$."
   ]
  },
  {
   "cell_type": "code",
   "execution_count": null,
   "metadata": {},
   "outputs": [],
   "source": [
    "# https://gist.github.com/shinokada/af1c1ff0d722a779c95766b8983e5f98"
   ]
  },
  {
   "cell_type": "code",
   "execution_count": null,
   "metadata": {},
   "outputs": [],
   "source": [
    "correlation, pval = spearmanr(by_end_station)\n",
    "print(f'correlation={correlation:.6f}')"
   ]
  },
  {
   "cell_type": "markdown",
   "metadata": {},
   "source": [
    "The number of rides at a bike stop is almost totally predictive of the number of commuter seconds spend riding it."
   ]
  },
  {
   "cell_type": "markdown",
   "metadata": {},
   "source": [
    "# Examples to use Spearman's correlation are:\n",
    "\n",
    "- [IQ of a person with the number of hours spent on games](https://www.wikiwand.com/en/Spearman%27s_rank_correlation_coefficient)"
   ]
  },
  {
   "cell_type": "markdown",
   "metadata": {},
   "source": [
    "- [Free university meals and their CGPA scores](https://www.toppr.com/guides/business-mathematics-and-statistics/correlation-and-regression/rank-correlation/)"
   ]
  },
  {
   "cell_type": "markdown",
   "metadata": {},
   "source": [
    "- [Physics and Math ranks](https://www.statisticshowto.datasciencecentral.com/spearman-rank-correlation-definition-calculate/)"
   ]
  },
  {
   "cell_type": "markdown",
   "metadata": {},
   "source": [
    "# Reference\n",
    "\n",
    "- To compare the Spearman correlation and the Pearson correlation, please read [A comparison of the Pearson and Spearman correlation here](https://support.minitab.com/en-us/minitab-express/1/help-and-how-to/modeling-statistics/regression/supporting-topics/basics/a-comparison-of-the-pearson-and-spearman-correlation-methods/) "
   ]
  },
  {
   "cell_type": "markdown",
   "metadata": {},
   "source": [
    "- https://statistics.laerd.com/statistical-guides/spearmans-rank-order-correlation-statistical-guide-2.php"
   ]
  },
  {
   "cell_type": "markdown",
   "metadata": {},
   "source": [
    "- https://www.kaggle.com/residentmario/spearman-correlation-with-montreal-bikes/data"
   ]
  },
  {
   "cell_type": "markdown",
   "metadata": {},
   "source": [
    "- https://seaborn.pydata.org/generated/seaborn.jointplot.html"
   ]
  },
  {
   "cell_type": "markdown",
   "metadata": {},
   "source": [
    "- https://support.minitab.com/en-us/minitab-express/1/help-and-how-to/modeling-statistics/regression/supporting-topics/basics/a-comparison-of-the-pearson-and-spearman-correlation-methods/"
   ]
  },
  {
   "cell_type": "code",
   "execution_count": null,
   "metadata": {},
   "outputs": [],
   "source": []
  }
 ],
 "metadata": {
  "kernelspec": {
   "display_name": "Python 3",
   "language": "python",
   "name": "python3"
  },
  "language_info": {
   "codemirror_mode": {
    "name": "ipython",
    "version": 3
   },
   "file_extension": ".py",
   "mimetype": "text/x-python",
   "name": "python",
   "nbconvert_exporter": "python",
   "pygments_lexer": "ipython3",
   "version": "3.7.6"
  },
  "toc": {
   "base_numbering": 1,
   "nav_menu": {},
   "number_sections": false,
   "sideBar": true,
   "skip_h1_title": false,
   "title_cell": "Table of Contents",
   "title_sidebar": "Contents",
   "toc_cell": true,
   "toc_position": {},
   "toc_section_display": true,
   "toc_window_display": false
  }
 },
 "nbformat": 4,
 "nbformat_minor": 2
}
