{
 "cells": [
  {
   "cell_type": "markdown",
   "metadata": {},
   "source": [
    "# Poisson Distribution for IB Diploma Mathematics\n",
    "\n",
    "## How many times an event is likely to occur within a specified period of time."
   ]
  },
  {
   "cell_type": "markdown",
   "metadata": {},
   "source": [
    "# Table of contents\n",
    "\n",
    "## Indtroduction\n",
    "## "
   ]
  },
  {
   "cell_type": "markdown",
   "metadata": {
    "slideshow": {
     "slide_type": "slide"
    }
   },
   "source": [
    "The Poisson Distribution can be use to find the probability of how many times an event is likely to occur within a specified variable.\n",
    "\n",
    "Applicationns are:\n",
    "- the number of customers to a shop \n",
    "- the number of car accident \n",
    "- the number of typo in a book, etc.\n",
    "\n",
    "The binomial distribution is applied to situations that have a finite number of possible outcomes, whereas the Poisson distibution is applied when you want to consider situations that have an infinite number of possible outcomes.\n",
    "\n",
    "We use the Poisson distribution when an event of the variable is equally likely to occur in any interval and the events must be independent of each other. \n",
    "\n",
    "The formula to calculate probabilites for Poisson distribution variable is: "
   ]
  },
  {
   "cell_type": "markdown",
   "metadata": {},
   "source": [
    "\\begin{equation}\n",
    "\\text{If X}\\sim P_o(m) \\text{ then } \n",
    "P(X=x)=\\frac{e^{-m}m^x}{x!}\n",
    "\\text{where m is the averate rate of occurence.}\n",
    "\\end{equation}"
   ]
  },
  {
   "cell_type": "markdown",
   "metadata": {},
   "source": [
    "You must know the mean occurrence of that occurs in the given interval.\n",
    "\n",
    "\n",
    "\"within a specified variable\" can be time, length, volume or other things. For example, the number of car accident is time-dependent. The number of bacteria is volume dependent. The number of scratches in a alminium sheet is area or length dependent.\n",
    "\n"
   ]
  },
  {
   "cell_type": "code",
   "execution_count": 10,
   "metadata": {},
   "outputs": [
    {
     "data": {
      "image/png": "[encoded data removed]",
      "text/plain": [
       "<Figure size 432x288 with 1 Axes>"
      ]
     },
     "metadata": {
      "needs_background": "light"
     },
     "output_type": "display_data"
    }
   ],
   "source": [
    "import numpy as np\n",
    "import matplotlib.pyplot as plt\n",
    "from scipy.stats import poisson\n",
    "import seaborn as sns\n",
    "%matplotlib inline\n",
    "\n",
    "fig, ax = plt.subplots()\n",
    "# for distribution curve\n",
    "x= np.arange(0,20)\n",
    "ax.plot(x, poisson.pmf(x,5))\n",
    "ax.set_title(\"Poisson distribution\")\n",
    "ax.set_xlabel('x')\n",
    "ax.set_ylabel('pmf(x)')\n",
    "plt.show()"
   ]
  },
  {
   "cell_type": "code",
   "execution_count": 5,
   "metadata": {},
   "outputs": [
    {
     "data": {
      "image/png": "[encoded data removed]",
      "text/plain": [
       "<Figure size 432x288 with 1 Axes>"
      ]
     },
     "metadata": {
      "needs_background": "light"
     },
     "output_type": "display_data"
    }
   ],
   "source": [
    "from scipy.stats import poisson\n",
    "import matplotlib.pyplot as plt\n",
    "fig, ax = plt.subplots(1, 1)\n",
    "\n",
    "mu = 5\n",
    "x= np.arange(0,20)\n",
    "ax.plot(x, poisson.pmf(x, mu), 'bo', ms=5, label='poisson pmf')\n",
    "ax.vlines(x, 0, poisson.pmf(x, mu), colors='b', lw=5, alpha=0.5)\n",
    "plt.show()"
   ]
  },
  {
   "cell_type": "code",
   "execution_count": null,
   "metadata": {},
   "outputs": [],
   "source": [
    "fig, ax = plt.subplots()\n",
    "# for distribution curve\n",
    "x= np.arange(0,20)\n",
    "ax.plot(x, poisson.pmf(x, 10))\n",
    "ax.set_title(\"Poisson distribution\")\n",
    "ax.set_xlabel('x')\n",
    "ax.set_ylabel('pdf(x)')\n",
    "plt.show()"
   ]
  },
  {
   "cell_type": "code",
   "execution_count": null,
   "metadata": {},
   "outputs": [],
   "source": [
    "from scipy.stats import poisson\n",
    "m=33.2\n",
    "poisson.cdf(40,m)\n"
   ]
  },
  {
   "cell_type": "markdown",
   "metadata": {},
   "source": [
    "Finding probability when mean is 20 and x is 12"
   ]
  },
  {
   "cell_type": "code",
   "execution_count": null,
   "metadata": {},
   "outputs": [],
   "source": [
    "from math import factorial, exp # probability of 5 defects in an area\n",
    "x = 12\n",
    "m = 20\n",
    "poisson_prob = ((m**x) * exp(-m)) / factorial(x)\n",
    "print('%.9f' %poisson_prob)   # Answer = 0.067"
   ]
  },
  {
   "cell_type": "markdown",
   "metadata": {},
   "source": [
    "poisson.pmf can be used to find the probability for Poisson distribution.\n"
   ]
  },
  {
   "cell_type": "code",
   "execution_count": null,
   "metadata": {},
   "outputs": [],
   "source": [
    "poisson.pmf(12,20)"
   ]
  },
  {
   "cell_type": "code",
   "execution_count": null,
   "metadata": {},
   "outputs": [],
   "source": []
  },
  {
   "cell_type": "code",
   "execution_count": null,
   "metadata": {},
   "outputs": [],
   "source": []
  },
  {
   "cell_type": "code",
   "execution_count": null,
   "metadata": {},
   "outputs": [],
   "source": []
  },
  {
   "cell_type": "code",
   "execution_count": null,
   "metadata": {},
   "outputs": [],
   "source": []
  },
  {
   "cell_type": "code",
   "execution_count": null,
   "metadata": {},
   "outputs": [],
   "source": []
  },
  {
   "cell_type": "code",
   "execution_count": null,
   "metadata": {},
   "outputs": [],
   "source": []
  },
  {
   "cell_type": "markdown",
   "metadata": {},
   "source": [
    "http://www.tsjshg.info/udemy/Lec93.html"
   ]
  },
  {
   "cell_type": "code",
   "execution_count": null,
   "metadata": {},
   "outputs": [],
   "source": [
    "# import poisson from scipy.stats\n",
    "from scipy.stats import poisson\n",
    "\n",
    "# 12 cars come to a parking lot every hour\n",
    "# use 12 for mean\n",
    "mu = 12\n",
    "\n",
    "# find mean and distribution\n",
    "mean,var = poisson.stats(mu)\n",
    "\n",
    "# Using probability mass function to find certain probability\n",
    "odds_0 = poisson.pmf(0,mu)\n",
    "odds_1 = poisson.pmf(1,mu)\n",
    "odds_2 = poisson.pmf(2,mu)\n",
    "odds_3 = poisson.pmf(3,mu)\n",
    "odds_4 = poisson.pmf(4,mu)\n",
    "\n",
    "print('At the peak the probability of 0 person coming is{:0.2f}％'.format(odds_0*100))\n",
    "print('At the peak the probability of 1 person coming is{:0.2f}％'.format(odds_1*100))\n",
    "print('At the peak the probability of 2 person coming is{:0.2f}％'.format(odds_2*100))\n",
    "print('At the peak the probability of 3 person coming is{:0.2f}％'.format(odds_3*100))\n",
    "print('At the peak the probability of 4 person coming is{:0.2f}％'.format(odds_4*100))\n",
    "\n",
    "print('mean={}'.format(mean))\n"
   ]
  },
  {
   "cell_type": "code",
   "execution_count": null,
   "metadata": {},
   "outputs": [],
   "source": [
    "# using numpy range\n",
    "import numpy as np\n",
    "\n",
    "# Find out probability from 0 to 60 cars come to the parking lot every hour\n",
    "k=np.arange(30)\n",
    "\n",
    "# Use 12 for mean that comes to the parking lot per hour\n",
    "mu = 12\n",
    "\n",
    "pmf_pois = poisson.pmf(k,mu)\n",
    "pmf_pois"
   ]
  },
  {
   "cell_type": "markdown",
   "metadata": {},
   "source": [
    "## Graph of Poisson distribution"
   ]
  },
  {
   "cell_type": "code",
   "execution_count": null,
   "metadata": {},
   "outputs": [],
   "source": [
    "import matplotlib.pyplot as plt\n",
    "import seaborn as sns\n",
    "%matplotlib inline\n",
    "# sns.__version__\n",
    "\n",
    "plt.bar(k,pmf_pois)\n",
    "#plt.show(k,pmf_pois)"
   ]
  },
  {
   "cell_type": "code",
   "execution_count": null,
   "metadata": {},
   "outputs": [],
   "source": [
    "x = np.random.normal(size=100)\n",
    "sns.distplot(x);"
   ]
  },
  {
   "cell_type": "code",
   "execution_count": null,
   "metadata": {},
   "outputs": [],
   "source": [
    "import numpy as np\n",
    "import matplotlib.pyplot as plt\n",
    "from scipy.stats import poisson\n",
    "\n",
    "k = np.arange(0,20)\n",
    "mus = [1, 3, 5, 7, 9]\n",
    "y = np.zeros((len(mus),k.size))\n",
    "\n",
    "for i, mu in enumerate(mus):\n",
    "    y[i,:] = poisson.pmf(k, mu)\n",
    "\n",
    "fig = plt.figure()\n",
    "ax = fig.add_subplot(111)\n",
    "for i in range(len(mus)):\n",
    "    ax.plot(k,y[i,:],marker='o', label='$\\lambda=%d$' % mus[i])\n",
    "\n",
    "ax.set_xlabel('k')\n",
    "ax.set_ylabel('$p(k|\\lambda)$')\n",
    "ax.set_title('poisson distribution pmf')\n",
    "ax.grid(True)\n",
    "ax.legend(loc='best', frameon=False)"
   ]
  },
  {
   "cell_type": "markdown",
   "metadata": {},
   "source": [
    "## Random data sampling with `rvs`"
   ]
  },
  {
   "cell_type": "code",
   "execution_count": null,
   "metadata": {},
   "outputs": [],
   "source": [
    "xs = poisson.rvs(7, size=1000)\n",
    "\n",
    "k = np.linspace(0,15,16)\n",
    "p = poisson.pmf(k, 7)\n",
    "\n",
    "fig = plt.figure()\n",
    "ax = fig.add_subplot(111)\n",
    "ax.hist(xs, bins=np.linspace(-0.5,15.5,17), alpha=0.5, density=True, rwidth=0.7)\n",
    "ax.plot(k,p,'bo-')\n",
    "ax.set_xlabel('x')\n",
    "ax.set_ylabel('frequency')\n",
    "ax.set_xlim(-0.5,15.5)\n",
    "ax.set_title('histogram')\n",
    "ax.grid(True)"
   ]
  },
  {
   "cell_type": "code",
   "execution_count": null,
   "metadata": {},
   "outputs": [],
   "source": []
  }
 ],
 "metadata": {
  "kernelspec": {
   "display_name": "Python 3",
   "language": "python",
   "name": "python3"
  },
  "language_info": {
   "codemirror_mode": {
    "name": "ipython",
    "version": 3
   },
   "file_extension": ".py",
   "mimetype": "text/x-python",
   "name": "python",
   "nbconvert_exporter": "python",
   "pygments_lexer": "ipython3",
   "version": "3.7.6"
  },
  "latex_envs": {
   "LaTeX_envs_menu_present": true,
   "autoclose": false,
   "autocomplete": true,
   "bibliofile": "biblio.bib",
   "cite_by": "apalike",
   "current_citInitial": 1,
   "eqLabelWithNumbers": true,
   "eqNumInitial": 1,
   "hotkeys": {
    "equation": "Ctrl-E",
    "itemize": "Ctrl-I"
   },
   "labels_anchors": false,
   "latex_user_defs": false,
   "report_style_numbering": false,
   "user_envs_cfg": false
  },
  "toc": {
   "base_numbering": 1,
   "nav_menu": {},
   "number_sections": true,
   "sideBar": true,
   "skip_h1_title": false,
   "title_cell": "Table of Contents",
   "title_sidebar": "Contents",
   "toc_cell": false,
   "toc_position": {},
   "toc_section_display": true,
   "toc_window_display": false
  }
 },
 "nbformat": 4,
 "nbformat_minor": 4
}
