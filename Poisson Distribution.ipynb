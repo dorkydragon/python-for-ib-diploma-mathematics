{
 "cells": [
  {
   "cell_type": "markdown",
   "metadata": {},
   "source": [
    "# Poisson Distribution for IB Diploma Mathematics\n",
    "\n",
    "## How many times an event is likely to occur within a specified period of time."
   ]
  },
  {
   "cell_type": "markdown",
   "metadata": {},
   "source": [
    "# Table of contents\n",
    "\n",
    "## Indtroduction\n",
    "## "
   ]
  },
  {
   "cell_type": "markdown",
   "metadata": {
    "slideshow": {
     "slide_type": "slide"
    }
   },
   "source": [
    "The Poisson Distribution can be use to find the probability of how many times an event is likely to occur within a specified variable.\n",
    "\n",
    "Applicationns are:\n",
    "- the number of customers to a shop \n",
    "- the number of car accident \n",
    "- the number of typo in a book, etc.\n",
    "\n",
    "The binomial distribution is applied to situations that have a finite number of possible outcomes, whereas the Poisson distibution is applied when you want to consider situations that have an infinite number of possible outcomes.\n",
    "\n",
    "We use the Poisson distribution when an event of the variable is equally likely to occur in any interval and the events must be independent of each other. \n",
    "\n",
    "The formula to calculate probabilites for Poisson distribution variable is: "
   ]
  },
  {
   "cell_type": "markdown",
   "metadata": {},
   "source": [
    "\\begin{equation}\n",
    "\\text{If X}\\sim P_o(m) \\text{ then } \n",
    "P(X=x)=\\frac{e^{-m}m^x}{x!}\n",
    "\\text{where m is the averate rate of occurence.}\n",
    "\\end{equation}"
   ]
  },
  {
   "cell_type": "markdown",
   "metadata": {},
   "source": [
    "You must know the mean occurrence of that occurs in the given interval.\n",
    "\n",
    "\n",
    "\"within a specified variable\" can be time, length, volume or other things. For example, the number of car accident is time-dependent. The number of bacteria is volume dependent. The number of scratches in a alminium sheet is area or length dependent.\n",
    "\n"
   ]
  },
  {
   "cell_type": "code",
   "execution_count": 29,
   "metadata": {},
   "outputs": [
    {
     "data": {
      "image/png": "[encoded data removed]",
      "text/plain": [
       "<Figure size 432x288 with 1 Axes>"
      ]
     },
     "metadata": {
      "needs_background": "light"
     },
     "output_type": "display_data"
    }
   ],
   "source": [
    "import numpy as np\n",
    "import matplotlib.pyplot as plt\n",
    "from scipy.stats import poisson\n",
    "import seaborn as sns\n",
    "%matplotlib inline\n",
    "\n",
    "arr = []\n",
    "rv = poisson(5)\n",
    "for num in range(0,20):\n",
    "    arr.append(rv.pmf(num))\n",
    "\n",
    "plt.plot(arr, linewidth=1.0)\n",
    "plt.show()"
   ]
  },
  {
   "cell_type": "code",
   "execution_count": null,
   "metadata": {},
   "outputs": [],
   "source": [
    "sns.distplot(, kde=False)"
   ]
  },
  {
   "cell_type": "code",
   "execution_count": null,
   "metadata": {},
   "outputs": [],
   "source": []
  },
  {
   "cell_type": "code",
   "execution_count": null,
   "metadata": {},
   "outputs": [],
   "source": []
  },
  {
   "cell_type": "code",
   "execution_count": 10,
   "metadata": {},
   "outputs": [
    {
     "data": {
      "text/plain": [
       "0.8947770181815724"
      ]
     },
     "execution_count": 10,
     "metadata": {},
     "output_type": "execute_result"
    }
   ],
   "source": [
    "from scipy.stats import poisson\n",
    "m=33.2\n",
    "poisson.cdf(40,m)\n"
   ]
  },
  {
   "cell_type": "markdown",
   "metadata": {},
   "source": [
    "Finding probability when mean is 20 and x is 12"
   ]
  },
  {
   "cell_type": "code",
   "execution_count": 18,
   "metadata": {},
   "outputs": [
    {
     "name": "stdout",
     "output_type": "stream",
     "text": [
      "0.017625171\n"
     ]
    }
   ],
   "source": [
    "from math import factorial, exp # probability of 5 defects in an area\n",
    "x = 12\n",
    "m = 20\n",
    "poisson_prob = ((m**x) * exp(-m)) / factorial(x)\n",
    "print('%.9f' %poisson_prob)   # Answer = 0.067"
   ]
  },
  {
   "cell_type": "markdown",
   "metadata": {},
   "source": [
    "poisson.pmf can be used to find the probability for Poisson distribution.\n"
   ]
  },
  {
   "cell_type": "code",
   "execution_count": 17,
   "metadata": {},
   "outputs": [
    {
     "data": {
      "text/plain": [
       "0.017625171267712562"
      ]
     },
     "execution_count": 17,
     "metadata": {},
     "output_type": "execute_result"
    }
   ],
   "source": [
    "poisson.pmf(12,20)"
   ]
  },
  {
   "cell_type": "code",
   "execution_count": null,
   "metadata": {},
   "outputs": [],
   "source": []
  },
  {
   "cell_type": "code",
   "execution_count": null,
   "metadata": {},
   "outputs": [],
   "source": []
  },
  {
   "cell_type": "code",
   "execution_count": null,
   "metadata": {},
   "outputs": [],
   "source": []
  },
  {
   "cell_type": "code",
   "execution_count": null,
   "metadata": {},
   "outputs": [],
   "source": []
  },
  {
   "cell_type": "code",
   "execution_count": null,
   "metadata": {},
   "outputs": [],
   "source": []
  },
  {
   "cell_type": "code",
   "execution_count": null,
   "metadata": {},
   "outputs": [],
   "source": []
  },
  {
   "cell_type": "markdown",
   "metadata": {},
   "source": [
    "http://www.tsjshg.info/udemy/Lec93.html"
   ]
  },
  {
   "cell_type": "code",
   "execution_count": 23,
   "metadata": {},
   "outputs": [
    {
     "name": "stdout",
     "output_type": "stream",
     "text": [
      "At the peak the probability of 0 person coming is0.00％\n",
      "At the peak the probability of 1 person coming is0.01％\n",
      "At the peak the probability of 2 person coming is0.04％\n",
      "At the peak the probability of 3 person coming is0.18％\n",
      "At the peak the probability of 4 person coming is0.53％\n",
      "mean=12.0\n"
     ]
    }
   ],
   "source": [
    "# import poisson from scipy.stats\n",
    "from scipy.stats import poisson\n",
    "\n",
    "# 12 cars come to a parking lot every hour\n",
    "# use 12 for mean\n",
    "mu = 12\n",
    "\n",
    "# find mean and distribution\n",
    "mean,var = poisson.stats(mu)\n",
    "\n",
    "# Using probability mass function to find certain probability\n",
    "odds_0 = poisson.pmf(0,mu)\n",
    "odds_1 = poisson.pmf(1,mu)\n",
    "odds_2 = poisson.pmf(2,mu)\n",
    "odds_3 = poisson.pmf(3,mu)\n",
    "odds_4 = poisson.pmf(4,mu)\n",
    "\n",
    "print('At the peak the probability of 0 person coming is{:0.2f}％'.format(odds_0*100))\n",
    "print('At the peak the probability of 1 person coming is{:0.2f}％'.format(odds_1*100))\n",
    "print('At the peak the probability of 2 person coming is{:0.2f}％'.format(odds_2*100))\n",
    "print('At the peak the probability of 3 person coming is{:0.2f}％'.format(odds_3*100))\n",
    "print('At the peak the probability of 4 person coming is{:0.2f}％'.format(odds_4*100))\n",
    "\n",
    "print('mean={}'.format(mean))\n"
   ]
  },
  {
   "cell_type": "code",
   "execution_count": 24,
   "metadata": {},
   "outputs": [
    {
     "data": {
      "text/plain": [
       "array([6.14421235e-06, 7.37305482e-05, 4.42383289e-04, 1.76953316e-03,\n",
       "       5.30859947e-03, 1.27406387e-02, 2.54812775e-02, 4.36821900e-02,\n",
       "       6.55232849e-02, 8.73643799e-02, 1.04837256e-01, 1.14367916e-01,\n",
       "       1.14367916e-01, 1.05570384e-01, 9.04889002e-02, 7.23911201e-02,\n",
       "       5.42933401e-02, 3.83247107e-02, 2.55498071e-02, 1.61367203e-02,\n",
       "       9.68203217e-03, 5.53258981e-03, 3.01777626e-03, 1.57449196e-03,\n",
       "       7.87245981e-04, 3.77878071e-04, 1.74405263e-04, 7.75134504e-05,\n",
       "       3.32200502e-05, 1.37462277e-05])"
      ]
     },
     "execution_count": 24,
     "metadata": {},
     "output_type": "execute_result"
    }
   ],
   "source": [
    "# using numpy range\n",
    "import numpy as np\n",
    "\n",
    "# Find out probability from 0 to 60 cars come to the parking lot every hour\n",
    "k=np.arange(30)\n",
    "\n",
    "# Use 12 for mean that comes to the parking lot per hour\n",
    "mu = 12\n",
    "\n",
    "pmf_pois = poisson.pmf(k,mu)\n",
    "pmf_pois"
   ]
  },
  {
   "cell_type": "markdown",
   "metadata": {},
   "source": [
    "## Graph of Poisson distribution"
   ]
  },
  {
   "cell_type": "code",
   "execution_count": 34,
   "metadata": {},
   "outputs": [
    {
     "data": {
      "text/plain": [
       "<BarContainer object of 30 artists>"
      ]
     },
     "execution_count": 34,
     "metadata": {},
     "output_type": "execute_result"
    },
    {
     "data": {
      "image/png": "[encoded data removed]",
      "text/plain": [
       "<Figure size 432x288 with 1 Axes>"
      ]
     },
     "metadata": {
      "needs_background": "light"
     },
     "output_type": "display_data"
    }
   ],
   "source": [
    "import matplotlib.pyplot as plt\n",
    "import seaborn as sns\n",
    "%matplotlib inline\n",
    "# sns.__version__\n",
    "\n",
    "plt.bar(k,pmf_pois)\n",
    "#plt.show(k,pmf_pois)"
   ]
  },
  {
   "cell_type": "code",
   "execution_count": 30,
   "metadata": {},
   "outputs": [
    {
     "data": {
      "image/png": "[encoded data removed]",
      "text/plain": [
       "<Figure size 432x288 with 1 Axes>"
      ]
     },
     "metadata": {
      "needs_background": "light"
     },
     "output_type": "display_data"
    }
   ],
   "source": [
    "x = np.random.normal(size=100)\n",
    "sns.distplot(x);"
   ]
  },
  {
   "cell_type": "code",
   "execution_count": null,
   "metadata": {},
   "outputs": [],
   "source": []
  }
 ],
 "metadata": {
  "kernelspec": {
   "display_name": "Python 3",
   "language": "python",
   "name": "python3"
  },
  "language_info": {
   "codemirror_mode": {
    "name": "ipython",
    "version": 3
   },
   "file_extension": ".py",
   "mimetype": "text/x-python",
   "name": "python",
   "nbconvert_exporter": "python",
   "pygments_lexer": "ipython3",
   "version": "3.7.5"
  },
  "latex_envs": {
   "LaTeX_envs_menu_present": true,
   "autoclose": false,
   "autocomplete": true,
   "bibliofile": "biblio.bib",
   "cite_by": "apalike",
   "current_citInitial": 1,
   "eqLabelWithNumbers": true,
   "eqNumInitial": 1,
   "hotkeys": {
    "equation": "Ctrl-E",
    "itemize": "Ctrl-I"
   },
   "labels_anchors": false,
   "latex_user_defs": false,
   "report_style_numbering": false,
   "user_envs_cfg": false
  }
 },
 "nbformat": 4,
 "nbformat_minor": 2
}
