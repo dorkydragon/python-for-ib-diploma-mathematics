{
 "cells": [
  {
   "cell_type": "markdown",
   "metadata": {},
   "source": [
    "\n",
    "# Tools\n",
    "\n",
    "- Python - Jupyter Notebook\n",
    "- Libraries\n",
    "- Numpy, pandas, seaborn, matplotlib\n",
    "\n",
    "\n",
    "# Topics\n",
    "\n",
    "- SL 4.1 Outliers\n",
    "\n",
    "- SL 4.2 Descriptive statistics including frequency distribution, histograms, cumulative frequency, median, interquartile range, percentiles, range, box and whisker diagram.\n",
    "\n",
    "SL 4.3 Measures of central tendency, mean, median, mode. Modal class for equal data intervals. Measures of dispersion including interquartile range, standard and variance.\n",
    "\n",
    "SL 4.4 Linear correlation of bivariate data. Scatter diagrams including lines of best fit. Equation of the regression line.\n",
    "\n",
    "SL 4.5 Probability\n",
    "\n",
    "SL 4.6 Venn diagrams, tree diagrams, sample space diagrams. Combined events. Mutually exclusive events. Conditional probability. Independent events.\n",
    "\n",
    "SL 4.7 Discrete random variables and probability distributions. Expected value.\n",
    "\n",
    "SL 4.8 Binomial distribution. \n",
    "\n",
    "SL 4.9 Normal distribution\n",
    "\n",
    "SL 4.10 Spearman's rank correlation.\n",
    "\n",
    "SL 4.11 \n",
    "Chi square goodness of fit test.  \n",
    "[Chi-square Independence Test and The t-test](http://bit.ly/2EaqgST).\n",
    "\n",
    "HL 4.12 Reliability tests. Validity tests.\n",
    "\n",
    "HL 4.13 Least squares regression, square residuals, the coefficient of determination.\n",
    "\n",
    "HL 4.14 Linear transformation. Expected value of linear combinations of n random variables. Unbiased estimate.\n",
    "\n",
    "HL 4.15 Central limit theorem\n",
    "\n",
    "HL 4.16 Confidence intervals for the mean of a normal population\n",
    "\n",
    "HL 4.17 Poisson distribution\n",
    "\n",
    "HL 4.18 Test for population mean for normal and Poisson distribution. Population product moment correlation. Type I and II errors.\n",
    "\n",
    "HL 4.19 Transition matrices. Regular Markov chains. Steady state and long-term probabilities.\n",
    "\n",
    "\n",
    "\n"
   ]
  },
  {
   "cell_type": "code",
   "execution_count": null,
   "metadata": {},
   "outputs": [],
   "source": []
  }
 ],
 "metadata": {
  "kernelspec": {
   "display_name": "Python 3",
   "language": "python",
   "name": "python3"
  },
  "language_info": {
   "codemirror_mode": {
    "name": "ipython",
    "version": 3
   },
   "file_extension": ".py",
   "mimetype": "text/x-python",
   "name": "python",
   "nbconvert_exporter": "python",
   "pygments_lexer": "ipython3",
   "version": "3.7.5"
  }
 },
 "nbformat": 4,
 "nbformat_minor": 2
}
