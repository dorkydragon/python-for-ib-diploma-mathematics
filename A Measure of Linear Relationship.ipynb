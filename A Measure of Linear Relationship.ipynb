{
 "cells": [
  {
   "cell_type": "markdown",
   "metadata": {},
   "source": [
    "# Pearson's product-moment correlation for IB Diploma Mathematics"
   ]
  },
  {
   "cell_type": "markdown",
   "metadata": {},
   "source": [
    "# Introduction\n",
    "\n",
    "In this article, I use Python to analyze bivariate data using Pearon's product-momnet correlation coefficient `r`, drawing scatter diagrams, lines of best fit and the least-square regression line.\n",
    "\n",
    "Bivariate data involves two types of related data. Pearson's product-moment correlation coefficient tells you how linearly these two data are related.\n",
    "\n",
    "\n",
    "We can display the collected data on a graph called a scatter plot. The horizontal axis is called x-axis and we call the coordinate of x-axis the independent variable. The vertical axis is called y-axis and we call the coordinate of y-axis the dependent variable.   \n",
    "\n",
    "\n",
    "I downloaded the data from this [link](https://stats.oecd.org/Index.aspx?DataSetCode=HOUSE_PRICES).\n",
    "\n"
   ]
  },
  {
   "cell_type": "markdown",
   "metadata": {},
   "source": [
    "# Import necessary libraries"
   ]
  },
  {
   "cell_type": "code",
   "execution_count": 1,
   "metadata": {},
   "outputs": [],
   "source": [
    "# github\n",
    "\n",
    "import pandas as pd\n",
    "import numpy as np\n",
    "import matplotlib.pyplot as plt\n",
    "from scipy.stats import pearsonr\n",
    "from scipy.stats import linregress\n",
    "import seaborn as sns; sns.set()"
   ]
  },
  {
   "cell_type": "markdown",
   "metadata": {},
   "source": [
    "Create a sample data."
   ]
  },
  {
   "cell_type": "code",
   "execution_count": 2,
   "metadata": {},
   "outputs": [
    {
     "data": {
      "text/html": [
       "<div>\n",
       "<style scoped>\n",
       "    .dataframe tbody tr th:only-of-type {\n",
       "        vertical-align: middle;\n",
       "    }\n",
       "\n",
       "    .dataframe tbody tr th {\n",
       "        vertical-align: top;\n",
       "    }\n",
       "\n",
       "    .dataframe thead th {\n",
       "        text-align: right;\n",
       "    }\n",
       "</style>\n",
       "<table border=\"1\" class=\"dataframe\">\n",
       "  <thead>\n",
       "    <tr style=\"text-align: right;\">\n",
       "      <th></th>\n",
       "      <th>0</th>\n",
       "      <th>1</th>\n",
       "      <th>2</th>\n",
       "      <th>3</th>\n",
       "      <th>4</th>\n",
       "    </tr>\n",
       "  </thead>\n",
       "  <tbody>\n",
       "    <tr>\n",
       "      <th>gain</th>\n",
       "      <td>5</td>\n",
       "      <td>7</td>\n",
       "      <td>12</td>\n",
       "      <td>16</td>\n",
       "      <td>20</td>\n",
       "    </tr>\n",
       "    <tr>\n",
       "      <th>loss</th>\n",
       "      <td>4</td>\n",
       "      <td>12</td>\n",
       "      <td>18</td>\n",
       "      <td>21</td>\n",
       "      <td>24</td>\n",
       "    </tr>\n",
       "  </tbody>\n",
       "</table>\n",
       "</div>"
      ],
      "text/plain": [
       "      0   1   2   3   4\n",
       "gain  5   7  12  16  20\n",
       "loss  4  12  18  21  24"
      ]
     },
     "execution_count": 2,
     "metadata": {},
     "output_type": "execute_result"
    }
   ],
   "source": [
    "# github\n",
    "\n",
    "data = pd.DataFrame(\n",
    "    [\n",
    "        [5,7,12,16,20],\n",
    "        [4,12,18,21,24]\n",
    "    ],\n",
    "    index=['gain','loss'])\n",
    "data"
   ]
  },
  {
   "cell_type": "markdown",
   "metadata": {},
   "source": [
    "Transpose the data. Pandas transpose does not modify the original data."
   ]
  },
  {
   "cell_type": "code",
   "execution_count": 25,
   "metadata": {},
   "outputs": [
    {
     "name": "stdout",
     "output_type": "stream",
     "text": [
      "      0   1   2   3   4\n",
      "gain  5   7  12  16  20\n",
      "loss  4  12  18  21  24\n",
      "   gain  loss\n",
      "0     5     4\n",
      "1     7    12\n",
      "2    12    18\n",
      "3    16    21\n",
      "4    20    24\n"
     ]
    }
   ],
   "source": [
    "# github\n",
    "\n",
    "data_t = data.T\n",
    "print(data)\n",
    "print(data_t)"
   ]
  },
  {
   "cell_type": "markdown",
   "metadata": {},
   "source": [
    "Creating a scatter plot."
   ]
  },
  {
   "cell_type": "code",
   "execution_count": 65,
   "metadata": {},
   "outputs": [
    {
     "data": {
      "text/plain": [
       "<matplotlib.axes._subplots.AxesSubplot at 0x11de54b10>"
      ]
     },
     "execution_count": 65,
     "metadata": {},
     "output_type": "execute_result"
    },
    {
     "data": {
      "image/png": "[encoded data removed]",
      "text/plain": [
       "<Figure size 432x288 with 1 Axes>"
      ]
     },
     "metadata": {
      "needs_background": "light"
     },
     "output_type": "display_data"
    }
   ],
   "source": [
    "# github\n",
    "\n",
    "sns.scatterplot(x='gain', y='loss', data=data_t)"
   ]
  },
  {
   "cell_type": "markdown",
   "metadata": {},
   "source": [
    "# Finding the regression line and Pearson's coefficient"
   ]
  },
  {
   "cell_type": "markdown",
   "metadata": {},
   "source": [
    "`linregress` returns slope, intercept, r_value and p-value."
   ]
  },
  {
   "cell_type": "code",
   "execution_count": 48,
   "metadata": {},
   "outputs": [
    {
     "name": "stdout",
     "output_type": "stream",
     "text": [
      "The equation of reegression line is y=1.221x+1.151.\n",
      "Pearson's product-moment correlation coefficient is 0.9528.\n",
      "p-value is 0.0122.\n"
     ]
    }
   ],
   "source": [
    "# github\n",
    "\n",
    "df_x=data_t.iloc[:,0] \n",
    "# print(df_x) # 5,7,12,16,20\n",
    "df_y=data_t.iloc[:,1]\n",
    "# print(df_y) # 4,12,18,21,24\n",
    "slope, intercept, r_value, p_value, std_err = linregress(df_x,df_y)\n",
    "\n",
    "print(\"\"\"The equation of reegression line is y=%.3fx+%.3f.\"\"\" % (slope,intercept))\n",
    "print(\"\"\"Pearson's product-moment correlation coefficient is %.4f.\"\"\" % (r_value))\n",
    "print(\"\"\"p-value is %.4f.\"\"\" % (p_value))\n",
    "\n"
   ]
  },
  {
   "cell_type": "markdown",
   "metadata": {},
   "source": [
    "# Finding the Pearson's correlation coefficient"
   ]
  },
  {
   "cell_type": "markdown",
   "metadata": {},
   "source": [
    "`pearsonr` returns Pearson's product-moment correlation coefficient and p-value."
   ]
  },
  {
   "cell_type": "code",
   "execution_count": 23,
   "metadata": {},
   "outputs": [
    {
     "name": "stdout",
     "output_type": "stream",
     "text": [
      "r: 0.9528, p-value: 0.0122\n"
     ]
    }
   ],
   "source": [
    "# github\n",
    "\n",
    "r, pval = pearsonr(df_x,df_y)\n",
    "print(\"\"\"r: %.4f, p-value: %.4f\"\"\" % (r, pval))"
   ]
  },
  {
   "cell_type": "markdown",
   "metadata": {},
   "source": [
    "# Finding the mean point and plotting it"
   ]
  },
  {
   "cell_type": "code",
   "execution_count": null,
   "metadata": {},
   "outputs": [],
   "source": []
  },
  {
   "cell_type": "markdown",
   "metadata": {},
   "source": [
    "# Line of best fit and the mean point"
   ]
  },
  {
   "cell_type": "code",
   "execution_count": null,
   "metadata": {},
   "outputs": [],
   "source": []
  },
  {
   "cell_type": "markdown",
   "metadata": {},
   "source": [
    "# The least-squares regression line"
   ]
  },
  {
   "cell_type": "code",
   "execution_count": null,
   "metadata": {},
   "outputs": [],
   "source": []
  },
  {
   "cell_type": "markdown",
   "metadata": {},
   "source": [
    "# Degree of freedom and critical values"
   ]
  },
  {
   "cell_type": "markdown",
   "metadata": {},
   "source": [
    "To know if a correlation is stastically significant, you use the degree of freedom and the critical values."
   ]
  },
  {
   "cell_type": "code",
   "execution_count": null,
   "metadata": {},
   "outputs": [],
   "source": []
  },
  {
   "cell_type": "code",
   "execution_count": null,
   "metadata": {},
   "outputs": [],
   "source": []
  },
  {
   "cell_type": "markdown",
   "metadata": {},
   "source": [
    "# Adding a regression line to a scatter plot\n",
    "\n",
    "When you want to "
   ]
  },
  {
   "cell_type": "code",
   "execution_count": 24,
   "metadata": {},
   "outputs": [
    {
     "data": {
      "image/png": "[encoded data removed]",
      "text/plain": [
       "<Figure size 432x288 with 1 Axes>"
      ]
     },
     "metadata": {
      "needs_background": "light"
     },
     "output_type": "display_data"
    }
   ],
   "source": [
    "# github\n",
    "\n",
    "X_plot = np.linspace(0,20,100)\n",
    "Y_plot = slope*X_plot+intercept\n",
    "sns.scatterplot(x='gain', y='loss', data=data_new)\n",
    "plt.plot(X_plot, Y_plot, color='r')\n",
    "plt.show()"
   ]
  },
  {
   "cell_type": "markdown",
   "metadata": {},
   "source": [
    "# Real-life example"
   ]
  },
  {
   "cell_type": "code",
   "execution_count": null,
   "metadata": {},
   "outputs": [],
   "source": []
  },
  {
   "cell_type": "code",
   "execution_count": 8,
   "metadata": {},
   "outputs": [
    {
     "name": "stdout",
     "output_type": "stream",
     "text": [
      "(68208, 11)\n",
      "   LOCATION    Country SEX    Sex    AGE    Age  TIME  Time       Value  \\\n",
      "0       AUS  Australia   W  Women  TOTAL  Total  2005  2005  10157211.0   \n",
      "1       AUS  Australia   W  Women  TOTAL  Total  2006  2006  10291542.0   \n",
      "2       AUS  Australia   W  Women  TOTAL  Total  2007  2007  10473986.0   \n",
      "3       AUS  Australia   W  Women  TOTAL  Total  2008  2008  10677154.0   \n",
      "4       AUS  Australia   W  Women  TOTAL  Total  2009  2009  10890856.0   \n",
      "5       AUS  Australia   W  Women  TOTAL  Total  2010  2010  11063919.0   \n",
      "6       AUS  Australia   W  Women  TOTAL  Total  2011  2011  11221790.0   \n",
      "7       AUS  Australia   W  Women  TOTAL  Total  2012  2012  11420486.0   \n",
      "8       AUS  Australia   W  Women  TOTAL  Total  2013  2013  11621964.0   \n",
      "9       AUS  Australia   W  Women  TOTAL  Total  2014  2014  11807800.0   \n",
      "10      AUS  Australia   W  Women  TOTAL  Total  2015  2015  11988343.0   \n",
      "11      AUS  Australia   W  Women  TOTAL  Total  2016  2016  12187868.0   \n",
      "12      AUS  Australia   W  Women  TOTAL  Total  2017  2017  12398090.0   \n",
      "13      AUS  Australia   W  Women  TOTAL  Total  2018  2018  12595459.0   \n",
      "14      AUS  Australia   M    Men  TOTAL  Total  2005  2005  10019633.0   \n",
      "15      AUS  Australia   M    Men  TOTAL  Total  2006  2006  10159424.0   \n",
      "16      AUS  Australia   M    Men  TOTAL  Total  2007  2007  10353636.0   \n",
      "17      AUS  Australia   M    Men  TOTAL  Total  2008  2008  10572045.0   \n",
      "18      AUS  Australia   M    Men  TOTAL  Total  2009  2009  10800797.0   \n",
      "19      AUS  Australia   M    Men  TOTAL  Total  2010  2010  10967831.0   \n",
      "20      AUS  Australia   M    Men  TOTAL  Total  2011  2011  11118234.0   \n",
      "21      AUS  Australia   M    Men  TOTAL  Total  2012  2012  11312979.0   \n",
      "22      AUS  Australia   M    Men  TOTAL  Total  2013  2013  11506165.0   \n",
      "23      AUS  Australia   M    Men  TOTAL  Total  2014  2014  11667886.0   \n",
      "24      AUS  Australia   M    Men  TOTAL  Total  2015  2015  11827652.0   \n",
      "25      AUS  Australia   M    Men  TOTAL  Total  2016  2016  12003039.0   \n",
      "26      AUS  Australia   M    Men  TOTAL  Total  2017  2017  12203770.0   \n",
      "27      AUS  Australia   M    Men  TOTAL  Total  2018  2018  12397401.0   \n",
      "28      AUS  Australia   T  Total  TOTAL  Total  2005  2005  20176844.0   \n",
      "29      AUS  Australia   T  Total  TOTAL  Total  2006  2006  20450966.0   \n",
      "\n",
      "    Flag Codes  Flags  \n",
      "0          NaN    NaN  \n",
      "1          NaN    NaN  \n",
      "2          NaN    NaN  \n",
      "3          NaN    NaN  \n",
      "4          NaN    NaN  \n",
      "5          NaN    NaN  \n",
      "6          NaN    NaN  \n",
      "7          NaN    NaN  \n",
      "8          NaN    NaN  \n",
      "9          NaN    NaN  \n",
      "10         NaN    NaN  \n",
      "11         NaN    NaN  \n",
      "12         NaN    NaN  \n",
      "13         NaN    NaN  \n",
      "14         NaN    NaN  \n",
      "15         NaN    NaN  \n",
      "16         NaN    NaN  \n",
      "17         NaN    NaN  \n",
      "18         NaN    NaN  \n",
      "19         NaN    NaN  \n",
      "20         NaN    NaN  \n",
      "21         NaN    NaN  \n",
      "22         NaN    NaN  \n",
      "23         NaN    NaN  \n",
      "24         NaN    NaN  \n",
      "25         NaN    NaN  \n",
      "26         NaN    NaN  \n",
      "27         NaN    NaN  \n",
      "28         NaN    NaN  \n",
      "29         NaN    NaN  \n"
     ]
    }
   ],
   "source": [
    "# \n",
    "\n",
    "his_pop = pd.read_csv('https://raw.githubusercontent.com/shinokada/python-for-ib-diploma-mathematics/master/Data/historical_population.csv')\n",
    "print(his_pop.shape)\n",
    "print(his_pop.head(30))\n"
   ]
  },
  {
   "cell_type": "markdown",
   "metadata": {},
   "source": [
    "From the historical population data, let's select Australia's TIME and Value."
   ]
  },
  {
   "cell_type": "code",
   "execution_count": 9,
   "metadata": {},
   "outputs": [
    {
     "data": {
      "text/html": [
       "<div>\n",
       "<style scoped>\n",
       "    .dataframe tbody tr th:only-of-type {\n",
       "        vertical-align: middle;\n",
       "    }\n",
       "\n",
       "    .dataframe tbody tr th {\n",
       "        vertical-align: top;\n",
       "    }\n",
       "\n",
       "    .dataframe thead th {\n",
       "        text-align: right;\n",
       "    }\n",
       "</style>\n",
       "<table border=\"1\" class=\"dataframe\">\n",
       "  <thead>\n",
       "    <tr style=\"text-align: right;\">\n",
       "      <th></th>\n",
       "      <th>LOCATION</th>\n",
       "      <th>Country</th>\n",
       "      <th>SEX</th>\n",
       "      <th>Sex</th>\n",
       "      <th>AGE</th>\n",
       "      <th>Age</th>\n",
       "      <th>TIME</th>\n",
       "      <th>Time</th>\n",
       "      <th>Value</th>\n",
       "      <th>Flag Codes</th>\n",
       "      <th>Flags</th>\n",
       "    </tr>\n",
       "  </thead>\n",
       "  <tbody>\n",
       "    <tr>\n",
       "      <th>28</th>\n",
       "      <td>AUS</td>\n",
       "      <td>Australia</td>\n",
       "      <td>T</td>\n",
       "      <td>Total</td>\n",
       "      <td>TOTAL</td>\n",
       "      <td>Total</td>\n",
       "      <td>2005</td>\n",
       "      <td>2005</td>\n",
       "      <td>20176844.0</td>\n",
       "      <td>NaN</td>\n",
       "      <td>NaN</td>\n",
       "    </tr>\n",
       "    <tr>\n",
       "      <th>29</th>\n",
       "      <td>AUS</td>\n",
       "      <td>Australia</td>\n",
       "      <td>T</td>\n",
       "      <td>Total</td>\n",
       "      <td>TOTAL</td>\n",
       "      <td>Total</td>\n",
       "      <td>2006</td>\n",
       "      <td>2006</td>\n",
       "      <td>20450966.0</td>\n",
       "      <td>NaN</td>\n",
       "      <td>NaN</td>\n",
       "    </tr>\n",
       "    <tr>\n",
       "      <th>30</th>\n",
       "      <td>AUS</td>\n",
       "      <td>Australia</td>\n",
       "      <td>T</td>\n",
       "      <td>Total</td>\n",
       "      <td>TOTAL</td>\n",
       "      <td>Total</td>\n",
       "      <td>2007</td>\n",
       "      <td>2007</td>\n",
       "      <td>20827622.0</td>\n",
       "      <td>NaN</td>\n",
       "      <td>NaN</td>\n",
       "    </tr>\n",
       "    <tr>\n",
       "      <th>31</th>\n",
       "      <td>AUS</td>\n",
       "      <td>Australia</td>\n",
       "      <td>T</td>\n",
       "      <td>Total</td>\n",
       "      <td>TOTAL</td>\n",
       "      <td>Total</td>\n",
       "      <td>2008</td>\n",
       "      <td>2008</td>\n",
       "      <td>21249199.0</td>\n",
       "      <td>NaN</td>\n",
       "      <td>NaN</td>\n",
       "    </tr>\n",
       "    <tr>\n",
       "      <th>32</th>\n",
       "      <td>AUS</td>\n",
       "      <td>Australia</td>\n",
       "      <td>T</td>\n",
       "      <td>Total</td>\n",
       "      <td>TOTAL</td>\n",
       "      <td>Total</td>\n",
       "      <td>2009</td>\n",
       "      <td>2009</td>\n",
       "      <td>21691653.0</td>\n",
       "      <td>NaN</td>\n",
       "      <td>NaN</td>\n",
       "    </tr>\n",
       "    <tr>\n",
       "      <th>33</th>\n",
       "      <td>AUS</td>\n",
       "      <td>Australia</td>\n",
       "      <td>T</td>\n",
       "      <td>Total</td>\n",
       "      <td>TOTAL</td>\n",
       "      <td>Total</td>\n",
       "      <td>2010</td>\n",
       "      <td>2010</td>\n",
       "      <td>22031750.0</td>\n",
       "      <td>NaN</td>\n",
       "      <td>NaN</td>\n",
       "    </tr>\n",
       "    <tr>\n",
       "      <th>34</th>\n",
       "      <td>AUS</td>\n",
       "      <td>Australia</td>\n",
       "      <td>T</td>\n",
       "      <td>Total</td>\n",
       "      <td>TOTAL</td>\n",
       "      <td>Total</td>\n",
       "      <td>2011</td>\n",
       "      <td>2011</td>\n",
       "      <td>22340024.0</td>\n",
       "      <td>NaN</td>\n",
       "      <td>NaN</td>\n",
       "    </tr>\n",
       "    <tr>\n",
       "      <th>35</th>\n",
       "      <td>AUS</td>\n",
       "      <td>Australia</td>\n",
       "      <td>T</td>\n",
       "      <td>Total</td>\n",
       "      <td>TOTAL</td>\n",
       "      <td>Total</td>\n",
       "      <td>2012</td>\n",
       "      <td>2012</td>\n",
       "      <td>22733465.0</td>\n",
       "      <td>NaN</td>\n",
       "      <td>NaN</td>\n",
       "    </tr>\n",
       "    <tr>\n",
       "      <th>36</th>\n",
       "      <td>AUS</td>\n",
       "      <td>Australia</td>\n",
       "      <td>T</td>\n",
       "      <td>Total</td>\n",
       "      <td>TOTAL</td>\n",
       "      <td>Total</td>\n",
       "      <td>2013</td>\n",
       "      <td>2013</td>\n",
       "      <td>23128129.0</td>\n",
       "      <td>NaN</td>\n",
       "      <td>NaN</td>\n",
       "    </tr>\n",
       "    <tr>\n",
       "      <th>37</th>\n",
       "      <td>AUS</td>\n",
       "      <td>Australia</td>\n",
       "      <td>T</td>\n",
       "      <td>Total</td>\n",
       "      <td>TOTAL</td>\n",
       "      <td>Total</td>\n",
       "      <td>2014</td>\n",
       "      <td>2014</td>\n",
       "      <td>23475686.0</td>\n",
       "      <td>NaN</td>\n",
       "      <td>NaN</td>\n",
       "    </tr>\n",
       "    <tr>\n",
       "      <th>38</th>\n",
       "      <td>AUS</td>\n",
       "      <td>Australia</td>\n",
       "      <td>T</td>\n",
       "      <td>Total</td>\n",
       "      <td>TOTAL</td>\n",
       "      <td>Total</td>\n",
       "      <td>2015</td>\n",
       "      <td>2015</td>\n",
       "      <td>23815995.0</td>\n",
       "      <td>NaN</td>\n",
       "      <td>NaN</td>\n",
       "    </tr>\n",
       "    <tr>\n",
       "      <th>39</th>\n",
       "      <td>AUS</td>\n",
       "      <td>Australia</td>\n",
       "      <td>T</td>\n",
       "      <td>Total</td>\n",
       "      <td>TOTAL</td>\n",
       "      <td>Total</td>\n",
       "      <td>2016</td>\n",
       "      <td>2016</td>\n",
       "      <td>24190907.0</td>\n",
       "      <td>NaN</td>\n",
       "      <td>NaN</td>\n",
       "    </tr>\n",
       "    <tr>\n",
       "      <th>40</th>\n",
       "      <td>AUS</td>\n",
       "      <td>Australia</td>\n",
       "      <td>T</td>\n",
       "      <td>Total</td>\n",
       "      <td>TOTAL</td>\n",
       "      <td>Total</td>\n",
       "      <td>2017</td>\n",
       "      <td>2017</td>\n",
       "      <td>24601860.0</td>\n",
       "      <td>NaN</td>\n",
       "      <td>NaN</td>\n",
       "    </tr>\n",
       "    <tr>\n",
       "      <th>41</th>\n",
       "      <td>AUS</td>\n",
       "      <td>Australia</td>\n",
       "      <td>T</td>\n",
       "      <td>Total</td>\n",
       "      <td>TOTAL</td>\n",
       "      <td>Total</td>\n",
       "      <td>2018</td>\n",
       "      <td>2018</td>\n",
       "      <td>24992860.0</td>\n",
       "      <td>NaN</td>\n",
       "      <td>NaN</td>\n",
       "    </tr>\n",
       "  </tbody>\n",
       "</table>\n",
       "</div>"
      ],
      "text/plain": [
       "   LOCATION    Country SEX    Sex    AGE    Age  TIME  Time       Value  \\\n",
       "28      AUS  Australia   T  Total  TOTAL  Total  2005  2005  20176844.0   \n",
       "29      AUS  Australia   T  Total  TOTAL  Total  2006  2006  20450966.0   \n",
       "30      AUS  Australia   T  Total  TOTAL  Total  2007  2007  20827622.0   \n",
       "31      AUS  Australia   T  Total  TOTAL  Total  2008  2008  21249199.0   \n",
       "32      AUS  Australia   T  Total  TOTAL  Total  2009  2009  21691653.0   \n",
       "33      AUS  Australia   T  Total  TOTAL  Total  2010  2010  22031750.0   \n",
       "34      AUS  Australia   T  Total  TOTAL  Total  2011  2011  22340024.0   \n",
       "35      AUS  Australia   T  Total  TOTAL  Total  2012  2012  22733465.0   \n",
       "36      AUS  Australia   T  Total  TOTAL  Total  2013  2013  23128129.0   \n",
       "37      AUS  Australia   T  Total  TOTAL  Total  2014  2014  23475686.0   \n",
       "38      AUS  Australia   T  Total  TOTAL  Total  2015  2015  23815995.0   \n",
       "39      AUS  Australia   T  Total  TOTAL  Total  2016  2016  24190907.0   \n",
       "40      AUS  Australia   T  Total  TOTAL  Total  2017  2017  24601860.0   \n",
       "41      AUS  Australia   T  Total  TOTAL  Total  2018  2018  24992860.0   \n",
       "\n",
       "    Flag Codes  Flags  \n",
       "28         NaN    NaN  \n",
       "29         NaN    NaN  \n",
       "30         NaN    NaN  \n",
       "31         NaN    NaN  \n",
       "32         NaN    NaN  \n",
       "33         NaN    NaN  \n",
       "34         NaN    NaN  \n",
       "35         NaN    NaN  \n",
       "36         NaN    NaN  \n",
       "37         NaN    NaN  \n",
       "38         NaN    NaN  \n",
       "39         NaN    NaN  \n",
       "40         NaN    NaN  \n",
       "41         NaN    NaN  "
      ]
     },
     "execution_count": 9,
     "metadata": {},
     "output_type": "execute_result"
    }
   ],
   "source": [
    "# github\n",
    "\n",
    "pop = his_pop.loc[his_pop.Country=='Australia']\n",
    "pop = pop.loc[pop.Sex =='Total']\n",
    "pop = pop.loc[pop.AGE =='TOTAL']\n",
    "pop"
   ]
  },
  {
   "cell_type": "code",
   "execution_count": 10,
   "metadata": {},
   "outputs": [
    {
     "name": "stdout",
     "output_type": "stream",
     "text": [
      "(14, 2)\n",
      "    Time       Value\n",
      "28  2005  20176844.0\n",
      "29  2006  20450966.0\n",
      "30  2007  20827622.0\n",
      "31  2008  21249199.0\n",
      "32  2009  21691653.0\n",
      "33  2010  22031750.0\n",
      "34  2011  22340024.0\n",
      "35  2012  22733465.0\n",
      "36  2013  23128129.0\n",
      "37  2014  23475686.0\n",
      "38  2015  23815995.0\n",
      "39  2016  24190907.0\n",
      "40  2017  24601860.0\n",
      "41  2018  24992860.0\n"
     ]
    }
   ],
   "source": [
    "# github\n",
    "\n",
    "# Method 1\n",
    "\n",
    "df_pop1 = pop.loc[:,['Time','Value']]\n",
    "\n",
    "print(df_pop1.shape)\n",
    "print(df_pop1)"
   ]
  },
  {
   "cell_type": "code",
   "execution_count": 11,
   "metadata": {},
   "outputs": [
    {
     "name": "stdout",
     "output_type": "stream",
     "text": [
      "(14, 2)\n",
      "    Time       Value\n",
      "0   2005  20176844.0\n",
      "1   2006  20450966.0\n",
      "2   2007  20827622.0\n",
      "3   2008  21249199.0\n",
      "4   2009  21691653.0\n",
      "5   2010  22031750.0\n",
      "6   2011  22340024.0\n",
      "7   2012  22733465.0\n",
      "8   2013  23128129.0\n",
      "9   2014  23475686.0\n",
      "10  2015  23815995.0\n",
      "11  2016  24190907.0\n",
      "12  2017  24601860.0\n",
      "13  2018  24992860.0\n"
     ]
    }
   ],
   "source": [
    "# github\n",
    "\n",
    "# Method 2\n",
    "\n",
    "df_pop2 = his_pop[(his_pop.Country=='Australia') & (his_pop.Sex =='Total') & (his_pop.AGE=='TOTAL')]\n",
    "df_pop2 = df_pop2.loc[:,['Time','Value']]\n",
    "df_pop2 = df_pop2.reset_index(drop=True)\n",
    "print(df_pop2.shape)\n",
    "print(df_pop2)"
   ]
  },
  {
   "cell_type": "code",
   "execution_count": 12,
   "metadata": {},
   "outputs": [
    {
     "name": "stdout",
     "output_type": "stream",
     "text": [
      "0     20176844.0\n",
      "1     20450966.0\n",
      "2     20827622.0\n",
      "3     21249199.0\n",
      "4     21691653.0\n",
      "5     22031750.0\n",
      "6     22340024.0\n",
      "7     22733465.0\n",
      "8     23128129.0\n",
      "9     23475686.0\n",
      "10    23815995.0\n",
      "11    24190907.0\n",
      "12    24601860.0\n",
      "13    24992860.0\n",
      "Name: Value, dtype: float64\n"
     ]
    }
   ],
   "source": [
    "# github\n",
    "\n",
    "df_pop = df_pop2['Value']\n",
    "print(df_pop)"
   ]
  },
  {
   "cell_type": "code",
   "execution_count": 13,
   "metadata": {},
   "outputs": [
    {
     "name": "stdout",
     "output_type": "stream",
     "text": [
      "0     10404.22\n",
      "1     10632.72\n",
      "2     10911.88\n",
      "3     11205.63\n",
      "4     11441.82\n",
      "5     11628.23\n",
      "6     11814.10\n",
      "7     11976.40\n",
      "8     12144.32\n",
      "9     12286.80\n",
      "10    12524.53\n",
      "11    12698.14\n",
      "12    12977.56\n",
      "13    13287.70\n",
      "Name: Value, dtype: float64\n"
     ]
    }
   ],
   "source": [
    "# github\n",
    "\n",
    "lab_for = pd.read_csv('https://raw.githubusercontent.com/shinokada/python-for-ib-diploma-mathematics/master/Data/alfs_labour_force.csv')\n",
    "lab = lab_for[(lab_for.Country=='Australia')]\n",
    "lab = lab.loc[:,['Time','Value']]\n",
    "\n",
    "df_lab = lab.Value\n",
    "print(df_lab)"
   ]
  },
  {
   "cell_type": "code",
   "execution_count": 33,
   "metadata": {},
   "outputs": [
    {
     "name": "stdout",
     "output_type": "stream",
     "text": [
      "0.9969985602306307\n",
      "1.0487570962496604e-14\n"
     ]
    }
   ],
   "source": [
    "# github\n",
    "\n",
    "from scipy.stats import pearsonr\n",
    "r, pval = pearsonr(df_pop,df_lab)\n",
    "print(r)\n",
    "print(pval)"
   ]
  },
  {
   "cell_type": "markdown",
   "metadata": {},
   "source": [
    "Using Seaborn, you can make a scatter plot. You need to create a Pandas DataFrame from Python's dictionary."
   ]
  },
  {
   "cell_type": "code",
   "execution_count": 75,
   "metadata": {},
   "outputs": [
    {
     "data": {
      "image/png": "[encoded data removed]",
      "text/plain": [
       "<Figure size 432x288 with 1 Axes>"
      ]
     },
     "metadata": {
      "needs_background": "light"
     },
     "output_type": "display_data"
    }
   ],
   "source": [
    "d = {'Population':df_pop,'Labour':df_lab}\n",
    "df = pd.DataFrame(d)\n",
    "\n",
    "\n",
    "X_plot = np.linspace(2e7,2.5e7,0.5e7)\n",
    "Y_plot = slope*X_plot+intercept\n",
    "sns.scatterplot(x='Population', y='Labour', data=df)\n",
    "slope, intercept, r_value, p_value, std_err = linregress(df_pop,df_lab)\n",
    "plt.plot(X_plot, Y_plot, color='r')\n",
    "plt.show()\n",
    "\n"
   ]
  },
  {
   "cell_type": "code",
   "execution_count": null,
   "metadata": {},
   "outputs": [],
   "source": []
  },
  {
   "cell_type": "markdown",
   "metadata": {},
   "source": [
    "# Finding r from more than two arrays"
   ]
  },
  {
   "cell_type": "markdown",
   "metadata": {},
   "source": [
    "Sometimes you want to find which pair of data has the strongest linear relationship. You can use `corr()` to find it."
   ]
  },
  {
   "cell_type": "code",
   "execution_count": 51,
   "metadata": {},
   "outputs": [
    {
     "data": {
      "text/html": [
       "<div>\n",
       "<style scoped>\n",
       "    .dataframe tbody tr th:only-of-type {\n",
       "        vertical-align: middle;\n",
       "    }\n",
       "\n",
       "    .dataframe tbody tr th {\n",
       "        vertical-align: top;\n",
       "    }\n",
       "\n",
       "    .dataframe thead th {\n",
       "        text-align: right;\n",
       "    }\n",
       "</style>\n",
       "<table border=\"1\" class=\"dataframe\">\n",
       "  <thead>\n",
       "    <tr style=\"text-align: right;\">\n",
       "      <th></th>\n",
       "      <th>A</th>\n",
       "      <th>B</th>\n",
       "      <th>C</th>\n",
       "    </tr>\n",
       "  </thead>\n",
       "  <tbody>\n",
       "    <tr>\n",
       "      <th>A</th>\n",
       "      <td>1.000000</td>\n",
       "      <td>0.952816</td>\n",
       "      <td>0.981327</td>\n",
       "    </tr>\n",
       "    <tr>\n",
       "      <th>B</th>\n",
       "      <td>0.952816</td>\n",
       "      <td>1.000000</td>\n",
       "      <td>0.889460</td>\n",
       "    </tr>\n",
       "    <tr>\n",
       "      <th>C</th>\n",
       "      <td>0.981327</td>\n",
       "      <td>0.889460</td>\n",
       "      <td>1.000000</td>\n",
       "    </tr>\n",
       "  </tbody>\n",
       "</table>\n",
       "</div>"
      ],
      "text/plain": [
       "          A         B         C\n",
       "A  1.000000  0.952816  0.981327\n",
       "B  0.952816  1.000000  0.889460\n",
       "C  0.981327  0.889460  1.000000"
      ]
     },
     "execution_count": 51,
     "metadata": {},
     "output_type": "execute_result"
    }
   ],
   "source": [
    "df = pd.DataFrame({'A': df_x,\n",
    "                   'B': df_y,\n",
    "                   'C': [5,6,9,15,20]})\n",
    "df.corr()"
   ]
  },
  {
   "cell_type": "markdown",
   "metadata": {},
   "source": [
    "Please note that Pearson's correlation coefficient of A and B are 0.952816 which is the same as we found it before. In this case A and C has the strongest linear relationship."
   ]
  },
  {
   "cell_type": "markdown",
   "metadata": {},
   "source": [
    "# Heat map\n",
    "https://note.nkmk.me/python-pandas-corr/"
   ]
  },
  {
   "cell_type": "markdown",
   "metadata": {},
   "source": [
    "For draw a heatmap, we use the [Seaborn](https://seaborn.pydata.org/generated/seaborn.heatmap.html). Since we have the minimum of 0.88 and the maximum of 1.00 in the previous section, we set `vmax` and `vmin` accordingly. We use `Blues` for the color scheme. "
   ]
  },
  {
   "cell_type": "code",
   "execution_count": 64,
   "metadata": {},
   "outputs": [
    {
     "data": {
      "text/plain": [
       "<matplotlib.axes._subplots.AxesSubplot at 0x11df3ead0>"
      ]
     },
     "execution_count": 64,
     "metadata": {},
     "output_type": "execute_result"
    },
    {
     "data": {
      "image/png": "[encoded data removed]",
      "text/plain": [
       "<Figure size 432x288 with 2 Axes>"
      ]
     },
     "metadata": {
      "needs_background": "light"
     },
     "output_type": "display_data"
    }
   ],
   "source": [
    "#\n",
    "\n",
    "df_corr = df.corr()\n",
    "sns.heatmap(df_corr, vmax=1.00, vmin=0.85, cmap='Blues')"
   ]
  },
  {
   "cell_type": "code",
   "execution_count": null,
   "metadata": {},
   "outputs": [],
   "source": []
  },
  {
   "cell_type": "markdown",
   "metadata": {},
   "source": [
    "# Conclusion\n",
    "\n",
    "Here goes conclusion"
   ]
  },
  {
   "cell_type": "markdown",
   "metadata": {},
   "source": [
    "# Reference"
   ]
  },
  {
   "cell_type": "markdown",
   "metadata": {},
   "source": [
    "- https://data.oecd.org/"
   ]
  },
  {
   "cell_type": "markdown",
   "metadata": {},
   "source": [
    "- https://www.statisticssolutions.com/table-of-critical-values-pearson-correlation/"
   ]
  },
  {
   "cell_type": "code",
   "execution_count": null,
   "metadata": {},
   "outputs": [],
   "source": []
  }
 ],
 "metadata": {
  "kernelspec": {
   "display_name": "Python 3",
   "language": "python",
   "name": "python3"
  },
  "language_info": {
   "codemirror_mode": {
    "name": "ipython",
    "version": 3
   },
   "file_extension": ".py",
   "mimetype": "text/x-python",
   "name": "python",
   "nbconvert_exporter": "python",
   "pygments_lexer": "ipython3",
   "version": "3.7.5"
  }
 },
 "nbformat": 4,
 "nbformat_minor": 2
}
