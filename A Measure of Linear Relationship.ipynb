{
 "cells": [
  {
   "cell_type": "markdown",
   "metadata": {},
   "source": [
    "# Pearson's product-moment correlation for IB Diploma Mathematics"
   ]
  },
  {
   "cell_type": "markdown",
   "metadata": {},
   "source": [
    "# Introduction\n",
    "\n",
    "In this article, I use Python to analyze bivariate data using Pearon's product-momnet correlation coefficient `r`, drawing scatter diagrams, lines of best fit and the regression line.\n",
    "\n",
    "Bivariate data involves two types of related data. Pearson's product-moment correlation coefficient tells you how linearly these two data are related.\n",
    "\n",
    "\n",
    "We can display the collected data on a graph called a scatter plot. The horizontal axis is called x-axis and we call the coordinate of x-axis the independent variable. The vertical axis is called y-axis and we call the coordinate of y-axis the dependent variable.   \n",
    "\n",
    "\n",
    "I downloaded the data from this [link](https://stats.oecd.org/Index.aspx?DataSetCode=HOUSE_PRICES).\n",
    "\n"
   ]
  },
  {
   "cell_type": "code",
   "execution_count": 29,
   "metadata": {},
   "outputs": [
    {
     "name": "stdout",
     "output_type": "stream",
     "text": [
      "(68208, 11)\n",
      "   LOCATION    Country SEX    Sex    AGE    Age  TIME  Time       Value  \\\n",
      "0       AUS  Australia   W  Women  TOTAL  Total  2005  2005  10157211.0   \n",
      "1       AUS  Australia   W  Women  TOTAL  Total  2006  2006  10291542.0   \n",
      "2       AUS  Australia   W  Women  TOTAL  Total  2007  2007  10473986.0   \n",
      "3       AUS  Australia   W  Women  TOTAL  Total  2008  2008  10677154.0   \n",
      "4       AUS  Australia   W  Women  TOTAL  Total  2009  2009  10890856.0   \n",
      "5       AUS  Australia   W  Women  TOTAL  Total  2010  2010  11063919.0   \n",
      "6       AUS  Australia   W  Women  TOTAL  Total  2011  2011  11221790.0   \n",
      "7       AUS  Australia   W  Women  TOTAL  Total  2012  2012  11420486.0   \n",
      "8       AUS  Australia   W  Women  TOTAL  Total  2013  2013  11621964.0   \n",
      "9       AUS  Australia   W  Women  TOTAL  Total  2014  2014  11807800.0   \n",
      "10      AUS  Australia   W  Women  TOTAL  Total  2015  2015  11988343.0   \n",
      "11      AUS  Australia   W  Women  TOTAL  Total  2016  2016  12187868.0   \n",
      "12      AUS  Australia   W  Women  TOTAL  Total  2017  2017  12398090.0   \n",
      "13      AUS  Australia   W  Women  TOTAL  Total  2018  2018  12595459.0   \n",
      "14      AUS  Australia   M    Men  TOTAL  Total  2005  2005  10019633.0   \n",
      "15      AUS  Australia   M    Men  TOTAL  Total  2006  2006  10159424.0   \n",
      "16      AUS  Australia   M    Men  TOTAL  Total  2007  2007  10353636.0   \n",
      "17      AUS  Australia   M    Men  TOTAL  Total  2008  2008  10572045.0   \n",
      "18      AUS  Australia   M    Men  TOTAL  Total  2009  2009  10800797.0   \n",
      "19      AUS  Australia   M    Men  TOTAL  Total  2010  2010  10967831.0   \n",
      "20      AUS  Australia   M    Men  TOTAL  Total  2011  2011  11118234.0   \n",
      "21      AUS  Australia   M    Men  TOTAL  Total  2012  2012  11312979.0   \n",
      "22      AUS  Australia   M    Men  TOTAL  Total  2013  2013  11506165.0   \n",
      "23      AUS  Australia   M    Men  TOTAL  Total  2014  2014  11667886.0   \n",
      "24      AUS  Australia   M    Men  TOTAL  Total  2015  2015  11827652.0   \n",
      "25      AUS  Australia   M    Men  TOTAL  Total  2016  2016  12003039.0   \n",
      "26      AUS  Australia   M    Men  TOTAL  Total  2017  2017  12203770.0   \n",
      "27      AUS  Australia   M    Men  TOTAL  Total  2018  2018  12397401.0   \n",
      "28      AUS  Australia   T  Total  TOTAL  Total  2005  2005  20176844.0   \n",
      "29      AUS  Australia   T  Total  TOTAL  Total  2006  2006  20450966.0   \n",
      "\n",
      "    Flag Codes  Flags  \n",
      "0          NaN    NaN  \n",
      "1          NaN    NaN  \n",
      "2          NaN    NaN  \n",
      "3          NaN    NaN  \n",
      "4          NaN    NaN  \n",
      "5          NaN    NaN  \n",
      "6          NaN    NaN  \n",
      "7          NaN    NaN  \n",
      "8          NaN    NaN  \n",
      "9          NaN    NaN  \n",
      "10         NaN    NaN  \n",
      "11         NaN    NaN  \n",
      "12         NaN    NaN  \n",
      "13         NaN    NaN  \n",
      "14         NaN    NaN  \n",
      "15         NaN    NaN  \n",
      "16         NaN    NaN  \n",
      "17         NaN    NaN  \n",
      "18         NaN    NaN  \n",
      "19         NaN    NaN  \n",
      "20         NaN    NaN  \n",
      "21         NaN    NaN  \n",
      "22         NaN    NaN  \n",
      "23         NaN    NaN  \n",
      "24         NaN    NaN  \n",
      "25         NaN    NaN  \n",
      "26         NaN    NaN  \n",
      "27         NaN    NaN  \n",
      "28         NaN    NaN  \n",
      "29         NaN    NaN  \n"
     ]
    }
   ],
   "source": [
    "import pandas as pd\n",
    "import numpy as np\n",
    "\n",
    "his_pop = pd.read_csv('https://raw.githubusercontent.com/shinokada/python-for-ib-diploma-mathematics/master/Data/historical_population.csv')\n",
    "print(his_pop.shape)\n",
    "print(his_pop.head(30))\n"
   ]
  },
  {
   "cell_type": "markdown",
   "metadata": {},
   "source": [
    "From the historical population data, let's select Australia's TIME and Value."
   ]
  },
  {
   "cell_type": "code",
   "execution_count": 33,
   "metadata": {},
   "outputs": [
    {
     "data": {
      "text/html": [
       "<div>\n",
       "<style scoped>\n",
       "    .dataframe tbody tr th:only-of-type {\n",
       "        vertical-align: middle;\n",
       "    }\n",
       "\n",
       "    .dataframe tbody tr th {\n",
       "        vertical-align: top;\n",
       "    }\n",
       "\n",
       "    .dataframe thead th {\n",
       "        text-align: right;\n",
       "    }\n",
       "</style>\n",
       "<table border=\"1\" class=\"dataframe\">\n",
       "  <thead>\n",
       "    <tr style=\"text-align: right;\">\n",
       "      <th></th>\n",
       "      <th>LOCATION</th>\n",
       "      <th>Country</th>\n",
       "      <th>SEX</th>\n",
       "      <th>Sex</th>\n",
       "      <th>AGE</th>\n",
       "      <th>Age</th>\n",
       "      <th>TIME</th>\n",
       "      <th>Time</th>\n",
       "      <th>Value</th>\n",
       "      <th>Flag Codes</th>\n",
       "      <th>Flags</th>\n",
       "    </tr>\n",
       "  </thead>\n",
       "  <tbody>\n",
       "    <tr>\n",
       "      <th>65893</th>\n",
       "      <td>AUS</td>\n",
       "      <td>Australia</td>\n",
       "      <td>T</td>\n",
       "      <td>Total</td>\n",
       "      <td>TOTD20-64</td>\n",
       "      <td>Total dependency ratio ((&lt;20 &amp; 65+) / 20-64)</td>\n",
       "      <td>2014</td>\n",
       "      <td>2014</td>\n",
       "      <td>0.662</td>\n",
       "      <td>NaN</td>\n",
       "      <td>NaN</td>\n",
       "    </tr>\n",
       "    <tr>\n",
       "      <th>65894</th>\n",
       "      <td>AUS</td>\n",
       "      <td>Australia</td>\n",
       "      <td>T</td>\n",
       "      <td>Total</td>\n",
       "      <td>TOTD20-64</td>\n",
       "      <td>Total dependency ratio ((&lt;20 &amp; 65+) / 20-64)</td>\n",
       "      <td>2015</td>\n",
       "      <td>2015</td>\n",
       "      <td>0.666</td>\n",
       "      <td>NaN</td>\n",
       "      <td>NaN</td>\n",
       "    </tr>\n",
       "    <tr>\n",
       "      <th>65895</th>\n",
       "      <td>AUS</td>\n",
       "      <td>Australia</td>\n",
       "      <td>T</td>\n",
       "      <td>Total</td>\n",
       "      <td>TOTD20-64</td>\n",
       "      <td>Total dependency ratio ((&lt;20 &amp; 65+) / 20-64)</td>\n",
       "      <td>2016</td>\n",
       "      <td>2016</td>\n",
       "      <td>0.672</td>\n",
       "      <td>NaN</td>\n",
       "      <td>NaN</td>\n",
       "    </tr>\n",
       "    <tr>\n",
       "      <th>65896</th>\n",
       "      <td>AUS</td>\n",
       "      <td>Australia</td>\n",
       "      <td>T</td>\n",
       "      <td>Total</td>\n",
       "      <td>TOTD20-64</td>\n",
       "      <td>Total dependency ratio ((&lt;20 &amp; 65+) / 20-64)</td>\n",
       "      <td>2017</td>\n",
       "      <td>2017</td>\n",
       "      <td>0.675</td>\n",
       "      <td>NaN</td>\n",
       "      <td>NaN</td>\n",
       "    </tr>\n",
       "    <tr>\n",
       "      <th>65897</th>\n",
       "      <td>AUS</td>\n",
       "      <td>Australia</td>\n",
       "      <td>T</td>\n",
       "      <td>Total</td>\n",
       "      <td>TOTD20-64</td>\n",
       "      <td>Total dependency ratio ((&lt;20 &amp; 65+) / 20-64)</td>\n",
       "      <td>2018</td>\n",
       "      <td>2018</td>\n",
       "      <td>0.679</td>\n",
       "      <td>NaN</td>\n",
       "      <td>NaN</td>\n",
       "    </tr>\n",
       "  </tbody>\n",
       "</table>\n",
       "</div>"
      ],
      "text/plain": [
       "      LOCATION    Country SEX    Sex        AGE  \\\n",
       "65893      AUS  Australia   T  Total  TOTD20-64   \n",
       "65894      AUS  Australia   T  Total  TOTD20-64   \n",
       "65895      AUS  Australia   T  Total  TOTD20-64   \n",
       "65896      AUS  Australia   T  Total  TOTD20-64   \n",
       "65897      AUS  Australia   T  Total  TOTD20-64   \n",
       "\n",
       "                                                Age  TIME  Time  Value  \\\n",
       "65893  Total dependency ratio ((<20 & 65+) / 20-64)  2014  2014  0.662   \n",
       "65894  Total dependency ratio ((<20 & 65+) / 20-64)  2015  2015  0.666   \n",
       "65895  Total dependency ratio ((<20 & 65+) / 20-64)  2016  2016  0.672   \n",
       "65896  Total dependency ratio ((<20 & 65+) / 20-64)  2017  2017  0.675   \n",
       "65897  Total dependency ratio ((<20 & 65+) / 20-64)  2018  2018  0.679   \n",
       "\n",
       "       Flag Codes  Flags  \n",
       "65893         NaN    NaN  \n",
       "65894         NaN    NaN  \n",
       "65895         NaN    NaN  \n",
       "65896         NaN    NaN  \n",
       "65897         NaN    NaN  "
      ]
     },
     "execution_count": 33,
     "metadata": {},
     "output_type": "execute_result"
    }
   ],
   "source": [
    "aus_pop = his_pop.loc[his_pop.Country=='Australia']\n",
    "aus_total = aus_pop.loc[aus_pop.Sex =='Total']\n",
    "aus_total.tail()"
   ]
  },
  {
   "cell_type": "code",
   "execution_count": 47,
   "metadata": {},
   "outputs": [
    {
     "name": "stdout",
     "output_type": "stream",
     "text": [
      "(406, 2)\n",
      "    Time       Value\n",
      "28  2005  20176844.0\n",
      "29  2006  20450966.0\n",
      "30  2007  20827622.0\n",
      "31  2008  21249199.0\n",
      "32  2009  21691653.0\n"
     ]
    }
   ],
   "source": [
    "# Method 1\n",
    "\n",
    "df = his_pop[(his_pop.Country=='Australia') & (his_pop.Sex =='Total')]\n",
    "\n",
    "df_aus = df.loc[:,['Time','Value']]\n",
    "print(df_aus.shape)\n",
    "print(df_aus.head())"
   ]
  },
  {
   "cell_type": "code",
   "execution_count": 45,
   "metadata": {},
   "outputs": [
    {
     "name": "stdout",
     "output_type": "stream",
     "text": [
      "(406, 2)\n",
      "    Time       Value\n",
      "28  2005  20176844.0\n",
      "29  2006  20450966.0\n",
      "30  2007  20827622.0\n",
      "31  2008  21249199.0\n",
      "32  2009  21691653.0\n"
     ]
    }
   ],
   "source": [
    "# Method 2\n",
    "\n",
    "aus = aus_total.loc[:,['Time','Value']]\n",
    "print(aus.shape)\n",
    "print(aus.head())"
   ]
  },
  {
   "cell_type": "code",
   "execution_count": 87,
   "metadata": {},
   "outputs": [
    {
     "name": "stdout",
     "output_type": "stream",
     "text": [
      "(3697, 15)\n",
      "    COU  Country          IND                        Indicator     TIME  \\\n",
      "0   HUN  Hungary      HPI_RPI              Price to rent ratio  2016-Q1   \n",
      "1   HUN  Hungary      HPI_RPI              Price to rent ratio  2016-Q2   \n",
      "2   HUN  Hungary      HPI_RPI              Price to rent ratio  2016-Q3   \n",
      "3   HUN  Hungary      HPI_RPI              Price to rent ratio  2016-Q4   \n",
      "4   HUN  Hungary      HPI_RPI              Price to rent ratio  2017-Q1   \n",
      "5   HUN  Hungary      HPI_RPI              Price to rent ratio  2017-Q2   \n",
      "6   HUN  Hungary      HPI_RPI              Price to rent ratio  2017-Q3   \n",
      "7   HUN  Hungary      HPI_RPI              Price to rent ratio  2017-Q4   \n",
      "8   HUN  Hungary      HPI_RPI              Price to rent ratio  2018-Q1   \n",
      "9   HUN  Hungary      HPI_RPI              Price to rent ratio  2018-Q2   \n",
      "10  HUN  Hungary      HPI_RPI              Price to rent ratio  2018-Q3   \n",
      "11  HUN  Hungary      HPI_RPI              Price to rent ratio  2018-Q4   \n",
      "12  HUN  Hungary      HPI_RPI              Price to rent ratio  2019-Q1   \n",
      "13  HUN  Hungary      HPI_RPI              Price to rent ratio  2019-Q2   \n",
      "14  CAN   Canada  HPI_YDH_AVG  Standardised price-income ratio  2016-Q1   \n",
      "15  CAN   Canada  HPI_YDH_AVG  Standardised price-income ratio  2016-Q2   \n",
      "16  CAN   Canada  HPI_YDH_AVG  Standardised price-income ratio  2016-Q3   \n",
      "17  CAN   Canada  HPI_YDH_AVG  Standardised price-income ratio  2016-Q4   \n",
      "18  CAN   Canada  HPI_YDH_AVG  Standardised price-income ratio  2017-Q1   \n",
      "19  CAN   Canada  HPI_YDH_AVG  Standardised price-income ratio  2017-Q2   \n",
      "20  CAN   Canada  HPI_YDH_AVG  Standardised price-income ratio  2017-Q3   \n",
      "21  CAN   Canada  HPI_YDH_AVG  Standardised price-income ratio  2017-Q4   \n",
      "22  CAN   Canada  HPI_YDH_AVG  Standardised price-income ratio  2018-Q1   \n",
      "23  CAN   Canada  HPI_YDH_AVG  Standardised price-income ratio  2018-Q2   \n",
      "24  CAN   Canada  HPI_YDH_AVG  Standardised price-income ratio  2018-Q3   \n",
      "25  CAN   Canada  HPI_YDH_AVG  Standardised price-income ratio  2018-Q4   \n",
      "26  CAN   Canada  HPI_YDH_AVG  Standardised price-income ratio  2019-Q1   \n",
      "27  CAN   Canada  HPI_YDH_AVG  Standardised price-income ratio  2019-Q2   \n",
      "28  CAN   Canada  HPI_YDH_AVG  Standardised price-income ratio  2019-Q3   \n",
      "29  MEX   Mexico          RHP   Real house price indices, s.a.  2016-Q1   \n",
      "\n",
      "       Time Unit Code    Unit  PowerCode Code PowerCode  \\\n",
      "0   Q1-2016       IDX   Index               0     Units   \n",
      "1   Q2-2016       IDX   Index               0     Units   \n",
      "2   Q3-2016       IDX   Index               0     Units   \n",
      "3   Q4-2016       IDX   Index               0     Units   \n",
      "4   Q1-2017       IDX   Index               0     Units   \n",
      "5   Q2-2017       IDX   Index               0     Units   \n",
      "6   Q3-2017       IDX   Index               0     Units   \n",
      "7   Q4-2017       IDX   Index               0     Units   \n",
      "8   Q1-2018       IDX   Index               0     Units   \n",
      "9   Q2-2018       IDX   Index               0     Units   \n",
      "10  Q3-2018       IDX   Index               0     Units   \n",
      "11  Q4-2018       IDX   Index               0     Units   \n",
      "12  Q1-2019       IDX   Index               0     Units   \n",
      "13  Q2-2019       IDX   Index               0     Units   \n",
      "14  Q1-2016         1  RATIOS               0     Units   \n",
      "15  Q2-2016         1  RATIOS               0     Units   \n",
      "16  Q3-2016         1  RATIOS               0     Units   \n",
      "17  Q4-2016         1  RATIOS               0     Units   \n",
      "18  Q1-2017         1  RATIOS               0     Units   \n",
      "19  Q2-2017         1  RATIOS               0     Units   \n",
      "20  Q3-2017         1  RATIOS               0     Units   \n",
      "21  Q4-2017         1  RATIOS               0     Units   \n",
      "22  Q1-2018         1  RATIOS               0     Units   \n",
      "23  Q2-2018         1  RATIOS               0     Units   \n",
      "24  Q3-2018         1  RATIOS               0     Units   \n",
      "25  Q4-2018         1  RATIOS               0     Units   \n",
      "26  Q1-2019         1  RATIOS               0     Units   \n",
      "27  Q2-2019         1  RATIOS               0     Units   \n",
      "28  Q3-2019         1  RATIOS               0     Units   \n",
      "29  Q1-2016       IDX   Index               0     Units   \n",
      "\n",
      "    Reference Period Code  Reference Period       Value  Flag Codes  Flags  \n",
      "0                     NaN               NaN  104.842911         NaN    NaN  \n",
      "1                     NaN               NaN  106.345921         NaN    NaN  \n",
      "2                     NaN               NaN  108.538605         NaN    NaN  \n",
      "3                     NaN               NaN  111.359379         NaN    NaN  \n",
      "4                     NaN               NaN  114.353281         NaN    NaN  \n",
      "5                     NaN               NaN  116.252465         NaN    NaN  \n",
      "6                     NaN               NaN  118.046092         NaN    NaN  \n",
      "7                     NaN               NaN  120.801072         NaN    NaN  \n",
      "8                     NaN               NaN  123.457674         NaN    NaN  \n",
      "9                     NaN               NaN  126.404983         NaN    NaN  \n",
      "10                    NaN               NaN  129.280250         NaN    NaN  \n",
      "11                    NaN               NaN  131.809932         NaN    NaN  \n",
      "12                    NaN               NaN  132.482872         NaN    NaN  \n",
      "13                    NaN               NaN  131.779296         NaN    NaN  \n",
      "14                    NaN               NaN  135.267057         NaN    NaN  \n",
      "15                    NaN               NaN  137.482825         NaN    NaN  \n",
      "16                    NaN               NaN  141.628476         NaN    NaN  \n",
      "17                    NaN               NaN  144.261771         NaN    NaN  \n",
      "18                    NaN               NaN  149.217309         NaN    NaN  \n",
      "19                    NaN               NaN  151.301775         NaN    NaN  \n",
      "20                    NaN               NaN  152.659186         NaN    NaN  \n",
      "21                    NaN               NaN  151.312350         NaN    NaN  \n",
      "22                    NaN               NaN  153.713141         NaN    NaN  \n",
      "23                    NaN               NaN  154.036392         NaN    NaN  \n",
      "24                    NaN               NaN  154.035188         NaN    NaN  \n",
      "25                    NaN               NaN  153.910760         NaN    NaN  \n",
      "26                    NaN               NaN  153.049804         NaN    NaN  \n",
      "27                    NaN               NaN  149.849113         NaN    NaN  \n",
      "28                    NaN               NaN  148.857395         NaN    NaN  \n",
      "29                    NaN               NaN  102.768652         NaN    NaN  \n"
     ]
    }
   ],
   "source": [
    "hou_pri = pd.read_csv('https://raw.githubusercontent.com/shinokada/python-for-ib-diploma-mathematics/master/Data/house_price.csv')\n",
    "print(hou_pri.shape)\n",
    "print(hou_pri.head(30))\n"
   ]
  },
  {
   "cell_type": "code",
   "execution_count": 86,
   "metadata": {},
   "outputs": [
    {
     "name": "stdout",
     "output_type": "stream",
     "text": [
      "       Country     Time       Value\n",
      "529  Australia  Q1-2016  102.570469\n",
      "530  Australia  Q2-2016  103.251741\n",
      "531  Australia  Q3-2016  105.334393\n",
      "532  Australia  Q4-2016  109.248320\n",
      "533  Australia  Q1-2017  111.593724\n",
      "534  Australia  Q2-2017  113.245666\n",
      "535  Australia  Q3-2017  113.708239\n",
      "536  Australia  Q4-2017  112.560830\n",
      "537  Australia  Q1-2018  112.363033\n",
      "538  Australia  Q2-2018  110.617956\n",
      "539  Australia  Q3-2018  109.673227\n",
      "540  Australia  Q4-2018  105.364992\n",
      "541  Australia  Q1-2019  102.057250\n",
      "542  Australia  Q2-2019  100.833799\n",
      "964  Australia  Q1-2016  101.935010\n",
      "965  Australia  Q2-2016  102.975399\n",
      "966  Australia  Q3-2016  104.829562\n",
      "967  Australia  Q4-2016  108.327238\n",
      "968  Australia  Q1-2017  110.908845\n",
      "969  Australia  Q2-2017  111.901693\n",
      "        Country     Time       Value\n",
      "2686  Australia  Q3-2018  102.094208\n",
      "2687  Australia  Q4-2018  102.245865\n",
      "2688  Australia  Q1-2019  102.366740\n",
      "2689  Australia  Q2-2019  102.406175\n",
      "2690  Australia  Q3-2019  102.463117\n"
     ]
    }
   ],
   "source": [
    "# Method 1\n",
    "df2 = hou_pri[hou_pri.Country=='Australia']\n",
    "df2_price = df2.loc[:,['Country','Time','Value']]\n",
    "print(df2_price.head(20))\n",
    "print(df2_price.tail())"
   ]
  },
  {
   "cell_type": "code",
   "execution_count": 81,
   "metadata": {},
   "outputs": [
    {
     "name": "stdout",
     "output_type": "stream",
     "text": [
      "          Value\n",
      "529  102.570469\n",
      "530  103.251741\n",
      "531  105.334393\n",
      "532  109.248320\n",
      "533  111.593724\n",
      "           Value\n",
      "2686  102.094208\n",
      "2687  102.245865\n",
      "2688  102.366740\n",
      "2689  102.406175\n",
      "2690  102.463117\n"
     ]
    }
   ],
   "source": [
    "# Method 2\n",
    "df3 = hou_pri.loc[hou_pri.Country=='Australia']\n",
    "df3_price = df2.loc[:,['Value']]\n",
    "print(df3_price.head())\n",
    "print(df3_price.tail())\n"
   ]
  },
  {
   "cell_type": "code",
   "execution_count": 80,
   "metadata": {},
   "outputs": [
    {
     "data": {
      "text/plain": [
       "0     105.101231\n",
       "1     112.777115\n",
       "2     109.504802\n",
       "3     101.950365\n",
       "4     108.991834\n",
       "5     111.327483\n",
       "6     103.470490\n",
       "7     138.642786\n",
       "8     148.768319\n",
       "9     144.451694\n",
       "10    118.175152\n",
       "11    109.565973\n",
       "12    112.723762\n",
       "13    106.031141\n",
       "14    153.444906\n",
       "15    165.214896\n",
       "16    161.789916\n",
       "17    127.333894\n",
       "18    110.737335\n",
       "19    114.692682\n",
       "20    108.436437\n",
       "21    100.752063\n",
       "22    101.390163\n",
       "23    102.051038\n",
       "24    102.412011\n",
       "Name: Value, dtype: float64"
      ]
     },
     "execution_count": 80,
     "metadata": {},
     "output_type": "execute_result"
    }
   ],
   "source": [
    "df3_price=df3_price.reset_index()\n",
    "\n",
    "\n",
    "df3_price['Value'].groupby(df3_price.index//4).mean()"
   ]
  },
  {
   "cell_type": "code",
   "execution_count": null,
   "metadata": {},
   "outputs": [],
   "source": []
  },
  {
   "cell_type": "code",
   "execution_count": null,
   "metadata": {},
   "outputs": [],
   "source": []
  },
  {
   "cell_type": "code",
   "execution_count": null,
   "metadata": {},
   "outputs": [],
   "source": []
  },
  {
   "cell_type": "code",
   "execution_count": null,
   "metadata": {},
   "outputs": [],
   "source": []
  },
  {
   "cell_type": "code",
   "execution_count": null,
   "metadata": {},
   "outputs": [],
   "source": []
  },
  {
   "cell_type": "code",
   "execution_count": null,
   "metadata": {},
   "outputs": [],
   "source": []
  },
  {
   "cell_type": "code",
   "execution_count": null,
   "metadata": {},
   "outputs": [],
   "source": []
  },
  {
   "cell_type": "code",
   "execution_count": null,
   "metadata": {},
   "outputs": [],
   "source": []
  },
  {
   "cell_type": "code",
   "execution_count": null,
   "metadata": {},
   "outputs": [],
   "source": []
  },
  {
   "cell_type": "code",
   "execution_count": null,
   "metadata": {},
   "outputs": [],
   "source": []
  },
  {
   "cell_type": "code",
   "execution_count": null,
   "metadata": {},
   "outputs": [],
   "source": []
  },
  {
   "cell_type": "code",
   "execution_count": null,
   "metadata": {},
   "outputs": [],
   "source": []
  },
  {
   "cell_type": "code",
   "execution_count": null,
   "metadata": {},
   "outputs": [],
   "source": []
  },
  {
   "cell_type": "code",
   "execution_count": null,
   "metadata": {},
   "outputs": [],
   "source": []
  },
  {
   "cell_type": "code",
   "execution_count": null,
   "metadata": {},
   "outputs": [],
   "source": []
  },
  {
   "cell_type": "markdown",
   "metadata": {},
   "source": [
    "# Conclusion\n",
    "\n",
    "Here goes conclusion"
   ]
  },
  {
   "cell_type": "code",
   "execution_count": null,
   "metadata": {},
   "outputs": [],
   "source": []
  }
 ],
 "metadata": {
  "kernelspec": {
   "display_name": "Python 3",
   "language": "python",
   "name": "python3"
  },
  "language_info": {
   "codemirror_mode": {
    "name": "ipython",
    "version": 3
   },
   "file_extension": ".py",
   "mimetype": "text/x-python",
   "name": "python",
   "nbconvert_exporter": "python",
   "pygments_lexer": "ipython3",
   "version": "3.7.5"
  }
 },
 "nbformat": 4,
 "nbformat_minor": 2
}
