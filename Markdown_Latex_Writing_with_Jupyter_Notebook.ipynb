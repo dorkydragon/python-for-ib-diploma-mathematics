{
 "cells": [
  {
   "cell_type": "markdown",
   "metadata": {},
   "source": [
    "# Markdown, Latex, Essay Writing with Jupyter Notebook\n",
    "\n",
    "* Introduction\n",
    "* Markdown\n",
    "* Latex\n",
    "* Essay writing\n",
    "\n",
    "# Introduction\n",
    "\n",
    "In this article, I will "
   ]
  },
  {
   "cell_type": "code",
   "execution_count": null,
   "metadata": {},
   "outputs": [],
   "source": []
  },
  {
   "cell_type": "code",
   "execution_count": null,
   "metadata": {},
   "outputs": [],
   "source": []
  },
  {
   "cell_type": "code",
   "execution_count": null,
   "metadata": {},
   "outputs": [],
   "source": []
  },
  {
   "cell_type": "markdown",
   "metadata": {},
   "source": [
    "# Markdown\n",
    "\n",
    "[Markdown is a lightweight markup language with plain-text-formatting syntax.](https://en.wikipedia.org/wiki/Markdown)\n",
    "\n",
    "## How to change the cell to markdown\n",
    "\n",
    "One way you can a cell to markdown is selecting Markdown from a dropdown.\n",
    "\n",
    "![select markdown](./image/markdown.png)\n",
    "\n",
    "Second way is to use a shortcut, `m` after selecting a cell. You may need to press escape if you are typing `m` in the cell.\n",
    "\n",
    "## Headers\n",
    "\n",
    "Use `#` for H1, `##` for H2 etc.\n",
    "\n",
    "```\n",
    "# Main title\n",
    "## Sub title\n",
    "```\n",
    "\n",
    "The above will print out the following.\n"
   ]
  },
  {
   "cell_type": "markdown",
   "metadata": {},
   "source": [
    "# Main title\n",
    "## Sub title"
   ]
  },
  {
   "cell_type": "markdown",
   "metadata": {},
   "source": [
    "## List\n",
    "\n",
    "- main 1\n",
    "  - sub 1\n",
    "  - sub 2\n",
    "- main 2"
   ]
  },
  {
   "cell_type": "markdown",
   "metadata": {},
   "source": []
  },
  {
   "cell_type": "markdown",
   "metadata": {},
   "source": []
  },
  {
   "cell_type": "markdown",
   "metadata": {},
   "source": []
  },
  {
   "cell_type": "markdown",
   "metadata": {},
   "source": []
  },
  {
   "cell_type": "markdown",
   "metadata": {},
   "source": []
  },
  {
   "cell_type": "markdown",
   "metadata": {},
   "source": []
  },
  {
   "cell_type": "markdown",
   "metadata": {},
   "source": []
  },
  {
   "cell_type": "markdown",
   "metadata": {},
   "source": []
  },
  {
   "cell_type": "markdown",
   "metadata": {},
   "source": []
  },
  {
   "cell_type": "markdown",
   "metadata": {},
   "source": []
  },
  {
   "cell_type": "markdown",
   "metadata": {},
   "source": [
    "# Latex"
   ]
  },
  {
   "cell_type": "markdown",
   "metadata": {},
   "source": [
    "$y=\\frac{L}{1+Ce^{-kx}}, L,k,C>0$\n"
   ]
  },
  {
   "cell_type": "markdown",
   "metadata": {},
   "source": [
    "$$y=\\frac{L}{1+Ce^{-kx}}, L,k,C>0$$"
   ]
  },
  {
   "cell_type": "code",
   "execution_count": null,
   "metadata": {},
   "outputs": [],
   "source": []
  },
  {
   "cell_type": "markdown",
   "metadata": {},
   "source": [
    "# Export to PDF\n",
    "\n",
    "Once you are done with your writing, you want to export to PDF file.\n",
    "\n",
    "[Stackoverflow](https://stackoverflow.com/questions/34818723/export-notebook-to-pdf-without-code)\n",
    "\n",
    "* Run Jupyter notebook and download the notebook in the browser: File->Download as->HTML and you will get a html page with code and output.\n",
    "\n",
    "![download as](image/downloadas.png)\n",
    "\n",
    "* Open the exported HTML with browser and activate the browser console with key F12\n",
    "\n",
    "* Run following command in the console:\n",
    "\n",
    "```\n",
    "document.querySelectorAll(\"div.input\").forEach(function(a){a.remove()})\n",
    "```\n",
    "\n",
    "* The code removes all input div DOM. Then right mouse button and chose \"Save Page As\" and Save the \"Complete page\" (not single page).\n",
    "\n",
    "* You will get a page with an associated folder in windows. Use a trick by zip the html page and then extract to unbind the associated. \n",
    "\n",
    "* Now it is a single html page without code. You can re-distribute it or print it as PDF."
   ]
  },
  {
   "cell_type": "code",
   "execution_count": null,
   "metadata": {},
   "outputs": [],
   "source": []
  },
  {
   "cell_type": "markdown",
   "metadata": {},
   "source": [
    "# References\n",
    "\n",
    "- https://markdown-guide.readthedocs.io/en/latest/basics.html#markdown-basics\n",
    "\n"
   ]
  }
 ],
 "metadata": {
  "kernelspec": {
   "display_name": "Python 3",
   "language": "python",
   "name": "python3"
  },
  "language_info": {
   "codemirror_mode": {
    "name": "ipython",
    "version": 3
   },
   "file_extension": ".py",
   "mimetype": "text/x-python",
   "name": "python",
   "nbconvert_exporter": "python",
   "pygments_lexer": "ipython3",
   "version": "3.8.1"
  }
 },
 "nbformat": 4,
 "nbformat_minor": 4
}
