{
 "cells": [
  {
   "cell_type": "markdown",
   "metadata": {},
   "source": [
    "\\begin{equation}\n",
    "P(X=x)=\\frac{e^{-m}m^x}{x!}\n",
    "\\end{equation}"
   ]
  },
  {
   "cell_type": "markdown",
   "metadata": {},
   "source": [
    "http://www.tsjshg.info/udemy/Lec93.html"
   ]
  },
  {
   "cell_type": "code",
   "execution_count": 23,
   "metadata": {},
   "outputs": [
    {
     "name": "stdout",
     "output_type": "stream",
     "text": [
      "At the peak the probability of 0 person coming is0.00％\n",
      "At the peak the probability of 1 person coming is0.01％\n",
      "At the peak the probability of 2 person coming is0.04％\n",
      "At the peak the probability of 3 person coming is0.18％\n",
      "At the peak the probability of 4 person coming is0.53％\n",
      "mean=12.0\n"
     ]
    }
   ],
   "source": [
    "# import poisson from scipy.stats\n",
    "from scipy.stats import poisson\n",
    "\n",
    "# 12 cars come to a parking lot every hour\n",
    "# use 12 for mean\n",
    "mu = 12\n",
    "\n",
    "# find mean and distribution\n",
    "mean,var = poisson.stats(mu)\n",
    "\n",
    "# Using probability mass function to find certain probability\n",
    "odds_0 = poisson.pmf(0,mu)\n",
    "odds_1 = poisson.pmf(1,mu)\n",
    "odds_2 = poisson.pmf(2,mu)\n",
    "odds_3 = poisson.pmf(3,mu)\n",
    "odds_4 = poisson.pmf(4,mu)\n",
    "\n",
    "print('At the peak the probability of 0 person coming is{:0.2f}％'.format(odds_0*100))\n",
    "print('At the peak the probability of 1 person coming is{:0.2f}％'.format(odds_1*100))\n",
    "print('At the peak the probability of 2 person coming is{:0.2f}％'.format(odds_2*100))\n",
    "print('At the peak the probability of 3 person coming is{:0.2f}％'.format(odds_3*100))\n",
    "print('At the peak the probability of 4 person coming is{:0.2f}％'.format(odds_4*100))\n",
    "\n",
    "print('mean={}'.format(mean))\n"
   ]
  },
  {
   "cell_type": "code",
   "execution_count": 24,
   "metadata": {},
   "outputs": [
    {
     "data": {
      "text/plain": [
       "array([6.14421235e-06, 7.37305482e-05, 4.42383289e-04, 1.76953316e-03,\n",
       "       5.30859947e-03, 1.27406387e-02, 2.54812775e-02, 4.36821900e-02,\n",
       "       6.55232849e-02, 8.73643799e-02, 1.04837256e-01, 1.14367916e-01,\n",
       "       1.14367916e-01, 1.05570384e-01, 9.04889002e-02, 7.23911201e-02,\n",
       "       5.42933401e-02, 3.83247107e-02, 2.55498071e-02, 1.61367203e-02,\n",
       "       9.68203217e-03, 5.53258981e-03, 3.01777626e-03, 1.57449196e-03,\n",
       "       7.87245981e-04, 3.77878071e-04, 1.74405263e-04, 7.75134504e-05,\n",
       "       3.32200502e-05, 1.37462277e-05])"
      ]
     },
     "execution_count": 24,
     "metadata": {},
     "output_type": "execute_result"
    }
   ],
   "source": [
    "# using numpy range\n",
    "import numpy as np\n",
    "\n",
    "# Find out probability from 0 to 60 cars come to the parking lot every hour\n",
    "k=np.arange(30)\n",
    "\n",
    "# Use 12 for mean that comes to the parking lot per hour\n",
    "mu = 12\n",
    "\n",
    "pmf_pois = poisson.pmf(k,mu)\n",
    "pmf_pois"
   ]
  },
  {
   "cell_type": "markdown",
   "metadata": {},
   "source": [
    "## Graph of Poisson distribution"
   ]
  },
  {
   "cell_type": "code",
   "execution_count": 34,
   "metadata": {},
   "outputs": [
    {
     "data": {
      "text/plain": [
       "<BarContainer object of 30 artists>"
      ]
     },
     "execution_count": 34,
     "metadata": {},
     "output_type": "execute_result"
    },
    {
     "data": {
      "image/png": "[encoded data removed]",
      "text/plain": [
       "<Figure size 432x288 with 1 Axes>"
      ]
     },
     "metadata": {
      "needs_background": "light"
     },
     "output_type": "display_data"
    }
   ],
   "source": [
    "import matplotlib.pyplot as plt\n",
    "import seaborn as sns\n",
    "%matplotlib inline\n",
    "# sns.__version__\n",
    "\n",
    "plt.bar(k,pmf_pois)\n",
    "#plt.show(k,pmf_pois)"
   ]
  },
  {
   "cell_type": "code",
   "execution_count": 30,
   "metadata": {},
   "outputs": [
    {
     "data": {
      "image/png": "[encoded data removed]",
      "text/plain": [
       "<Figure size 432x288 with 1 Axes>"
      ]
     },
     "metadata": {
      "needs_background": "light"
     },
     "output_type": "display_data"
    }
   ],
   "source": [
    "x = np.random.normal(size=100)\n",
    "sns.distplot(x);"
   ]
  },
  {
   "cell_type": "code",
   "execution_count": null,
   "metadata": {},
   "outputs": [],
   "source": []
  }
 ],
 "metadata": {
  "kernelspec": {
   "display_name": "Python 3",
   "language": "python",
   "name": "python3"
  },
  "language_info": {
   "codemirror_mode": {
    "name": "ipython",
    "version": 3
   },
   "file_extension": ".py",
   "mimetype": "text/x-python",
   "name": "python",
   "nbconvert_exporter": "python",
   "pygments_lexer": "ipython3",
   "version": "3.7.4"
  }
 },
 "nbformat": 4,
 "nbformat_minor": 2
}
