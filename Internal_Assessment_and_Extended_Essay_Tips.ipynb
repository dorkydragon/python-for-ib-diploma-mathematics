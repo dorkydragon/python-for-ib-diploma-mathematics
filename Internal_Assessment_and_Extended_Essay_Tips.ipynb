{
 "cells": [
  {
   "cell_type": "markdown",
   "metadata": {},
   "source": [
    "\n",
    "\n",
    "\n",
    "Note if you are doing prediction\n",
    "Find useful prediction which gives you the next action. How do you use it? What is the value of your prediction? Prediction is not about the future, it is about now.\n",
    "Think about how to use your prediction.\n",
    "Discuss errors. There are errors you can reduce and can not reduce. Identify them and explain how to reduce them.\n",
    "Discuss what your prediction tells about the next action."
   ]
  }
 ],
 "metadata": {
  "kernelspec": {
   "display_name": "Python 3",
   "language": "python",
   "name": "python3"
  },
  "language_info": {
   "codemirror_mode": {
    "name": "ipython",
    "version": 3
   },
   "file_extension": ".py",
   "mimetype": "text/x-python",
   "name": "python",
   "nbconvert_exporter": "python",
   "pygments_lexer": "ipython3",
   "version": "3.7.6"
  }
 },
 "nbformat": 4,
 "nbformat_minor": 2
}
