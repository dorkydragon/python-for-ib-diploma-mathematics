{
 "cells": [
  {
   "cell_type": "markdown",
   "metadata": {},
   "source": [
    "# List of Data Sources\n",
    "\n",
    "## General\n",
    "\n",
    "- [Google](https://toolbox.google.com/datasetsearch)\n",
    "- [Data world, finance, crime, economy, Twitter, NASA](https://data.world/)\n",
    "- [Gapminder](https://www.gapminder.org/data/)\n",
    "- [Kaggle](https://data.world/)\n",
    "- [Fivethirtyeight, sports, politics, etc](https://github.com/fivethirtyeight/data)\n",
    "- [BuzzfeedNews](https://github.com/BuzzFeedNews/everything)\n",
    "-[Opendata](https://opendata.socrata.com/)\n",
    "- [Quandl, financial, economic, etc.](https://www.quandl.com/)\n",
    "- [Reddit](https://www.reddit.com/r/datasets/)\n",
    "- [UCI](https://archive.ics.uci.edu/ml/index.php)\n",
    "- [Academictorrents](http://academictorrents.com/browse.php?cat=6)\n",
    "\n",
    "## Governments\n",
    "\n",
    "-[US](https://www.data.gov/)\n",
    "- [UK](https://data.gov.uk/)\n",
    "- [OECD](https://data.oecd.org/)\n",
    "- [Australia](https://data.gov.au/)\n",
    "- [NZ](https://www.data.govt.nz/)\n",
    "- [Dataportals, city, country, etc.](https://datacatalogs.org/search)\n",
    "- [World Bank Open Data, global development data](https://data.worldbank.org/)\n",
    "\n",
    "\n",
    "## Sports\n",
    "\n",
    "- [The Statistics in Sports Section](https://community.amstat.org/sis/sportsdataresources)\n",
    "- [Sport reference](https://www.sports-reference.com/)\n",
    "\n",
    "\n",
    "\n"
   ]
  }
 ],
 "metadata": {
  "kernelspec": {
   "display_name": "Python 3",
   "language": "python",
   "name": "python3"
  },
  "language_info": {
   "codemirror_mode": {
    "name": "ipython",
    "version": 3
   },
   "file_extension": ".py",
   "mimetype": "text/x-python",
   "name": "python",
   "nbconvert_exporter": "python",
   "pygments_lexer": "ipython3",
   "version": "3.7.6"
  }
 },
 "nbformat": 4,
 "nbformat_minor": 4
}
