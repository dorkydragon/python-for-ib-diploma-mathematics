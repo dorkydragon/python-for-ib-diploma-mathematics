{
 "cells": [
  {
   "cell_type": "markdown",
   "metadata": {},
   "source": [
    "In this article, I will show the necessary steps using Python to find Spearman's rank correlation coefficient.\n",
    "\n",
    "Spearman's rank correlation uses ordinal data. Examples of ordinal data are:\n",
    "\n",
    "- 1st, 2nd, 3rd, \n",
    "- Small, Medium, Large, XL,\n",
    "- Strongly agree, Agree, Neutral, Disagree, Strongly Disagree\n",
    "- Very often, Often, Not Often, Not at all\n",
    "\n",
    "Spearman's rank correlation coefficient, $r_s$ shows the correlation between two ordinal data how one ordinal data increases or decreases as the other ordinal increases which are described as \"monotonic\". \n",
    "\n",
    "$$r_s=1-\\frac{6\\sum d^2}{n(n^2-1)}$$\n",
    "\n",
    "This formla is an alternative to Pearson's correlation if the the data are ordinal and monotonic and if there are no ties in data.\n",
    "\n",
    "A value of 1 means the set of data is strictly increasing and the value of -1 means it is strictly decreasing. A value of 0 means that data shows no monotonic behavior. the Spearman correlation between two variables will be high when an observation has a similar rank between the two variables.\n",
    "\n",
    "You can find all the code from this [link](https://github.com/shinokada/python-for-ib-diploma-mathematics/blob/master/Spearman's%20rank%20correlation%20coefficient.ipynb).\n",
    "\n",
    "Let's start.\n",
    "\n",
    "We need to import necessary libraries."
   ]
  },
  {
   "cell_type": "code",
   "execution_count": 21,
   "metadata": {},
   "outputs": [],
   "source": [
    "from scipy.stats import chi2_contingency\n",
    "import pandas as pd\n",
    "import numpy as np\n",
    "import seaborn as sns; sns.set()\n",
    "from scipy.stats import spearmanr"
   ]
  },
  {
   "cell_type": "markdown",
   "metadata": {},
   "source": [
    "## Example of the Spearman's Rank Correlation Test using two sets of list."
   ]
  },
  {
   "cell_type": "markdown",
   "metadata": {},
   "source": [
    "Let's find how the correlation of the rank at 5km relate to the rank of 10km run."
   ]
  },
  {
   "cell_type": "code",
   "execution_count": 46,
   "metadata": {},
   "outputs": [
    {
     "name": "stdout",
     "output_type": "stream",
     "text": [
      "rs=0.678571, p-value=0.093750\n",
      "At 5% level of significance, the final rankings is not significant or independent\n"
     ]
    }
   ],
   "source": [
    "fivekm = [1,2,3,4,5,6,7]\n",
    "tenkm=[3,2,1,5,7,4,6]\n",
    "rs, pval = spearmanr(fivekm, tenkm)\n",
    "print('rs=%.6f, p-value=%.6f' % (rs, pval))\n",
    "if pval < 0.05:\n",
    "\tprint('At 5% level of significance, the final rankings is significant or dependent')\n",
    "else:\n",
    "\tprint('At 5% level of significance, the final rankings is not significant or independent')"
   ]
  },
  {
   "cell_type": "markdown",
   "metadata": {},
   "source": [
    "p-value is the level of significance. It determines the probability that the correlation happened by chance.\n"
   ]
  },
  {
   "cell_type": "markdown",
   "metadata": {},
   "source": [
    "Example using Pandas dataframe."
   ]
  },
  {
   "cell_type": "code",
   "execution_count": 13,
   "metadata": {},
   "outputs": [
    {
     "data": {
      "text/html": [
       "<div>\n",
       "<style scoped>\n",
       "    .dataframe tbody tr th:only-of-type {\n",
       "        vertical-align: middle;\n",
       "    }\n",
       "\n",
       "    .dataframe tbody tr th {\n",
       "        vertical-align: top;\n",
       "    }\n",
       "\n",
       "    .dataframe thead th {\n",
       "        text-align: right;\n",
       "    }\n",
       "</style>\n",
       "<table border=\"1\" class=\"dataframe\">\n",
       "  <thead>\n",
       "    <tr style=\"text-align: right;\">\n",
       "      <th></th>\n",
       "      <th>After 5km</th>\n",
       "      <th>End of race</th>\n",
       "    </tr>\n",
       "  </thead>\n",
       "  <tbody>\n",
       "    <tr>\n",
       "      <th>0</th>\n",
       "      <td>1</td>\n",
       "      <td>3</td>\n",
       "    </tr>\n",
       "    <tr>\n",
       "      <th>1</th>\n",
       "      <td>2</td>\n",
       "      <td>2</td>\n",
       "    </tr>\n",
       "    <tr>\n",
       "      <th>2</th>\n",
       "      <td>3</td>\n",
       "      <td>1</td>\n",
       "    </tr>\n",
       "    <tr>\n",
       "      <th>3</th>\n",
       "      <td>4</td>\n",
       "      <td>5</td>\n",
       "    </tr>\n",
       "    <tr>\n",
       "      <th>4</th>\n",
       "      <td>5</td>\n",
       "      <td>7</td>\n",
       "    </tr>\n",
       "    <tr>\n",
       "      <th>5</th>\n",
       "      <td>6</td>\n",
       "      <td>4</td>\n",
       "    </tr>\n",
       "    <tr>\n",
       "      <th>6</th>\n",
       "      <td>7</td>\n",
       "      <td>6</td>\n",
       "    </tr>\n",
       "  </tbody>\n",
       "</table>\n",
       "</div>"
      ],
      "text/plain": [
       "   After 5km  End of race\n",
       "0          1            3\n",
       "1          2            2\n",
       "2          3            1\n",
       "3          4            5\n",
       "4          5            7\n",
       "5          6            4\n",
       "6          7            6"
      ]
     },
     "execution_count": 13,
     "metadata": {},
     "output_type": "execute_result"
    }
   ],
   "source": [
    "race = pd.DataFrame(\n",
    "    [\n",
    "        [1,3],\n",
    "        [2,2],\n",
    "        [3,1],\n",
    "        [4,5],\n",
    "        [5,7],\n",
    "        [6,4],\n",
    "        [7,6]\n",
    "    ],\n",
    "    columns=[\"After 5km\",\"End of race\"])\n",
    "race"
   ]
  },
  {
   "cell_type": "markdown",
   "metadata": {},
   "source": [
    "Let's plot this data using Pandas plot()."
   ]
  },
  {
   "cell_type": "code",
   "execution_count": 20,
   "metadata": {},
   "outputs": [
    {
     "data": {
      "text/plain": [
       "<matplotlib.axes._subplots.AxesSubplot at 0x11db91350>"
      ]
     },
     "execution_count": 20,
     "metadata": {},
     "output_type": "execute_result"
    },
    {
     "data": {
      "image/png": "[encoded data removed]",
      "text/plain": [
       "<Figure size 432x288 with 1 Axes>"
      ]
     },
     "metadata": {
      "needs_background": "light"
     },
     "output_type": "display_data"
    }
   ],
   "source": [
    "race.plot.scatter(x='After 5km',y='End of race',c='red')"
   ]
  },
  {
   "cell_type": "markdown",
   "metadata": {},
   "source": [
    "We can plot using Seaborn."
   ]
  },
  {
   "cell_type": "code",
   "execution_count": 22,
   "metadata": {},
   "outputs": [
    {
     "data": {
      "text/plain": [
       "<matplotlib.axes._subplots.AxesSubplot at 0x11e845950>"
      ]
     },
     "execution_count": 22,
     "metadata": {},
     "output_type": "execute_result"
    },
    {
     "data": {
      "image/png": "[encoded data removed]",
      "text/plain": [
       "<Figure size 432x288 with 1 Axes>"
      ]
     },
     "metadata": {},
     "output_type": "display_data"
    }
   ],
   "source": [
    "sns.scatterplot(x='After 5km',y='End of race',data=race)"
   ]
  },
  {
   "cell_type": "markdown",
   "metadata": {},
   "source": [
    "We find $r_s$ and p-value."
   ]
  },
  {
   "cell_type": "code",
   "execution_count": 34,
   "metadata": {},
   "outputs": [
    {
     "name": "stdout",
     "output_type": "stream",
     "text": [
      "rs=0.678571, p-value=0.093750\n"
     ]
    }
   ],
   "source": [
    "rs, pval = spearmanr(race)\n",
    "print('rs=%.6f, p-value=%.6f' % (rs, pval))"
   ]
  },
  {
   "cell_type": "markdown",
   "metadata": {},
   "source": [
    "You can use raw data and `spearmanr`  "
   ]
  },
  {
   "cell_type": "code",
   "execution_count": 35,
   "metadata": {},
   "outputs": [
    {
     "name": "stdout",
     "output_type": "stream",
     "text": [
      "   Set A  Set B\n",
      "0      3      4\n",
      "1      5      4\n",
      "2      6      2\n",
      "3      6      4\n",
      "4      8      9\n",
      "5     11      7\n",
      "rs=0.585239, p-value=0.222365\n"
     ]
    }
   ],
   "source": [
    "rawdata = pd.DataFrame(\n",
    "    [\n",
    "        [3,4],\n",
    "        [5,4],\n",
    "        [6,2],\n",
    "        [6,4],\n",
    "        [8,9],\n",
    "        [11,7]\n",
    "    ],\n",
    "    columns=[\"Set A\",\"Set B\"])\n",
    "print(rawdata)\n",
    "rs, pval = spearmanr(rawdata)\n",
    "print('rs=%.6f, p-value=%.6f' % (rs, pval))"
   ]
  },
  {
   "cell_type": "code",
   "execution_count": 36,
   "metadata": {},
   "outputs": [
    {
     "name": "stdout",
     "output_type": "stream",
     "text": [
      "   Ranking of A  Ranking of B\n",
      "0           1.0             3\n",
      "1           2.0             3\n",
      "2           3.5             1\n",
      "3           3.5             3\n",
      "4           5.0             6\n",
      "5           6.0             5\n",
      "rs=0.585239, p-value=0.222365\n"
     ]
    }
   ],
   "source": [
    "ordinaldata = pd.DataFrame(\n",
    "    [\n",
    "        [1.0,3],\n",
    "        [2.0,3],\n",
    "        [3.5,1],\n",
    "        [3.5,3],\n",
    "        [5.0,6],\n",
    "        [6.0,5]\n",
    "    ],\n",
    "    columns=[\"Ranking of A\",\"Ranking of B\"])\n",
    "print(ordinaldata)\n",
    "rs, pval = spearmanr(ordinaldata)\n",
    "print('rs=%.6f, p-value=%.6f' % (rs, pval))"
   ]
  },
  {
   "cell_type": "markdown",
   "metadata": {},
   "source": [
    "Finding ranking of the above data and "
   ]
  },
  {
   "cell_type": "code",
   "execution_count": 37,
   "metadata": {},
   "outputs": [
    {
     "name": "stdout",
     "output_type": "stream",
     "text": [
      "rs=1.000000, p-value=0.000000\n"
     ]
    }
   ],
   "source": [
    "race2 = pd.DataFrame(\n",
    "    [\n",
    "        [1,1],\n",
    "        [2,2],\n",
    "        [3,3],\n",
    "        [4,4],\n",
    "        [5,5],\n",
    "        [6,6],\n",
    "        [7,7]\n",
    "    ],\n",
    "    columns=[\"After 5km\",\"End of race\"])\n",
    "rs, pval = spearmanr(race2)\n",
    "print('rs=%.6f, p-value=%.6f' % (rs, pval))"
   ]
  },
  {
   "cell_type": "code",
   "execution_count": 38,
   "metadata": {},
   "outputs": [
    {
     "name": "stdout",
     "output_type": "stream",
     "text": [
      "rs=-1.000000, p-value=0.000000\n"
     ]
    }
   ],
   "source": [
    "race3 = pd.DataFrame(\n",
    "    [\n",
    "        [1,7],\n",
    "        [2,6],\n",
    "        [3,5],\n",
    "        [4,4],\n",
    "        [5,3],\n",
    "        [6,2],\n",
    "        [7,1]\n",
    "    ],\n",
    "    columns=[\"After 5km\",\"End of race\"])\n",
    "rs, pval = spearmanr(race3)\n",
    "print('rs=%.6f, p-value=%.6f' % (rs, pval))"
   ]
  },
  {
   "cell_type": "code",
   "execution_count": 40,
   "metadata": {},
   "outputs": [
    {
     "name": "stdout",
     "output_type": "stream",
     "text": [
      "rs=-0.464286, p-value=0.293934\n"
     ]
    }
   ],
   "source": [
    "race4 = pd.DataFrame(\n",
    "    [\n",
    "        [1,6],\n",
    "        [4,7],\n",
    "        [3,1],\n",
    "        [2,8],\n",
    "        [6,5],\n",
    "        [7,2],\n",
    "        [8,4]\n",
    "    ],\n",
    "    columns=[\"After 5km\",\"End of race\"])\n",
    "rs, pval = spearmanr(race4)\n",
    "print('rs=%.6f, p-value=%.6f' % (rs, pval))"
   ]
  },
  {
   "cell_type": "markdown",
   "metadata": {},
   "source": [
    "# Examples to use Spearman's correlation are:\n",
    "\n",
    "- [IQ of a person with the number of hours spent on games](https://www.wikiwand.com/en/Spearman%27s_rank_correlation_coefficient)\n",
    "- [Physics and Math ranks](https://www.statisticshowto.datasciencecentral.com/spearman-rank-correlation-definition-calculate/)\n",
    "- [Free university meals and their CGPA scores](https://www.toppr.com/guides/business-mathematics-and-statistics/correlation-and-regression/rank-correlation/)\n",
    "\n",
    "You can use [the null hypothesis for this test](https://statistics.laerd.com/statistical-guides/spearmans-rank-order-correlation-statistical-guide-2.php). \n",
    "\n",
    "# Reference\n",
    "\n",
    "- To compare the Spearman correlation and the Pearson correlation, please read [A comparison of the Pearson and Spearman correlation here](https://support.minitab.com/en-us/minitab-express/1/help-and-how-to/modeling-statistics/regression/supporting-topics/basics/a-comparison-of-the-pearson-and-spearman-correlation-methods/) \n",
    "\n",
    "- \n",
    "\n",
    "-\n",
    "\n",
    "-\n",
    "\n",
    "\n"
   ]
  },
  {
   "cell_type": "code",
   "execution_count": null,
   "metadata": {},
   "outputs": [],
   "source": []
  }
 ],
 "metadata": {
  "kernelspec": {
   "display_name": "Python 3",
   "language": "python",
   "name": "python3"
  },
  "language_info": {
   "codemirror_mode": {
    "name": "ipython",
    "version": 3
   },
   "file_extension": ".py",
   "mimetype": "text/x-python",
   "name": "python",
   "nbconvert_exporter": "python",
   "pygments_lexer": "ipython3",
   "version": "3.7.5"
  }
 },
 "nbformat": 4,
 "nbformat_minor": 2
}
