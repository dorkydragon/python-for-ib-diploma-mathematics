{
 "cells": [
  {
   "cell_type": "markdown",
   "metadata": {},
   "source": [
    "# Everything you need to know about Variance\n",
    "## Variance beginners\n",
    "\n",
    "# Introduction\n",
    "\n",
    "- Sample variance\n",
    "- Standard variance\n",
    "- \n",
    "\n",
    "\n",
    "\n",
    "# Sample variance\n",
    "\n",
    "Python's `statistics.variance` returns a sample variance.\n",
    "\n",
    "\n",
    "$$\n",
    "s^2 _{n-1} = \\frac{1}{n-1} \\\n",
    "$$\n"
   ]
  },
  {
   "cell_type": "code",
   "execution_count": 2,
   "metadata": {},
   "outputs": [
    {
     "name": "stdout",
     "output_type": "stream",
     "text": [
      "0.40924\n",
      "0.639718688174732\n"
     ]
    }
   ],
   "source": [
    "import statistics\n",
    "import math\n",
    " \n",
    "sample = [2.74, 1.23, 2.63, 2.22, 3, 1.98] \n",
    "\n",
    "var1 = statistics.variance(sample)\n",
    "print(var1)\n",
    "std1 = math.sqrt(var1)\n",
    "print(std1)"
   ]
  },
  {
   "cell_type": "code",
   "execution_count": null,
   "metadata": {},
   "outputs": [],
   "source": []
  },
  {
   "cell_type": "code",
   "execution_count": 4,
   "metadata": {},
   "outputs": [
    {
     "name": "stdout",
     "output_type": "stream",
     "text": [
      "0.40924000000000005\n",
      "0.639718688174732\n"
     ]
    }
   ],
   "source": [
    "import numpy as np\n",
    "var2 = np.var(sample,ddof=1)\n",
    "print(var2)\n",
    "std2 = math.sqrt(var2)\n",
    "print(std2)"
   ]
  },
  {
   "cell_type": "code",
   "execution_count": null,
   "metadata": {},
   "outputs": [],
   "source": []
  },
  {
   "cell_type": "markdown",
   "metadata": {},
   "source": [
    "# Standard variance"
   ]
  },
  {
   "cell_type": "code",
   "execution_count": 5,
   "metadata": {},
   "outputs": [
    {
     "name": "stdout",
     "output_type": "stream",
     "text": [
      "0.34103333333333335\n",
      "0.5839805932848569\n"
     ]
    }
   ],
   "source": [
    "var3 = np.var(sample)\n",
    "print(var3)\n",
    "std3 = math.sqrt(var3)\n",
    "print(std3)"
   ]
  },
  {
   "cell_type": "markdown",
   "metadata": {},
   "source": [
    "## TI-nspire\n",
    "\n",
    "![tinspire1](./image/tinspire1.png)\n",
    "\n",
    "![tinspire2](./image/tinspire2.png)"
   ]
  },
  {
   "cell_type": "code",
   "execution_count": null,
   "metadata": {},
   "outputs": [],
   "source": []
  },
  {
   "cell_type": "code",
   "execution_count": null,
   "metadata": {},
   "outputs": [],
   "source": []
  },
  {
   "cell_type": "code",
   "execution_count": null,
   "metadata": {},
   "outputs": [],
   "source": []
  },
  {
   "cell_type": "code",
   "execution_count": null,
   "metadata": {},
   "outputs": [],
   "source": []
  }
 ],
 "metadata": {
  "kernelspec": {
   "display_name": "Python 3",
   "language": "python",
   "name": "python3"
  },
  "language_info": {
   "codemirror_mode": {
    "name": "ipython",
    "version": 3
   },
   "file_extension": ".py",
   "mimetype": "text/x-python",
   "name": "python",
   "nbconvert_exporter": "python",
   "pygments_lexer": "ipython3",
   "version": "3.7.6"
  }
 },
 "nbformat": 4,
 "nbformat_minor": 2
}
