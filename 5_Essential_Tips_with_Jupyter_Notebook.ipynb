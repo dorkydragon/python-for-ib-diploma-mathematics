{
 "cells": [
  {
   "cell_type": "markdown",
   "metadata": {},
   "source": [
    "# 5 Essential Tips with Jupyter Notebook\n",
    "## Before Start Writing Your First Data Science Article\n",
    "\n",
    "* Introduction\n",
    "* Jupyter Notebook\n",
    "* Jupyter Themes\n",
    "* Markdown\n",
    "* Latex\n",
    "* Printing PDF\n",
    "\n",
    "# Introduction\n",
    "\n",
    "In this article, I will cover must-know items for Jupyter Notebook. If you know these things you will be ready to write your first data science article.  "
   ]
  },
  {
   "cell_type": "markdown",
   "metadata": {},
   "source": [
    "# Jupyter Notebook \n",
    "## Help & Shortcuts\n",
    "\n",
    "Shortcuts will speed up your writing. Pressing `h` toggles the keyboards shortcuts screen. You can see all commands by pressing &#8984;&#8679;f. I use the following shortcuts often and it will be useful if you can memorize them.\n",
    "\n",
    "Symbol  | Name\n",
    "------- |-----\n",
    "&#8984; |Command, Cmd \n",
    "&#8963; |Control, Ctl\n",
    "&#8997; |Option Opt \n",
    "&#8679; |Shift \n",
    "&#8617; |Retrun\n",
    "&#9251; |Space\n",
    "&#8677; |Tab  \n",
    "\n",
    "<br>\n",
    "\n",
    "Shortcut | Function\n",
    "---------|---------\n",
    "&#8679;&#8617; | Run cell and select below\n",
    "&#8963;&#8617; | Run selected cells\n",
    "&#8997;&#8617; | Run cell and insert below\n",
    "m | Change cell to markdown\n",
    "y | Change cell to code\n",
    "h | Toggle help\n",
    "&#8984;&#8679;f | Open the command palette\n",
    "a | Insert cell above\n",
    "b | Insert cell below\n",
    "\n",
    "<br>\n",
    "## Line number\n",
    "\n",
    "View > Toggle Line Numbers\n",
    "\n",
    "# Theme\n",
    "\n",
    "Before we start our Jupyter journey, we need a eye pleasing theme. A nice Jupyter theme for your Jupyter Notebook is like a nice pillow for your sleep. You are going to spend a lot of time writing with Jupyter Notebook, let's find a nice theme for your taste and modify font sizes. We need to take care of our eyes. \n",
    "\n",
    "Let's install [JupyterThemes](https://github.com/dunovank/jupyter-themes). Open your terminal and type the followings."
   ]
  },
  {
   "cell_type": "raw",
   "metadata": {},
   "source": [
    "# install jupyterthemes\n",
    "pip install jupyterthemes\n",
    "\n",
    "# upgrade to latest version\n",
    "pip install --upgrade jupyterthemes"
   ]
  },
  {
   "cell_type": "markdown",
   "metadata": {},
   "source": [
    "There are nine themes, chesterish, grade3, ggruvboxd, gruvboxl, monokai, oceans16, onedork, solarizedd, solarizedl. \n",
    "\n",
    "![chesterish](./image/themes/chesterish.png)|![grade3](./image/themes/grade3.png)|![gruvboxd](./image/themes/gruvboxd.png)\n",
    "-|-|-\n",
    "chesterish | grade3 |gruvboxd\n",
    "\n",
    "![gruvboxl](./image/themes/gruvboxl.png)|![monokai](./image/themes/monokai.png)|![ocean16](./image/themes/ocean16.png)\n",
    "-|-|-\n",
    "gruvboxl|monokai|ocean16\n",
    "\n",
    "![onedork](./image/themes/onedork.png)|![solarizedd](./image/themes/solarizedd.png)|![solarizedl](./image/themes/solarizedl.png)\n",
    "-|-|-\n",
    "ondork|solarizedd|solarizedl\n",
    "\n",
    "<br>\n",
    "\n",
    "If you want to use ocean16, you can change your theme in a Jupyter Notebook cell by typing the following and hit shift+enter."
   ]
  },
  {
   "cell_type": "raw",
   "metadata": {},
   "source": [
    "!jt -t oceans16"
   ]
  },
  {
   "cell_type": "markdown",
   "metadata": {},
   "source": [
    "If you want to reset the theme."
   ]
  },
  {
   "cell_type": "raw",
   "metadata": {},
   "source": [
    "!jt -r"
   ]
  },
  {
   "cell_type": "markdown",
   "metadata": {},
   "source": [
    "## Font & Fontsize\n",
    "\n",
    "### Method one\n",
    "\n",
    "The following image shows the position of fonts. \n",
    "![Jupyter theme font](./image/tf1.png)\n",
    "\n",
    "The following image shows the font size.\n",
    "![Jupyter theme fontsize](./image/tf.png)\n",
    "\n",
    "If you want to change the text cell font and fontsize you can type the following in a cell and hit shift+enter."
   ]
  },
  {
   "cell_type": "raw",
   "metadata": {},
   "source": [
    "!jt -t oceans16 -tf merriserif -tfs 14 -nf ptsans -nfs 14"
   ]
  },
  {
   "cell_type": "markdown",
   "metadata": {},
   "source": [
    "You can find [all font types here](https://github.com/dunovank/jupyter-themes#monospace-fonts-code-cells).\n",
    "\n",
    "You can try the following setting."
   ]
  },
  {
   "cell_type": "raw",
   "metadata": {},
   "source": [
    "!jt -t grade3 -tf firacode -tfs 13 -mathfs 110 -fs 13 -N -T "
   ]
  },
  {
   "cell_type": "markdown",
   "metadata": {},
   "source": [
    "### Method two\n",
    "\n",
    "If you do not want to to change the theme but want to change font size and font, then you can change the CSS. Open `.jupyter\\custom\\custom.css` in a editor. If you don't have an editor, please install [VS code](https://code.visualstudio.com/download).\n",
    "\n",
    "And paste the followings. You can change `font-size:110%` to any number as you like."
   ]
  },
  {
   "cell_type": "raw",
   "metadata": {},
   "source": [
    "body {\n",
    "    /*font-size: 1.5em;*/\n",
    "}\n",
    "\n",
    "div#notebook p, div#notebook{\n",
    "    font-size: 110%\n",
    "}\n",
    "\n",
    ".rendered_html pre, .rendered_html table{\n",
    "    font-size:110%\n",
    "}\n",
    "\n",
    ".CodeMirror, .CodeMirror pre, .CodeMirror-dialog, .CodeMirror-dialog .CodeMirror-search-field, .terminal-app .terminal {\n",
    "    font-size: 110%;\n",
    "}"
   ]
  },
  {
   "cell_type": "markdown",
   "metadata": {},
   "source": [
    "Save the file and reload the page to see the change."
   ]
  },
  {
   "cell_type": "markdown",
   "metadata": {},
   "source": [
    "# Markdown\n",
    "\n",
    "Markdown is a lightweight markup language with plain-text-formatting syntax.[Wikipedia](https://en.wikipedia.org/wiki/Markdown)\n",
    "\n",
    "## How to change the cell to markdown\n",
    "\n",
    "One way to change a cell to markdown is selecting Markdown from a dropdown.\n",
    "\n",
    "![select markdown](./image/markdown.png)\n",
    "\n",
    "Another way is to use a shortcut, `m` after selecting a cell. You may need to press escape if you are typing `m` in the cell. `y` change a cell to code.\n",
    "\n",
    "\n",
    "## Headers\n",
    "\n",
    "Use `#` for H1, `##` for H2 etc."
   ]
  },
  {
   "cell_type": "raw",
   "metadata": {},
   "source": [
    "# Main title\n",
    "## Sub title\n",
    "### H3 title\n",
    "#### H4 title"
   ]
  },
  {
   "cell_type": "markdown",
   "metadata": {},
   "source": [
    "The above will print out the following.\n",
    "\n",
    "# Main title\n",
    "## Sub title\n",
    "### H3 title\n",
    "#### H4 title"
   ]
  },
  {
   "cell_type": "markdown",
   "metadata": {},
   "source": [
    "## List\n",
    "\n",
    "You can use * or - to create an unordered list. You can use numbers for an ordered list."
   ]
  },
  {
   "cell_type": "raw",
   "metadata": {},
   "source": [
    "- main 1\n",
    "  - sub 1\n",
    "  - sub 2\n",
    "- main 2\n",
    "- main 3\n",
    "\n",
    "1. Main list 1\n",
    "2. Main list 2\n",
    "  - Sub list 2-1\n",
    "  - Sub list 2-2\n",
    "3. Main list 3"
   ]
  },
  {
   "cell_type": "markdown",
   "metadata": {},
   "source": [
    "The above produces the followings.\n",
    "\n",
    "- main 1\n",
    "  - sub 1\n",
    "  - sub 2\n",
    "- main 2\n",
    "- main 3\n",
    "\n",
    "\n",
    "1. Main list 1\n",
    "2. Main list 2\n",
    "  - Sub list 2-1\n",
    "  - Sub list 2-2\n",
    "3. Main list 3"
   ]
  },
  {
   "cell_type": "markdown",
   "metadata": {},
   "source": [
    "## Link\n",
    "\n",
    "You need to use `[Link name](url)` for links."
   ]
  },
  {
   "cell_type": "raw",
   "metadata": {},
   "source": [
    "[Google](https://www.google.com)"
   ]
  },
  {
   "cell_type": "markdown",
   "metadata": {},
   "source": [
    "\n",
    "The above code produces,[Google](https://www.google.com)."
   ]
  },
  {
   "cell_type": "markdown",
   "metadata": {},
   "source": [
    "## Image\n",
    "\n",
    "You need to use `![alt text](link)` for images.\n"
   ]
  },
  {
   "cell_type": "raw",
   "metadata": {},
   "source": [
    "![alt text here](https://github.com/adam-p/markdown-here/raw/master/src/common/images/icon48.png \"Logo Title Text 1\")"
   ]
  },
  {
   "cell_type": "markdown",
   "metadata": {},
   "source": [
    "\n",
    "The above markdown produces: ![alt text](https://github.com/adam-p/markdown-here/raw/master/src/common/images/icon48.png \"Logo Title Text 1\").\n",
    "\n"
   ]
  },
  {
   "cell_type": "markdown",
   "metadata": {},
   "source": [
    "## Tables\n",
    "\n",
    "To add a table, use three or more hyphens (---) to create each column’s header, and use pipes (|) to separate each column. You can optionally add pipes on either end of the table.\n",
    "\n"
   ]
  },
  {
   "cell_type": "raw",
   "metadata": {},
   "source": [
    "| Syntax      | Description |\n",
    "| ----------- | ----------- |\n",
    "| Header      | Title       |\n",
    "| Paragraph   | Text        |"
   ]
  },
  {
   "cell_type": "markdown",
   "metadata": {},
   "source": [
    "The rendered output looks like this:\n",
    "\n",
    "<br>\n",
    "\n",
    "| Syntax      | Description |\n",
    "| ----------- | ----------- |\n",
    "| Header      | Title       |\n",
    "| Paragraph   | Text        |"
   ]
  },
  {
   "cell_type": "markdown",
   "metadata": {},
   "source": [
    "If you want to know more, please read [this page](https://github.com/adam-p/markdown-here/wiki/Markdown-Cheatsheet)"
   ]
  },
  {
   "cell_type": "markdown",
   "metadata": {},
   "source": [
    "# Latex\n",
    "\n",
    "[LaTeX](https://en.wikipedia.org/wiki/LaTeX) is widely used in academia for the communication and publication of scientific documents in many fields.\n",
    "\n",
    "You need to enclose them in dollar($) signs. \n",
    "\n",
    "A single dollar($) sign align it to the left.\n",
    "\n",
    "`$P(A)=\\frac{n(A)}{n(U)}$`\n",
    "\n",
    "$P(A)=\\frac{n(A)}{n(U)}$\n",
    "\n",
    "Double dollar($$) signs align it to the center.\n",
    "\n",
    "`$$P(A)=\\frac{n(A)}{n(U)}$$`\n",
    "\n",
    "$$P(A)=\\frac{n(A)}{n(U)}$$\n",
    "\n",
    "\n",
    "\n",
    "Math | LaTeX | Example | <div style=\"width:290px\">Output</div>\n",
    ":--|:--:|:--:|:--:\n",
    "Fraction | \\frac{}{} | P(A)=\\frac{n(A)}{n(U)}| $P(A)=\\frac{n(A)}{n(U)}$\n",
    "Superscript|u^n|u_n=u_1r^{n-1}|$u_n=u_1r^{n-1}$\n",
    "Subscript | u_n | u_n=u_1+(n-1)d|$u_n=u_1+(n-1)d$\n",
    "Laten letters | \\alpha | \\alpha \\Gamma|$\\alpha \\Gamma$\n",
    "Text| \\text{} | A=\\pi r^2\\text{ ,where r is the radius}| $A=\\pi r^2\\text{ ,where r is the radius}$\n",
    "Sigma | \\sum | n=\\sum \\limits _{i=1} ^{\\infty} f_i |$n=\\sum \\limits _{i=1} ^{\\infty} f_i$\n",
    "\n",
    "## Limit\n",
    "$\\lim_{x\\to\\infty}$\n",
    "## Integration\n",
    "## Matrix\n",
    "\n",
    "$ \\sum \\limits _{i=1} ^{10} \\int \\limits _0 ^{\\infty} e^{\\nu _i x } dx $ \n",
    "\n",
    "\n"
   ]
  },
  {
   "cell_type": "markdown",
   "metadata": {},
   "source": [
    "\n"
   ]
  },
  {
   "cell_type": "markdown",
   "metadata": {},
   "source": [
    "$$y=\\frac{L}{1+Ce^{-kx}}, L,k,C>0$$"
   ]
  },
  {
   "cell_type": "markdown",
   "metadata": {},
   "source": [
    "\n"
   ]
  },
  {
   "cell_type": "markdown",
   "metadata": {},
   "source": []
  },
  {
   "cell_type": "markdown",
   "metadata": {},
   "source": []
  },
  {
   "cell_type": "markdown",
   "metadata": {},
   "source": []
  },
  {
   "cell_type": "markdown",
   "metadata": {},
   "source": []
  },
  {
   "cell_type": "markdown",
   "metadata": {},
   "source": [
    "For more information about LaTeX, please see [this link](https://www.overleaf.com/learn/latex/Integrals,_sums_and_limits)."
   ]
  },
  {
   "cell_type": "markdown",
   "metadata": {},
   "source": [
    "# Export to PDF\n",
    "\n",
    "Once you are done with your writing and if you want to export to PDF file, you can print out as PDF.\n",
    "\n",
    "[Stackoverflow](https://stackoverflow.com/questions/34818723/export-notebook-to-pdf-without-code)\n",
    "\n",
    "* Run Jupyter notebook and download the notebook in the browser: File->Download as->HTML and you will get a html page with code and output.\n",
    "\n",
    "![download as](image/downloadas.png)\n",
    "\n",
    "* Open the exported HTML with browser and activate the browser console with key F12 or &#8984; + i.\n",
    "\n",
    "![console](image/console.png)\n",
    "\n",
    "* Run following command in the console:"
   ]
  },
  {
   "cell_type": "raw",
   "metadata": {},
   "source": [
    "document.querySelectorAll(\"div.input\").forEach(function(a){a.remove()})"
   ]
  },
  {
   "cell_type": "markdown",
   "metadata": {},
   "source": [
    "![console](image/console2.png)\n",
    "\n",
    "\n",
    "* The code removes all input div DOM. Then right mouse button and chose \"Save Page As\" and Save the \"Complete page\" (not single page).\n",
    "\n",
    "![console](image/save.png)\n",
    "\n",
    "* You will get a page with an associated folder in windows. Use a trick by zip the html page and then extract to unbind the associated. \n",
    "\n",
    "* Now it is a single html page without code. You can re-distribute it or print it as PDF."
   ]
  },
  {
   "cell_type": "markdown",
   "metadata": {},
   "source": [
    "# References\n",
    "\n",
    "- https://markdown-guide.readthedocs.io/en/latest/basics.html#markdown-basics\n",
    "- https://github.com/adam-p/markdown-here/wiki/Markdown-Cheatsheet\n",
    "- https://www.markdownguide.org/extended-syntax/\n",
    "- https://qiita.com/koikoi_jam/items/29d9ef4e16a42038325c\n",
    "- https://github.com/dunovank/jupyter-themes#monospace-fonts-code-cells\n",
    "- https://www.overleaf.com/learn/latex/Integrals,_sums_and_limits\n",
    "\n"
   ]
  },
  {
   "cell_type": "code",
   "execution_count": null,
   "metadata": {},
   "outputs": [],
   "source": []
  }
 ],
 "metadata": {
  "kernelspec": {
   "display_name": "Python 3",
   "language": "python",
   "name": "python3"
  },
  "language_info": {
   "codemirror_mode": {
    "name": "ipython",
    "version": 3
   },
   "file_extension": ".py",
   "mimetype": "text/x-python",
   "name": "python",
   "nbconvert_exporter": "python",
   "pygments_lexer": "ipython3",
   "version": "3.7.6"
  }
 },
 "nbformat": 4,
 "nbformat_minor": 4
}
