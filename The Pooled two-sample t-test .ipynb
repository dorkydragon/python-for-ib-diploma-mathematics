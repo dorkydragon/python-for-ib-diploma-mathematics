{
 "cells": [
  {
   "cell_type": "markdown",
   "metadata": {},
   "source": [
    "In IB Diploma Mathematics Applications and Interpretation, you are required to find the pooled two-sample t-test. This test is a comparison of the means of two independent set of data that are sampled selected from a normally-distributed population.\n",
    "\n",
    "We are going to use on-tailed tests.\n",
    "\n",
    "## One-tailed tests\n",
    "\n",
    "\\begin{align}\n",
    "\\text{If }\\ H_0:\\mu_1 \\geq \\mu_2, then H_1:\\mu_1<\\mu_2\\neq0 \\tag{1}\\\\\n",
    "\\text{If }\\ H_0:\\mu_1 \\leq \\mu_2, then H_1:\\mu_1>\\mu_2\\neq0 \\tag{2}\\\\\n",
    "\\end{align}"
   ]
  },
  {
   "cell_type": "code",
   "execution_count": null,
   "metadata": {},
   "outputs": [],
   "source": []
  },
  {
   "cell_type": "code",
   "execution_count": null,
   "metadata": {},
   "outputs": [],
   "source": []
  },
  {
   "cell_type": "code",
   "execution_count": 42,
   "metadata": {},
   "outputs": [],
   "source": [
    "from scipy.stats import ttest_ind\n",
    "import pandas as pd"
   ]
  },
  {
   "cell_type": "code",
   "execution_count": 44,
   "metadata": {},
   "outputs": [
    {
     "data": {
      "text/plain": [
       "(-1.7651854940278044, 0.04512768937847428, 24.0)"
      ]
     },
     "execution_count": 44,
     "metadata": {},
     "output_type": "execute_result"
    }
   ],
   "source": [
    "list1=[3,5,4,6,6,5,3,2,3,4,5,3,4]\n",
    "list2=[4,6,6,7,6,4,4,4,3,6,5,4,5]\n",
    "sm.ttest_ind(list1,list2,alternative='smaller',usevar='pooled')"
   ]
  },
  {
   "cell_type": "code",
   "execution_count": 45,
   "metadata": {},
   "outputs": [
    {
     "data": {
      "text/plain": [
       "list"
      ]
     },
     "execution_count": 45,
     "metadata": {},
     "output_type": "execute_result"
    }
   ],
   "source": [
    "type(list1)"
   ]
  },
  {
   "cell_type": "code",
   "execution_count": null,
   "metadata": {},
   "outputs": [],
   "source": []
  }
 ],
 "metadata": {
  "kernelspec": {
   "display_name": "Python 3",
   "language": "python",
   "name": "python3"
  },
  "language_info": {
   "codemirror_mode": {
    "name": "ipython",
    "version": 3
   },
   "file_extension": ".py",
   "mimetype": "text/x-python",
   "name": "python",
   "nbconvert_exporter": "python",
   "pygments_lexer": "ipython3",
   "version": "3.7.5"
  }
 },
 "nbformat": 4,
 "nbformat_minor": 2
}
