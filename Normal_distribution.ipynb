{
 "cells": [
  {
   "cell_type": "markdown",
   "metadata": {},
   "source": [
    "# Introduction\n",
    "\n",
    "[Normal distributions](https://www.wikiwand.com/en/Normal_distribution) are often used in the natural and social sciences to represent real-valued random variables whose distributions are not known. The Normal distribution is a continuous theoretical probability distribution. In this article, I am going to explore the Normal distribution using Jupyter.\n",
    "\n",
    "Let's import all the necessary libraries."
   ]
  },
  {
   "cell_type": "code",
   "execution_count": null,
   "metadata": {},
   "outputs": [],
   "source": [
    "from scipy.stats import norm\n",
    "import numpy as np\n",
    "import matplotlib.pyplot as plt"
   ]
  },
  {
   "cell_type": "markdown",
   "metadata": {},
   "source": [
    "# Normal Distribution Probability Density Function\n",
    "\n",
    "$\n",
    "\\text{Probability density function (PDF) of the normal distribution is} \\\\\n",
    "$\n",
    "$$\n",
    "f(x)=\\frac{1}{\\sigma \\sqrt{2 \\pi}}e^{-\\frac{(x- \\mu)^2}{2 \\sigma^2}}\\text{, where $x\\in \\mathbb{R}$}\n",
    "$$\n",
    "\n",
    "The random variable $X$ described by the PDF is a normal variable that follows a normal distribution with mean $\\mu$ and variance $\\sigma^2$.\n",
    "\n",
    "$\n",
    "\\text{Normal distribution notation is} \\\\\n",
    "$\n",
    "$$\n",
    "X \\sim N(\\mu,\\sigma^2) \\\\\n",
    "$$\n",
    "\n",
    "The area under the curve equals 1.\n",
    "\n",
    "$$\n",
    "\\int \\limits _{-\\infty} ^{+\\infty}f(x)dx=1\n",
    "$$"
   ]
  },
  {
   "cell_type": "markdown",
   "metadata": {},
   "source": [
    "## `norm.pdf` value\n",
    "\n",
    "`norm.pdf` retuns a pdf value. The following is the pdf value when $x=1$, $\\mu=0$, $\\sigma=1$."
   ]
  },
  {
   "cell_type": "code",
   "execution_count": null,
   "metadata": {},
   "outputs": [],
   "source": [
    "norm.pdf(x=1.0, loc=0, scale=1)"
   ]
  },
  {
   "cell_type": "code",
   "execution_count": null,
   "metadata": {},
   "outputs": [],
   "source": [
    "fig, ax = plt.subplots()\n",
    "x= np.arange(-4,4,0.001)\n",
    "ax.plot(x, norm.pdf(x))\n",
    "ax.set_ylim(0,0.45) # range\n",
    "ax.axhline(y=0.24,xmax=0.61,color='r') # horizontal line\n",
    "ax.axvline(x=1, ymax=0.53, color='r',alpha=0.5) # vertical line\n",
    "xplot = ax.plot([1], [0.24], marker='o', markersize=15, color=\"red\") # coordinate point\n",
    "ax.set_yticks([]) # remove y axis label\n",
    "ax.set_xticks([]) # remove x axis label\n",
    "ax.set_xlabel('x',fontsize=20) # set x label\n",
    "ax.set_ylabel('pdf(x)',fontsize=20,rotation=0) # set y label\n",
    "ax.xaxis.set_label_coords(0.61, -0.02) # x label coordinate\n",
    "ax.yaxis.set_label_coords(-0.1, 0.5) # y label coordinate\n",
    "plt.show()"
   ]
  },
  {
   "cell_type": "markdown",
   "metadata": {},
   "source": [
    "Since `norm.pdf` returns a PDF value, we can use this function to plot the normal distribution function. \n",
    "We graph a PDF of the normal distribution using `scipy`, `numpy` and `matplotlib`. We use the domain $-4<x<4$, range $0<f(x)<0.45$, default $\\mu=0$ and $\\sigma=1$. `plot(x-values,y-values)` produces the graph. \n"
   ]
  },
  {
   "cell_type": "code",
   "execution_count": null,
   "metadata": {},
   "outputs": [],
   "source": [
    "fig, ax = plt.subplots()\n",
    "x= np.arange(-4,4,0.001)\n",
    "ax.set_title('N(0,$1^2$)')\n",
    "ax.set_xlabel('x')\n",
    "ax.set_ylabel('f(x)')\n",
    "ax.plot(x, norm.pdf(x))\n",
    "ax.set_ylim(0,0.45)\n",
    "\n",
    "plt.show()"
   ]
  },
  {
   "cell_type": "markdown",
   "metadata": {},
   "source": [
    "A normal curve is smooth bell-shaped. It is symmetrical about the $x=\\mu$, and has a maximum point at $x=\\mu$."
   ]
  },
  {
   "cell_type": "markdown",
   "metadata": {},
   "source": [
    "## Normal distribution PDF with different standard deviations\n",
    "\n",
    "Let's plot probability distribution functions of a normal distribution where the mean has different standard deviations."
   ]
  },
  {
   "cell_type": "markdown",
   "metadata": {},
   "source": [
    "`scipy.norm.pdf` has keywords, `loc` and `scale`. The location (loc) keyword specifies the mean and the scale (scale) keyword specifies the standard deviation."
   ]
  },
  {
   "cell_type": "code",
   "execution_count": null,
   "metadata": {},
   "outputs": [],
   "source": [
    "fig, ax = plt.subplots()\n",
    "x = np.linspace(-10,10,100)\n",
    "stdvs = [1.0, 2.0, 3.0, 4.0]\n",
    "\n",
    "for s in stdvs:\n",
    "    ax.plot(x, norm.pdf(x,scale=s), label='stdv=%.1f' % s)\n",
    "    \n",
    "ax.set_xlabel('x')\n",
    "ax.set_ylabel('pdf(x)')\n",
    "ax.set_title('Normal Distribution')\n",
    "ax.legend(loc='best', frameon=True)\n",
    "ax.set_ylim(0,0.45)\n",
    "ax.grid(True)"
   ]
  },
  {
   "cell_type": "markdown",
   "metadata": {},
   "source": [
    "## Normal distribution PDF with different means\n",
    "\n",
    "Let's plot probability distribution functions of normal distribution where the standard deviation is 0 and different means. "
   ]
  },
  {
   "cell_type": "code",
   "execution_count": null,
   "metadata": {},
   "outputs": [],
   "source": [
    "fig, ax = plt.subplots()\n",
    "x = np.linspace(-10,10,100)\n",
    "means = [0.0, 1.0, 2.0, 5.0]\n",
    "\n",
    "for mean in means:\n",
    "    ax.plot(x, norm.pdf(x,loc=mean), label='mean=%.1f' % mean)\n",
    "    \n",
    "ax.set_xlabel('x')\n",
    "ax.set_ylabel('pdf(x)')\n",
    "ax.set_title('Normal Distribution')\n",
    "ax.legend(loc='best', frameon=True)\n",
    "ax.set_ylim(0,0.45)\n",
    "ax.grid(True)"
   ]
  },
  {
   "cell_type": "markdown",
   "metadata": {},
   "source": [
    "The mean of the distribution determines the location of the center of the graph. As you can see in the above graph, the shape of the graph does not change by changing the mean, but the graph is translated horizontally."
   ]
  },
  {
   "cell_type": "markdown",
   "metadata": {},
   "source": [
    "# Using random normal distribution values\n",
    "\n",
    "`norm.rvs` generates random normal distribution numbers according to the `scale` which is the standard deviation, the `loc` which is the mean and the size. We create a histogram for the generated numbers and add the PDF."
   ]
  },
  {
   "cell_type": "code",
   "execution_count": null,
   "metadata": {},
   "outputs": [],
   "source": [
    "fig, ax = plt.subplots()\n",
    "xs = norm.rvs(scale=2,size=1000)\n",
    "x = np.linspace(-10,10,100)\n",
    "p = norm.pdf(x,scale=2)\n",
    "v = np.var(xs)\n",
    "m = np.mean(xs)\n",
    "\n",
    "ax = fig.add_subplot(111)\n",
    "ax.hist(xs, bins=10, alpha=0.5, density=True)\n",
    "ax.plot(x,p, 'r-', lw=2)\n",
    "ax.set_xlabel('x')\n",
    "ax.set_ylabel('pdf(x)')\n",
    "ax.set_title(f'mean={m:.2f}, var={v:.2f}')\n",
    "ax.grid(True)"
   ]
  },
  {
   "cell_type": "markdown",
   "metadata": {},
   "source": [
    "# Cumulative normal distribution function\n",
    "\n",
    "The cumulative distribution function of a random variable X, evaluated at x, is the probability that X will take a value less than or equal to x. Since the normal distribution is a continuous distribution, the shaded area of the curve represents the probability that X is less or equal than x. \n",
    "\n",
    "$$\n",
    "P(X \\leq x)=F(x)=\\int \\limits _{-\\infty} ^{x}f(t)dt \\text{, where }x\\in \\mathbb{R}\n",
    "$$"
   ]
  },
  {
   "cell_type": "markdown",
   "metadata": {},
   "source": [
    "Using `fill_between(x, y1, y2=0)` fill up the area between two curves `y1` and `y2` which has the default is 0.\n"
   ]
  },
  {
   "cell_type": "code",
   "execution_count": null,
   "metadata": {},
   "outputs": [],
   "source": [
    "fig, ax = plt.subplots()\n",
    "# for distribution curve\n",
    "x= np.arange(-4,4,0.001)\n",
    "ax.plot(x, norm.pdf(x))\n",
    "ax.set_title(\"Cumulative normal distribution\")\n",
    "ax.set_xlabel('x')\n",
    "ax.set_ylabel('pdf(x)')\n",
    "ax.grid(True)\n",
    "\n",
    "# for fill_between\n",
    "px=np.arange(-4,1,0.01)\n",
    "ax.set_ylim(0,0.5)\n",
    "ax.fill_between(px,norm.pdf(px),alpha=0.5, color='g')\n",
    "# for text\n",
    "ax.text(-1,0.1,\"cdf(x)\", fontsize=20)\n",
    "plt.show()"
   ]
  },
  {
   "cell_type": "markdown",
   "metadata": {},
   "source": [
    "# Calculating probability of normal distribution\n",
    "\n",
    "Given the mean of 3 and the standard deviation of 2,  we can find the probability of $P(X<2)$.\n",
    "\n",
    "$$X \\sim N(3,2^2)$$\n",
    "\n",
    "In `norm.cdf`, the location (loc) keyword specifies the mean and the scale (scale) keyword specifies the standard deviation."
   ]
  },
  {
   "cell_type": "code",
   "execution_count": null,
   "metadata": {},
   "outputs": [],
   "source": [
    "from scipy.stats import norm\n",
    "\n",
    "lessthan2=norm.cdf(x=2, loc=3, scale=2)\n",
    "print(lessthan2)"
   ]
  },
  {
   "cell_type": "markdown",
   "metadata": {},
   "source": [
    "Let's plot a graph."
   ]
  },
  {
   "cell_type": "code",
   "execution_count": null,
   "metadata": {},
   "outputs": [],
   "source": [
    "fig, ax = plt.subplots()\n",
    "\n",
    "# for distribution curve\n",
    "x= np.arange(-4,10,0.001)\n",
    "ax.plot(x, norm.pdf(x,loc=3,scale=2))\n",
    "ax.set_title(\"N(3,$2^2$)\")\n",
    "ax.set_xlabel('x')\n",
    "ax.set_ylabel('pdf(x)')\n",
    "ax.grid(True)\n",
    "\n",
    "# for fill_between\n",
    "px=np.arange(-4,2,0.01)\n",
    "ax.set_ylim(0,0.25)\n",
    "ax.fill_between(px,norm.pdf(px,loc=3,scale=2),alpha=0.5, color='g')\n",
    "\n",
    "# for text\n",
    "ax.text(-0.5,0.02,round(lessthan2,2), fontsize=20)\n",
    "plt.show()"
   ]
  },
  {
   "cell_type": "markdown",
   "metadata": {},
   "source": [
    "## Interval between variables\n",
    "\n",
    "To find the probability of an interval between certain variables, you need to subtract `cdf` from another `cdf`. Let's find $P(0.5<X<2)$ with a mean of 1 and a standard deviation of 2.\n",
    "\n",
    "$$X \\sim N(1,2^2)$$"
   ]
  },
  {
   "cell_type": "code",
   "execution_count": null,
   "metadata": {},
   "outputs": [],
   "source": [
    "norm(1, 2).cdf(2) - norm(1,2).cdf(0.5)"
   ]
  },
  {
   "cell_type": "markdown",
   "metadata": {},
   "source": [
    "Here is the graph. $$X \\sim N(1,2^2), P(0.5<X<2)$$"
   ]
  },
  {
   "cell_type": "code",
   "execution_count": null,
   "metadata": {},
   "outputs": [],
   "source": [
    "fig, ax = plt.subplots()\n",
    "\n",
    "# for distribution curve\n",
    "x= np.arange(-6,8,0.001)\n",
    "ax.plot(x, norm.pdf(x,loc=1,scale=2))\n",
    "ax.set_title(\"N(1,$2^2$)\")\n",
    "ax.set_xlabel('x')\n",
    "ax.set_ylabel('pdf(x)')\n",
    "ax.grid(True)\n",
    "\n",
    "\n",
    "px=np.arange(0.5,2,0.01)\n",
    "ax.set_ylim(0,0.25)\n",
    "ax.fill_between(px,norm.pdf(px,loc=1,scale=2),alpha=0.5, color='g')\n",
    "\n",
    "pro=norm(1, 2).cdf(2) - norm(1,2).cdf(0.5)\n",
    "ax.text(0.2,0.02,round(pro,2), fontsize=20)\n",
    "plt.show()\n"
   ]
  },
  {
   "cell_type": "markdown",
   "metadata": {},
   "source": [
    "To find the probability of $P(X>4)$, we can use `sf` which is called the survival function and it returns `1-cdf`. For example, `norm.sf(x=4, loc=3, scale=2` returns the probability which is greater than $x=4, P(X>4)$ when $\\mu=4, \\sigma=2$."
   ]
  },
  {
   "cell_type": "code",
   "execution_count": null,
   "metadata": {},
   "outputs": [],
   "source": [
    "gr4sf=norm.sf(x=4, loc=3, scale=2)\n",
    "gr4sf"
   ]
  },
  {
   "cell_type": "markdown",
   "metadata": {},
   "source": [
    "Let's plot a graph."
   ]
  },
  {
   "cell_type": "code",
   "execution_count": null,
   "metadata": {},
   "outputs": [],
   "source": [
    "fig, ax = plt.subplots()\n",
    "x= np.arange(-4,10,0.001)\n",
    "ax.plot(x, norm.pdf(x,loc=3,scale=2))\n",
    "ax.set_title(\"N(3,$2^2$)\")\n",
    "ax.set_xlabel('x')\n",
    "ax.set_ylabel('pdf(x)')\n",
    "ax.grid(True)\n",
    "\n",
    "px=np.arange(4,10,0.01)\n",
    "ax.set_ylim(0,0.25)\n",
    "ax.fill_between(px,norm.pdf(px,loc=3,scale=2),alpha=0.5, color='g')\n",
    "\n",
    "ax.text(4.5,0.02,\"sf(x) %.2f\" %(gr4sf), fontsize=20)\n",
    "plt.show()"
   ]
  },
  {
   "cell_type": "markdown",
   "metadata": {},
   "source": [
    "The above graph is the same as $1-P(X<4)$."
   ]
  },
  {
   "cell_type": "code",
   "execution_count": null,
   "metadata": {},
   "outputs": [],
   "source": [
    "gr4=norm.cdf(x=4, loc=3, scale=2)\n",
    "gr14=1-gr4\n",
    "\n",
    "fig, ax = plt.subplots()\n",
    "x= np.arange(-4,10,0.001)\n",
    "ax.plot(x, norm.pdf(x,loc=3,scale=2))\n",
    "ax.set_title(\"N(3,$2^2$)\")\n",
    "ax.set_xlabel('x')\n",
    "ax.set_ylabel('pdf(x)')\n",
    "ax.grid(True)\n",
    "\n",
    "px=np.arange(4,10,0.01)\n",
    "ax.set_ylim(0,0.25)\n",
    "ax.fill_between(px,norm.pdf(px,loc=3,scale=2),alpha=0.5, color='g')\n",
    "px1=np.arange(-4,4,0.01)\n",
    "ax.fill_between(px1,norm.pdf(px1,loc=3,scale=2),alpha=0.5, color='r')\n",
    "ax.text(4.5,0.02,round(gr14,2), fontsize=20)\n",
    "ax.text(1,0.02,round(gr4,2), fontsize=20)\n",
    "plt.show()"
   ]
  },
  {
   "cell_type": "markdown",
   "metadata": {},
   "source": [
    "# Finding quantiles\n",
    "\n",
    "$k$ in $P(X \\leq k)=0.95$ is known as quantile, in this case the 95% quantile.\n",
    "\n",
    "## Percent point function\n",
    "\n",
    "`ppf` is the inverse of `cdf` and it is called Percent point function.\n",
    "Given the mean of 1 and the standard deviation of 3, we can find the quantile `a` in $P(X<a)=0.506$ by using `ppf`. \n",
    "\n",
    "$$X \\sim N(1,3^2)$$"
   ]
  },
  {
   "cell_type": "code",
   "execution_count": null,
   "metadata": {},
   "outputs": [],
   "source": [
    "norm.ppf(q=0.506, loc=1, scale=3)"
   ]
  },
  {
   "cell_type": "code",
   "execution_count": null,
   "metadata": {},
   "outputs": [],
   "source": [
    "fig, ax = plt.subplots()\n",
    "x= np.arange(-10,10,0.001)\n",
    "ax.plot(x, norm.pdf(x,loc=1,scale=3))\n",
    "ax.set_title(\"N(1,$3^2$)\")\n",
    "ax.set_xlabel('x')\n",
    "ax.set_ylabel('pdf(x)')\n",
    "ax.grid(True)\n",
    "\n",
    "xpoint=norm.ppf(q=0.506, loc=1, scale=3)\n",
    "px=np.arange(-10,xpoint,0.01)\n",
    "ax.set_ylim(0,0.15)\n",
    "ax.fill_between(px,norm.pdf(px,loc=1,scale=3),alpha=0.5, color='g')\n",
    "\n",
    "ax.text(.8,0.02,\"x= %.2f\" %xpoint, fontsize=20)\n",
    "ax.text(-5,0.05,\"P(X)=0.506\", fontsize=20)\n",
    "plt.show()"
   ]
  },
  {
   "cell_type": "markdown",
   "metadata": {},
   "source": [
    "## Inverse survival function\n",
    "\n"
   ]
  },
  {
   "cell_type": "markdown",
   "metadata": {},
   "source": [
    "With the same mean and standard deviation, we can find the quantile `b` in $P(X>b)=0.198$ using the inverse survival function `isf`. This is the same as using `ppf` with $q=(1-0.198)$.\n",
    "\n",
    "$$X \\sim N(1,3^2)$$"
   ]
  },
  {
   "cell_type": "code",
   "execution_count": null,
   "metadata": {},
   "outputs": [],
   "source": [
    "norm.isf(q=0.198, loc=1, scale=3)"
   ]
  },
  {
   "cell_type": "code",
   "execution_count": null,
   "metadata": {},
   "outputs": [],
   "source": [
    "norm.ppf(q=(1-0.198), loc=1, scale=3)"
   ]
  },
  {
   "cell_type": "markdown",
   "metadata": {},
   "source": [
    "## Interval around the mean"
   ]
  },
  {
   "cell_type": "markdown",
   "metadata": {},
   "source": [
    "`norm.interval` returns endpoints of the range that contains alpha percent of the distribution. For example, with a mean of 0 and a standard deviation of 1 to find 95% of the probability, `norm.interval` returns x values around the mean, in this case, $\\mu=0$.\n",
    "\n",
    "$$X \\sim N(0,1^2)$$"
   ]
  },
  {
   "cell_type": "code",
   "execution_count": null,
   "metadata": {},
   "outputs": [],
   "source": [
    "a,b = norm.interval(alpha=0.95, loc=0, scale=1)\n",
    "print(a,b)"
   ]
  },
  {
   "cell_type": "code",
   "execution_count": null,
   "metadata": {},
   "outputs": [],
   "source": [
    "fig, ax = plt.subplots()\n",
    "x= np.arange(-4,4,0.001)\n",
    "ax.plot(x, norm.pdf(x))\n",
    "ax.set_title(\"Interval\")\n",
    "ax.set_xlabel('x')\n",
    "ax.set_ylabel('pdf(x)')\n",
    "ax.grid(True)\n",
    "\n",
    "px=np.arange(a,b,0.01)\n",
    "ax.set_ylim(0,0.5)\n",
    "ax.fill_between(px,norm.pdf(px),alpha=0.5, color='g')\n",
    "\n",
    "ax.text(-0.5,0.1,\"0.95\", fontsize=20)\n",
    "plt.show()"
   ]
  },
  {
   "cell_type": "markdown",
   "metadata": {},
   "source": [
    "#  Multivariate Normal Distribution\n",
    "\n",
    "The multivariate normal distribution is often used to describe any set of correlated real-valued random variables. \n",
    "\n",
    "We use `multivariate_normal` which requires the array of mean and covariance matrix. To make it simple, we use a diagonal matrix which all off-diagonal elements are zero. "
   ]
  },
  {
   "cell_type": "code",
   "execution_count": null,
   "metadata": {},
   "outputs": [],
   "source": [
    "from scipy.stats import multivariate_normal\n",
    "\n",
    "x,y = np.meshgrid(np.linspace(-10,10,100),np.linspace(-10,10,100))\n",
    "pos = np.dstack((x,y))\n",
    "mean = np.array([1, 2])\n",
    "cov  = np.array([[3,0],[0,15]])\n",
    "rv = multivariate_normal(mean,cov)\n",
    "z = rv.pdf(pos)\n",
    "\n",
    "fig = plt.figure()\n",
    "ax = fig.add_subplot(111,aspect='equal')\n",
    "ax.contourf(x,y,z)\n",
    "ax.set_xlim(-10,10)\n",
    "ax.set_ylim(-10,10)\n",
    "ax.set_xlabel('x')\n",
    "ax.set_ylabel('y')\n",
    "ax.set_title('pdf')"
   ]
  },
  {
   "cell_type": "markdown",
   "metadata": {},
   "source": [
    "We can create a 3D graph using the matplotlib's [`mpl_toolkits.mplot3d.Axes3D`](https://matplotlib.org/api/_as_gen/mpl_toolkits.mplot3d.axes3d.Axes3D.html). We also use [Scipy frozen RV object](https://docs.scipy.org/doc/scipy/reference/tutorial/stats.html#freezing-a-distribution)."
   ]
  },
  {
   "cell_type": "code",
   "execution_count": null,
   "metadata": {},
   "outputs": [],
   "source": [
    "import numpy as np\n",
    "import matplotlib.pyplot as plt\n",
    "from scipy.stats import multivariate_normal\n",
    "from mpl_toolkits.mplot3d import Axes3D\n",
    "\n",
    "# Create grid and multivariate normal\n",
    "x = np.linspace(-10,10,500)\n",
    "y = np.linspace(-10,10,500)\n",
    "X, Y = np.meshgrid(x,y)\n",
    "pos = np.empty(X.shape + (2,))\n",
    "pos[:, :, 0] = X \n",
    "pos[:, :, 1] = Y\n",
    "\n",
    "# Create a frozen RV object\n",
    "mean = np.array([1, 2])\n",
    "cov  = np.array([[3,0],[0,15]])\n",
    "rv = multivariate_normal(mean,cov)\n",
    "\n",
    "# Make a 3D plot\n",
    "fig = plt.figure()\n",
    "ax = fig.gca(projection='3d')\n",
    "ax.plot_surface(X, Y, rv.pdf(pos),cmap='viridis',linewidth=0)\n",
    "ax.set_xlabel('X axis')\n",
    "ax.set_ylabel('Y axis')\n",
    "ax.set_zlabel('Z axis')\n",
    "plt.show()"
   ]
  },
  {
   "cell_type": "markdown",
   "metadata": {},
   "source": [
    "# Standard normal distribution\n",
    "\n",
    "When $\\mu=0$ and variance=1, it is called the standard normal distribution. The above probability function is simplified to:\n",
    "\n",
    "$$\n",
    "\\Phi(x)=\\frac{1}{\\sqrt{2\\pi}}e^{\\frac{-x^2}{2}}\\\\\n",
    "Z \\sim N(0,1)\n",
    "$$\n",
    "\n",
    "All normal curves can be related to the standard normal distribution. "
   ]
  },
  {
   "cell_type": "markdown",
   "metadata": {},
   "source": [
    "## Standardized normal variable\n",
    "\n",
    "To standardize a random variable $X \\sim N(\\mu, \\sigma^2)$ into the standardized normal variable $Z \\sim N(0,1)$ we use the transformation:\n",
    "\n",
    "$$\n",
    "Z=\\frac{x-\\mu}{\\sigma}\n",
    "$$\n",
    "\n",
    "The standardized value Z tells how many standard deviations below or above the mean the original value is."
   ]
  },
  {
   "cell_type": "markdown",
   "metadata": {},
   "source": [
    "## Finding the standard normal value\n",
    "\n",
    "For example, to find the standardized value for $x=1$ when a mean of 2 and a standard deviation of 3.\n",
    "\n",
    "$$\n",
    "\\text{For }X \\sim N(2,3^2)\\\\\n",
    "Z=\\frac{1-2}{3}\n",
    "$$"
   ]
  },
  {
   "cell_type": "code",
   "execution_count": null,
   "metadata": {},
   "outputs": [],
   "source": [
    "z=(1-2)/3\n",
    "z"
   ]
  },
  {
   "cell_type": "markdown",
   "metadata": {},
   "source": [
    "We can use `norm.cdf` to find the probability and use `norm.ppf` with $\\mu=0, \\sigma=1$ to find the standardized value."
   ]
  },
  {
   "cell_type": "code",
   "execution_count": null,
   "metadata": {},
   "outputs": [],
   "source": [
    "norm.cdf(1, loc=2, scale=3)"
   ]
  },
  {
   "cell_type": "code",
   "execution_count": null,
   "metadata": {},
   "outputs": [],
   "source": [
    "norm.ppf(q=norm.cdf(1, loc=2, scale=3))"
   ]
  },
  {
   "cell_type": "markdown",
   "metadata": {},
   "source": [
    "# Conclusion\n",
    "\n",
    "[scipy.stats.norm](https://docs.scipy.org/doc/scipy/reference/generated/scipy.stats.norm.html) gives us parameters such as `loc` and `scale` to specifies the standard deviation. It also has a variety of methods and we explored `rvs`, `cdf`, `sf`, `ppf`, `interval`,and `isf` in this article.\n",
    "\n",
    "[Matplotlib](https://matplotlib.org/index.html) gives us easy but extensive tools to change very minute details of a figure including 3D. "
   ]
  },
  {
   "cell_type": "markdown",
   "metadata": {},
   "source": [
    "# References\n",
    "\n",
    "- https://qiita.com/supersaiakujin/items/71540d1ecd60ced65add\n",
    "- http://kaisk.hatenadiary.com/entry/2015/02/17/192955\n",
    "- https://stackoverflow.com/questions/38698277/plot-normal-distribution-in-3d"
   ]
  },
  {
   "cell_type": "code",
   "execution_count": null,
   "metadata": {},
   "outputs": [],
   "source": []
  }
 ],
 "metadata": {
  "kernelspec": {
   "display_name": "Python 3",
   "language": "python",
   "name": "python3"
  },
  "language_info": {
   "codemirror_mode": {
    "name": "ipython",
    "version": 3
   },
   "file_extension": ".py",
   "mimetype": "text/x-python",
   "name": "python",
   "nbconvert_exporter": "python",
   "pygments_lexer": "ipython3",
   "version": "3.7.6"
  },
  "toc": {
   "base_numbering": 1,
   "nav_menu": {},
   "number_sections": false,
   "sideBar": true,
   "skip_h1_title": false,
   "title_cell": "Table of Contents",
   "title_sidebar": "Contents",
   "toc_cell": false,
   "toc_position": {},
   "toc_section_display": true,
   "toc_window_display": false
  }
 },
 "nbformat": 4,
 "nbformat_minor": 2
}
