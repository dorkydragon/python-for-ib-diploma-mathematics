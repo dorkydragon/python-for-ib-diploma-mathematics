{
 "cells": [
  {
   "cell_type": "markdown",
   "metadata": {},
   "source": [
    "# Essential List for Essay Writing with Jupyter Notebook\n",
    "\n",
    "* Introduction\n",
    "* Markdown\n",
    "* Latex\n",
    "* Printing PDF\n",
    "\n",
    "# Introduction\n",
    "\n",
    "In this article, I will cover must-know items for your essay writing using Jupyter Notebook. "
   ]
  },
  {
   "cell_type": "markdown",
   "metadata": {},
   "source": [
    "# Markdown\n",
    "\n",
    "[Markdown is a lightweight markup language with plain-text-formatting syntax.](https://en.wikipedia.org/wiki/Markdown)\n",
    "\n",
    "## How to change the cell to markdown\n",
    "\n",
    "One way you can a cell to markdown is selecting Markdown from a dropdown.\n",
    "\n",
    "![select markdown](./image/markdown.png)\n",
    "\n",
    "Second way is to use a shortcut, `m` after selecting a cell. You may need to press escape if you are typing `m` in the cell.\n",
    "\n",
    "## Headers\n",
    "\n",
    "Use `#` for H1, `##` for H2 etc.\n",
    "\n",
    "```\n",
    "# Main title\n",
    "## Sub title\n",
    "### H3 title\n",
    "```\n",
    "\n",
    "The above will print out the following.\n",
    "\n",
    "# Main title\n",
    "## Sub title\n",
    "### H3 title\n"
   ]
  },
  {
   "cell_type": "markdown",
   "metadata": {},
   "source": [
    "## List\n",
    "\n",
    "You can use * or - to create an unordered list. You can use numbers for an ordered list.\n",
    "\n",
    "```\n",
    "- main 1\n",
    "  - sub 1\n",
    "  - sub 2\n",
    "- main 2\n",
    "- main 3\n",
    "\n",
    "1. Main list 1\n",
    "2. Main list 2\n",
    "  - Sub list 2-1\n",
    "  - Sub list 2-2\n",
    "3. Main list 3\n",
    "```\n",
    "\n",
    "The above produces the followings.\n",
    "\n",
    "- main 1\n",
    "  - sub 1\n",
    "  - sub 2\n",
    "- main 2\n",
    "- main 3\n",
    "\n",
    "\n",
    "1. Main list 1\n",
    "2. Main list 2\n",
    "  - Sub list 2-1\n",
    "  - Sub list 2-2\n",
    "3. Main list 3"
   ]
  },
  {
   "cell_type": "markdown",
   "metadata": {},
   "source": [
    "## Link\n",
    "\n",
    "You need to use `[Link name](url)` for links.\n",
    "\n",
    "```\n",
    "[Google](https://www.google.com)\n",
    "```\n",
    "\n",
    "The above code produces,[Google](https://www.google.com).\n"
   ]
  },
  {
   "cell_type": "markdown",
   "metadata": {},
   "source": [
    "## Image\n",
    "\n",
    "You need to use `![alt text](link)` for images.\n",
    "\n",
    "```\n",
    "![alt text here](https://github.com/adam-p/markdown-here/raw/master/src/common/images/icon48.png \"Logo Title Text 1\")\n",
    "```\n",
    "\n",
    "The above markdown produces: ![alt text](https://github.com/adam-p/markdown-here/raw/master/src/common/images/icon48.png \"Logo Title Text 1\").\n",
    "\n"
   ]
  },
  {
   "cell_type": "markdown",
   "metadata": {},
   "source": [
    "## Tables\n",
    "\n",
    "To add a table, use three or more hyphens (---) to create each column’s header, and use pipes (|) to separate each column. You can optionally add pipes on either end of the table.\n",
    "\n",
    "```\n",
    "| Syntax      | Description |\n",
    "| ----------- | ----------- |\n",
    "| Header      | Title       |\n",
    "| Paragraph   | Text        |\n",
    "\n",
    "```\n",
    "\n",
    "The rendered output looks like this:\n",
    "\n",
    "\n",
    "| Syntax      | Description |\n",
    "| ----------- | ----------- |\n",
    "| Header      | Title       |\n",
    "| Paragraph   | Text        |"
   ]
  },
  {
   "cell_type": "markdown",
   "metadata": {},
   "source": [
    "If you want to know more, please read [this page](https://github.com/adam-p/markdown-here/wiki/Markdown-Cheatsheet)"
   ]
  },
  {
   "cell_type": "markdown",
   "metadata": {},
   "source": [
    "# Latex\n",
    "\n",
    "[LaTeX](https://en.wikipedia.org/wiki/LaTeX) is widely used in academia for the communication and publication of scientific documents in many fields.\n",
    "\n",
    "\n",
    "Notation | Symbols | Example\n",
    "---------------|:-----------------:|-------------\n",
    "Fractions | `\\frac{}{}` | $P(A)=\\frac{n(A)}{n(U)}$\n",
    "\n",
    "\n",
    "\n",
    "\n",
    "## Superscript and subscript\n",
    "\n",
    "\n",
    "## Limit\n",
    "\n",
    "\n",
    "## Laten letters\n",
    "\n",
    "\n",
    "## Sigma notation\n",
    "\n",
    "\n",
    "## Integration\n",
    "\n",
    "\n",
    "## Matrix\n",
    "\n",
    "\n",
    "## Text\n",
    "\n",
    "\n"
   ]
  },
  {
   "cell_type": "markdown",
   "metadata": {},
   "source": [
    "$y=\\frac{L}{1+Ce^{-kx}}, L,k,C>0$\n"
   ]
  },
  {
   "cell_type": "markdown",
   "metadata": {},
   "source": [
    "$$y=\\frac{L}{1+Ce^{-kx}}, L,k,C>0$$"
   ]
  },
  {
   "cell_type": "markdown",
   "metadata": {},
   "source": [
    "\n"
   ]
  },
  {
   "cell_type": "markdown",
   "metadata": {},
   "source": []
  },
  {
   "cell_type": "markdown",
   "metadata": {},
   "source": []
  },
  {
   "cell_type": "markdown",
   "metadata": {},
   "source": []
  },
  {
   "cell_type": "markdown",
   "metadata": {},
   "source": []
  },
  {
   "cell_type": "markdown",
   "metadata": {},
   "source": [
    "For more information about LaTeX, please see [this link](https://www.overleaf.com/learn/latex/Integrals,_sums_and_limits)."
   ]
  },
  {
   "cell_type": "markdown",
   "metadata": {},
   "source": [
    "# Export to PDF\n",
    "\n",
    "Once you are done with your writing, you want to export to PDF file.\n",
    "\n",
    "[Stackoverflow](https://stackoverflow.com/questions/34818723/export-notebook-to-pdf-without-code)\n",
    "\n",
    "* Run Jupyter notebook and download the notebook in the browser: File->Download as->HTML and you will get a html page with code and output.\n",
    "\n",
    "![download as](image/downloadas.png)\n",
    "\n",
    "* Open the exported HTML with browser and activate the browser console with key F12\n",
    "\n",
    "* Run following command in the console:\n",
    "\n",
    "```\n",
    "document.querySelectorAll(\"div.input\").forEach(function(a){a.remove()})\n",
    "```\n",
    "\n",
    "* The code removes all input div DOM. Then right mouse button and chose \"Save Page As\" and Save the \"Complete page\" (not single page).\n",
    "\n",
    "* You will get a page with an associated folder in windows. Use a trick by zip the html page and then extract to unbind the associated. \n",
    "\n",
    "* Now it is a single html page without code. You can re-distribute it or print it as PDF."
   ]
  },
  {
   "cell_type": "markdown",
   "metadata": {},
   "source": [
    "# References\n",
    "\n",
    "- https://markdown-guide.readthedocs.io/en/latest/basics.html#markdown-basics\n",
    "- https://github.com/adam-p/markdown-here/wiki/Markdown-Cheatsheet\n",
    "- https://www.markdownguide.org/extended-syntax/\n",
    "\n",
    "\n"
   ]
  }
 ],
 "metadata": {
  "kernelspec": {
   "display_name": "Python 3",
   "language": "python",
   "name": "python3"
  },
  "language_info": {
   "codemirror_mode": {
    "name": "ipython",
    "version": 3
   },
   "file_extension": ".py",
   "mimetype": "text/x-python",
   "name": "python",
   "nbconvert_exporter": "python",
   "pygments_lexer": "ipython3",
   "version": "3.8.1"
  }
 },
 "nbformat": 4,
 "nbformat_minor": 4
}
