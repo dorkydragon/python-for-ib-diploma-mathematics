{
 "cells": [
  {
   "cell_type": "markdown",
   "metadata": {},
   "source": [
    "# Beginners Guide to the t-test with Jupyter Notebook"
   ]
  },
  {
   "cell_type": "markdown",
   "metadata": {},
   "source": [
    "# Table of contents\n",
    "\n",
    "- Introduction\n",
    "- The pooled two-sample t-test"
   ]
  },
  {
   "cell_type": "markdown",
   "metadata": {},
   "source": [
    "# Introduction\n",
    "\n"
   ]
  },
  {
   "cell_type": "markdown",
   "metadata": {},
   "source": []
  },
  {
   "cell_type": "markdown",
   "metadata": {},
   "source": [
    "- https://stats.idre.ucla.edu/other/mult-pkg/faq/general/faq-what-are-the-differences-between-one-tailed-and-two-tailed-tests/"
   ]
  },
  {
   "cell_type": "markdown",
   "metadata": {},
   "source": [
    "# The Pooled two-sample t-test "
   ]
  },
  {
   "cell_type": "markdown",
   "metadata": {},
   "source": [
    "In IB Diploma Mathematics Applications and Interpretation, you are required to find the pooled two-sample t-test. This test is a comparison of the means of two independent set of data that are sampled selected from a normally-distributed population.\n",
    "\n",
    "## One-tailed tests\n",
    "\n",
    "One of the tests is called one-tailed test. It is a hypothesis test with an alternative hypothesis that only considers one side of the distribution curve; for example, H1:μ<μ0 or H1:μ>μ0.\n",
    "\n",
    "\\begin{align}\n",
    "\\text{If }\\ H_0:\\mu_1 \\geq \\mu_2, then H_1:\\mu_1<\\mu_2\\neq0 \\tag{1}\\\\\n",
    "\\text{If }\\ H_0:\\mu_1 \\leq \\mu_2, then H_1:\\mu_1>\\mu_2\\neq0 \\tag{2}\\\\\n",
    "\\end{align}\n"
   ]
  },
  {
   "cell_type": "markdown",
   "metadata": {},
   "source": [
    "We are going to use [statsmodels](https://www.statsmodels.org/dev/index.html) module to find out the pooled two-sample t-test. \n",
    "\n",
    "We need to install it from a terminal. \n",
    "\n",
    "If you are using Anaconda,\n",
    "\n",
    "`conda install -c conda-forge statsmodels`\n",
    "\n",
    "You can install it by using `pip`.\n",
    "\n",
    "`pip install statsmodels`\n",
    "\n",
    "We set the alternative hypothesis in the option `alternative`. \n",
    "\n",
    "- ‘two-sided’ (default): H1: difference in means not equal to value $H_1:\\mu_1\\ne\\mu_2$\n",
    "- ‘larger’ : H1: difference in means larger than value $H_1:\\mu_1>\\mu_2$\n",
    "- ‘smaller’ : H1: difference in means smaller than value $H_1:\\mu_1<\\mu_2$\n",
    "\n",
    "In the following we set it to `smaller` which means \n",
    "$$H_0:\\mu_1\\geq\\mu_2$$\n",
    "$$H_1:\\mu_1<\\mu_2$$\n",
    "\n",
    "Since IB requires the pooled test, we set it as `usevar='pooled'`."
   ]
  },
  {
   "cell_type": "code",
   "execution_count": 47,
   "metadata": {},
   "outputs": [
    {
     "name": "stdout",
     "output_type": "stream",
     "text": [
      "Test statistic=-1.77, \n",
      "p-value=0.0451, \n",
      "degree of freedom=24\n",
      "\n",
      "At 0.05 level of significance, \n",
      "we reject the null hypotheses. \n",
      "The mean 1 is less than the mean 2.\n"
     ]
    }
   ],
   "source": [
    "# https://gist.github.com/shinokada/88dc8e2a2c868c97e15dc0cdc2f63572\n",
    "\n",
    "import statsmodels.stats.weightstats as sm\n",
    "\n",
    "significance = 0.05\n",
    "list1=[3,5,4,6,6,5,3,2,3,4,5,3,4]\n",
    "list2=[4,6,6,7,6,4,4,4,3,6,5,4,5]\n",
    "tstat, pvalue, df = sm.ttest_ind(\n",
    "    list1,list2,\n",
    "    alternative='smaller',\n",
    "    usevar='pooled')\n",
    "\n",
    "print(\"\"\"Test statistic=%.2f, \n",
    "p-value=%.4f, \n",
    "degree of freedom=%.0f\\n\"\"\" % (tstat,pvalue,df))\n",
    "\n",
    "if pvalue < significance:\n",
    "\tprint(\"\"\"At %.2f level of significance, \n",
    "we reject the null hypotheses. \n",
    "The mean 1 is less than the mean 2.\"\"\" % (significance))\n",
    "else:\n",
    "\tprint(\"\"\"At %.2f level of significance, \n",
    "we accept the null hypotheses.  \n",
    "The mean 1 is greater than the mean 2.\"\"\" % (significance))"
   ]
  },
  {
   "cell_type": "markdown",
   "metadata": {},
   "source": [
    "If you want to test $H_1:\\mu_1>\\mu_2$, you need to set the `alternative` to `larger` which means \n",
    "\n",
    "$$H_0:\\mu_1\\leq\\mu_2$$\n",
    "$$H_1:\\mu_1>\\mu_2$$"
   ]
  },
  {
   "cell_type": "code",
   "execution_count": 54,
   "metadata": {},
   "outputs": [
    {
     "name": "stdout",
     "output_type": "stream",
     "text": [
      "Test statistic=-1.77, \n",
      "p-value=0.9549, \n",
      "degree of freedom=24\n",
      "\n",
      "At 0.05 level of significance, \n",
      "we accept the null hypotheses.  \n",
      "The mean 1 is less than the mean 2.\n"
     ]
    }
   ],
   "source": [
    "# https://gist.github.com/shinokada/29b65b084a1aa05a016d8081faaa40a2\n",
    "\n",
    "import statsmodels.stats.weightstats as sm\n",
    "\n",
    "significance = 0.05\n",
    "list1=[3,5,4,6,6,5,3,2,3,4,5,3,4]\n",
    "list2=[4,6,6,7,6,4,4,4,3,6,5,4,5]\n",
    "tstat, pvalue, df = sm.ttest_ind(\n",
    "    list1,list2,\n",
    "    alternative='larger',\n",
    "    usevar='pooled')\n",
    "\n",
    "print(\"\"\"Test statistic=%.2f, \n",
    "p-value=%.4f, \n",
    "degree of freedom=%.0f\\n\"\"\" % (tstat,pvalue,df))\n",
    "\n",
    "if pvalue < significance:\n",
    "\tprint(\"\"\"At %.2f level of significance, \n",
    "we reject the null hypotheses. \n",
    "The mean 1 is greater than the mean 2.\"\"\" % (significance))\n",
    "else:\n",
    "\tprint(\"\"\"At %.2f level of significance, \n",
    "we accept the null hypotheses.  \n",
    "The mean 1 is less than the mean 2.\"\"\" % (significance))"
   ]
  },
  {
   "cell_type": "markdown",
   "metadata": {},
   "source": [
    "## Two-tailed tests\n",
    "\n",
    "Another test is called two-tailed test. It is a hypothesis test with an alternative hypothesis that considers both sides of the distribution curve; for example, H1:μ≠μ0.\n",
    "Also testing whether the mean of the first set is significantly different from the mean of the second set on either side.\n",
    "\n",
    "This means:\n",
    "\n",
    "$$H_0:\\mu_1=\\mu_2$$\n",
    "$$H_1:\\mu_1\\ne\\mu_2$$\n"
   ]
  },
  {
   "cell_type": "code",
   "execution_count": 56,
   "metadata": {},
   "outputs": [
    {
     "name": "stdout",
     "output_type": "stream",
     "text": [
      "Test statistic=-1.77, \n",
      "p-value=0.0903, \n",
      "degree of freedom=24\n",
      "\n",
      "At 0.05 level of significance, \n",
      "we accept the null hypotheses.  \n",
      "The mean 1 is not equal to the mean 2.\n"
     ]
    }
   ],
   "source": [
    "# https://gist.github.com/shinokada/967875874850b70c1a7950bfb12202f5\n",
    "\n",
    "import statsmodels.stats.weightstats as sm\n",
    "\n",
    "significance = 0.05\n",
    "list1=[3,5,4,6,6,5,3,2,3,4,5,3,4]\n",
    "list2=[4,6,6,7,6,4,4,4,3,6,5,4,5]\n",
    "tstat, pvalue, df = sm.ttest_ind(\n",
    "    list1,list2,\n",
    "    alternative='two-sided',\n",
    "    usevar='pooled')\n",
    "\n",
    "print(\"\"\"Test statistic=%.2f, \n",
    "p-value=%.4f, \n",
    "degree of freedom=%.0f\\n\"\"\" % (tstat,pvalue,df))\n",
    "\n",
    "if pvalue < significance:\n",
    "\tprint(\"\"\"At %.2f level of significance, \n",
    "we reject the null hypotheses. \n",
    "The mean 1 is equal to the mean 2.\"\"\" % (significance))\n",
    "else:\n",
    "\tprint(\"\"\"At %.2f level of significance, \n",
    "we accept the null hypotheses.  \n",
    "The mean 1 is not equal to the mean 2.\"\"\" % (significance))"
   ]
  },
  {
   "cell_type": "markdown",
   "metadata": {},
   "source": [
    "## Real-life example"
   ]
  },
  {
   "cell_type": "markdown",
   "metadata": {},
   "source": [
    "In the internal assessment or the extended essay, students use a large data set. \n",
    "This link is a data set \"Brain Size and Intelligence\". You can find more details in this [link](https://www3.nd.edu/~busiforc/handouts/Data%20and%20Stories/correlation/Brain%20Size/brainsize.html)."
   ]
  },
  {
   "cell_type": "markdown",
   "metadata": {},
   "source": [
    "We need to clean the data set by removing semi-colons and rows with empty data. `sep=';', na_value=\".\"` do the job."
   ]
  },
  {
   "cell_type": "code",
   "execution_count": 58,
   "metadata": {},
   "outputs": [
    {
     "data": {
      "text/html": [
       "<div>\n",
       "<style scoped>\n",
       "    .dataframe tbody tr th:only-of-type {\n",
       "        vertical-align: middle;\n",
       "    }\n",
       "\n",
       "    .dataframe tbody tr th {\n",
       "        vertical-align: top;\n",
       "    }\n",
       "\n",
       "    .dataframe thead th {\n",
       "        text-align: right;\n",
       "    }\n",
       "</style>\n",
       "<table border=\"1\" class=\"dataframe\">\n",
       "  <thead>\n",
       "    <tr style=\"text-align: right;\">\n",
       "      <th></th>\n",
       "      <th>Unnamed: 0</th>\n",
       "      <th>Gender</th>\n",
       "      <th>FSIQ</th>\n",
       "      <th>VIQ</th>\n",
       "      <th>PIQ</th>\n",
       "      <th>Weight</th>\n",
       "      <th>Height</th>\n",
       "      <th>MRI_Count</th>\n",
       "    </tr>\n",
       "  </thead>\n",
       "  <tbody>\n",
       "    <tr>\n",
       "      <th>0</th>\n",
       "      <td>1</td>\n",
       "      <td>Female</td>\n",
       "      <td>133</td>\n",
       "      <td>132</td>\n",
       "      <td>124</td>\n",
       "      <td>118.0</td>\n",
       "      <td>64.5</td>\n",
       "      <td>816932</td>\n",
       "    </tr>\n",
       "    <tr>\n",
       "      <th>1</th>\n",
       "      <td>2</td>\n",
       "      <td>Male</td>\n",
       "      <td>140</td>\n",
       "      <td>150</td>\n",
       "      <td>124</td>\n",
       "      <td>NaN</td>\n",
       "      <td>72.5</td>\n",
       "      <td>1001121</td>\n",
       "    </tr>\n",
       "    <tr>\n",
       "      <th>2</th>\n",
       "      <td>3</td>\n",
       "      <td>Male</td>\n",
       "      <td>139</td>\n",
       "      <td>123</td>\n",
       "      <td>150</td>\n",
       "      <td>143.0</td>\n",
       "      <td>73.3</td>\n",
       "      <td>1038437</td>\n",
       "    </tr>\n",
       "    <tr>\n",
       "      <th>3</th>\n",
       "      <td>4</td>\n",
       "      <td>Male</td>\n",
       "      <td>133</td>\n",
       "      <td>129</td>\n",
       "      <td>128</td>\n",
       "      <td>172.0</td>\n",
       "      <td>68.8</td>\n",
       "      <td>965353</td>\n",
       "    </tr>\n",
       "    <tr>\n",
       "      <th>4</th>\n",
       "      <td>5</td>\n",
       "      <td>Female</td>\n",
       "      <td>137</td>\n",
       "      <td>132</td>\n",
       "      <td>134</td>\n",
       "      <td>147.0</td>\n",
       "      <td>65.0</td>\n",
       "      <td>951545</td>\n",
       "    </tr>\n",
       "  </tbody>\n",
       "</table>\n",
       "</div>"
      ],
      "text/plain": [
       "   Unnamed: 0  Gender  FSIQ  VIQ  PIQ  Weight  Height  MRI_Count\n",
       "0           1  Female   133  132  124   118.0    64.5     816932\n",
       "1           2    Male   140  150  124     NaN    72.5    1001121\n",
       "2           3    Male   139  123  150   143.0    73.3    1038437\n",
       "3           4    Male   133  129  128   172.0    68.8     965353\n",
       "4           5  Female   137  132  134   147.0    65.0     951545"
      ]
     },
     "execution_count": 58,
     "metadata": {},
     "output_type": "execute_result"
    }
   ],
   "source": [
    "# https://gist.github.com/shinokada/a4489f80a6d32d7955bc37a008cea79e\n",
    "\n",
    "import pandas as pd\n",
    "import numpy as np\n",
    "\n",
    "brain_size = pd.read_csv('https://raw.githubusercontent.com/shinokada/python-for-ib-diploma-mathematics/master/Data/brain_size.csv', sep=';', na_values=\".\")\n",
    "brain_size.head()"
   ]
  },
  {
   "cell_type": "code",
   "execution_count": 59,
   "metadata": {},
   "outputs": [
    {
     "data": {
      "text/plain": [
       "Index(['Unnamed: 0', 'Gender', 'FSIQ', 'VIQ', 'PIQ', 'Weight', 'Height',\n",
       "       'MRI_Count'],\n",
       "      dtype='object')"
      ]
     },
     "execution_count": 59,
     "metadata": {},
     "output_type": "execute_result"
    }
   ],
   "source": [
    "brain_size.columns"
   ]
  },
  {
   "cell_type": "markdown",
   "metadata": {},
   "source": [
    "The followings are the details of the column labels.\n",
    "\n",
    "1.Gender: Male or Female\n",
    "2.FSIQ: Full Scale IQ scores based on the four Wechsler (1981) subtests\n",
    "3.VIQ: Verbal IQ scores based on the four Wechsler (1981) subtests\n",
    "4.PIQ: Performance IQ scores based on the four Wechsler (1981) subtests\n",
    "5.Weight: body weight in pounds\n",
    "6.Height: height in inches\n",
    "7.MRI_Count: total pixel Count from the 18 MRI scans"
   ]
  },
  {
   "cell_type": "markdown",
   "metadata": {},
   "source": [
    "Let's run the pooled two-sample t-test on FSIQ and VIQ. We need to select all rows and the second and the third columns."
   ]
  },
  {
   "cell_type": "code",
   "execution_count": 68,
   "metadata": {},
   "outputs": [
    {
     "name": "stdout",
     "output_type": "stream",
     "text": [
      "   FSIQ\n",
      "0   133\n",
      "1   140\n",
      "2   139\n",
      "3   133\n",
      "4   137\n",
      "   VIQ\n",
      "0  132\n",
      "1  150\n",
      "2  123\n",
      "3  129\n",
      "4  132\n"
     ]
    }
   ],
   "source": [
    "# https://gist.github.com/shinokada/352bab2b15235a6925a7d08c7906e999\n",
    "\n",
    "fsiq = brain_size.iloc[:,2:3]\n",
    "viq = brain_size.iloc[:,3:4]\n",
    "print(fsiq.head())\n",
    "print(viq.head())"
   ]
  },
  {
   "cell_type": "code",
   "execution_count": 71,
   "metadata": {},
   "outputs": [
    {
     "name": "stdout",
     "output_type": "stream",
     "text": [
      "Test statistic=0.21, \n",
      "p-value=0.5814, \n",
      "degree of freedom=78\n",
      "\n",
      "At 0.05 level of significance, \n",
      "we accept the null hypotheses.  \n",
      "The FSIQ 1 is greater than the VIQ 2.\n"
     ]
    }
   ],
   "source": [
    "# https://gist.github.com/shinokada/84fbb9ea56766f5f82bef799391878a5\n",
    "\n",
    "import statsmodels.stats.weightstats as sm\n",
    "\n",
    "significance = 0.05\n",
    "\n",
    "tstat, pvalue, df = sm.ttest_ind(\n",
    "    fsiq,viq,\n",
    "    alternative='smaller',\n",
    "    usevar='pooled')\n",
    "\n",
    "print(\"\"\"Test statistic=%.2f, \n",
    "p-value=%.4f, \n",
    "degree of freedom=%.0f\\n\"\"\" % (tstat,pvalue,df))\n",
    "\n",
    "if pvalue < significance:\n",
    "\tprint(\"\"\"At %.2f level of significance, \n",
    "we reject the null hypotheses. \n",
    "The FSIQ 1 is less than the VIQ 2.\"\"\" % (significance))\n",
    "else:\n",
    "\tprint(\"\"\"At %.2f level of significance, \n",
    "we accept the null hypotheses.  \n",
    "The FSIQ 1 is greater than the VIQ 2.\"\"\" % (significance))"
   ]
  },
  {
   "cell_type": "markdown",
   "metadata": {},
   "source": [
    "# Reference\n",
    "\n",
    "- https://docs.scipy.org/doc/scipy/reference/generated/scipy.stats.ttest_ind.html"
   ]
  },
  {
   "cell_type": "markdown",
   "metadata": {},
   "source": [
    "- https://www.statsmodels.org/dev/generated/statsmodels.stats.weightstats.ttest_ind.html"
   ]
  },
  {
   "cell_type": "markdown",
   "metadata": {},
   "source": [
    "- https://scipy-lectures.org/packages/statistics/index.html"
   ]
  }
 ],
 "metadata": {
  "kernelspec": {
   "display_name": "Python 3",
   "language": "python",
   "name": "python3"
  },
  "language_info": {
   "codemirror_mode": {
    "name": "ipython",
    "version": 3
   },
   "file_extension": ".py",
   "mimetype": "text/x-python",
   "name": "python",
   "nbconvert_exporter": "python",
   "pygments_lexer": "ipython3",
   "version": "3.7.5"
  }
 },
 "nbformat": 4,
 "nbformat_minor": 2
}
