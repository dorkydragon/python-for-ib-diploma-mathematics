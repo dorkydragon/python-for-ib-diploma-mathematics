{
 "cells": [
  {
   "cell_type": "markdown",
   "metadata": {},
   "source": [
    "In this article, I will show the necessary steps using Python to find Spearman's rank correlation coefficient.\n",
    "\n",
    "Spearman's rank correlation uses ordinal data. Examples of ordinal data are:\n",
    "\n",
    "- 1st, 2nd, 3rd, \n",
    "- Small, Medium, Large, XL,\n",
    "- Strongly agree, Agree, Neutral, Disagree, Strongly Disagree\n",
    "- Very often, Often, Not Often, Not at all\n",
    "\n",
    "Spearman's rank correlation coefficient, $r_s$ shows the correlation between two ordinal data how one ordinal data increases or decreases as the other ordinal increases which are described as \"monotonic\". \n",
    "\n",
    "$$r_s=1-\\frac{6\\sum d^2}{n(n^2-1)}$$\n",
    "\n",
    "This formla is an alternative to Pearson's correlation if the the data are ordinal and monotonic and if there are no ties in data.\n",
    "\n",
    "A value of 1 means the set of data is strictly increasing and the value of -1 means it is strictly decreasing. A value of 0 means that data shows no monotonic behavior. the Spearman correlation between two variables will be high when an observation has a similar rank between the two variables.\n",
    "\n",
    "You can find all the code from this [link](https://github.com/shinokada/python-for-ib-diploma-mathematics/blob/master/Spearman's%20rank%20correlation%20coefficient.ipynb).\n",
    "\n",
    "Let's start.\n",
    "\n",
    "We need to import necessary libraries."
   ]
  },
  {
   "cell_type": "code",
   "execution_count": 55,
   "metadata": {},
   "outputs": [],
   "source": [
    "# https://gist.github.com/shinokada/574f639d4f07ed1388abd8f24f6936a4\n",
    "\n",
    "from scipy.stats import chi2_contingency\n",
    "import pandas as pd\n",
    "import numpy as np\n",
    "import seaborn as sns; sns.set()\n",
    "from scipy.stats import spearmanr"
   ]
  },
  {
   "cell_type": "markdown",
   "metadata": {},
   "source": [
    "# Example of the Spearman's Rank Correlation Test using two sets of list."
   ]
  },
  {
   "cell_type": "markdown",
   "metadata": {},
   "source": [
    "Let's find how the correlation of the rank at 5km relate to the rank of 10km run."
   ]
  },
  {
   "cell_type": "code",
   "execution_count": 46,
   "metadata": {},
   "outputs": [
    {
     "name": "stdout",
     "output_type": "stream",
     "text": [
      "rs=0.678571, p-value=0.093750\n",
      "At 5% level of significance, the final rankings is not significant or independent\n"
     ]
    }
   ],
   "source": [
    "# https://gist.github.com/shinokada/62fc538f01252f765bdf789a0efa80d6\n",
    "\n",
    "fivekm = [1,2,3,4,5,6,7]\n",
    "tenkm=[3,2,1,5,7,4,6]\n",
    "rs, pval = spearmanr(fivekm, tenkm)\n",
    "print('rs=%.6f, p-value=%.6f' % (rs, pval))\n",
    "if pval < 0.05:\n",
    "\tprint('At 5% level of significance, the final rankings is significant or dependent')\n",
    "else:\n",
    "\tprint('At 5% level of significance, the final rankings is not significant or independent')"
   ]
  },
  {
   "cell_type": "markdown",
   "metadata": {},
   "source": [
    "p-value is the level of significance. It determines the probability that the correlation happened by chance.\n"
   ]
  },
  {
   "cell_type": "markdown",
   "metadata": {},
   "source": [
    "# Example using Pandas dataframe."
   ]
  },
  {
   "cell_type": "code",
   "execution_count": 13,
   "metadata": {},
   "outputs": [
    {
     "data": {
      "text/html": [
       "<div>\n",
       "<style scoped>\n",
       "    .dataframe tbody tr th:only-of-type {\n",
       "        vertical-align: middle;\n",
       "    }\n",
       "\n",
       "    .dataframe tbody tr th {\n",
       "        vertical-align: top;\n",
       "    }\n",
       "\n",
       "    .dataframe thead th {\n",
       "        text-align: right;\n",
       "    }\n",
       "</style>\n",
       "<table border=\"1\" class=\"dataframe\">\n",
       "  <thead>\n",
       "    <tr style=\"text-align: right;\">\n",
       "      <th></th>\n",
       "      <th>After 5km</th>\n",
       "      <th>End of race</th>\n",
       "    </tr>\n",
       "  </thead>\n",
       "  <tbody>\n",
       "    <tr>\n",
       "      <th>0</th>\n",
       "      <td>1</td>\n",
       "      <td>3</td>\n",
       "    </tr>\n",
       "    <tr>\n",
       "      <th>1</th>\n",
       "      <td>2</td>\n",
       "      <td>2</td>\n",
       "    </tr>\n",
       "    <tr>\n",
       "      <th>2</th>\n",
       "      <td>3</td>\n",
       "      <td>1</td>\n",
       "    </tr>\n",
       "    <tr>\n",
       "      <th>3</th>\n",
       "      <td>4</td>\n",
       "      <td>5</td>\n",
       "    </tr>\n",
       "    <tr>\n",
       "      <th>4</th>\n",
       "      <td>5</td>\n",
       "      <td>7</td>\n",
       "    </tr>\n",
       "    <tr>\n",
       "      <th>5</th>\n",
       "      <td>6</td>\n",
       "      <td>4</td>\n",
       "    </tr>\n",
       "    <tr>\n",
       "      <th>6</th>\n",
       "      <td>7</td>\n",
       "      <td>6</td>\n",
       "    </tr>\n",
       "  </tbody>\n",
       "</table>\n",
       "</div>"
      ],
      "text/plain": [
       "   After 5km  End of race\n",
       "0          1            3\n",
       "1          2            2\n",
       "2          3            1\n",
       "3          4            5\n",
       "4          5            7\n",
       "5          6            4\n",
       "6          7            6"
      ]
     },
     "execution_count": 13,
     "metadata": {},
     "output_type": "execute_result"
    }
   ],
   "source": [
    "# https://gist.github.com/shinokada/83b2d7cd47e4fc1993d50400570e1b36\n",
    "\n",
    "race = pd.DataFrame(\n",
    "    [\n",
    "        [1,3],\n",
    "        [2,2],\n",
    "        [3,1],\n",
    "        [4,5],\n",
    "        [5,7],\n",
    "        [6,4],\n",
    "        [7,6]\n",
    "    ],\n",
    "    columns=[\"After 5km\",\"End of race\"])\n",
    "race"
   ]
  },
  {
   "cell_type": "markdown",
   "metadata": {},
   "source": [
    "## Ploting data\n",
    "\n",
    "Let's plot this data using Pandas plot()."
   ]
  },
  {
   "cell_type": "code",
   "execution_count": 20,
   "metadata": {},
   "outputs": [
    {
     "data": {
      "text/plain": [
       "<matplotlib.axes._subplots.AxesSubplot at 0x11db91350>"
      ]
     },
     "execution_count": 20,
     "metadata": {},
     "output_type": "execute_result"
    },
    {
     "data": {
      "image/png": "[encoded data removed]",
      "text/plain": [
       "<Figure size 432x288 with 1 Axes>"
      ]
     },
     "metadata": {
      "needs_background": "light"
     },
     "output_type": "display_data"
    }
   ],
   "source": [
    "# https://gist.github.com/shinokada/e491ca766909d2627f254bc55f6b1bf9\n",
    "\n",
    "race.plot.scatter(x='After 5km',y='End of race',c='red')"
   ]
  },
  {
   "cell_type": "markdown",
   "metadata": {},
   "source": [
    "We can plot using Seaborn to add color."
   ]
  },
  {
   "cell_type": "code",
   "execution_count": 22,
   "metadata": {},
   "outputs": [
    {
     "data": {
      "text/plain": [
       "<matplotlib.axes._subplots.AxesSubplot at 0x11e845950>"
      ]
     },
     "execution_count": 22,
     "metadata": {},
     "output_type": "execute_result"
    },
    {
     "data": {
      "image/png": "[encoded data removed]",
      "text/plain": [
       "<Figure size 432x288 with 1 Axes>"
      ]
     },
     "metadata": {},
     "output_type": "display_data"
    }
   ],
   "source": [
    "# https://gist.github.com/shinokada/6582b922f8a11af08f1fbe6af84f076f\n",
    "\n",
    "sns.scatterplot(x='After 5km',y='End of race',data=race)"
   ]
  },
  {
   "cell_type": "markdown",
   "metadata": {},
   "source": [
    "We find $r_s$ and p-value from pandas dataframe."
   ]
  },
  {
   "cell_type": "code",
   "execution_count": 34,
   "metadata": {},
   "outputs": [
    {
     "name": "stdout",
     "output_type": "stream",
     "text": [
      "rs=0.678571, p-value=0.093750\n"
     ]
    }
   ],
   "source": [
    "# https://gist.github.com/shinokada/cc6039ce789f594a134b644ce9afebcd \n",
    "\n",
    "rs, pval = spearmanr(race)\n",
    "print('rs=%.6f, p-value=%.6f' % (rs, pval))"
   ]
  },
  {
   "cell_type": "markdown",
   "metadata": {},
   "source": [
    "Now we create another dataframe using Pandas. Using `spearmanr`, you don't need to change your raw data to the ordinal data. "
   ]
  },
  {
   "cell_type": "code",
   "execution_count": 57,
   "metadata": {},
   "outputs": [
    {
     "name": "stdout",
     "output_type": "stream",
     "text": [
      "   Set of A  Set of B\n",
      "0         3         4\n",
      "1         5         4\n",
      "2         6         2\n",
      "3         6         4\n",
      "4         8         9\n",
      "5        11         7\n",
      "rs=0.585239, p-value=0.222365\n"
     ]
    },
    {
     "data": {
      "text/plain": [
       "<matplotlib.axes._subplots.AxesSubplot at 0x11ecfc910>"
      ]
     },
     "execution_count": 57,
     "metadata": {},
     "output_type": "execute_result"
    },
    {
     "data": {
      "image/png": "[encoded data removed]",
      "text/plain": [
       "<Figure size 432x288 with 1 Axes>"
      ]
     },
     "metadata": {},
     "output_type": "display_data"
    }
   ],
   "source": [
    "# https://gist.github.com/shinokada/2a67199e68bc08535d6eb278fde199ac\n",
    "\n",
    "rawdata = pd.DataFrame(\n",
    "    [\n",
    "        [3,4],\n",
    "        [5,4],\n",
    "        [6,2],\n",
    "        [6,4],\n",
    "        [8,9],\n",
    "        [11,7]\n",
    "    ],\n",
    "    columns=['Set of A','Set of B'])\n",
    "print(rawdata)\n",
    "rs, pval = spearmanr(rawdata)\n",
    "print('rs=%.6f, p-value=%.6f' % (rs, pval))\n",
    "sns.scatterplot(x='Set of A',y='Set of B',data=rawdata)"
   ]
  },
  {
   "cell_type": "markdown",
   "metadata": {},
   "source": [
    "Manually rank the above data to the ordinal data. Finding the $r_s$ and p-value. This shows the exactly the same result as finding them from the raw data."
   ]
  },
  {
   "cell_type": "code",
   "execution_count": 53,
   "metadata": {},
   "outputs": [
    {
     "name": "stdout",
     "output_type": "stream",
     "text": [
      "   Ranking of A  Ranking of B\n",
      "0           1.0             3\n",
      "1           2.0             3\n",
      "2           3.5             1\n",
      "3           3.5             3\n",
      "4           5.0             6\n",
      "5           6.0             5\n",
      "rs=0.585239, p-value=0.222365\n"
     ]
    },
    {
     "data": {
      "text/plain": [
       "<matplotlib.axes._subplots.AxesSubplot at 0x11eb811d0>"
      ]
     },
     "execution_count": 53,
     "metadata": {},
     "output_type": "execute_result"
    },
    {
     "data": {
      "image/png": "[encoded data removed]",
      "text/plain": [
       "<Figure size 432x288 with 1 Axes>"
      ]
     },
     "metadata": {},
     "output_type": "display_data"
    }
   ],
   "source": [
    "# https://gist.github.com/shinokada/768b2b6f1c2bce8790c6ccf68187e0e9\n",
    "\n",
    "ordinaldata = pd.DataFrame(\n",
    "    [\n",
    "        [1.0,3],\n",
    "        [2.0,3],\n",
    "        [3.5,1],\n",
    "        [3.5,3],\n",
    "        [5.0,6],\n",
    "        [6.0,5]\n",
    "    ],\n",
    "    columns=['Ranking of A','Ranking of B'])\n",
    "print(ordinaldata)\n",
    "rs, pval = spearmanr(ordinaldata)\n",
    "print('rs=%.6f, p-value=%.6f' % (rs, pval))\n",
    "sns.scatterplot(x='Ranking of A',y='Ranking of B',data=ordinaldata)"
   ]
  },
  {
   "cell_type": "markdown",
   "metadata": {},
   "source": [
    "A value of 1 means the set of data is strictly increasing. The rank do not change. p-value is 0 in this case."
   ]
  },
  {
   "cell_type": "code",
   "execution_count": 47,
   "metadata": {},
   "outputs": [
    {
     "name": "stdout",
     "output_type": "stream",
     "text": [
      "rs=1.000000, p-value=0.000000\n"
     ]
    },
    {
     "data": {
      "text/plain": [
       "<matplotlib.axes._subplots.AxesSubplot at 0x11e71dc50>"
      ]
     },
     "execution_count": 47,
     "metadata": {},
     "output_type": "execute_result"
    },
    {
     "data": {
      "image/png": "[encoded data removed]",
      "text/plain": [
       "<Figure size 432x288 with 1 Axes>"
      ]
     },
     "metadata": {},
     "output_type": "display_data"
    }
   ],
   "source": [
    "# https://gist.github.com/shinokada/318d5d1eb9a7981f003447ee19adaca6\n",
    "\n",
    "race2 = pd.DataFrame(\n",
    "    [\n",
    "        [1,1],\n",
    "        [2,2],\n",
    "        [3,3],\n",
    "        [4,4],\n",
    "        [5,5],\n",
    "        [6,6],\n",
    "        [7,7]\n",
    "    ],\n",
    "    columns=['After 5km','End of race'])\n",
    "rs, pval = spearmanr(race2)\n",
    "print('rs=%.6f, p-value=%.6f' % (rs, pval))\n",
    "sns.scatterplot(x='After 5km',y='End of race',data=race2)"
   ]
  },
  {
   "cell_type": "markdown",
   "metadata": {},
   "source": [
    "The value of -1 means it is strictly decreasing. The rank is in a reversal order."
   ]
  },
  {
   "cell_type": "code",
   "execution_count": 48,
   "metadata": {},
   "outputs": [
    {
     "name": "stdout",
     "output_type": "stream",
     "text": [
      "rs=-1.000000, p-value=0.000000\n"
     ]
    },
    {
     "data": {
      "text/plain": [
       "<matplotlib.axes._subplots.AxesSubplot at 0x11e959210>"
      ]
     },
     "execution_count": 48,
     "metadata": {},
     "output_type": "execute_result"
    },
    {
     "data": {
      "image/png": "[encoded data removed]",
      "text/plain": [
       "<Figure size 432x288 with 1 Axes>"
      ]
     },
     "metadata": {},
     "output_type": "display_data"
    }
   ],
   "source": [
    "# https://gist.github.com/shinokada/817f920c45bd3f983ca9bd6ed2dd1838\n",
    "\n",
    "race3 = pd.DataFrame(\n",
    "    [\n",
    "        [1,7],\n",
    "        [2,6],\n",
    "        [3,5],\n",
    "        [4,4],\n",
    "        [5,3],\n",
    "        [6,2],\n",
    "        [7,1]\n",
    "    ],\n",
    "    columns=['After 5km','End of race'])\n",
    "rs, pval = spearmanr(race3)\n",
    "print('rs=%.6f, p-value=%.6f' % (rs, pval))\n",
    "sns.scatterplot(x='After 5km',y='End of race',data=race3)"
   ]
  },
  {
   "cell_type": "markdown",
   "metadata": {},
   "source": [
    "No monotonic behavior gives the value of 0."
   ]
  },
  {
   "cell_type": "code",
   "execution_count": 51,
   "metadata": {},
   "outputs": [
    {
     "name": "stdout",
     "output_type": "stream",
     "text": [
      "rs=0.000000, p-value=1.000000\n"
     ]
    },
    {
     "data": {
      "text/plain": [
       "<matplotlib.axes._subplots.AxesSubplot at 0x11ea93e50>"
      ]
     },
     "execution_count": 51,
     "metadata": {},
     "output_type": "execute_result"
    },
    {
     "data": {
      "image/png": "[encoded data removed]",
      "text/plain": [
       "<Figure size 432x288 with 1 Axes>"
      ]
     },
     "metadata": {},
     "output_type": "display_data"
    }
   ],
   "source": [
    "# https://gist.github.com/shinokada/3c5f78acda90a402288d75b8c795953b\n",
    "\n",
    "race4 = pd.DataFrame(\n",
    "    [\n",
    "        [1,1],\n",
    "        [2,2],\n",
    "        [3,3],\n",
    "        [4,4],\n",
    "        [5,3],\n",
    "        [6,2],\n",
    "        [7,1]\n",
    "    ],\n",
    "    columns=['After 5km','End of race'])\n",
    "rs, pval = spearmanr(race4)\n",
    "print('rs=%.6f, p-value=%.6f' % (rs, pval))\n",
    "sns.scatterplot(x='After 5km',y='End of race',data=race4)"
   ]
  },
  {
   "cell_type": "markdown",
   "metadata": {},
   "source": [
    "# Importing a CSV file"
   ]
  },
  {
   "cell_type": "code",
   "execution_count": 61,
   "metadata": {},
   "outputs": [
    {
     "data": {
      "text/html": [
       "<div>\n",
       "<style scoped>\n",
       "    .dataframe tbody tr th:only-of-type {\n",
       "        vertical-align: middle;\n",
       "    }\n",
       "\n",
       "    .dataframe tbody tr th {\n",
       "        vertical-align: top;\n",
       "    }\n",
       "\n",
       "    .dataframe thead th {\n",
       "        text-align: right;\n",
       "    }\n",
       "</style>\n",
       "<table border=\"1\" class=\"dataframe\">\n",
       "  <thead>\n",
       "    <tr style=\"text-align: right;\">\n",
       "      <th></th>\n",
       "      <th>start_date</th>\n",
       "      <th>start_station_code</th>\n",
       "      <th>end_date</th>\n",
       "      <th>end_station_code</th>\n",
       "      <th>duration_sec</th>\n",
       "      <th>is_member</th>\n",
       "    </tr>\n",
       "  </thead>\n",
       "  <tbody>\n",
       "    <tr>\n",
       "      <th>0</th>\n",
       "      <td>2019-10-01 00:00:08</td>\n",
       "      <td>6174</td>\n",
       "      <td>2019-10-01 00:03:28</td>\n",
       "      <td>6175</td>\n",
       "      <td>199</td>\n",
       "      <td>1</td>\n",
       "    </tr>\n",
       "    <tr>\n",
       "      <th>1</th>\n",
       "      <td>2019-10-01 00:01:13</td>\n",
       "      <td>6196</td>\n",
       "      <td>2019-10-01 00:04:38</td>\n",
       "      <td>6196</td>\n",
       "      <td>205</td>\n",
       "      <td>1</td>\n",
       "    </tr>\n",
       "    <tr>\n",
       "      <th>2</th>\n",
       "      <td>2019-10-01 00:01:34</td>\n",
       "      <td>6033</td>\n",
       "      <td>2019-10-01 00:05:07</td>\n",
       "      <td>6723</td>\n",
       "      <td>212</td>\n",
       "      <td>1</td>\n",
       "    </tr>\n",
       "    <tr>\n",
       "      <th>3</th>\n",
       "      <td>2019-10-01 00:02:33</td>\n",
       "      <td>6136</td>\n",
       "      <td>2019-10-01 00:06:50</td>\n",
       "      <td>6165</td>\n",
       "      <td>256</td>\n",
       "      <td>1</td>\n",
       "    </tr>\n",
       "    <tr>\n",
       "      <th>4</th>\n",
       "      <td>2019-10-01 00:02:34</td>\n",
       "      <td>6204</td>\n",
       "      <td>2019-10-01 00:04:18</td>\n",
       "      <td>6079</td>\n",
       "      <td>104</td>\n",
       "      <td>1</td>\n",
       "    </tr>\n",
       "  </tbody>\n",
       "</table>\n",
       "</div>"
      ],
      "text/plain": [
       "            start_date  start_station_code             end_date  \\\n",
       "0  2019-10-01 00:00:08                6174  2019-10-01 00:03:28   \n",
       "1  2019-10-01 00:01:13                6196  2019-10-01 00:04:38   \n",
       "2  2019-10-01 00:01:34                6033  2019-10-01 00:05:07   \n",
       "3  2019-10-01 00:02:33                6136  2019-10-01 00:06:50   \n",
       "4  2019-10-01 00:02:34                6204  2019-10-01 00:04:18   \n",
       "\n",
       "   end_station_code  duration_sec  is_member  \n",
       "0              6175           199          1  \n",
       "1              6196           205          1  \n",
       "2              6723           212          1  \n",
       "3              6165           256          1  \n",
       "4              6079           104          1  "
      ]
     },
     "execution_count": 61,
     "metadata": {},
     "output_type": "execute_result"
    }
   ],
   "source": [
    "rides = pd.read_csv('https://raw.githubusercontent.com/shinokada/python-for-ib-diploma-mathematics/master/Data/OD_2019.csv')\n",
    "print(rides.shape)\n",
    "print(rides.head())"
   ]
  },
  {
   "cell_type": "code",
   "execution_count": 70,
   "metadata": {},
   "outputs": [
    {
     "name": "stdout",
     "output_type": "stream",
     "text": [
      "                  duration_sec  n_rides\n",
      "end_station_code                       \n",
      "6015                       863        1\n",
      "6018                       276        1\n",
      "6029                      3085        2\n",
      "6043                       761        1\n",
      "6052                       596        1\n",
      "                  duration_sec\n",
      "end_station_code              \n",
      "6015                       863\n",
      "6018                       276\n",
      "6029                      3085\n",
      "6043                       761\n",
      "6052                       596\n"
     ]
    }
   ],
   "source": [
    "\n",
    "\n",
    "to_df = (\n",
    "    rides\n",
    "        .loc[:, ['end_station_code', 'duration_sec']]\n",
    "        .groupby('end_station_code')\n",
    "        .sum()\n",
    "        .assign(n_rides=rides['end_station_code'].value_counts())\n",
    ")\n",
    "print(to_df.head())\n",
    "\n",
    "my_df = (\n",
    "    rides\n",
    "        .loc[:, ['end_station_code', 'duration_sec']]\n",
    "        .groupby('end_station_code')\n",
    "        .sum()\n",
    ")\n",
    "print(my_df.head())"
   ]
  },
  {
   "cell_type": "markdown",
   "metadata": {},
   "source": [
    "# Examples to use Spearman's correlation are:\n",
    "\n",
    "- [IQ of a person with the number of hours spent on games](https://www.wikiwand.com/en/Spearman%27s_rank_correlation_coefficient)\n",
    "- [Physics and Math ranks](https://www.statisticshowto.datasciencecentral.com/spearman-rank-correlation-definition-calculate/)\n",
    "- [Free university meals and their CGPA scores](https://www.toppr.com/guides/business-mathematics-and-statistics/correlation-and-regression/rank-correlation/)\n",
    "\n",
    "You can use [the null hypothesis for this test](https://statistics.laerd.com/statistical-guides/spearmans-rank-order-correlation-statistical-guide-2.php). \n",
    "\n",
    "# Reference\n",
    "\n",
    "- To compare the Spearman correlation and the Pearson correlation, please read [A comparison of the Pearson and Spearman correlation here](https://support.minitab.com/en-us/minitab-express/1/help-and-how-to/modeling-statistics/regression/supporting-topics/basics/a-comparison-of-the-pearson-and-spearman-correlation-methods/) \n",
    "\n",
    "- \n",
    "\n",
    "-\n",
    "\n",
    "-\n",
    "\n",
    "\n"
   ]
  },
  {
   "cell_type": "code",
   "execution_count": null,
   "metadata": {},
   "outputs": [],
   "source": []
  }
 ],
 "metadata": {
  "kernelspec": {
   "display_name": "Python 3",
   "language": "python",
   "name": "python3"
  },
  "language_info": {
   "codemirror_mode": {
    "name": "ipython",
    "version": 3
   },
   "file_extension": ".py",
   "mimetype": "text/x-python",
   "name": "python",
   "nbconvert_exporter": "python",
   "pygments_lexer": "ipython3",
   "version": "3.7.5"
  }
 },
 "nbformat": 4,
 "nbformat_minor": 2
}
