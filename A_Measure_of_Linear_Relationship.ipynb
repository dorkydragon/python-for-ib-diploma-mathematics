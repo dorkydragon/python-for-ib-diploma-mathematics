{
 "cells": [
  {
   "cell_type": "markdown",
   "metadata": {
    "toc": true
   },
   "source": [
    "<h1>Table of Contents<span class=\"tocSkip\"></span></h1>\n",
    "<div class=\"toc\"><ul class=\"toc-item\"><li><span><a href=\"#A-Measure-of-Linear-Relationship\" data-toc-modified-id=\"A-Measure-of-Linear-Relationship-1\">A Measure of Linear Relationship</a></span><ul class=\"toc-item\"><li><span><a href=\"#Pearson’s-product-moment-correlation-with-Jupyter-Notebook\" data-toc-modified-id=\"Pearson’s-product-moment-correlation-with-Jupyter-Notebook-1.1\">Pearson’s product-moment correlation with Jupyter Notebook</a></span></li></ul></li><li><span><a href=\"#Introduction\" data-toc-modified-id=\"Introduction-2\">Introduction</a></span><ul class=\"toc-item\"><li><span><a href=\"#Import-necessary-libraries\" data-toc-modified-id=\"Import-necessary-libraries-2.1\">Import necessary libraries</a></span></li></ul></li><li><span><a href=\"#Finding-the-regression-line-using-linregress\" data-toc-modified-id=\"Finding-the-regression-line-using-linregress-3\">Finding the regression line using <code>linregress</code></a></span></li><li><span><a href=\"#Pearson's-correlation-coefficient\" data-toc-modified-id=\"Pearson's-correlation-coefficient-4\">Pearson's correlation coefficient</a></span><ul class=\"toc-item\"><li><span><a href=\"#For-population-data\" data-toc-modified-id=\"For-population-data-4.1\">For population data</a></span></li><li><span><a href=\"#For-sample-data\" data-toc-modified-id=\"For-sample-data-4.2\">For sample data</a></span></li></ul></li><li><span><a href=\"#Finding-Pearson's-correlation-coefficient\" data-toc-modified-id=\"Finding-Pearson's-correlation-coefficient-5\">Finding Pearson's correlation coefficient</a></span><ul class=\"toc-item\"><li><span><a href=\"#Mathematically-using-Numpy\" data-toc-modified-id=\"Mathematically-using-Numpy-5.1\">Mathematically using Numpy</a></span></li><li><span><a href=\"#Using-scipy.stats.pearsonr\" data-toc-modified-id=\"Using-scipy.stats.pearsonr-5.2\">Using <code>scipy.stats.pearsonr</code></a></span></li></ul></li><li><span><a href=\"#Degree-of-freedom-and-critical-values\" data-toc-modified-id=\"Degree-of-freedom-and-critical-values-6\">Degree of freedom and critical values</a></span></li><li><span><a href=\"#The-least-squares-regression-line\" data-toc-modified-id=\"The-least-squares-regression-line-7\">The least-squares regression line</a></span></li><li><span><a href=\"#The-mean-point-on-the-line-of-best-fit\" data-toc-modified-id=\"The-mean-point-on-the-line-of-best-fit-8\">The mean point on the line of best fit</a></span></li><li><span><a href=\"#Real-life-example\" data-toc-modified-id=\"Real-life-example-9\">Real-life example</a></span></li><li><span><a href=\"#Finding-r-from-more-than-two-arrays\" data-toc-modified-id=\"Finding-r-from-more-than-two-arrays-10\">Finding r from more than two arrays</a></span></li><li><span><a href=\"#Heat-map\" data-toc-modified-id=\"Heat-map-11\">Heat map</a></span></li><li><span><a href=\"#Conclusion\" data-toc-modified-id=\"Conclusion-12\">Conclusion</a></span></li><li><span><a href=\"#Reference\" data-toc-modified-id=\"Reference-13\">Reference</a></span></li></ul></div>"
   ]
  },
  {
   "cell_type": "markdown",
   "metadata": {},
   "source": [
    "# A Measure of Linear Relationship\n",
    "\n",
    "## Pearson’s product-moment correlation with Jupyter Notebook"
   ]
  },
  {
   "cell_type": "markdown",
   "metadata": {},
   "source": [
    "# Introduction\n",
    "\n",
    "In this article, I use Python to analyze bivariate data using Pearson's product-moment correlation coefficient r, drawing scatter diagrams, lines of best fit and the least-square regression line.\n",
    "Bivariate data involves two types of related data. Pearson's product-moment correlation coefficient tells you how linearly these two data are related.\n",
    "We can display the collected data on a scatter plot. The horizontal axis is called the x-axis and we call the coordinate of x-axis the independent variable. The vertical axis is called the y-axis and we call the coordinate of y-axis the dependent variable.\n",
    "\n",
    "I downloaded the data from this [link](https://stats.oecd.org/Index.aspx?DataSetCode=HOUSE_PRICES)."
   ]
  },
  {
   "cell_type": "markdown",
   "metadata": {},
   "source": [
    "## Import necessary libraries"
   ]
  },
  {
   "cell_type": "code",
   "execution_count": null,
   "metadata": {},
   "outputs": [],
   "source": [
    "# https://gist.github.com/shinokada/8e24e3f435bdd7be910a544b3687b998 "
   ]
  },
  {
   "cell_type": "code",
   "execution_count": 12,
   "metadata": {},
   "outputs": [],
   "source": [
    "import pandas as pd\n",
    "import numpy as np\n",
    "import matplotlib.pyplot as plt\n",
    "from scipy.stats import pearsonr\n",
    "from scipy.stats import linregress\n",
    "import seaborn as sns; sns.set()"
   ]
  },
  {
   "cell_type": "markdown",
   "metadata": {},
   "source": [
    "Let's create a sample data."
   ]
  },
  {
   "cell_type": "code",
   "execution_count": 3,
   "metadata": {},
   "outputs": [],
   "source": [
    "# https://gist.github.com/shinokada/88da5641103f5b4fc80f8621381ef1a8"
   ]
  },
  {
   "cell_type": "code",
   "execution_count": 4,
   "metadata": {},
   "outputs": [
    {
     "data": {
      "text/html": [
       "<div>\n",
       "<style scoped>\n",
       "    .dataframe tbody tr th:only-of-type {\n",
       "        vertical-align: middle;\n",
       "    }\n",
       "\n",
       "    .dataframe tbody tr th {\n",
       "        vertical-align: top;\n",
       "    }\n",
       "\n",
       "    .dataframe thead th {\n",
       "        text-align: right;\n",
       "    }\n",
       "</style>\n",
       "<table border=\"1\" class=\"dataframe\">\n",
       "  <thead>\n",
       "    <tr style=\"text-align: right;\">\n",
       "      <th></th>\n",
       "      <th>0</th>\n",
       "      <th>1</th>\n",
       "      <th>2</th>\n",
       "      <th>3</th>\n",
       "      <th>4</th>\n",
       "    </tr>\n",
       "  </thead>\n",
       "  <tbody>\n",
       "    <tr>\n",
       "      <th>gain</th>\n",
       "      <td>5</td>\n",
       "      <td>7</td>\n",
       "      <td>12</td>\n",
       "      <td>16</td>\n",
       "      <td>20</td>\n",
       "    </tr>\n",
       "    <tr>\n",
       "      <th>loss</th>\n",
       "      <td>4</td>\n",
       "      <td>12</td>\n",
       "      <td>18</td>\n",
       "      <td>21</td>\n",
       "      <td>24</td>\n",
       "    </tr>\n",
       "  </tbody>\n",
       "</table>\n",
       "</div>"
      ],
      "text/plain": [
       "      0   1   2   3   4\n",
       "gain  5   7  12  16  20\n",
       "loss  4  12  18  21  24"
      ]
     },
     "execution_count": 4,
     "metadata": {},
     "output_type": "execute_result"
    }
   ],
   "source": [
    "data = pd.DataFrame(\n",
    "    [\n",
    "        [5,7,12,16,20],\n",
    "        [4,12,18,21,24]\n",
    "    ],\n",
    "    index=['gain','loss'])\n",
    "data"
   ]
  },
  {
   "cell_type": "markdown",
   "metadata": {},
   "source": [
    "We need to transpose the data so that data is categorized by columns. Pandas transpose does not modify the original data."
   ]
  },
  {
   "cell_type": "code",
   "execution_count": 5,
   "metadata": {},
   "outputs": [],
   "source": [
    "# https://gist.github.com/shinokada/68e9ee9beb77ef4302148c4bd1d985ac"
   ]
  },
  {
   "cell_type": "code",
   "execution_count": 6,
   "metadata": {},
   "outputs": [
    {
     "name": "stdout",
     "output_type": "stream",
     "text": [
      "   gain  loss\n",
      "0     5     4\n",
      "1     7    12\n",
      "2    12    18\n",
      "3    16    21\n",
      "4    20    24\n"
     ]
    }
   ],
   "source": [
    "data_t = data.T\n",
    "print(data_t)"
   ]
  },
  {
   "cell_type": "markdown",
   "metadata": {},
   "source": [
    "We use the Seaborn to create a scatter plot."
   ]
  },
  {
   "cell_type": "code",
   "execution_count": 7,
   "metadata": {},
   "outputs": [],
   "source": [
    "# https://gist.github.com/shinokada/c732d107ca5c90b1ec2a33e8504d95a4"
   ]
  },
  {
   "cell_type": "code",
   "execution_count": 13,
   "metadata": {},
   "outputs": [
    {
     "data": {
      "image/png": "[encoded data removed]",
      "text/plain": [
       "<Figure size 432x288 with 1 Axes>"
      ]
     },
     "metadata": {},
     "output_type": "display_data"
    }
   ],
   "source": [
    "sns.scatterplot(x='gain', y='loss', data=data_t)\n",
    "plt.show()"
   ]
  },
  {
   "cell_type": "markdown",
   "metadata": {},
   "source": [
    "# Finding the regression line using `linregress`"
   ]
  },
  {
   "cell_type": "markdown",
   "metadata": {},
   "source": [
    "`linregress` returns slope, intercept, r_value and p-value."
   ]
  },
  {
   "cell_type": "code",
   "execution_count": 43,
   "metadata": {},
   "outputs": [],
   "source": [
    "# https://gist.github.com/shinokada/278a95b2e5dbf61bccbf15ba40f25ed4"
   ]
  },
  {
   "cell_type": "code",
   "execution_count": 14,
   "metadata": {},
   "outputs": [
    {
     "name": "stdout",
     "output_type": "stream",
     "text": [
      "The equation of reegression line is y=1.221x+1.151.\n",
      "Pearson's product-moment correlation coefficient is {r_value:.4f}.\n",
      "p-value is {p_value:.4f}.\n"
     ]
    }
   ],
   "source": [
    "df_x=data_t.iloc[:,0] \n",
    "df_y=data_t.iloc[:,1]\n",
    "slope, intercept, r_value, p_value, std_err = linregress(df_x,df_y)\n",
    "\n",
    "print(f'The equation of reegression line is y={slope:.3f}x+{intercept:.3f}.')\n",
    "print('Pearson\\'s product-moment correlation coefficient is {r_value:.4f}.')\n",
    "print('p-value is {p_value:.4f}.')"
   ]
  },
  {
   "cell_type": "markdown",
   "metadata": {},
   "source": [
    "# Pearson's correlation coefficient"
   ]
  },
  {
   "cell_type": "markdown",
   "metadata": {},
   "source": [
    "## For population data\n",
    "\n",
    "Pearson's product-moment correlation coefficient for two sets of population data, x and y, is:\n",
    "\n",
    "$$\n",
    "\\begin{align}\n",
    "\\rho_{x,y}= \\frac{cov(x,y)}{\\sigma _x \\sigma _y} \\tag{1-1}\n",
    "\\end{align}\n",
    "$$\n",
    "\n",
    "where cov is the covariance and $\\sigma_x$ and $\\sigma_y$ are the population standard deviations of x and y.\n",
    "\n",
    "$$\n",
    "\\begin{align}\n",
    "cov(x,y)=\\frac{1}{n}\\sum \\limits _{i=1} ^{n} (x_i -\\mu _x)(y_i-\\mu _y) \\tag{1-2}\n",
    "\\end{align}\n",
    "$$\n",
    "\n",
    "where $\\mu _x$ is the mean of x and $\\mu _y$ is the mean of y.\n",
    "\n",
    "$$\n",
    "\\begin{align}\n",
    "\\sigma_x=\\sqrt{\\frac{\\sum \\limits _{i=1} ^{n} (x _i - \\mu _x)^2}{n}} \\tag{1-3}\\\\\n",
    "\\sigma_y=\\sqrt{\\frac{\\sum \\limits _{i=1} ^{n} (y _i - \\mu _y)^2}{n}} \\tag{1-4}\\\\\n",
    "\\end{align}\n",
    "$$\n",
    "\n",
    "## For sample data\n",
    "\n",
    "Pearson's product-moment correlation coefficient for two sets of sample data, x and y, is:\n",
    "\n",
    "$$\n",
    "\\begin{align}\n",
    "r_{xy}=\\frac{s_{xy}}{s_x s_y} \\tag{2-1} \\\\\n",
    "\\end{align}\n",
    "$$\n",
    "\n",
    "where $s_{xy}$ is the covariance and $s_x$ and $s_y$ are the sample standard deviatios of x and y.\n",
    "\n",
    "$$\n",
    "\\begin{align}\n",
    "s_{xy}= \\sum \\limits _{i=1} ^{n} \\frac{(x_i -\\bar  x)(y_i-\\bar y)}{n-1}\\tag{2-2} \\\\\n",
    "s_x=\\sqrt{\\frac{\\sum \\limits _{i=1} ^{n} (x_i - \\bar x)^2}{n-1}} \\tag{2-3}\\\\\n",
    "s_y=\\sqrt{\\frac{\\sum \\limits _{i=1} ^{n} (y_i - \\bar y)^2}{n-1}}\\tag{2-4} \\\\\n",
    "\\end{align}\n",
    "$$\n",
    "\n",
    "Therefore\n",
    "\n",
    "$$\n",
    "\\begin{align}\n",
    "r_{xy}=\\frac{\\sum \\limits _{i=1} ^{n}(x _i -\\bar x)(y-\\bar y)}\n",
    "{\\sqrt{\\sum \\limits _{i=1} ^{n} (x_i - \\bar x)^2} \\sqrt{\\sum \\limits _{i=1} ^{n} (y_i - \\bar y)^2}} \\tag{2-5}\n",
    "\\end{align}\n",
    "$$"
   ]
  },
  {
   "cell_type": "markdown",
   "metadata": {},
   "source": [
    "# Finding Pearson's correlation coefficient \n",
    "\n",
    "Let's use sample data."
   ]
  },
  {
   "cell_type": "code",
   "execution_count": null,
   "metadata": {},
   "outputs": [],
   "source": [
    "# https://gist.github.com/shinokada/dbe2f88096dea97a412ed05eb725adb2"
   ]
  },
  {
   "cell_type": "code",
   "execution_count": 16,
   "metadata": {},
   "outputs": [
    {
     "data": {
      "text/html": [
       "<div>\n",
       "<style scoped>\n",
       "    .dataframe tbody tr th:only-of-type {\n",
       "        vertical-align: middle;\n",
       "    }\n",
       "\n",
       "    .dataframe tbody tr th {\n",
       "        vertical-align: top;\n",
       "    }\n",
       "\n",
       "    .dataframe thead th {\n",
       "        text-align: right;\n",
       "    }\n",
       "</style>\n",
       "<table border=\"1\" class=\"dataframe\">\n",
       "  <thead>\n",
       "    <tr style=\"text-align: right;\">\n",
       "      <th></th>\n",
       "      <th>0</th>\n",
       "      <th>1</th>\n",
       "      <th>2</th>\n",
       "    </tr>\n",
       "  </thead>\n",
       "  <tbody>\n",
       "    <tr>\n",
       "      <th>gain</th>\n",
       "      <td>5</td>\n",
       "      <td>7</td>\n",
       "      <td>12</td>\n",
       "    </tr>\n",
       "    <tr>\n",
       "      <th>loss</th>\n",
       "      <td>4</td>\n",
       "      <td>12</td>\n",
       "      <td>17</td>\n",
       "    </tr>\n",
       "  </tbody>\n",
       "</table>\n",
       "</div>"
      ],
      "text/plain": [
       "      0   1   2\n",
       "gain  5   7  12\n",
       "loss  4  12  17"
      ]
     },
     "execution_count": 16,
     "metadata": {},
     "output_type": "execute_result"
    }
   ],
   "source": [
    "df = pd.DataFrame(\n",
    "    [\n",
    "        [5,7,12],\n",
    "        [4,12,17]\n",
    "    ],\n",
    "    index=['gain','loss'])\n",
    "df"
   ]
  },
  {
   "cell_type": "markdown",
   "metadata": {},
   "source": [
    "## Mathematically using Numpy"
   ]
  },
  {
   "cell_type": "code",
   "execution_count": 17,
   "metadata": {},
   "outputs": [],
   "source": [
    "# https://gist.github.com/shinokada/51ae8c66507b6d0ade544ad132da87e0"
   ]
  },
  {
   "cell_type": "code",
   "execution_count": 18,
   "metadata": {
    "scrolled": true
   },
   "outputs": [
    {
     "data": {
      "text/plain": [
       "0.93050085576319"
      ]
     },
     "execution_count": 18,
     "metadata": {},
     "output_type": "execute_result"
    }
   ],
   "source": [
    "# Means\n",
    "gain_mean, loss_mean=df.T.mean()\n",
    "\n",
    "# Standard deviations\n",
    "gain_std, loss_std = df.T.std(ddof=1)\n",
    "\n",
    "# Covariance\n",
    "cov_xy=df.T.cov()\n",
    "\n",
    "# Pearson correlation coefficient\n",
    "cov_xy.iloc[0,1]/(gain_std*loss_std)\n"
   ]
  },
  {
   "cell_type": "markdown",
   "metadata": {},
   "source": [
    "In Pandas, `ddf=0` is for population and `ddf=1` is for sample. Since we use all data we use 0 here."
   ]
  },
  {
   "cell_type": "markdown",
   "metadata": {},
   "source": [
    "## Using `scipy.stats.pearsonr`"
   ]
  },
  {
   "cell_type": "code",
   "execution_count": 19,
   "metadata": {},
   "outputs": [],
   "source": [
    "# https://gist.github.com/shinokada/c8a5f8539f4ab466a2f5d1af631b6da4"
   ]
  },
  {
   "cell_type": "code",
   "execution_count": 20,
   "metadata": {},
   "outputs": [
    {
     "data": {
      "text/plain": [
       "0.9305008557631897"
      ]
     },
     "execution_count": 20,
     "metadata": {},
     "output_type": "execute_result"
    }
   ],
   "source": [
    "r, pval = pearsonr(df.T.iloc[:,0],df.T.iloc[:,1])\n",
    "r"
   ]
  },
  {
   "cell_type": "markdown",
   "metadata": {},
   "source": [
    "`pearsonr` returns Pearson's product-moment correlation coefficient and p-value."
   ]
  },
  {
   "cell_type": "markdown",
   "metadata": {},
   "source": [
    "# Degree of freedom and critical values"
   ]
  },
  {
   "cell_type": "markdown",
   "metadata": {},
   "source": [
    "You can find the table of critical values for Pearson correlation [here](https://www.statisticssolutions.com/table-of-critical-values-pearson-correlation/). The degree of freedom (dof) is the number of data points minus 2. In the above example dof=5-2=3. For 95% confidence which is statistically significant, we use the 0.05 Levels of Significance from the table of critical value. This gives us 0.878. If |r|>critical value, then the correlation is probably NOT due to change which means it is statistically significant. In the above case, |0.9928| > 0.878, so it is 95% confident that there is a statistically significant positive relationship between two variables."
   ]
  },
  {
   "cell_type": "markdown",
   "metadata": {},
   "source": [
    "# The least-squares regression line"
   ]
  },
  {
   "cell_type": "markdown",
   "metadata": {},
   "source": [
    "The least-squares regression line is called the line of best fit. Since `linregress()` returns the slope and y-intercept, we use them to make a line of regression."
   ]
  },
  {
   "cell_type": "code",
   "execution_count": 21,
   "metadata": {},
   "outputs": [],
   "source": [
    "# https://gist.github.com/shinokada/8d299e2e808206f005c34b6589430843"
   ]
  },
  {
   "cell_type": "code",
   "execution_count": 22,
   "metadata": {},
   "outputs": [
    {
     "data": {
      "image/png": "[encoded data removed]",
      "text/plain": [
       "<Figure size 432x288 with 1 Axes>"
      ]
     },
     "metadata": {},
     "output_type": "display_data"
    },
    {
     "name": "stdout",
     "output_type": "stream",
     "text": [
      "r: {r:.4f}, p-value: {pval:.4f}\n"
     ]
    }
   ],
   "source": [
    "X_plot = np.linspace(0,20,100)\n",
    "Y_plot = slope*X_plot+intercept\n",
    "sns.scatterplot(x='gain', y='loss', data=data_t)\n",
    "plt.plot(X_plot, Y_plot, color='r')\n",
    "plt.show()\n",
    "r, pval = pearsonr(df_x,df_y)\n",
    "print('r: {r:.4f}, p-value: {pval:.4f}')"
   ]
  },
  {
   "cell_type": "markdown",
   "metadata": {},
   "source": [
    "# The mean point on the line of best fit "
   ]
  },
  {
   "cell_type": "markdown",
   "metadata": {},
   "source": [
    "We find the mean of each data set and plot it on the same graph."
   ]
  },
  {
   "cell_type": "code",
   "execution_count": 23,
   "metadata": {},
   "outputs": [],
   "source": [
    "# https://gist.github.com/shinokada/6126df0b9274ad883471a99f5c9b3da2"
   ]
  },
  {
   "cell_type": "code",
   "execution_count": 24,
   "metadata": {},
   "outputs": [
    {
     "data": {
      "image/png": "[encoded data removed]",
      "text/plain": [
       "<Figure size 432x288 with 1 Axes>"
      ]
     },
     "metadata": {},
     "output_type": "display_data"
    },
    {
     "name": "stdout",
     "output_type": "stream",
     "text": [
      "r: {r:.4f}, p-value: {pval:.4f}\n"
     ]
    }
   ],
   "source": [
    "gain_mean, loss_mean = data_t.mean(axis = 0)\n",
    "sns.scatterplot(x='gain', y='loss', data=data_t)\n",
    "plt.plot(X_plot, Y_plot, color='r')\n",
    "plt.text(gain_mean, loss_mean, '({}, {})'.format(gain_mean, loss_mean))\n",
    "plt.plot(gain_mean, loss_mean, 'g^',markersize=18)\n",
    "plt.show()\n",
    "r, pval = pearsonr(df_x,df_y)\n",
    "print('r: {r:.4f}, p-value: {pval:.4f}')"
   ]
  },
  {
   "cell_type": "markdown",
   "metadata": {},
   "source": [
    "# Real-life example"
   ]
  },
  {
   "cell_type": "markdown",
   "metadata": {},
   "source": [
    "We are going to the linear relation between the population and labour force in Australia. We use the historical population from [OECD](https://data.oecd.org/). Let's use `read_csv` and find the dimension(shape) and display the first five data using `shape` and `head()`."
   ]
  },
  {
   "cell_type": "code",
   "execution_count": 25,
   "metadata": {},
   "outputs": [],
   "source": [
    "# https://gist.github.com/shinokada/9a98be4ca50141896fc6eafd9d16621f"
   ]
  },
  {
   "cell_type": "code",
   "execution_count": 26,
   "metadata": {},
   "outputs": [
    {
     "name": "stdout",
     "output_type": "stream",
     "text": [
      "(68208, 11)\n",
      "  LOCATION    Country SEX    Sex    AGE    Age  TIME  Time       Value  \\\n",
      "0      AUS  Australia   W  Women  TOTAL  Total  2005  2005  10157211.0   \n",
      "1      AUS  Australia   W  Women  TOTAL  Total  2006  2006  10291542.0   \n",
      "2      AUS  Australia   W  Women  TOTAL  Total  2007  2007  10473986.0   \n",
      "3      AUS  Australia   W  Women  TOTAL  Total  2008  2008  10677154.0   \n",
      "4      AUS  Australia   W  Women  TOTAL  Total  2009  2009  10890856.0   \n",
      "\n",
      "   Flag Codes  Flags  \n",
      "0         NaN    NaN  \n",
      "1         NaN    NaN  \n",
      "2         NaN    NaN  \n",
      "3         NaN    NaN  \n",
      "4         NaN    NaN  \n"
     ]
    }
   ],
   "source": [
    "his_pop = pd.read_csv('http://bit.ly/2Szyfzt')\n",
    "print(his_pop.shape)\n",
    "print(his_pop.head())"
   ]
  },
  {
   "cell_type": "markdown",
   "metadata": {},
   "source": [
    "From the historical population data, let's select Australia. We also need to select Total in the Sex column and TOTAL in the AGE column."
   ]
  },
  {
   "cell_type": "code",
   "execution_count": 27,
   "metadata": {},
   "outputs": [],
   "source": [
    "# https://gist.github.com/shinokada/1f215f4fe33b00442bffc48c2ce8e8c0"
   ]
  },
  {
   "cell_type": "code",
   "execution_count": 28,
   "metadata": {},
   "outputs": [
    {
     "data": {
      "text/html": [
       "<div>\n",
       "<style scoped>\n",
       "    .dataframe tbody tr th:only-of-type {\n",
       "        vertical-align: middle;\n",
       "    }\n",
       "\n",
       "    .dataframe tbody tr th {\n",
       "        vertical-align: top;\n",
       "    }\n",
       "\n",
       "    .dataframe thead th {\n",
       "        text-align: right;\n",
       "    }\n",
       "</style>\n",
       "<table border=\"1\" class=\"dataframe\">\n",
       "  <thead>\n",
       "    <tr style=\"text-align: right;\">\n",
       "      <th></th>\n",
       "      <th>LOCATION</th>\n",
       "      <th>Country</th>\n",
       "      <th>SEX</th>\n",
       "      <th>Sex</th>\n",
       "      <th>AGE</th>\n",
       "      <th>Age</th>\n",
       "      <th>TIME</th>\n",
       "      <th>Time</th>\n",
       "      <th>Value</th>\n",
       "      <th>Flag Codes</th>\n",
       "      <th>Flags</th>\n",
       "    </tr>\n",
       "  </thead>\n",
       "  <tbody>\n",
       "    <tr>\n",
       "      <th>28</th>\n",
       "      <td>AUS</td>\n",
       "      <td>Australia</td>\n",
       "      <td>T</td>\n",
       "      <td>Total</td>\n",
       "      <td>TOTAL</td>\n",
       "      <td>Total</td>\n",
       "      <td>2005</td>\n",
       "      <td>2005</td>\n",
       "      <td>20176844.0</td>\n",
       "      <td>NaN</td>\n",
       "      <td>NaN</td>\n",
       "    </tr>\n",
       "    <tr>\n",
       "      <th>29</th>\n",
       "      <td>AUS</td>\n",
       "      <td>Australia</td>\n",
       "      <td>T</td>\n",
       "      <td>Total</td>\n",
       "      <td>TOTAL</td>\n",
       "      <td>Total</td>\n",
       "      <td>2006</td>\n",
       "      <td>2006</td>\n",
       "      <td>20450966.0</td>\n",
       "      <td>NaN</td>\n",
       "      <td>NaN</td>\n",
       "    </tr>\n",
       "    <tr>\n",
       "      <th>30</th>\n",
       "      <td>AUS</td>\n",
       "      <td>Australia</td>\n",
       "      <td>T</td>\n",
       "      <td>Total</td>\n",
       "      <td>TOTAL</td>\n",
       "      <td>Total</td>\n",
       "      <td>2007</td>\n",
       "      <td>2007</td>\n",
       "      <td>20827622.0</td>\n",
       "      <td>NaN</td>\n",
       "      <td>NaN</td>\n",
       "    </tr>\n",
       "    <tr>\n",
       "      <th>31</th>\n",
       "      <td>AUS</td>\n",
       "      <td>Australia</td>\n",
       "      <td>T</td>\n",
       "      <td>Total</td>\n",
       "      <td>TOTAL</td>\n",
       "      <td>Total</td>\n",
       "      <td>2008</td>\n",
       "      <td>2008</td>\n",
       "      <td>21249199.0</td>\n",
       "      <td>NaN</td>\n",
       "      <td>NaN</td>\n",
       "    </tr>\n",
       "    <tr>\n",
       "      <th>32</th>\n",
       "      <td>AUS</td>\n",
       "      <td>Australia</td>\n",
       "      <td>T</td>\n",
       "      <td>Total</td>\n",
       "      <td>TOTAL</td>\n",
       "      <td>Total</td>\n",
       "      <td>2009</td>\n",
       "      <td>2009</td>\n",
       "      <td>21691653.0</td>\n",
       "      <td>NaN</td>\n",
       "      <td>NaN</td>\n",
       "    </tr>\n",
       "    <tr>\n",
       "      <th>33</th>\n",
       "      <td>AUS</td>\n",
       "      <td>Australia</td>\n",
       "      <td>T</td>\n",
       "      <td>Total</td>\n",
       "      <td>TOTAL</td>\n",
       "      <td>Total</td>\n",
       "      <td>2010</td>\n",
       "      <td>2010</td>\n",
       "      <td>22031750.0</td>\n",
       "      <td>NaN</td>\n",
       "      <td>NaN</td>\n",
       "    </tr>\n",
       "    <tr>\n",
       "      <th>34</th>\n",
       "      <td>AUS</td>\n",
       "      <td>Australia</td>\n",
       "      <td>T</td>\n",
       "      <td>Total</td>\n",
       "      <td>TOTAL</td>\n",
       "      <td>Total</td>\n",
       "      <td>2011</td>\n",
       "      <td>2011</td>\n",
       "      <td>22340024.0</td>\n",
       "      <td>NaN</td>\n",
       "      <td>NaN</td>\n",
       "    </tr>\n",
       "    <tr>\n",
       "      <th>35</th>\n",
       "      <td>AUS</td>\n",
       "      <td>Australia</td>\n",
       "      <td>T</td>\n",
       "      <td>Total</td>\n",
       "      <td>TOTAL</td>\n",
       "      <td>Total</td>\n",
       "      <td>2012</td>\n",
       "      <td>2012</td>\n",
       "      <td>22733465.0</td>\n",
       "      <td>NaN</td>\n",
       "      <td>NaN</td>\n",
       "    </tr>\n",
       "    <tr>\n",
       "      <th>36</th>\n",
       "      <td>AUS</td>\n",
       "      <td>Australia</td>\n",
       "      <td>T</td>\n",
       "      <td>Total</td>\n",
       "      <td>TOTAL</td>\n",
       "      <td>Total</td>\n",
       "      <td>2013</td>\n",
       "      <td>2013</td>\n",
       "      <td>23128129.0</td>\n",
       "      <td>NaN</td>\n",
       "      <td>NaN</td>\n",
       "    </tr>\n",
       "    <tr>\n",
       "      <th>37</th>\n",
       "      <td>AUS</td>\n",
       "      <td>Australia</td>\n",
       "      <td>T</td>\n",
       "      <td>Total</td>\n",
       "      <td>TOTAL</td>\n",
       "      <td>Total</td>\n",
       "      <td>2014</td>\n",
       "      <td>2014</td>\n",
       "      <td>23475686.0</td>\n",
       "      <td>NaN</td>\n",
       "      <td>NaN</td>\n",
       "    </tr>\n",
       "    <tr>\n",
       "      <th>38</th>\n",
       "      <td>AUS</td>\n",
       "      <td>Australia</td>\n",
       "      <td>T</td>\n",
       "      <td>Total</td>\n",
       "      <td>TOTAL</td>\n",
       "      <td>Total</td>\n",
       "      <td>2015</td>\n",
       "      <td>2015</td>\n",
       "      <td>23815995.0</td>\n",
       "      <td>NaN</td>\n",
       "      <td>NaN</td>\n",
       "    </tr>\n",
       "    <tr>\n",
       "      <th>39</th>\n",
       "      <td>AUS</td>\n",
       "      <td>Australia</td>\n",
       "      <td>T</td>\n",
       "      <td>Total</td>\n",
       "      <td>TOTAL</td>\n",
       "      <td>Total</td>\n",
       "      <td>2016</td>\n",
       "      <td>2016</td>\n",
       "      <td>24190907.0</td>\n",
       "      <td>NaN</td>\n",
       "      <td>NaN</td>\n",
       "    </tr>\n",
       "    <tr>\n",
       "      <th>40</th>\n",
       "      <td>AUS</td>\n",
       "      <td>Australia</td>\n",
       "      <td>T</td>\n",
       "      <td>Total</td>\n",
       "      <td>TOTAL</td>\n",
       "      <td>Total</td>\n",
       "      <td>2017</td>\n",
       "      <td>2017</td>\n",
       "      <td>24601860.0</td>\n",
       "      <td>NaN</td>\n",
       "      <td>NaN</td>\n",
       "    </tr>\n",
       "    <tr>\n",
       "      <th>41</th>\n",
       "      <td>AUS</td>\n",
       "      <td>Australia</td>\n",
       "      <td>T</td>\n",
       "      <td>Total</td>\n",
       "      <td>TOTAL</td>\n",
       "      <td>Total</td>\n",
       "      <td>2018</td>\n",
       "      <td>2018</td>\n",
       "      <td>24992860.0</td>\n",
       "      <td>NaN</td>\n",
       "      <td>NaN</td>\n",
       "    </tr>\n",
       "  </tbody>\n",
       "</table>\n",
       "</div>"
      ],
      "text/plain": [
       "   LOCATION    Country SEX    Sex    AGE    Age  TIME  Time       Value  \\\n",
       "28      AUS  Australia   T  Total  TOTAL  Total  2005  2005  20176844.0   \n",
       "29      AUS  Australia   T  Total  TOTAL  Total  2006  2006  20450966.0   \n",
       "30      AUS  Australia   T  Total  TOTAL  Total  2007  2007  20827622.0   \n",
       "31      AUS  Australia   T  Total  TOTAL  Total  2008  2008  21249199.0   \n",
       "32      AUS  Australia   T  Total  TOTAL  Total  2009  2009  21691653.0   \n",
       "33      AUS  Australia   T  Total  TOTAL  Total  2010  2010  22031750.0   \n",
       "34      AUS  Australia   T  Total  TOTAL  Total  2011  2011  22340024.0   \n",
       "35      AUS  Australia   T  Total  TOTAL  Total  2012  2012  22733465.0   \n",
       "36      AUS  Australia   T  Total  TOTAL  Total  2013  2013  23128129.0   \n",
       "37      AUS  Australia   T  Total  TOTAL  Total  2014  2014  23475686.0   \n",
       "38      AUS  Australia   T  Total  TOTAL  Total  2015  2015  23815995.0   \n",
       "39      AUS  Australia   T  Total  TOTAL  Total  2016  2016  24190907.0   \n",
       "40      AUS  Australia   T  Total  TOTAL  Total  2017  2017  24601860.0   \n",
       "41      AUS  Australia   T  Total  TOTAL  Total  2018  2018  24992860.0   \n",
       "\n",
       "    Flag Codes  Flags  \n",
       "28         NaN    NaN  \n",
       "29         NaN    NaN  \n",
       "30         NaN    NaN  \n",
       "31         NaN    NaN  \n",
       "32         NaN    NaN  \n",
       "33         NaN    NaN  \n",
       "34         NaN    NaN  \n",
       "35         NaN    NaN  \n",
       "36         NaN    NaN  \n",
       "37         NaN    NaN  \n",
       "38         NaN    NaN  \n",
       "39         NaN    NaN  \n",
       "40         NaN    NaN  \n",
       "41         NaN    NaN  "
      ]
     },
     "execution_count": 28,
     "metadata": {},
     "output_type": "execute_result"
    }
   ],
   "source": [
    "# Method 1\n",
    "pop = his_pop.loc[his_pop.Country=='Australia']\n",
    "pop = pop.loc[pop.Sex =='Total']\n",
    "pop = pop.loc[pop.AGE =='TOTAL']\n",
    "pop"
   ]
  },
  {
   "cell_type": "markdown",
   "metadata": {},
   "source": [
    "We need to select the Value column. I will show you two different ways to do it. [This website](https://www.shanelynn.ie/select-pandas-dataframe-rows-and-columns-using-iloc-loc-and-ix/) tells you how to use loc and iloc.\n",
    "Since the Python index starts from 0, it locates in the 8th column."
   ]
  },
  {
   "cell_type": "code",
   "execution_count": 29,
   "metadata": {},
   "outputs": [],
   "source": [
    "# https://gist.github.com/shinokada/1489b547260eb3117b5916c9c801d5a8"
   ]
  },
  {
   "cell_type": "code",
   "execution_count": 30,
   "metadata": {},
   "outputs": [
    {
     "name": "stdout",
     "output_type": "stream",
     "text": [
      "0     20176844.0\n",
      "1     20450966.0\n",
      "2     20827622.0\n",
      "3     21249199.0\n",
      "4     21691653.0\n",
      "5     22031750.0\n",
      "6     22340024.0\n",
      "7     22733465.0\n",
      "8     23128129.0\n",
      "9     23475686.0\n",
      "10    23815995.0\n",
      "11    24190907.0\n",
      "12    24601860.0\n",
      "13    24992860.0\n",
      "Name: Value, dtype: float64\n"
     ]
    }
   ],
   "source": [
    "df_pop = pop.iloc[:,8]\n",
    "df_pop = df_pop.reset_index(drop=True)\n",
    "print(df_pop)"
   ]
  },
  {
   "cell_type": "markdown",
   "metadata": {},
   "source": [
    "In the second method, we use `&` logical operator. You can read more details about `loc` and `iloc` in this [article](https://jakevdp.github.io/PythonDataScienceHandbook/02.06-boolean-arrays-and-masks.html#Aside:-Using-the-Keywords-and/or-Versus-the-Operators-&/|). We select the column where Country is Australia, Set is Total and AGE is TOTAL."
   ]
  },
  {
   "cell_type": "code",
   "execution_count": 31,
   "metadata": {},
   "outputs": [],
   "source": [
    "# https://gist.github.com/shinokada/0cb4e679b3764d8c55453637e8c78365"
   ]
  },
  {
   "cell_type": "code",
   "execution_count": 32,
   "metadata": {},
   "outputs": [
    {
     "name": "stdout",
     "output_type": "stream",
     "text": [
      "0     20176844.0\n",
      "1     20450966.0\n",
      "2     20827622.0\n",
      "3     21249199.0\n",
      "4     21691653.0\n",
      "5     22031750.0\n",
      "6     22340024.0\n",
      "7     22733465.0\n",
      "8     23128129.0\n",
      "9     23475686.0\n",
      "10    23815995.0\n",
      "11    24190907.0\n",
      "12    24601860.0\n",
      "13    24992860.0\n",
      "Name: Value, dtype: float64\n"
     ]
    }
   ],
   "source": [
    "# Method 2\n",
    "df_pop2 = his_pop[(his_pop.Country=='Australia') & (his_pop.Sex =='Total') & (his_pop.AGE=='TOTAL')]\n",
    "df_pop2 = df_pop2.iloc[:,8]\n",
    "df_pop2 = df_pop2.reset_index(drop=True) # reset the index \n",
    "print(df_pop2)"
   ]
  },
  {
   "cell_type": "markdown",
   "metadata": {},
   "source": [
    "We need one more data from OECD. The data is the ALFS Labour force. We select data where the Country is Australia. `head()` shows the first 5 data."
   ]
  },
  {
   "cell_type": "code",
   "execution_count": 33,
   "metadata": {},
   "outputs": [],
   "source": [
    "# https://gist.github.com/shinokada/955a638657445854c405b0e4760678b8"
   ]
  },
  {
   "cell_type": "code",
   "execution_count": 34,
   "metadata": {},
   "outputs": [
    {
     "data": {
      "text/html": [
       "<div>\n",
       "<style scoped>\n",
       "    .dataframe tbody tr th:only-of-type {\n",
       "        vertical-align: middle;\n",
       "    }\n",
       "\n",
       "    .dataframe tbody tr th {\n",
       "        vertical-align: top;\n",
       "    }\n",
       "\n",
       "    .dataframe thead th {\n",
       "        text-align: right;\n",
       "    }\n",
       "</style>\n",
       "<table border=\"1\" class=\"dataframe\">\n",
       "  <thead>\n",
       "    <tr style=\"text-align: right;\">\n",
       "      <th></th>\n",
       "      <th>LOCATION</th>\n",
       "      <th>Country</th>\n",
       "      <th>SUBJECT</th>\n",
       "      <th>Subject</th>\n",
       "      <th>FREQUENCY</th>\n",
       "      <th>Frequency</th>\n",
       "      <th>TIME</th>\n",
       "      <th>Time</th>\n",
       "      <th>Unit Code</th>\n",
       "      <th>Unit</th>\n",
       "      <th>PowerCode Code</th>\n",
       "      <th>PowerCode</th>\n",
       "      <th>Reference Period Code</th>\n",
       "      <th>Reference Period</th>\n",
       "      <th>Value</th>\n",
       "      <th>Flag Codes</th>\n",
       "      <th>Flags</th>\n",
       "    </tr>\n",
       "  </thead>\n",
       "  <tbody>\n",
       "    <tr>\n",
       "      <th>0</th>\n",
       "      <td>AUS</td>\n",
       "      <td>Australia</td>\n",
       "      <td>YGTT07L1_ST</td>\n",
       "      <td>Labour force</td>\n",
       "      <td>A</td>\n",
       "      <td>Annual</td>\n",
       "      <td>2005</td>\n",
       "      <td>2005</td>\n",
       "      <td>NaN</td>\n",
       "      <td>NaN</td>\n",
       "      <td>0</td>\n",
       "      <td>Units</td>\n",
       "      <td>NaN</td>\n",
       "      <td>NaN</td>\n",
       "      <td>10404.22</td>\n",
       "      <td>NaN</td>\n",
       "      <td>NaN</td>\n",
       "    </tr>\n",
       "    <tr>\n",
       "      <th>1</th>\n",
       "      <td>AUS</td>\n",
       "      <td>Australia</td>\n",
       "      <td>YGTT07L1_ST</td>\n",
       "      <td>Labour force</td>\n",
       "      <td>A</td>\n",
       "      <td>Annual</td>\n",
       "      <td>2006</td>\n",
       "      <td>2006</td>\n",
       "      <td>NaN</td>\n",
       "      <td>NaN</td>\n",
       "      <td>0</td>\n",
       "      <td>Units</td>\n",
       "      <td>NaN</td>\n",
       "      <td>NaN</td>\n",
       "      <td>10632.72</td>\n",
       "      <td>NaN</td>\n",
       "      <td>NaN</td>\n",
       "    </tr>\n",
       "    <tr>\n",
       "      <th>2</th>\n",
       "      <td>AUS</td>\n",
       "      <td>Australia</td>\n",
       "      <td>YGTT07L1_ST</td>\n",
       "      <td>Labour force</td>\n",
       "      <td>A</td>\n",
       "      <td>Annual</td>\n",
       "      <td>2007</td>\n",
       "      <td>2007</td>\n",
       "      <td>NaN</td>\n",
       "      <td>NaN</td>\n",
       "      <td>0</td>\n",
       "      <td>Units</td>\n",
       "      <td>NaN</td>\n",
       "      <td>NaN</td>\n",
       "      <td>10911.88</td>\n",
       "      <td>NaN</td>\n",
       "      <td>NaN</td>\n",
       "    </tr>\n",
       "    <tr>\n",
       "      <th>3</th>\n",
       "      <td>AUS</td>\n",
       "      <td>Australia</td>\n",
       "      <td>YGTT07L1_ST</td>\n",
       "      <td>Labour force</td>\n",
       "      <td>A</td>\n",
       "      <td>Annual</td>\n",
       "      <td>2008</td>\n",
       "      <td>2008</td>\n",
       "      <td>NaN</td>\n",
       "      <td>NaN</td>\n",
       "      <td>0</td>\n",
       "      <td>Units</td>\n",
       "      <td>NaN</td>\n",
       "      <td>NaN</td>\n",
       "      <td>11205.63</td>\n",
       "      <td>NaN</td>\n",
       "      <td>NaN</td>\n",
       "    </tr>\n",
       "    <tr>\n",
       "      <th>4</th>\n",
       "      <td>AUS</td>\n",
       "      <td>Australia</td>\n",
       "      <td>YGTT07L1_ST</td>\n",
       "      <td>Labour force</td>\n",
       "      <td>A</td>\n",
       "      <td>Annual</td>\n",
       "      <td>2009</td>\n",
       "      <td>2009</td>\n",
       "      <td>NaN</td>\n",
       "      <td>NaN</td>\n",
       "      <td>0</td>\n",
       "      <td>Units</td>\n",
       "      <td>NaN</td>\n",
       "      <td>NaN</td>\n",
       "      <td>11441.82</td>\n",
       "      <td>NaN</td>\n",
       "      <td>NaN</td>\n",
       "    </tr>\n",
       "  </tbody>\n",
       "</table>\n",
       "</div>"
      ],
      "text/plain": [
       "  LOCATION    Country      SUBJECT       Subject FREQUENCY Frequency  TIME  \\\n",
       "0      AUS  Australia  YGTT07L1_ST  Labour force         A    Annual  2005   \n",
       "1      AUS  Australia  YGTT07L1_ST  Labour force         A    Annual  2006   \n",
       "2      AUS  Australia  YGTT07L1_ST  Labour force         A    Annual  2007   \n",
       "3      AUS  Australia  YGTT07L1_ST  Labour force         A    Annual  2008   \n",
       "4      AUS  Australia  YGTT07L1_ST  Labour force         A    Annual  2009   \n",
       "\n",
       "   Time  Unit Code  Unit  PowerCode Code PowerCode  Reference Period Code  \\\n",
       "0  2005        NaN   NaN               0     Units                    NaN   \n",
       "1  2006        NaN   NaN               0     Units                    NaN   \n",
       "2  2007        NaN   NaN               0     Units                    NaN   \n",
       "3  2008        NaN   NaN               0     Units                    NaN   \n",
       "4  2009        NaN   NaN               0     Units                    NaN   \n",
       "\n",
       "   Reference Period     Value Flag Codes Flags  \n",
       "0               NaN  10404.22        NaN   NaN  \n",
       "1               NaN  10632.72        NaN   NaN  \n",
       "2               NaN  10911.88        NaN   NaN  \n",
       "3               NaN  11205.63        NaN   NaN  \n",
       "4               NaN  11441.82        NaN   NaN  "
      ]
     },
     "execution_count": 34,
     "metadata": {},
     "output_type": "execute_result"
    }
   ],
   "source": [
    "lab_for = pd.read_csv('http://bit.ly/2UFh1n2')\n",
    "lab = lab_for[(lab_for.Country=='Australia')]\n",
    "lab.head()"
   ]
  },
  {
   "cell_type": "markdown",
   "metadata": {},
   "source": [
    "We need the Value column which is the 15th index, so we use 14 in `iloc`. Remember that the Python index starts from 0."
   ]
  },
  {
   "cell_type": "code",
   "execution_count": 35,
   "metadata": {},
   "outputs": [],
   "source": [
    "# https://gist.github.com/shinokada/cb81d2d5a7b5943b1966546c0d026c07"
   ]
  },
  {
   "cell_type": "code",
   "execution_count": 36,
   "metadata": {},
   "outputs": [
    {
     "name": "stdout",
     "output_type": "stream",
     "text": [
      "0     10404.22\n",
      "1     10632.72\n",
      "2     10911.88\n",
      "3     11205.63\n",
      "4     11441.82\n",
      "5     11628.23\n",
      "6     11814.10\n",
      "7     11976.40\n",
      "8     12144.32\n",
      "9     12286.80\n",
      "10    12524.53\n",
      "11    12698.14\n",
      "12    12977.56\n",
      "13    13287.70\n",
      "Name: Value, dtype: float64\n"
     ]
    }
   ],
   "source": [
    "df_lab = lab.iloc[:,14]\n",
    "print(df_lab)"
   ]
  },
  {
   "cell_type": "markdown",
   "metadata": {},
   "source": [
    "We can find Pearson's correlation coefficient from `df_pop` and `df_lab`. `pearsonr` returns `r` and `p-value`."
   ]
  },
  {
   "cell_type": "code",
   "execution_count": 37,
   "metadata": {},
   "outputs": [],
   "source": [
    "# https://gist.github.com/shinokada/6fdfbfdbfa120ea73d2af792a5009f14"
   ]
  },
  {
   "cell_type": "code",
   "execution_count": 38,
   "metadata": {},
   "outputs": [
    {
     "name": "stdout",
     "output_type": "stream",
     "text": [
      "0.9969985602306307\n",
      "1.0487570962496604e-14\n"
     ]
    }
   ],
   "source": [
    "from scipy.stats import pearsonr\n",
    "r, pval = pearsonr(df_pop,df_lab)\n",
    "print(r)\n",
    "print(pval)"
   ]
  },
  {
   "cell_type": "markdown",
   "metadata": {},
   "source": [
    "We find the gradient/slope and y-intercept using `linregress`. We create a scatter plot with the Seaborn and Pandas DataFrame. "
   ]
  },
  {
   "cell_type": "code",
   "execution_count": 39,
   "metadata": {},
   "outputs": [],
   "source": [
    "# https://gist.github.com/shinokada/eb95e57831ca3898eb1048f0593f6f54"
   ]
  },
  {
   "cell_type": "code",
   "execution_count": 40,
   "metadata": {},
   "outputs": [
    {
     "data": {
      "image/png": "[encoded data removed]",
      "text/plain": [
       "<Figure size 432x288 with 1 Axes>"
      ]
     },
     "metadata": {},
     "output_type": "display_data"
    },
    {
     "name": "stdout",
     "output_type": "stream",
     "text": [
      "r: {r:.4f}, p-value: {pval:.4f}\n"
     ]
    }
   ],
   "source": [
    "d = {'Population':df_pop,'Labour':df_lab}\n",
    "df = pd.DataFrame(d)\n",
    "\n",
    "slope, intercept, r_value, p_value, std_err = linregress(df_pop,df_lab)\n",
    "\n",
    "X_plot = np.linspace(2*10**7,2.5*10**7,5*10**6)\n",
    "Y_plot = slope*X_plot+intercept\n",
    "sns.scatterplot(x='Population', y='Labour', data=df)\n",
    "slope, intercept, r_value, p_value, std_err = linregress(df_pop,df_lab)\n",
    "plt.plot(X_plot, Y_plot, color='r')\n",
    "plt.show()\n",
    "r, pval = pearsonr(df_pop,df_lab)\n",
    "print('r: {r:.4f}, p-value: {pval:.4f}')"
   ]
  },
  {
   "cell_type": "markdown",
   "metadata": {},
   "source": [
    "There is a strong positive correlation between the population and the labour force in Australia."
   ]
  },
  {
   "cell_type": "markdown",
   "metadata": {},
   "source": [
    "# Finding r from more than two arrays"
   ]
  },
  {
   "cell_type": "markdown",
   "metadata": {},
   "source": [
    "Sometimes you want to find which pair of data has the strongest linear relationship. You can use `corr()` to find it."
   ]
  },
  {
   "cell_type": "code",
   "execution_count": 41,
   "metadata": {},
   "outputs": [],
   "source": [
    "# https://gist.github.com/shinokada/144a703f5d27d372f34187da22ae668b"
   ]
  },
  {
   "cell_type": "code",
   "execution_count": 42,
   "metadata": {},
   "outputs": [
    {
     "data": {
      "text/html": [
       "<div>\n",
       "<style scoped>\n",
       "    .dataframe tbody tr th:only-of-type {\n",
       "        vertical-align: middle;\n",
       "    }\n",
       "\n",
       "    .dataframe tbody tr th {\n",
       "        vertical-align: top;\n",
       "    }\n",
       "\n",
       "    .dataframe thead th {\n",
       "        text-align: right;\n",
       "    }\n",
       "</style>\n",
       "<table border=\"1\" class=\"dataframe\">\n",
       "  <thead>\n",
       "    <tr style=\"text-align: right;\">\n",
       "      <th></th>\n",
       "      <th>A</th>\n",
       "      <th>B</th>\n",
       "      <th>C</th>\n",
       "    </tr>\n",
       "  </thead>\n",
       "  <tbody>\n",
       "    <tr>\n",
       "      <th>A</th>\n",
       "      <td>1.000000</td>\n",
       "      <td>0.952816</td>\n",
       "      <td>0.981327</td>\n",
       "    </tr>\n",
       "    <tr>\n",
       "      <th>B</th>\n",
       "      <td>0.952816</td>\n",
       "      <td>1.000000</td>\n",
       "      <td>0.889460</td>\n",
       "    </tr>\n",
       "    <tr>\n",
       "      <th>C</th>\n",
       "      <td>0.981327</td>\n",
       "      <td>0.889460</td>\n",
       "      <td>1.000000</td>\n",
       "    </tr>\n",
       "  </tbody>\n",
       "</table>\n",
       "</div>"
      ],
      "text/plain": [
       "          A         B         C\n",
       "A  1.000000  0.952816  0.981327\n",
       "B  0.952816  1.000000  0.889460\n",
       "C  0.981327  0.889460  1.000000"
      ]
     },
     "execution_count": 42,
     "metadata": {},
     "output_type": "execute_result"
    }
   ],
   "source": [
    "df = pd.DataFrame({'A': df_x,\n",
    "                   'B': df_y,\n",
    "                   'C': [5,6,9,15,20]})\n",
    "df.corr()"
   ]
  },
  {
   "cell_type": "markdown",
   "metadata": {},
   "source": [
    "Please note that Pearson's correlation coefficient of A and B are 0.952816 which is the same as we found it before. In this case, A and C have the strongest linear relationship."
   ]
  },
  {
   "cell_type": "markdown",
   "metadata": {},
   "source": [
    "# Heat map"
   ]
  },
  {
   "cell_type": "markdown",
   "metadata": {},
   "source": [
    "We can use the [Seaborn](https://seaborn.pydata.org/generated/seaborn.heatmap.html) to draw a [heatmap](https://stackabuse.com/seaborn-library-for-data-visualization-in-python-part-2/). Since we have a minimum of 0.88 and a maximum of 1.00 in the previous section, we set `vmax` and `vmin` accordingly. We use `Blues` for the color scheme. "
   ]
  },
  {
   "cell_type": "code",
   "execution_count": 43,
   "metadata": {},
   "outputs": [],
   "source": [
    "# https://gist.github.com/shinokada/90835d0d8bd6b5d3ef057cb2aae08b51"
   ]
  },
  {
   "cell_type": "code",
   "execution_count": 44,
   "metadata": {},
   "outputs": [
    {
     "data": {
      "image/png": "[encoded data removed]",
      "text/plain": [
       "<Figure size 432x288 with 2 Axes>"
      ]
     },
     "metadata": {},
     "output_type": "display_data"
    }
   ],
   "source": [
    "df_corr = df.corr()\n",
    "sns.heatmap(df_corr, vmax=1.00, vmin=0.85, cmap='Blues')\n",
    "plt.show()"
   ]
  },
  {
   "cell_type": "markdown",
   "metadata": {},
   "source": [
    "# Conclusion\n",
    "\n",
    "By using Python and it's libraries, you can find all necessary data with few lines of code. Also, you can visualize your data easily."
   ]
  },
  {
   "cell_type": "markdown",
   "metadata": {},
   "source": [
    "# Reference"
   ]
  },
  {
   "cell_type": "markdown",
   "metadata": {},
   "source": [
    "- https://data.oecd.org/"
   ]
  },
  {
   "cell_type": "markdown",
   "metadata": {},
   "source": [
    "- https://www.statisticssolutions.com/table-of-critical-values-pearson-correlation/"
   ]
  },
  {
   "cell_type": "markdown",
   "metadata": {},
   "source": [
    "- https://stackabuse.com/seaborn-library-for-data-visualization-in-python-part-2/"
   ]
  },
  {
   "cell_type": "markdown",
   "metadata": {},
   "source": [
    "- https://www.shanelynn.ie/select-pandas-dataframe-rows-and-columns-using-iloc-loc-and-ix/"
   ]
  },
  {
   "cell_type": "markdown",
   "metadata": {},
   "source": [
    "- https://seaborn.pydata.org/generated/seaborn.heatmap.html"
   ]
  },
  {
   "cell_type": "markdown",
   "metadata": {},
   "source": [
    "- https://datascienceplus.com/understanding-the-covariance-matrix/"
   ]
  },
  {
   "cell_type": "code",
   "execution_count": null,
   "metadata": {},
   "outputs": [],
   "source": []
  }
 ],
 "metadata": {
  "kernelspec": {
   "display_name": "Python 3",
   "language": "python",
   "name": "python3"
  },
  "language_info": {
   "codemirror_mode": {
    "name": "ipython",
    "version": 3
   },
   "file_extension": ".py",
   "mimetype": "text/x-python",
   "name": "python",
   "nbconvert_exporter": "python",
   "pygments_lexer": "ipython3",
   "version": "3.7.7"
  },
  "toc": {
   "base_numbering": 1,
   "nav_menu": {},
   "number_sections": false,
   "sideBar": true,
   "skip_h1_title": false,
   "title_cell": "Table of Contents",
   "title_sidebar": "Contents",
   "toc_cell": true,
   "toc_position": {
    "height": "calc(100% - 180px)",
    "left": "10px",
    "top": "150px",
    "width": "195.8px"
   },
   "toc_section_display": true,
   "toc_window_display": false
  }
 },
 "nbformat": 4,
 "nbformat_minor": 2
}
