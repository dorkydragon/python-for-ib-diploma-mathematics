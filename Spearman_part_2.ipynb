{
 "cells": [
  {
   "cell_type": "markdown",
   "metadata": {
    "toc": true
   },
   "source": [
    "<h1>Table of Contents<span class=\"tocSkip\"></span></h1>\n",
    "<div class=\"toc\"><ul class=\"toc-item\"><li><span><a href=\"#Inspecting-Spearman's-rank-correlation-coefficient\" data-toc-modified-id=\"Inspecting-Spearman's-rank-correlation-coefficient-1\">Inspecting Spearman's rank correlation coefficient</a></span><ul class=\"toc-item\"><li><span><a href=\"#Discover-the-strength-of-monotonic-relation-Part-2\" data-toc-modified-id=\"Discover-the-strength-of-monotonic-relation-Part-2-1.1\">Discover the strength of monotonic relation Part 2</a></span></li><li><span><a href=\"#spearmanr-requires-ranked-data\" data-toc-modified-id=\"spearmanr-requires-ranked-data-1.2\">spearmanr requires ranked data</a></span></li></ul></li><li><span><a href=\"#Introduction\" data-toc-modified-id=\"Introduction-2\">Introduction</a></span></li><li><span><a href=\"#Spearman's-Rank-Correlation-with--identical-values\" data-toc-modified-id=\"Spearman's-Rank-Correlation-with--identical-values-3\">Spearman's Rank Correlation with  identical values</a></span></li><li><span><a href=\"#Pandas-corr\" data-toc-modified-id=\"Pandas-corr-4\">Pandas corr</a></span></li><li><span><a href=\"#Finding-manually-using-the-formula\" data-toc-modified-id=\"Finding-manually-using-the-formula-5\">Finding manually using the formula</a></span><ul class=\"toc-item\"><li><span><a href=\"#Ranking-data\" data-toc-modified-id=\"Ranking-data-5.1\">Ranking data</a></span></li><li><span><a href=\"#Finding-covariance-with-numpy\" data-toc-modified-id=\"Finding-covariance-with-numpy-5.2\">Finding covariance with numpy</a></span></li><li><span><a href=\"#Finding-covariance-with-Pandas\" data-toc-modified-id=\"Finding-covariance-with-Pandas-5.3\">Finding covariance with Pandas</a></span></li><li><span><a href=\"#Finding-standard-deviations-with-numpy\" data-toc-modified-id=\"Finding-standard-deviations-with-numpy-5.4\">Finding standard deviations with numpy</a></span></li><li><span><a href=\"#Finding-standard-deviations-with-Pandas\" data-toc-modified-id=\"Finding-standard-deviations-with-Pandas-5.5\">Finding standard deviations with Pandas</a></span></li></ul></li><li><span><a href=\"#ddof-in-Pandas-and-Numpy-are-different\" data-toc-modified-id=\"ddof-in-Pandas-and-Numpy-are-different-6\">ddof in Pandas and Numpy are different</a></span></li><li><span><a href=\"#Comparing-Pearson-and-Spearman\" data-toc-modified-id=\"Comparing-Pearson-and-Spearman-7\">Comparing Pearson and Spearman</a></span><ul class=\"toc-item\"><li><span><a href=\"#Linear-relation\" data-toc-modified-id=\"Linear-relation-7.1\">Linear relation</a></span></li><li><span><a href=\"#Investigating-quadratic\" data-toc-modified-id=\"Investigating-quadratic-7.2\">Investigating quadratic</a></span></li><li><span><a href=\"#Investigating-cubic-function\" data-toc-modified-id=\"Investigating-cubic-function-7.3\">Investigating cubic function</a></span></li></ul></li><li><span><a href=\"#Conclusion\" data-toc-modified-id=\"Conclusion-8\">Conclusion</a></span></li></ul></div>"
   ]
  },
  {
   "cell_type": "markdown",
   "metadata": {},
   "source": [
    "# Inspecting Spearman's rank correlation coefficient \n",
    "\n",
    "## Discover the strength of monotonic relation Part 2\n",
    "\n",
    "## spearmanr requires ranked data\n",
    "\n",
    "\n"
   ]
  },
  {
   "cell_type": "markdown",
   "metadata": {},
   "source": [
    "# Introduction\n",
    "\n",
    "In the last article, I wrote about Spearman's rank correlation coefficient using ordinal data. I explored it by using four different methods, simplified, general formula, Pandas `corr` and manual calculation.\n",
    "\n",
    "[Link](https://towardsdatascience.com/discover-the-strength-of-monotonic-relation-850d11f72046)\n",
    "\n",
    "In this article, I'd like to explore the Spearman's rank correlation coefficient using data that includes identical values. I also compare difference between the Spearman and Pearson vaules.\n",
    "\n",
    "In the [`scipy.stats.spearmanr`](https://docs.scipy.org/doc/scipy/reference/generated/scipy.stats.spearmanr.html) document, using ordinal data is not explicitly stated. I'd like to dig about it as well.\n"
   ]
  },
  {
   "cell_type": "markdown",
   "metadata": {},
   "source": [
    "# Spearman's Rank Correlation with  identical values\n",
    "\n",
    "The general formula of Spearman's rank correlation is the following. When you have data with identical ranks, you have to use this formula rather than the simplified formula.\n",
    "\n",
    "$$\n",
    "\\begin{align}\n",
    "\\rho_{r_x,r_y}= \\frac{cov(r_x,r_y)}{\\sigma _{rx} \\sigma _{ry}} \\tag{1-1}\n",
    "\\end{align}\n",
    "$$\n",
    "\n",
    "where <br>\n",
    "$cov(r_x,r_y)$: the covariance of ranked data $r_x$ and $r_y$.<br> \n",
    "$\\sigma_{rx}$ and $\\sigma_{ry}$ are the standard deviations of $r_x$ and $r_y$.\n",
    "\n",
    "\n",
    "Let's import necessary libraries."
   ]
  },
  {
   "cell_type": "code",
   "execution_count": null,
   "metadata": {},
   "outputs": [],
   "source": [
    "# https://gist.github.com/e2ac6a136d7b61298dd5102a8bcab616"
   ]
  },
  {
   "cell_type": "code",
   "execution_count": 4,
   "metadata": {},
   "outputs": [],
   "source": [
    "from scipy.stats import chi2_contingency\n",
    "import pandas as pd\n",
    "import numpy as np\n",
    "import matplotlib.pyplot as plt\n",
    "from scipy.stats import spearmanr\n",
    "from scipy.stats import pearsonr"
   ]
  },
  {
   "cell_type": "code",
   "execution_count": 5,
   "metadata": {},
   "outputs": [],
   "source": [
    "# https://gist.github.com/shinokada/2a67199e68bc08535d6eb278fde199ac"
   ]
  },
  {
   "cell_type": "code",
   "execution_count": 6,
   "metadata": {},
   "outputs": [
    {
     "name": "stdout",
     "output_type": "stream",
     "text": [
      "correlation=0.710560, p-value=0.073530\n"
     ]
    },
    {
     "data": {
      "image/png": "[encoded data removed]",
      "text/plain": [
       "<Figure size 432x288 with 1 Axes>"
      ]
     },
     "metadata": {
      "needs_background": "light"
     },
     "output_type": "display_data"
    }
   ],
   "source": [
    "fig, ax = plt.subplots()\n",
    "\n",
    "df = pd.DataFrame(\n",
    "    [\n",
    "        [7,3],\n",
    "        [6,4],\n",
    "        [5,4],\n",
    "        [3,2],\n",
    "        [6,4],\n",
    "        [8,9],\n",
    "        [9,7]\n",
    "    ],\n",
    "    columns=['Set of A','Set of B'])\n",
    "\n",
    "correlation, pval = spearmanr(df)\n",
    "print(f'correlation={correlation:.6f}, p-value={pval:.6f}')\n",
    "ax.scatter(df.iloc[:,0],df.iloc[:,1])\n",
    "ax.set_xlabel('Set of A')\n",
    "ax.set_ylabel('Set of B')\n",
    "ax.grid(True)\n",
    "plt.show()"
   ]
  },
  {
   "cell_type": "markdown",
   "metadata": {},
   "source": [
    "# Pandas corr\n",
    "\n",
    "[Pandas corr](https://pandas.pydata.org/pandas-docs/stable/reference/api/pandas.DataFrame.corr.html) requires to set the method. We use `spearman` for the method. It returns the correlation matrix, so we need to select `[0,1]`."
   ]
  },
  {
   "cell_type": "code",
   "execution_count": null,
   "metadata": {},
   "outputs": [],
   "source": [
    "# https://gist.github.com/5d24491e74d2cdb96a227076cf013ccd"
   ]
  },
  {
   "cell_type": "code",
   "execution_count": 8,
   "metadata": {
    "scrolled": true
   },
   "outputs": [
    {
     "data": {
      "text/html": [
       "<div>\n",
       "<style scoped>\n",
       "    .dataframe tbody tr th:only-of-type {\n",
       "        vertical-align: middle;\n",
       "    }\n",
       "\n",
       "    .dataframe tbody tr th {\n",
       "        vertical-align: top;\n",
       "    }\n",
       "\n",
       "    .dataframe thead th {\n",
       "        text-align: right;\n",
       "    }\n",
       "</style>\n",
       "<table border=\"1\" class=\"dataframe\">\n",
       "  <thead>\n",
       "    <tr style=\"text-align: right;\">\n",
       "      <th></th>\n",
       "      <th>Set of A</th>\n",
       "      <th>Set of B</th>\n",
       "    </tr>\n",
       "  </thead>\n",
       "  <tbody>\n",
       "    <tr>\n",
       "      <th>Set of A</th>\n",
       "      <td>1.00000</td>\n",
       "      <td>0.71056</td>\n",
       "    </tr>\n",
       "    <tr>\n",
       "      <th>Set of B</th>\n",
       "      <td>0.71056</td>\n",
       "      <td>1.00000</td>\n",
       "    </tr>\n",
       "  </tbody>\n",
       "</table>\n",
       "</div>"
      ],
      "text/plain": [
       "          Set of A  Set of B\n",
       "Set of A   1.00000   0.71056\n",
       "Set of B   0.71056   1.00000"
      ]
     },
     "execution_count": 8,
     "metadata": {},
     "output_type": "execute_result"
    }
   ],
   "source": [
    "df.corr(method='spearman')"
   ]
  },
  {
   "cell_type": "markdown",
   "metadata": {},
   "source": [
    "# Finding manually using the formula\n",
    "\n",
    "$$\n",
    "\\begin{align}\n",
    "\\rho_{r_x,r_y}= \\frac{cov(r_x,r_y)}{\\sigma _{rx} \\sigma _{ry}} \\tag{1-1}\n",
    "\\end{align}\n",
    "$$\n",
    "\n",
    "The formula requires covariance of $r_x$ and $r_y$, standard deviations of $\\sigma _{rx}, \\sigma _{ry}$."
   ]
  },
  {
   "cell_type": "markdown",
   "metadata": {},
   "source": [
    "## Ranking data\n",
    "\n",
    "We need to rank the data using `scipy.stats.rankdata`."
   ]
  },
  {
   "cell_type": "code",
   "execution_count": null,
   "metadata": {},
   "outputs": [],
   "source": [
    "# https://gist.github.com/a3d9bcd264d27fd57d2d1c57babf0d7a"
   ]
  },
  {
   "cell_type": "code",
   "execution_count": 10,
   "metadata": {},
   "outputs": [
    {
     "name": "stdout",
     "output_type": "stream",
     "text": [
      "[5.  3.5 2.  1.  3.5 6.  7. ]\n",
      "[2. 4. 4. 1. 4. 7. 6.]\n"
     ]
    }
   ],
   "source": [
    "from scipy.stats import rankdata\n",
    "\n",
    "r_x=rankdata(df.iloc[:,0])\n",
    "print(r_x)\n",
    "r_y=rankdata(df.iloc[:,1])\n",
    "print(r_y)"
   ]
  },
  {
   "cell_type": "markdown",
   "metadata": {},
   "source": [
    "Set A|Set B|Rank Set A|Rank Set B\n",
    ":-:|:-:|:-:|:-:\n",
    "7|3|5|2\n",
    "6|4|3.5|4\n",
    "5|4|2|4\n",
    "3|2|1|1\n",
    "6|4|3.5|4\n",
    "8|9|6|7\n",
    "9|7|7|6\n",
    "\n",
    "In Set A, there are two 6s and their ranks are 3rd and 4th.\n",
    "\n",
    "$$\n",
    "\\frac{3+4}{2}=3.5\n",
    "$$\n",
    "\n",
    "In Set B, there are three 4s and their ranks are 3rd, 4th and 5th. Therefor their ranks are:\n",
    "\n",
    "$$\n",
    "\\frac{3+4+5}{3}=4\n",
    "$$"
   ]
  },
  {
   "cell_type": "markdown",
   "metadata": {},
   "source": [
    "## Finding covariance with numpy"
   ]
  },
  {
   "cell_type": "code",
   "execution_count": 27,
   "metadata": {},
   "outputs": [
    {
     "data": {
      "text/plain": [
       "array([[3.92857143, 2.71428571],\n",
       "       [2.71428571, 3.71428571]])"
      ]
     },
     "execution_count": 27,
     "metadata": {},
     "output_type": "execute_result"
    }
   ],
   "source": [
    "np.cov(r_x,r_y,ddof=0)"
   ]
  },
  {
   "cell_type": "code",
   "execution_count": 38,
   "metadata": {},
   "outputs": [
    {
     "name": "stdout",
     "output_type": "stream",
     "text": [
      "2.714285714285714\n",
      "3.1666666666666665\n"
     ]
    }
   ],
   "source": [
    "cov_n0=np.cov(r_x,r_y,ddof=0)[0][1]\n",
    "cov_n1=np.cov(r_x,r_y,ddof=1)[0][1]\n",
    "print(cov_n0)\n",
    "print(cov_n1)"
   ]
  },
  {
   "cell_type": "markdown",
   "metadata": {},
   "source": [
    "## Finding covariance with Pandas"
   ]
  },
  {
   "cell_type": "code",
   "execution_count": 40,
   "metadata": {},
   "outputs": [
    {
     "data": {
      "text/plain": [
       "3.1666666666666665"
      ]
     },
     "execution_count": 40,
     "metadata": {},
     "output_type": "execute_result"
    }
   ],
   "source": [
    "df = pd.DataFrame({'Rank Set A':r_x, 'Rank Set B':r_y})\n",
    "df.cov().iloc[0,1]"
   ]
  },
  {
   "cell_type": "markdown",
   "metadata": {},
   "source": [
    "Interestingly Pandas covariance returns the same value with Numpy when the ddof has value1. Numpy's cov ddof=1 will return the unbiased estimate and ddof=0 will return the simple average."
   ]
  },
  {
   "cell_type": "markdown",
   "metadata": {},
   "source": [
    "## Finding standard deviations with numpy"
   ]
  },
  {
   "cell_type": "code",
   "execution_count": 47,
   "metadata": {},
   "outputs": [
    {
     "name": "stdout",
     "output_type": "stream",
     "text": [
      "Numpy std default: 1.9820624179302297\n",
      "Numpy std default: 1.927248223318863\n",
      "Numpy std ddof=0: 1.9820624179302297\n",
      "Numpy std ddof=0: 1.927248223318863\n",
      "Numpy std ddof=1: 2.140872096444188\n",
      "Numpy std ddof=1: 2.0816659994661326\n"
     ]
    }
   ],
   "source": [
    "s_x=np.std(r_x)\n",
    "s_y=np.std(r_y)\n",
    "s_x0=np.std(r_x,ddof=0)\n",
    "s_y0=np.std(r_y,ddof=0)\n",
    "s_x1=np.std(r_x,ddof=1)\n",
    "s_y1=np.std(r_y,ddof=1)\n",
    "\n",
    "print(f'Numpy std default: {s_x}')\n",
    "print(f'Numpy std default: {s_y}')\n",
    "print(f'Numpy std ddof=0: {s_x0}')\n",
    "print(f'Numpy std ddof=0: {s_y0}')\n",
    "print(f'Numpy std ddof=1: {s_x1}')\n",
    "print(f'Numpy std ddof=1: {s_y1}')"
   ]
  },
  {
   "cell_type": "code",
   "execution_count": 42,
   "metadata": {},
   "outputs": [
    {
     "data": {
      "text/plain": [
       "0.828986331140832"
      ]
     },
     "execution_count": 42,
     "metadata": {},
     "output_type": "execute_result"
    }
   ],
   "source": [
    "cov_n/(s_x*s_y)"
   ]
  },
  {
   "cell_type": "markdown",
   "metadata": {},
   "source": [
    "## Finding standard deviations with Pandas\n"
   ]
  },
  {
   "cell_type": "code",
   "execution_count": 49,
   "metadata": {},
   "outputs": [
    {
     "name": "stdout",
     "output_type": "stream",
     "text": [
      "Pandas std default: Rank Set A    2.140872\n",
      "Rank Set B    2.081666\n",
      "dtype: float64\n",
      "Pandas std ddof=0: Rank Set A    1.982062\n",
      "Rank Set B    1.927248\n",
      "dtype: float64\n",
      "Pandas std ddof=1: Rank Set A    2.140872\n",
      "Rank Set B    2.081666\n",
      "dtype: float64\n"
     ]
    }
   ],
   "source": [
    "print(f'Pandas std default: {df.std()}')\n",
    "print(f'Pandas std ddof=0: {df.std(ddof=0)}')\n",
    "print(f'Pandas std ddof=1: {df.std(ddof=1)}')"
   ]
  },
  {
   "cell_type": "markdown",
   "metadata": {},
   "source": [
    "# ddof in Pandas and Numpy are different\n",
    "\n",
    "\n",
    "When you find the variance and standard deviation, Numpy and Pandas' default `ddof` are different.\n",
    "\n"
   ]
  },
  {
   "cell_type": "markdown",
   "metadata": {},
   "source": [
    "# Comparing Pearson and Spearman\n",
    "\n",
    "\n",
    "## Linear relation"
   ]
  },
  {
   "cell_type": "code",
   "execution_count": 11,
   "metadata": {
    "scrolled": true
   },
   "outputs": [
    {
     "name": "stdout",
     "output_type": "stream",
     "text": [
      "https://gist.github.com/a3d9bcd264d27fd57d2d1c57babf0d7a\n"
     ]
    }
   ],
   "source": [
    "%%bash\n",
    "gist -P -f spearman2_2.py -d \"ranked data\""
   ]
  },
  {
   "cell_type": "code",
   "execution_count": 52,
   "metadata": {},
   "outputs": [
    {
     "name": "stdout",
     "output_type": "stream",
     "text": [
      "1.0\n",
      "0.9999999999999999\n"
     ]
    },
    {
     "data": {
      "image/png": "[encoded data removed]",
      "text/plain": [
       "<Figure size 432x288 with 1 Axes>"
      ]
     },
     "metadata": {
      "needs_background": "light"
     },
     "output_type": "display_data"
    }
   ],
   "source": [
    "x1=np.arange(0,5,0.01)\n",
    "fx1=np.poly1d([3,-1]) # 3x-1\n",
    "\n",
    "spearmancor, pval = spearmanr(x1,fx1(x1))\n",
    "print(spearmancor)\n",
    "pearsoncor,pval = pearsonr(x1,fx1(x1))\n",
    "print(pearsoncor)\n",
    "\n",
    "fig, ax = plt.subplots()\n",
    "x_plot=np.linspace(0,5,100)\n",
    "ax.plot(x_plot,fx1(x_plot))\n",
    "ax.set_xlabel('x')\n",
    "ax.set_ylabel('f(x)')\n",
    "ax.set_xlim(0,5)\n",
    "ax.set_ylim(-2,15)\n",
    "ax.grid(True)\n",
    "plt.show()"
   ]
  },
  {
   "cell_type": "markdown",
   "metadata": {},
   "source": [
    "For a linear function, the Spearman and Pearson are the same value."
   ]
  },
  {
   "cell_type": "markdown",
   "metadata": {},
   "source": [
    "## Investigating quadratic \n",
    "\n",
    "\n",
    "x|f(x)\n",
    ":-:|:-:\n",
    "1|1\n",
    "2|4\n",
    "3|9\n",
    "4|16\n",
    "5|25\n",
    "6|36"
   ]
  },
  {
   "cell_type": "code",
   "execution_count": 42,
   "metadata": {},
   "outputs": [
    {
     "name": "stdout",
     "output_type": "stream",
     "text": [
      "1.0\n",
      "0.9833690525971426\n"
     ]
    },
    {
     "data": {
      "image/png": "[encoded data removed]",
      "text/plain": [
       "<Figure size 432x288 with 1 Axes>"
      ]
     },
     "metadata": {
      "needs_background": "light"
     },
     "output_type": "display_data"
    }
   ],
   "source": [
    "x2=np.arange(0,5,0.01)\n",
    "fx2=np.poly1d([1,2,3]) # x^2+2x+3\n",
    "\n",
    "spearmancor, pval = spearmanr(x2,fx2(x2))\n",
    "print(spearmancor)\n",
    "pearsoncor,pval = pearsonr(x2,fx2(x2))\n",
    "print(pearsoncor)\n",
    "\n",
    "fig, ax = plt.subplots()\n",
    "x_plot=np.linspace(0,5,100)\n",
    "ax.plot(x_plot,fx2(x_plot))\n",
    "ax.set_xlabel('x')\n",
    "ax.set_ylabel('f(x)')\n",
    "ax.set_xlim(0,5.5)\n",
    "ax.set_ylim(0,40)\n",
    "ax.grid(True)\n",
    "plt.show()"
   ]
  },
  {
   "cell_type": "markdown",
   "metadata": {},
   "source": [
    "While x increases f(x) increases and the Spearman value is 1. However even we use the same function, but using different domain,the Spearman value decrease. It is because values of f(x) decreases when x values increase. "
   ]
  },
  {
   "cell_type": "code",
   "execution_count": 49,
   "metadata": {},
   "outputs": [
    {
     "name": "stdout",
     "output_type": "stream",
     "text": [
      "0.48511548511548513\n",
      "0.6104541477467882\n"
     ]
    },
    {
     "data": {
      "image/png": "[encoded data removed]",
      "text/plain": [
       "<Figure size 432x288 with 1 Axes>"
      ]
     },
     "metadata": {
      "needs_background": "light"
     },
     "output_type": "display_data"
    }
   ],
   "source": [
    "x2=np.arange(-5,5,0.01)\n",
    "fx2=np.poly1d([1,2,3]) # x^2+2x+3\n",
    "\n",
    "spearmancor, pval = spearmanr(x2,fx2(x2))\n",
    "print(spearmancor)\n",
    "pearsoncor,pval = pearsonr(x2,fx2(x2))\n",
    "print(pearsoncor)\n",
    "\n",
    "fig, ax = plt.subplots()\n",
    "x_plot=np.linspace(-7,5,100)\n",
    "ax.plot(x_plot,fx2(x_plot))\n",
    "ax.set_xlabel('x')\n",
    "ax.set_ylabel('f(x)')\n",
    "ax.set_xlim(-8,6)\n",
    "ax.set_ylim(0,40)\n",
    "ax.grid(True)\n",
    "plt.show()"
   ]
  },
  {
   "cell_type": "markdown",
   "metadata": {},
   "source": [
    "## Investigating cubic function"
   ]
  },
  {
   "cell_type": "code",
   "execution_count": 54,
   "metadata": {},
   "outputs": [
    {
     "name": "stdout",
     "output_type": "stream",
     "text": [
      "0.9144132575042309\n",
      "0.8176029571135436\n"
     ]
    },
    {
     "data": {
      "image/png": "[encoded data removed]",
      "text/plain": [
       "<Figure size 432x288 with 1 Axes>"
      ]
     },
     "metadata": {
      "needs_background": "light"
     },
     "output_type": "display_data"
    }
   ],
   "source": [
    "x3=np.arange(0,6,0.01)\n",
    "fx3=np.poly1d([1,2,3],True) #(x-1)(x-2)(x-3)\n",
    "spearmancor, pval = spearmanr(x3,fx3(x3))\n",
    "print(spearmancor)\n",
    "pearsoncor,pval = pearsonr(x3,fx3(x3))\n",
    "print(pearsoncor)\n",
    "\n",
    "fig, ax = plt.subplots()\n",
    "x_plot=np.linspace(0,6,100)\n",
    "ax.plot(x_plot,fx3(x_plot))\n",
    "ax.set_xlabel('x')\n",
    "ax.set_ylabel('f(x)')\n",
    "ax.grid(True)\n",
    "plt.show()"
   ]
  },
  {
   "cell_type": "markdown",
   "metadata": {},
   "source": [
    "Sinc the above cubic function has decreased values in the domain, the Spearman values is not 1. If you limit the domain to the value where the function increases, the Spearman will be 1."
   ]
  },
  {
   "cell_type": "code",
   "execution_count": 55,
   "metadata": {},
   "outputs": [
    {
     "name": "stdout",
     "output_type": "stream",
     "text": [
      "1.0\n",
      "0.9849816814186138\n"
     ]
    },
    {
     "data": {
      "image/png": "[encoded data removed]",
      "text/plain": [
       "<Figure size 432x288 with 1 Axes>"
      ]
     },
     "metadata": {
      "needs_background": "light"
     },
     "output_type": "display_data"
    }
   ],
   "source": [
    "x3=np.arange(4,6,0.01)\n",
    "fx3=np.poly1d([1,2,3],True) #(x-1)(x-2)(x-3)\n",
    "spearmancor, pval = spearmanr(x3,fx3(x3))\n",
    "print(spearmancor)\n",
    "pearsoncor,pval = pearsonr(x3,fx3(x3))\n",
    "print(pearsoncor)\n",
    "\n",
    "fig, ax = plt.subplots()\n",
    "x_plot=np.linspace(4,6,100)\n",
    "ax.plot(x_plot,fx3(x_plot))\n",
    "ax.set_xlabel('x')\n",
    "ax.set_ylabel('f(x)')\n",
    "ax.grid(True)\n",
    "plt.show()"
   ]
  },
  {
   "cell_type": "markdown",
   "metadata": {},
   "source": [
    "Not using ordinal "
   ]
  },
  {
   "cell_type": "code",
   "execution_count": null,
   "metadata": {},
   "outputs": [],
   "source": []
  },
  {
   "cell_type": "code",
   "execution_count": null,
   "metadata": {},
   "outputs": [],
   "source": []
  },
  {
   "cell_type": "markdown",
   "metadata": {},
   "source": [
    "# Conclusion\n",
    "\n",
    "- spearmanr requires ranked data so your data is required to be ordinal.Generally your data is not ordinal, so it is a good practice using `scipy.stats.rankdata` when you are finding the Spearman. \n",
    "- It is also recommended to plot a graph to see any values are decreasing since it will affect your Spearman value.\n"
   ]
  },
  {
   "cell_type": "code",
   "execution_count": null,
   "metadata": {},
   "outputs": [],
   "source": []
  }
 ],
 "metadata": {
  "kernelspec": {
   "display_name": "Python 3",
   "language": "python",
   "name": "python3"
  },
  "language_info": {
   "codemirror_mode": {
    "name": "ipython",
    "version": 3
   },
   "file_extension": ".py",
   "mimetype": "text/x-python",
   "name": "python",
   "nbconvert_exporter": "python",
   "pygments_lexer": "ipython3",
   "version": "3.7.6"
  },
  "toc": {
   "base_numbering": 1,
   "nav_menu": {},
   "number_sections": false,
   "sideBar": true,
   "skip_h1_title": false,
   "title_cell": "Table of Contents",
   "title_sidebar": "Contents",
   "toc_cell": true,
   "toc_position": {},
   "toc_section_display": true,
   "toc_window_display": false
  }
 },
 "nbformat": 4,
 "nbformat_minor": 2
}
