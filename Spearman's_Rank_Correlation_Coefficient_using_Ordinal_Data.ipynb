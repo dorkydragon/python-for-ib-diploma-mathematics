{
 "cells": [
  {
   "cell_type": "markdown",
   "metadata": {
    "toc": true
   },
   "source": [
    "<h1>Table of Contents<span class=\"tocSkip\"></span></h1>\n",
    "<div class=\"toc\"><ul class=\"toc-item\"><li><span><a href=\"#Spearman's-rank-Correlation-Coefficient-using-Ordinal-Data\" data-toc-modified-id=\"Spearman's-rank-Correlation-Coefficient-using-Ordinal-Data-1\">Spearman's rank Correlation Coefficient using Ordinal Data</a></span><ul class=\"toc-item\"><li><span><a href=\"#Discover-the-strength-of-monotonic-relation\" data-toc-modified-id=\"Discover-the-strength-of-monotonic-relation-1.1\">Discover the strength of monotonic relation</a></span></li></ul></li><li><span><a href=\"#Simplified-formula\" data-toc-modified-id=\"Simplified-formula-2\">Simplified formula</a></span></li><li><span><a href=\"#General-formula\" data-toc-modified-id=\"General-formula-3\">General formula</a></span><ul class=\"toc-item\"><li><span><a href=\"#Panda's-corr\" data-toc-modified-id=\"Panda's-corr-3.1\">Panda's corr</a></span></li><li><span><a href=\"#Finding-manually-using-formula-(1-1)\" data-toc-modified-id=\"Finding-manually-using-formula-(1-1)-3.2\">Finding manually using formula (1-1)</a></span></li></ul></li><li><span><a href=\"#Finding-manually-using-formula-(1-2)\" data-toc-modified-id=\"Finding-manually-using-formula-(1-2)-4\">Finding manually using formula (1-2)</a></span></li><li><span><a href=\"#Strictly-increasing\" data-toc-modified-id=\"Strictly-increasing-5\">Strictly increasing</a></span></li><li><span><a href=\"#Strictly-decreasing\" data-toc-modified-id=\"Strictly-decreasing-6\">Strictly decreasing</a></span></li><li><span><a href=\"#No-monotonic-behavior\" data-toc-modified-id=\"No-monotonic-behavior-7\">No monotonic behavior</a></span></li><li><span><a href=\"#Real-life-example\" data-toc-modified-id=\"Real-life-example-8\">Real life example</a></span><ul class=\"toc-item\"><li><span><a href=\"#Importing-a-CSV-file\" data-toc-modified-id=\"Importing-a-CSV-file-8.1\">Importing a CSV file</a></span></li></ul></li><li><span><a href=\"#Plotting-imported-data\" data-toc-modified-id=\"Plotting-imported-data-9\">Plotting imported data</a></span></li><li><span><a href=\"#Ranking-data\" data-toc-modified-id=\"Ranking-data-10\">Ranking data</a></span></li><li><span><a href=\"#Examples-to-use-Spearman's-correlation-are:\" data-toc-modified-id=\"Examples-to-use-Spearman's-correlation-are:-11\">Examples to use Spearman's correlation are:</a></span></li><li><span><a href=\"#Reference\" data-toc-modified-id=\"Reference-12\">Reference</a></span></li></ul></div>"
   ]
  },
  {
   "cell_type": "markdown",
   "metadata": {
    "slideshow": {
     "slide_type": "slide"
    }
   },
   "source": [
    "# Spearman's rank Correlation Coefficient using Ordinal Data\n",
    "\n",
    "## Discover the strength of monotonic relation\n",
    "\n",
    "Spearman's rank correlation coefficient, $r_s$ shows the correlation between two ordinal data. How one ordinal data changes as the other ordinal changes. \n",
    "\n",
    "A function between ordered sets is called a monotonic function.\n",
    "\n",
    "In this article, I explore different methods to find Spearman's rank correlation coefficient using data with distinct ranks.\n",
    "\n",
    "Spearman's rank correlation requires ordinal data. Examples of ordinal data are:\n",
    "\n",
    "- 1st, 2nd, 3rd, \n",
    "- Small, Medium, Large, XL,\n",
    "- Strongly agree, Agree, Neutral, Disagree, Strongly Disagree\n",
    "- Very often, Often, Not Often, Not at all"
   ]
  },
  {
   "cell_type": "markdown",
   "metadata": {
    "slideshow": {
     "slide_type": "slide"
    }
   },
   "source": [
    "# Simplified formula\n",
    "\n",
    "When all ranks are distinct integers, the Spearman correlation coefficient is computed by the following formula.\n",
    "\n",
    "$$r_s=1-\\frac{6\\sum d^2}{n(n^2-1)} \\tag{1-1}$$\n",
    "\n",
    "This formla is an alternative to Pearson's correlation if the the data are ordinal and monotonic and if there are no ties in data.\n",
    "\n",
    "A value of 1 means the set of data is strictly increasing and the value of -1 means it is strictly decreasing. A value of 0 means that data shows no monotonic behavior. the Spearman correlation between two variables will be high when an observation has a similar rank between the two variables.\n"
   ]
  },
  {
   "cell_type": "markdown",
   "metadata": {
    "slideshow": {
     "slide_type": "slide"
    }
   },
   "source": [
    "# General formula\n",
    "\n",
    "The Spearman correlation coefficient is defined as the Pearson correlation coefficient using the rank variables.\n",
    "After raw data, x and y, are converted to ranked data $r_x$ and $r_y$, The Spearman correlation coefficient is defined as:\n",
    "\n",
    "$$\n",
    "\\begin{align}\n",
    "\\rho_{r_x,r_y}= \\frac{cov(r_x,r_y)}{\\sigma _{rx} \\sigma _{ry}} \\tag{1-2}\n",
    "\\end{align}\n",
    "$$\n",
    "\n",
    "where <br>\n",
    "$cov(r_x,r_y)$: the covariance of ranked data $r_x$ and $r_y$.<br> \n",
    "$\\sigma_{rx}$ and $\\sigma_{ry}$ are the standard deviations of $r_x$ and $r_y$."
   ]
  },
  {
   "cell_type": "markdown",
   "metadata": {},
   "source": [
    "Let's find out how the correlation of the rank at 5km run relates to the rank of 10km run. All ranks are distinct integers and no same numbers. There are different ways to find the coefficient.\n",
    "\n",
    "1. [`scipy.stats.spearmanr`](https://docs.scipy.org/doc/scipy/reference/generated/scipy.stats.spearmanr.html) calculates a Spearman correlation coefficient with the associated p-value.\n",
    "2. [Pandas corr](https://pandas.pydata.org/pandas-docs/stable/reference/api/pandas.DataFrame.corr.html?highlight=corr#pandas.DataFrame.corr) \n",
    "3. Using the formula (1-1)\n",
    "4. Using the formula (1-2)"
   ]
  },
  {
   "cell_type": "markdown",
   "metadata": {},
   "source": [
    "We import necessary libraries."
   ]
  },
  {
   "cell_type": "code",
   "execution_count": 195,
   "metadata": {},
   "outputs": [],
   "source": [
    "# https://gist.github.com/shinokada/574f639d4f07ed1388abd8f24f6936a4"
   ]
  },
  {
   "cell_type": "code",
   "execution_count": 212,
   "metadata": {
    "slideshow": {
     "slide_type": "slide"
    }
   },
   "outputs": [],
   "source": [
    "from scipy.stats import chi2_contingency\n",
    "import pandas as pd\n",
    "import numpy as np\n",
    "import matplotlib.pyplot as plt\n",
    "from scipy.stats import spearmanr\n",
    "%matplotlib inline"
   ]
  },
  {
   "cell_type": "code",
   "execution_count": 197,
   "metadata": {},
   "outputs": [],
   "source": [
    "# https://gist.github.com/shinokada/83b2d7cd47e4fc1993d50400570e1b36"
   ]
  },
  {
   "cell_type": "code",
   "execution_count": 198,
   "metadata": {
    "scrolled": true
   },
   "outputs": [
    {
     "name": "stdout",
     "output_type": "stream",
     "text": [
      "   After 5km  End of race\n",
      "0          3            3\n",
      "1          4            2\n",
      "2          2            1\n",
      "3          1            5\n",
      "4          6            7\n",
      "5          7            4\n",
      "6          5            6\n"
     ]
    },
    {
     "data": {
      "image/png": "[encoded data removed]",
      "text/plain": [
       "<Figure size 432x288 with 1 Axes>"
      ]
     },
     "metadata": {},
     "output_type": "display_data"
    }
   ],
   "source": [
    "race = pd.DataFrame(\n",
    "    [\n",
    "        [3,3],\n",
    "        [4,2],\n",
    "        [2,1],\n",
    "        [1,5],\n",
    "        [6,7],\n",
    "        [7,4],\n",
    "        [5,6]\n",
    "    ],\n",
    "    columns=[\"After 5km\",\"End of race\"])\n",
    "print(race)\n",
    "\n",
    "# plot data\n",
    "fig, ax = plt.subplots()\n",
    "ax.scatter(race.iloc[:,0],race.iloc[:,1])\n",
    "ax.set_xlabel('After 5km')\n",
    "ax.set_ylabel('End of race')\n",
    "ax.grid(True)\n",
    "plt.show()"
   ]
  },
  {
   "cell_type": "markdown",
   "metadata": {},
   "source": [
    "We find $r_s$ and p-value using `scipy.stats.spearmanr`."
   ]
  },
  {
   "cell_type": "code",
   "execution_count": 199,
   "metadata": {},
   "outputs": [],
   "source": [
    "# https://gist.github.com/shinokada/cc6039ce789f594a134b644ce9afebcd "
   ]
  },
  {
   "cell_type": "code",
   "execution_count": 200,
   "metadata": {},
   "outputs": [
    {
     "name": "stdout",
     "output_type": "stream",
     "text": [
      "correlation=0.428571, p-value=0.337368\n"
     ]
    }
   ],
   "source": [
    "correlation, pval = spearmanr(race)\n",
    "print(f'correlation={correlation:.6f}, p-value={pval:.6f}')"
   ]
  },
  {
   "cell_type": "markdown",
   "metadata": {},
   "source": [
    "p-value is the level of significance. It determines the probability that the correlation happened by chance.\n"
   ]
  },
  {
   "cell_type": "code",
   "execution_count": 201,
   "metadata": {},
   "outputs": [],
   "source": [
    "# https://gist.github.com/shinokada/62fc538f01252f765bdf789a0efa80d6"
   ]
  },
  {
   "cell_type": "code",
   "execution_count": 202,
   "metadata": {},
   "outputs": [
    {
     "name": "stdout",
     "output_type": "stream",
     "text": [
      "correlation=0.428571, p-value=0.337368\n",
      "At 5% level of significance, the final rankings is not significant or independent\n"
     ]
    }
   ],
   "source": [
    "print(f'correlation={correlation:.6f}, p-value={pval:.6f}')\n",
    "if pval < 0.05:\n",
    "    print('At 5% level of significance, the final rankings is significant or dependent')\n",
    "else:\n",
    "    print('At 5% level of significance, the final rankings is not significant or independent')"
   ]
  },
  {
   "cell_type": "markdown",
   "metadata": {},
   "source": [
    "## Panda's corr"
   ]
  },
  {
   "cell_type": "code",
   "execution_count": 203,
   "metadata": {},
   "outputs": [
    {
     "data": {
      "text/html": [
       "<div>\n",
       "<style scoped>\n",
       "    .dataframe tbody tr th:only-of-type {\n",
       "        vertical-align: middle;\n",
       "    }\n",
       "\n",
       "    .dataframe tbody tr th {\n",
       "        vertical-align: top;\n",
       "    }\n",
       "\n",
       "    .dataframe thead th {\n",
       "        text-align: right;\n",
       "    }\n",
       "</style>\n",
       "<table border=\"1\" class=\"dataframe\">\n",
       "  <thead>\n",
       "    <tr style=\"text-align: right;\">\n",
       "      <th></th>\n",
       "      <th>After 5km</th>\n",
       "      <th>End of race</th>\n",
       "    </tr>\n",
       "  </thead>\n",
       "  <tbody>\n",
       "    <tr>\n",
       "      <th>After 5km</th>\n",
       "      <td>1.000000</td>\n",
       "      <td>0.428571</td>\n",
       "    </tr>\n",
       "    <tr>\n",
       "      <th>End of race</th>\n",
       "      <td>0.428571</td>\n",
       "      <td>1.000000</td>\n",
       "    </tr>\n",
       "  </tbody>\n",
       "</table>\n",
       "</div>"
      ],
      "text/plain": [
       "             After 5km  End of race\n",
       "After 5km     1.000000     0.428571\n",
       "End of race   0.428571     1.000000"
      ]
     },
     "execution_count": 203,
     "metadata": {},
     "output_type": "execute_result"
    }
   ],
   "source": [
    "race.corr(method='spearman')"
   ]
  },
  {
   "cell_type": "markdown",
   "metadata": {},
   "source": [
    "## Finding manually using formula (1-1)\n",
    "\n",
    "\n",
    "Rank Set A|Rank Set B|d|$d^2$\n",
    ":-:|:-:|:-:|:-:\n",
    "3|3|0|0\n",
    "4|2|2|4\n",
    "2|1|1|1\n",
    "1|5|4|16\n",
    "6|7|1|1\n",
    "7|4|3|9\n",
    "5|6|1|1\n",
    "\n",
    "$$\n",
    "\\sum d^2=0+4+1+16+1+9+1=32 \\\\\n",
    "\\text{Since all ranks are distinct intergers we use the equation (1-2)} \\\\\n",
    "r_s=1-\\frac{6\\sum d^2}{n(n^2-1)} \\\\\n",
    "r_s=1-\\frac{6\\cdot 32}{7(7^2-1)} \\\\\n",
    "r_s=0.4285714285714286\n",
    "$$\n"
   ]
  },
  {
   "cell_type": "code",
   "execution_count": 204,
   "metadata": {},
   "outputs": [
    {
     "data": {
      "text/plain": [
       "0.4285714285714286"
      ]
     },
     "execution_count": 204,
     "metadata": {},
     "output_type": "execute_result"
    }
   ],
   "source": [
    "1-(6*(0+4+1+16+1+9+1)/(7*(7**2-1)))"
   ]
  },
  {
   "cell_type": "markdown",
   "metadata": {},
   "source": [
    "# Finding manually using formula (1-2)\n",
    "\n",
    "$$\n",
    "\\begin{align}\n",
    "\\rho_{r_x,r_y}= \\frac{cov(r_x,r_y)}{\\sigma _{rx} \\sigma _{ry}} \\tag{1-2}\n",
    "\\end{align}\n",
    "$$\n",
    "\n",
    "We need to find the covariance of $r_x$ and $r_y$, standard deviation of $\\sigma _{rx}, \\sigma _{ry}$."
   ]
  },
  {
   "cell_type": "code",
   "execution_count": 205,
   "metadata": {},
   "outputs": [
    {
     "data": {
      "text/plain": [
       "0.42857142857142855"
      ]
     },
     "execution_count": 205,
     "metadata": {},
     "output_type": "execute_result"
    }
   ],
   "source": [
    "cov_n=np.cov(race.iloc[:,0],race.iloc[:,1],ddof=0)[0][1]\n",
    "std_nx = np.std(race.iloc[:,0])\n",
    "std_ny=np.std(race.iloc[:,1])\n",
    "cov_n/(std_nx*std_ny)"
   ]
  },
  {
   "cell_type": "markdown",
   "metadata": {},
   "source": [
    "As we expected we get all the same results."
   ]
  },
  {
   "cell_type": "markdown",
   "metadata": {},
   "source": [
    "# Strictly increasing\n",
    "\n",
    "A value of 1 means the set of data is strictly increasing. The rank do not change. p-value is 0 in this case."
   ]
  },
  {
   "cell_type": "code",
   "execution_count": 206,
   "metadata": {},
   "outputs": [],
   "source": [
    "# https://gist.github.com/shinokada/318d5d1eb9a7981f003447ee19adaca6"
   ]
  },
  {
   "cell_type": "code",
   "execution_count": 207,
   "metadata": {},
   "outputs": [
    {
     "name": "stdout",
     "output_type": "stream",
     "text": [
      "correlation=1.000000, p-value=0.000000\n"
     ]
    },
    {
     "data": {
      "image/png": "[encoded data removed]",
      "text/plain": [
       "<Figure size 432x288 with 1 Axes>"
      ]
     },
     "metadata": {},
     "output_type": "display_data"
    }
   ],
   "source": [
    "race2 = pd.DataFrame(\n",
    "    [\n",
    "        [1,1],\n",
    "        [2,2],\n",
    "        [3,3],\n",
    "        [4,4],\n",
    "        [5,5],\n",
    "        [6,6],\n",
    "        [7,7]\n",
    "    ],\n",
    "    columns=['After 5km','End of race'])\n",
    "correlation, pval = spearmanr(race2)\n",
    "print(f'correlation={correlation:.6f}, p-value={pval:.6f}')\n",
    "fig, ax = plt.subplots()\n",
    "ax.scatter(race2.iloc[:,0],race2.iloc[:,1])\n",
    "ax.set_xlabel('After 5km')\n",
    "ax.set_ylabel('End of race')\n",
    "ax.set_title('Strictly increasing')\n",
    "plt.show()"
   ]
  },
  {
   "cell_type": "markdown",
   "metadata": {},
   "source": [
    "# Strictly decreasing\n",
    "The value of -1 means it is strictly decreasing. The rank is in a reversal order."
   ]
  },
  {
   "cell_type": "code",
   "execution_count": 208,
   "metadata": {},
   "outputs": [],
   "source": [
    "# https://gist.github.com/shinokada/817f920c45bd3f983ca9bd6ed2dd1838"
   ]
  },
  {
   "cell_type": "code",
   "execution_count": 209,
   "metadata": {},
   "outputs": [
    {
     "name": "stdout",
     "output_type": "stream",
     "text": [
      "correlation=-1.000000, p-value=0.000000\n"
     ]
    },
    {
     "data": {
      "image/png": "[encoded data removed]",
      "text/plain": [
       "<Figure size 432x288 with 1 Axes>"
      ]
     },
     "metadata": {},
     "output_type": "display_data"
    }
   ],
   "source": [
    "race3 = pd.DataFrame(\n",
    "    [\n",
    "        [1,7],\n",
    "        [2,6],\n",
    "        [3,5],\n",
    "        [4,4],\n",
    "        [5,3],\n",
    "        [6,2],\n",
    "        [7,1]\n",
    "    ],\n",
    "    columns=['After 5km','End of race'])\n",
    "correlation, pval = spearmanr(race3)\n",
    "print(f'correlation={correlation:.6f}, p-value={pval:.6f}')\n",
    "fig, ax = plt.subplots()\n",
    "ax.scatter(race3.iloc[:,0],race3.iloc[:,1])\n",
    "ax.set_xlabel('After 5km')\n",
    "ax.set_ylabel('End of race')\n",
    "ax.set_title('Strictly decreasing')\n",
    "plt.show()"
   ]
  },
  {
   "cell_type": "markdown",
   "metadata": {},
   "source": [
    "# No monotonic behavior\n",
    "No monotonic behavior gives the value of 0."
   ]
  },
  {
   "cell_type": "code",
   "execution_count": 210,
   "metadata": {},
   "outputs": [],
   "source": [
    "# https://gist.github.com/shinokada/3c5f78acda90a402288d75b8c795953b"
   ]
  },
  {
   "cell_type": "code",
   "execution_count": 211,
   "metadata": {},
   "outputs": [
    {
     "name": "stdout",
     "output_type": "stream",
     "text": [
      "correlation=0.000000, p-value=1.000000\n"
     ]
    },
    {
     "data": {
      "image/png": "[encoded data removed]",
      "text/plain": [
       "<Figure size 432x288 with 1 Axes>"
      ]
     },
     "metadata": {},
     "output_type": "display_data"
    }
   ],
   "source": [
    "race4 = pd.DataFrame(\n",
    "    [\n",
    "        [1,1],\n",
    "        [2,2],\n",
    "        [3,3],\n",
    "        [4,4],\n",
    "        [5,3],\n",
    "        [6,2],\n",
    "        [7,1]\n",
    "    ],\n",
    "    columns=['After 5km','End of race'])\n",
    "correlation, pval = spearmanr(race4)\n",
    "print(f'correlation={correlation:.6f}, p-value={pval:.6f}')\n",
    "fig, ax = plt.subplots()\n",
    "ax.scatter(race4.iloc[:,0],race4.iloc[:,1])\n",
    "ax.set_xlabel('After 5km')\n",
    "ax.set_ylabel('End of race')\n",
    "ax.set_title('No monotonic')\n",
    "plt.show()"
   ]
  },
  {
   "cell_type": "markdown",
   "metadata": {},
   "source": [
    "# Real life example\n",
    "## Importing a CSV file"
   ]
  },
  {
   "cell_type": "markdown",
   "metadata": {},
   "source": [
    "We will use data from BIXI Montréal is a public bicycle sharing system serving Montréal, Quebec, Canada. It is a big file so it takes time to process data."
   ]
  },
  {
   "cell_type": "code",
   "execution_count": null,
   "metadata": {},
   "outputs": [],
   "source": [
    "# https://gist.github.com/shinokada/38870816b84774930b56aea3ba4077b3"
   ]
  },
  {
   "cell_type": "code",
   "execution_count": 174,
   "metadata": {},
   "outputs": [
    {
     "name": "stdout",
     "output_type": "stream",
     "text": [
      "(790323, 6)\n",
      "            start_date  start_station_code             end_date  \\\n",
      "0  2019-05-01 00:00:19                6902  2019-05-01 00:16:24   \n",
      "1  2019-05-01 00:00:33                6171  2019-05-01 00:06:05   \n",
      "2  2019-05-01 00:01:12                6073  2019-05-01 00:29:27   \n",
      "3  2019-05-01 00:01:17                6080  2019-05-01 00:09:34   \n",
      "4  2019-05-01 00:01:23                6411  2019-05-01 00:04:49   \n",
      "\n",
      "   end_station_code  duration_sec  is_member  \n",
      "0              6387           965          1  \n",
      "1              6112           331          1  \n",
      "2              6331          1694          1  \n",
      "3              6080           497          1  \n",
      "4              6012           206          1  \n"
     ]
    }
   ],
   "source": [
    "rides = pd.read_csv('https://raw.githubusercontent.com/shinokada/python-for-ib-diploma-mathematics/master/Data/OD_2019-05.csv')\n",
    "print(rides.shape)\n",
    "print(rides.head())"
   ]
  },
  {
   "cell_type": "markdown",
   "metadata": {},
   "source": [
    "There are more than seventy nine thousand of lines with six columns. Columns are start_data, start_station_code, end_date, end_station_code, duration_sec and is_member.\n",
    "\n",
    "We group by end_station_code and sum the duration_sec. We assign n_rides with the number of end_station_code."
   ]
  },
  {
   "cell_type": "code",
   "execution_count": 175,
   "metadata": {},
   "outputs": [],
   "source": [
    "# https://gist.github.com/shinokada/9a87dfffe5d552894884abb24cc0a4d8"
   ]
  },
  {
   "cell_type": "code",
   "execution_count": 176,
   "metadata": {},
   "outputs": [
    {
     "name": "stdout",
     "output_type": "stream",
     "text": [
      "                  duration_sec  n_rides\n",
      "end_station_code                       \n",
      "4000                   1498612     1754\n",
      "4001                    181712      152\n",
      "4002                    884874      894\n",
      "5002                    195657      144\n",
      "5003                     95648       83\n"
     ]
    }
   ],
   "source": [
    "by_end_station = (\n",
    "    rides\n",
    "        .loc[:, ['end_station_code', 'duration_sec']]\n",
    "        .groupby('end_station_code')\n",
    "        .sum()\n",
    "        .assign(n_rides=rides['end_station_code'].value_counts())\n",
    ")\n",
    "print(by_end_station.head())"
   ]
  },
  {
   "cell_type": "markdown",
   "metadata": {},
   "source": [
    "# Plotting imported data\n",
    "\n",
    "We use seaborn's [`jointplot`](https://seaborn.pydata.org/generated/seaborn.jointplot.html) to plot our imported data. We set labels of the x-axis and y-axis and call the data. "
   ]
  },
  {
   "cell_type": "code",
   "execution_count": 177,
   "metadata": {},
   "outputs": [],
   "source": [
    "# https://gist.github.com/shinokada/674f1dd88b9570a1101f61a19b669509"
   ]
  },
  {
   "cell_type": "code",
   "execution_count": 179,
   "metadata": {},
   "outputs": [
    {
     "data": {
      "image/png": "[encoded data removed]",
      "text/plain": [
       "<Figure size 432x432 with 3 Axes>"
      ]
     },
     "metadata": {},
     "output_type": "display_data"
    }
   ],
   "source": [
    "import seaborn as sns\n",
    "\n",
    "plt.style.use('fivethirtyeight')\n",
    "sns.jointplot(x='n_rides', y='duration_sec', data=by_end_station)\n",
    "plt.show()"
   ]
  },
  {
   "cell_type": "markdown",
   "metadata": {},
   "source": [
    "# Ranking data\n",
    "\n",
    "Please note that the majority of data are on the lower end. We can use `scipy.stats.rankdata` to see the data by ranking."
   ]
  },
  {
   "cell_type": "code",
   "execution_count": null,
   "metadata": {},
   "outputs": [],
   "source": [
    "# https://gist.github.com/shinokada/a00fb4482a6d9729e898fb496fc74989"
   ]
  },
  {
   "cell_type": "code",
   "execution_count": 180,
   "metadata": {},
   "outputs": [
    {
     "data": {
      "image/png": "[encoded data removed]",
      "text/plain": [
       "<Figure size 432x432 with 3 Axes>"
      ]
     },
     "metadata": {},
     "output_type": "display_data"
    }
   ],
   "source": [
    "from scipy.stats import rankdata\n",
    "sns.jointplot(x=rankdata(by_end_station['n_rides']), y=rankdata(by_end_station['duration_sec']))\n",
    "plt.show()"
   ]
  },
  {
   "cell_type": "markdown",
   "metadata": {},
   "source": [
    "Let's find the Spearman's $R_s$."
   ]
  },
  {
   "cell_type": "code",
   "execution_count": 181,
   "metadata": {},
   "outputs": [],
   "source": [
    "# https://gist.github.com/shinokada/af1c1ff0d722a779c95766b8983e5f98"
   ]
  },
  {
   "cell_type": "code",
   "execution_count": 182,
   "metadata": {},
   "outputs": [
    {
     "name": "stdout",
     "output_type": "stream",
     "text": [
      "correlation=0.964881\n"
     ]
    }
   ],
   "source": [
    "correlation, pval = spearmanr(by_end_station)\n",
    "print(f'correlation={correlation:.6f}')"
   ]
  },
  {
   "cell_type": "markdown",
   "metadata": {},
   "source": [
    "The number of rides at a bike stop is almost totally predictive of the number of commuter seconds spend riding it."
   ]
  },
  {
   "cell_type": "markdown",
   "metadata": {},
   "source": [
    "# Examples to use Spearman's correlation are:\n",
    "\n",
    "- [IQ of a person with the number of hours spent on games](https://www.wikiwand.com/en/Spearman%27s_rank_correlation_coefficient)"
   ]
  },
  {
   "cell_type": "markdown",
   "metadata": {},
   "source": [
    "- [Free university meals and their CGPA scores](https://www.toppr.com/guides/business-mathematics-and-statistics/correlation-and-regression/rank-correlation/)"
   ]
  },
  {
   "cell_type": "markdown",
   "metadata": {},
   "source": [
    "- [Physics and Math ranks](https://www.statisticshowto.datasciencecentral.com/spearman-rank-correlation-definition-calculate/)"
   ]
  },
  {
   "cell_type": "markdown",
   "metadata": {},
   "source": [
    "# Reference\n",
    "\n",
    "- To compare the Spearman correlation and the Pearson correlation, please read [A comparison of the Pearson and Spearman correlation here](https://support.minitab.com/en-us/minitab-express/1/help-and-how-to/modeling-statistics/regression/supporting-topics/basics/a-comparison-of-the-pearson-and-spearman-correlation-methods/) "
   ]
  },
  {
   "cell_type": "markdown",
   "metadata": {},
   "source": [
    "- https://statistics.laerd.com/statistical-guides/spearmans-rank-order-correlation-statistical-guide-2.php"
   ]
  },
  {
   "cell_type": "markdown",
   "metadata": {},
   "source": [
    "- https://www.kaggle.com/residentmario/spearman-correlation-with-montreal-bikes/data"
   ]
  },
  {
   "cell_type": "markdown",
   "metadata": {},
   "source": [
    "- https://seaborn.pydata.org/generated/seaborn.jointplot.html"
   ]
  },
  {
   "cell_type": "markdown",
   "metadata": {},
   "source": [
    "- https://support.minitab.com/en-us/minitab-express/1/help-and-how-to/modeling-statistics/regression/supporting-topics/basics/a-comparison-of-the-pearson-and-spearman-correlation-methods/"
   ]
  },
  {
   "cell_type": "code",
   "execution_count": null,
   "metadata": {},
   "outputs": [],
   "source": []
  }
 ],
 "metadata": {
  "kernelspec": {
   "display_name": "Python 3",
   "language": "python",
   "name": "python3"
  },
  "language_info": {
   "codemirror_mode": {
    "name": "ipython",
    "version": 3
   },
   "file_extension": ".py",
   "mimetype": "text/x-python",
   "name": "python",
   "nbconvert_exporter": "python",
   "pygments_lexer": "ipython3",
   "version": "3.7.6"
  },
  "toc": {
   "base_numbering": 1,
   "nav_menu": {},
   "number_sections": false,
   "sideBar": true,
   "skip_h1_title": false,
   "title_cell": "Table of Contents",
   "title_sidebar": "Contents",
   "toc_cell": true,
   "toc_position": {},
   "toc_section_display": true,
   "toc_window_display": false
  }
 },
 "nbformat": 4,
 "nbformat_minor": 2
}
