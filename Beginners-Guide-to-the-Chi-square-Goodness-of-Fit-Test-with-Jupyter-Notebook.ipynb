{
 "cells": [
  {
   "cell_type": "markdown",
   "metadata": {},
   "source": [
    "# Beginners Guide to the Chi square Goodness of Fit Test with Jupyter Notebook\n",
    "\n",
    "## Does the observed fit the expected?"
   ]
  },
  {
   "cell_type": "markdown",
   "metadata": {},
   "source": [
    "# Table of contents\n",
    "\n",
    "- Introduction\n",
    "- ABC\n",
    "- DEF\n",
    "- DFE\n",
    "- DDD\n",
    "- DDD"
   ]
  },
  {
   "cell_type": "markdown",
   "metadata": {},
   "source": [
    "# Introduction\n",
    "\n",
    "\n",
    "\n"
   ]
  },
  {
   "cell_type": "markdown",
   "metadata": {},
   "source": []
  },
  {
   "cell_type": "markdown",
   "metadata": {},
   "source": [
    "The Chi-square Goodness of fit tests whether the observed distribution of a variable fits a given distribution. When the calculated p-value is less than the significance level, reject the null hypothesis. This is different from [Chi-square test for independence](https://medium.com/@shinichiokada/chi-square-test-for-independence-for-ib-diploma-mathematics-e197aafbd771?source=friends_link&sk=0dc57f1115d88885affa7a04aadfded9) where we test whether two variables are independent.\n",
    "\n",
    "$H_0$ Null hypothesis: In Chi-Square goodness of fit test, the null hypothesis assumes that there is no significant difference between the observed and the expected value.\n",
    "\n",
    "$H_1$ Alternative hypothesis: In Chi-Square goodness of fit test, the alternative hypothesis assumes that there is a significant difference between the observed and the expected value.\n",
    "\n",
    "\n",
    "We import `chisquare` from `scipy.stats`."
   ]
  },
  {
   "cell_type": "code",
   "execution_count": 2,
   "metadata": {},
   "outputs": [
    {
     "name": "stdout",
     "output_type": "stream",
     "text": [
      "chi-square=0.494167, p-value=0.92\n",
      "\n",
      "At 0.05 level of significance, we accept the null hypotheses. \n",
      "There is no significant difference between the observed and the expected value.\n"
     ]
    }
   ],
   "source": [
    "# https://gist.github.com/shinokada/10a50e6850d8309f7eaed74c3dd0d27a\n",
    "\n",
    "from scipy.stats import chisquare\n",
    "significance = 0.05\n",
    "observed=[51,24,13,12]\n",
    "expected=[48,25,15,12]\n",
    "chi, pval = chisquare(observed, expected)\n",
    "\n",
    "print('chi-square=%.6f, p-value=%.2f\\n' % (chi, pval))\n",
    "\n",
    "if pval < significance:\n",
    "\tprint(\"\"\"At %.2f level of significance, we reject the null hypotheses and accept H1. \n",
    "There is a significant difference between the observed and the expected value.\"\"\" % (significance))\n",
    "else:\n",
    "\tprint(\"\"\"At %.2f level of significance, we accept the null hypotheses. \n",
    "There is no significant difference between the observed and the expected value.\"\"\" % (significance))\n"
   ]
  },
  {
   "cell_type": "code",
   "execution_count": null,
   "metadata": {},
   "outputs": [],
   "source": []
  },
  {
   "cell_type": "code",
   "execution_count": null,
   "metadata": {},
   "outputs": [],
   "source": []
  },
  {
   "cell_type": "code",
   "execution_count": null,
   "metadata": {},
   "outputs": [],
   "source": []
  },
  {
   "cell_type": "code",
   "execution_count": null,
   "metadata": {},
   "outputs": [],
   "source": []
  },
  {
   "cell_type": "markdown",
   "metadata": {},
   "source": [
    "# Reference"
   ]
  },
  {
   "cell_type": "markdown",
   "metadata": {},
   "source": [
    "- https://www.statisticssolutions.com/chi-square-goodness-of-fit-test/"
   ]
  },
  {
   "cell_type": "code",
   "execution_count": null,
   "metadata": {},
   "outputs": [],
   "source": []
  }
 ],
 "metadata": {
  "kernelspec": {
   "display_name": "Python 3",
   "language": "python",
   "name": "python3"
  },
  "language_info": {
   "codemirror_mode": {
    "name": "ipython",
    "version": 3
   },
   "file_extension": ".py",
   "mimetype": "text/x-python",
   "name": "python",
   "nbconvert_exporter": "python",
   "pygments_lexer": "ipython3",
   "version": "3.7.6"
  }
 },
 "nbformat": 4,
 "nbformat_minor": 4
}
